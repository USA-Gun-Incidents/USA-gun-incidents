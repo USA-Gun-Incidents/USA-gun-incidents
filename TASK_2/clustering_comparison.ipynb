{
 "cells": [
  {
   "cell_type": "markdown",
   "metadata": {},
   "source": [
    "**Data mining Project - University of Pisa, acedemic year 2023/24**\n",
    " \n",
    "**Authors**: Giacomo Aru, Giulia Ghisolfi, Luca Marini, Irene Testa\n",
    "\n",
    "# Clustering comparison\n",
    "\n",
    "In this notebook, we compare the clustering results of the different methods. Since DBSCAN and Heirarchical clustering were applied only to the incidents happened in Illinois, we restrict the comparison to the incidents in this state. We remind that the state of Illinois was chosen because it had few null values and the distribution of the variables was similar to the distribution of the variables of the whole dataset.\n",
    "\n",
    "We import the libraries:"
   ]
  },
  {
   "cell_type": "code",
   "execution_count": 1,
   "id": "1876ee08",
   "metadata": {},
   "outputs": [],
   "source": [
    "import pandas as pd\n",
    "from clustering_utils import *"
   ]
  },
  {
   "cell_type": "markdown",
   "metadata": {},
   "source": [
    "We define the paths to the saved clustering results:"
   ]
  },
  {
   "cell_type": "code",
   "execution_count": 2,
   "id": "a89e5ba2",
   "metadata": {},
   "outputs": [],
   "source": [
    "PATH = '../data/clustering_labels/'\n",
    "clustering_name = ['KMeans', 'KMeansPCA', 'DBSCAN', 'Hierarchical']\n",
    "labels_files = [PATH+'/4-Means_clusters.csv', PATH+'4-Means_PCA_clusters.csv', PATH+'DBSCAN_clusters.csv', PATH+'hierarchical_clusters.csv']\n",
    "external_scores_files = [PATH+'4-Means_external_scores.csv', PATH+'4-Means_PCA_external_scores.csv', PATH+'DBSCAN_external_scores.csv', PATH+'hierarchical_external_scores.csv']\n",
    "internal_scores_files = [PATH+'4-Means_internal_scores.csv', PATH+'4-Means_PCA_internal_scores.csv', PATH+'DBSCAN_internal_scores.csv', PATH+'hierarchical_internal_scores.csv']"
   ]
  },
  {
   "cell_type": "markdown",
   "metadata": {},
   "source": [
    "We concatenate the clustering results into a single dataframe:"
   ]
  },
  {
   "cell_type": "code",
   "execution_count": 3,
   "id": "d8d8e0d9",
   "metadata": {},
   "outputs": [],
   "source": [
    "clusters_df = pd.DataFrame(index=[i for i in range(239379)])\n",
    "for name, labels_file, external_score_file, internal_score_file in zip(clustering_name, labels_files, external_scores_files, internal_scores_files):\n",
    "    clusters_curr_df = pd.read_csv(labels_file, index_col=0)\n",
    "    clusters_curr_df = clusters_curr_df.rename(columns={'cluster':'cluster'+name})\n",
    "    clusters_df = clusters_df.join(clusters_curr_df)\n",
    "clusters_df.dropna(inplace=True)"
   ]
  },
  {
   "cell_type": "markdown",
   "metadata": {},
   "source": [
    "We visualize the clustering results using a sankey diagram:"
   ]
  },
  {
   "cell_type": "code",
   "execution_count": 4,
   "id": "789ec197",
   "metadata": {},
   "outputs": [
    {
     "data": {
      "application/vnd.plotly.v1+json": {
       "config": {
        "plotlyServerURL": "https://plot.ly"
       },
       "data": [
        {
         "link": {
          "source": [
           0,
           0,
           0,
           0,
           1,
           1,
           1,
           1,
           2,
           2,
           2,
           3,
           3,
           3,
           4,
           4,
           5,
           6,
           6,
           7,
           7,
           7,
           8,
           9,
           9,
           9,
           9,
           10,
           10,
           11,
           11,
           11,
           11,
           12,
           12,
           12,
           12,
           13,
           13,
           13,
           13,
           13,
           13,
           14,
           14,
           14
          ],
          "target": [
           7,
           8,
           9,
           10,
           7,
           8,
           9,
           10,
           7,
           8,
           10,
           7,
           9,
           10,
           7,
           10,
           8,
           9,
           10,
           11,
           13,
           14,
           14,
           11,
           12,
           13,
           14,
           11,
           14,
           15,
           16,
           18,
           19,
           15,
           18,
           19,
           20,
           15,
           16,
           17,
           18,
           19,
           21,
           15,
           18,
           19
          ],
          "value": [
           24,
           32,
           87,
           25,
           91,
           68,
           1609,
           654,
           5673,
           1511,
           2754,
           2,
           101,
           7,
           446,
           52,
           42,
           52,
           1,
           4,
           6228,
           4,
           1653,
           6,
           1478,
           20,
           345,
           3492,
           1,
           3128,
           26,
           81,
           267,
           230,
           12,
           117,
           1119,
           711,
           889,
           4188,
           21,
           56,
           383,
           76,
           1692,
           235
          ]
         },
         "node": {
          "color": [
           "#1f77b4",
           "#ff7f0e",
           "#2ca02c",
           "#d62728",
           "#9467bd",
           "#8c564b",
           "#e377c2",
           "#1f77b4",
           "#ff7f0e",
           "#2ca02c",
           "#d62728",
           "#1f77b4",
           "#ff7f0e",
           "#2ca02c",
           "#d62728",
           "#1f77b4",
           "#ff7f0e",
           "#2ca02c",
           "#d62728",
           "#9467bd",
           "#8c564b",
           "#e377c2"
          ],
          "label": [
           "0",
           "1",
           "2",
           "3",
           "4",
           "5",
           "6",
           "0",
           "1",
           "2",
           "3",
           "0",
           "1",
           "2",
           "3",
           "0",
           "1",
           "2",
           "3",
           "4",
           "5",
           "6"
          ],
          "line": {
           "color": "black",
           "width": 0.5
          },
          "pad": 15,
          "thickness": 20
         },
         "type": "sankey"
        }
       ],
       "layout": {
        "annotations": [
         {
          "showarrow": false,
          "text": "DBSCAN",
          "x": 0,
          "xref": "x",
          "y": 1.05,
          "yref": "paper"
         },
         {
          "showarrow": false,
          "text": "KMeans",
          "x": 1,
          "xref": "x",
          "y": 1.05,
          "yref": "paper"
         },
         {
          "showarrow": false,
          "text": "KMeansPCA",
          "x": 2,
          "xref": "x",
          "y": 1.05,
          "yref": "paper"
         },
         {
          "showarrow": false,
          "text": "Heirarchical",
          "x": 3,
          "xref": "x",
          "y": 1.05,
          "yref": "paper"
         }
        ],
        "font": {
         "size": 10
        },
        "plot_bgcolor": "rgba(0,0,0,0)",
        "template": {
         "data": {
          "bar": [
           {
            "error_x": {
             "color": "#2a3f5f"
            },
            "error_y": {
             "color": "#2a3f5f"
            },
            "marker": {
             "line": {
              "color": "#E5ECF6",
              "width": 0.5
             },
             "pattern": {
              "fillmode": "overlay",
              "size": 10,
              "solidity": 0.2
             }
            },
            "type": "bar"
           }
          ],
          "barpolar": [
           {
            "marker": {
             "line": {
              "color": "#E5ECF6",
              "width": 0.5
             },
             "pattern": {
              "fillmode": "overlay",
              "size": 10,
              "solidity": 0.2
             }
            },
            "type": "barpolar"
           }
          ],
          "carpet": [
           {
            "aaxis": {
             "endlinecolor": "#2a3f5f",
             "gridcolor": "white",
             "linecolor": "white",
             "minorgridcolor": "white",
             "startlinecolor": "#2a3f5f"
            },
            "baxis": {
             "endlinecolor": "#2a3f5f",
             "gridcolor": "white",
             "linecolor": "white",
             "minorgridcolor": "white",
             "startlinecolor": "#2a3f5f"
            },
            "type": "carpet"
           }
          ],
          "choropleth": [
           {
            "colorbar": {
             "outlinewidth": 0,
             "ticks": ""
            },
            "type": "choropleth"
           }
          ],
          "contour": [
           {
            "colorbar": {
             "outlinewidth": 0,
             "ticks": ""
            },
            "colorscale": [
             [
              0,
              "#0d0887"
             ],
             [
              0.1111111111111111,
              "#46039f"
             ],
             [
              0.2222222222222222,
              "#7201a8"
             ],
             [
              0.3333333333333333,
              "#9c179e"
             ],
             [
              0.4444444444444444,
              "#bd3786"
             ],
             [
              0.5555555555555556,
              "#d8576b"
             ],
             [
              0.6666666666666666,
              "#ed7953"
             ],
             [
              0.7777777777777778,
              "#fb9f3a"
             ],
             [
              0.8888888888888888,
              "#fdca26"
             ],
             [
              1,
              "#f0f921"
             ]
            ],
            "type": "contour"
           }
          ],
          "contourcarpet": [
           {
            "colorbar": {
             "outlinewidth": 0,
             "ticks": ""
            },
            "type": "contourcarpet"
           }
          ],
          "heatmap": [
           {
            "colorbar": {
             "outlinewidth": 0,
             "ticks": ""
            },
            "colorscale": [
             [
              0,
              "#0d0887"
             ],
             [
              0.1111111111111111,
              "#46039f"
             ],
             [
              0.2222222222222222,
              "#7201a8"
             ],
             [
              0.3333333333333333,
              "#9c179e"
             ],
             [
              0.4444444444444444,
              "#bd3786"
             ],
             [
              0.5555555555555556,
              "#d8576b"
             ],
             [
              0.6666666666666666,
              "#ed7953"
             ],
             [
              0.7777777777777778,
              "#fb9f3a"
             ],
             [
              0.8888888888888888,
              "#fdca26"
             ],
             [
              1,
              "#f0f921"
             ]
            ],
            "type": "heatmap"
           }
          ],
          "heatmapgl": [
           {
            "colorbar": {
             "outlinewidth": 0,
             "ticks": ""
            },
            "colorscale": [
             [
              0,
              "#0d0887"
             ],
             [
              0.1111111111111111,
              "#46039f"
             ],
             [
              0.2222222222222222,
              "#7201a8"
             ],
             [
              0.3333333333333333,
              "#9c179e"
             ],
             [
              0.4444444444444444,
              "#bd3786"
             ],
             [
              0.5555555555555556,
              "#d8576b"
             ],
             [
              0.6666666666666666,
              "#ed7953"
             ],
             [
              0.7777777777777778,
              "#fb9f3a"
             ],
             [
              0.8888888888888888,
              "#fdca26"
             ],
             [
              1,
              "#f0f921"
             ]
            ],
            "type": "heatmapgl"
           }
          ],
          "histogram": [
           {
            "marker": {
             "pattern": {
              "fillmode": "overlay",
              "size": 10,
              "solidity": 0.2
             }
            },
            "type": "histogram"
           }
          ],
          "histogram2d": [
           {
            "colorbar": {
             "outlinewidth": 0,
             "ticks": ""
            },
            "colorscale": [
             [
              0,
              "#0d0887"
             ],
             [
              0.1111111111111111,
              "#46039f"
             ],
             [
              0.2222222222222222,
              "#7201a8"
             ],
             [
              0.3333333333333333,
              "#9c179e"
             ],
             [
              0.4444444444444444,
              "#bd3786"
             ],
             [
              0.5555555555555556,
              "#d8576b"
             ],
             [
              0.6666666666666666,
              "#ed7953"
             ],
             [
              0.7777777777777778,
              "#fb9f3a"
             ],
             [
              0.8888888888888888,
              "#fdca26"
             ],
             [
              1,
              "#f0f921"
             ]
            ],
            "type": "histogram2d"
           }
          ],
          "histogram2dcontour": [
           {
            "colorbar": {
             "outlinewidth": 0,
             "ticks": ""
            },
            "colorscale": [
             [
              0,
              "#0d0887"
             ],
             [
              0.1111111111111111,
              "#46039f"
             ],
             [
              0.2222222222222222,
              "#7201a8"
             ],
             [
              0.3333333333333333,
              "#9c179e"
             ],
             [
              0.4444444444444444,
              "#bd3786"
             ],
             [
              0.5555555555555556,
              "#d8576b"
             ],
             [
              0.6666666666666666,
              "#ed7953"
             ],
             [
              0.7777777777777778,
              "#fb9f3a"
             ],
             [
              0.8888888888888888,
              "#fdca26"
             ],
             [
              1,
              "#f0f921"
             ]
            ],
            "type": "histogram2dcontour"
           }
          ],
          "mesh3d": [
           {
            "colorbar": {
             "outlinewidth": 0,
             "ticks": ""
            },
            "type": "mesh3d"
           }
          ],
          "parcoords": [
           {
            "line": {
             "colorbar": {
              "outlinewidth": 0,
              "ticks": ""
             }
            },
            "type": "parcoords"
           }
          ],
          "pie": [
           {
            "automargin": true,
            "type": "pie"
           }
          ],
          "scatter": [
           {
            "fillpattern": {
             "fillmode": "overlay",
             "size": 10,
             "solidity": 0.2
            },
            "type": "scatter"
           }
          ],
          "scatter3d": [
           {
            "line": {
             "colorbar": {
              "outlinewidth": 0,
              "ticks": ""
             }
            },
            "marker": {
             "colorbar": {
              "outlinewidth": 0,
              "ticks": ""
             }
            },
            "type": "scatter3d"
           }
          ],
          "scattercarpet": [
           {
            "marker": {
             "colorbar": {
              "outlinewidth": 0,
              "ticks": ""
             }
            },
            "type": "scattercarpet"
           }
          ],
          "scattergeo": [
           {
            "marker": {
             "colorbar": {
              "outlinewidth": 0,
              "ticks": ""
             }
            },
            "type": "scattergeo"
           }
          ],
          "scattergl": [
           {
            "marker": {
             "colorbar": {
              "outlinewidth": 0,
              "ticks": ""
             }
            },
            "type": "scattergl"
           }
          ],
          "scattermapbox": [
           {
            "marker": {
             "colorbar": {
              "outlinewidth": 0,
              "ticks": ""
             }
            },
            "type": "scattermapbox"
           }
          ],
          "scatterpolar": [
           {
            "marker": {
             "colorbar": {
              "outlinewidth": 0,
              "ticks": ""
             }
            },
            "type": "scatterpolar"
           }
          ],
          "scatterpolargl": [
           {
            "marker": {
             "colorbar": {
              "outlinewidth": 0,
              "ticks": ""
             }
            },
            "type": "scatterpolargl"
           }
          ],
          "scatterternary": [
           {
            "marker": {
             "colorbar": {
              "outlinewidth": 0,
              "ticks": ""
             }
            },
            "type": "scatterternary"
           }
          ],
          "surface": [
           {
            "colorbar": {
             "outlinewidth": 0,
             "ticks": ""
            },
            "colorscale": [
             [
              0,
              "#0d0887"
             ],
             [
              0.1111111111111111,
              "#46039f"
             ],
             [
              0.2222222222222222,
              "#7201a8"
             ],
             [
              0.3333333333333333,
              "#9c179e"
             ],
             [
              0.4444444444444444,
              "#bd3786"
             ],
             [
              0.5555555555555556,
              "#d8576b"
             ],
             [
              0.6666666666666666,
              "#ed7953"
             ],
             [
              0.7777777777777778,
              "#fb9f3a"
             ],
             [
              0.8888888888888888,
              "#fdca26"
             ],
             [
              1,
              "#f0f921"
             ]
            ],
            "type": "surface"
           }
          ],
          "table": [
           {
            "cells": {
             "fill": {
              "color": "#EBF0F8"
             },
             "line": {
              "color": "white"
             }
            },
            "header": {
             "fill": {
              "color": "#C8D4E3"
             },
             "line": {
              "color": "white"
             }
            },
            "type": "table"
           }
          ]
         },
         "layout": {
          "annotationdefaults": {
           "arrowcolor": "#2a3f5f",
           "arrowhead": 0,
           "arrowwidth": 1
          },
          "autotypenumbers": "strict",
          "coloraxis": {
           "colorbar": {
            "outlinewidth": 0,
            "ticks": ""
           }
          },
          "colorscale": {
           "diverging": [
            [
             0,
             "#8e0152"
            ],
            [
             0.1,
             "#c51b7d"
            ],
            [
             0.2,
             "#de77ae"
            ],
            [
             0.3,
             "#f1b6da"
            ],
            [
             0.4,
             "#fde0ef"
            ],
            [
             0.5,
             "#f7f7f7"
            ],
            [
             0.6,
             "#e6f5d0"
            ],
            [
             0.7,
             "#b8e186"
            ],
            [
             0.8,
             "#7fbc41"
            ],
            [
             0.9,
             "#4d9221"
            ],
            [
             1,
             "#276419"
            ]
           ],
           "sequential": [
            [
             0,
             "#0d0887"
            ],
            [
             0.1111111111111111,
             "#46039f"
            ],
            [
             0.2222222222222222,
             "#7201a8"
            ],
            [
             0.3333333333333333,
             "#9c179e"
            ],
            [
             0.4444444444444444,
             "#bd3786"
            ],
            [
             0.5555555555555556,
             "#d8576b"
            ],
            [
             0.6666666666666666,
             "#ed7953"
            ],
            [
             0.7777777777777778,
             "#fb9f3a"
            ],
            [
             0.8888888888888888,
             "#fdca26"
            ],
            [
             1,
             "#f0f921"
            ]
           ],
           "sequentialminus": [
            [
             0,
             "#0d0887"
            ],
            [
             0.1111111111111111,
             "#46039f"
            ],
            [
             0.2222222222222222,
             "#7201a8"
            ],
            [
             0.3333333333333333,
             "#9c179e"
            ],
            [
             0.4444444444444444,
             "#bd3786"
            ],
            [
             0.5555555555555556,
             "#d8576b"
            ],
            [
             0.6666666666666666,
             "#ed7953"
            ],
            [
             0.7777777777777778,
             "#fb9f3a"
            ],
            [
             0.8888888888888888,
             "#fdca26"
            ],
            [
             1,
             "#f0f921"
            ]
           ]
          },
          "colorway": [
           "#636efa",
           "#EF553B",
           "#00cc96",
           "#ab63fa",
           "#FFA15A",
           "#19d3f3",
           "#FF6692",
           "#B6E880",
           "#FF97FF",
           "#FECB52"
          ],
          "font": {
           "color": "#2a3f5f"
          },
          "geo": {
           "bgcolor": "white",
           "lakecolor": "white",
           "landcolor": "#E5ECF6",
           "showlakes": true,
           "showland": true,
           "subunitcolor": "white"
          },
          "hoverlabel": {
           "align": "left"
          },
          "hovermode": "closest",
          "mapbox": {
           "style": "light"
          },
          "paper_bgcolor": "white",
          "plot_bgcolor": "#E5ECF6",
          "polar": {
           "angularaxis": {
            "gridcolor": "white",
            "linecolor": "white",
            "ticks": ""
           },
           "bgcolor": "#E5ECF6",
           "radialaxis": {
            "gridcolor": "white",
            "linecolor": "white",
            "ticks": ""
           }
          },
          "scene": {
           "xaxis": {
            "backgroundcolor": "#E5ECF6",
            "gridcolor": "white",
            "gridwidth": 2,
            "linecolor": "white",
            "showbackground": true,
            "ticks": "",
            "zerolinecolor": "white"
           },
           "yaxis": {
            "backgroundcolor": "#E5ECF6",
            "gridcolor": "white",
            "gridwidth": 2,
            "linecolor": "white",
            "showbackground": true,
            "ticks": "",
            "zerolinecolor": "white"
           },
           "zaxis": {
            "backgroundcolor": "#E5ECF6",
            "gridcolor": "white",
            "gridwidth": 2,
            "linecolor": "white",
            "showbackground": true,
            "ticks": "",
            "zerolinecolor": "white"
           }
          },
          "shapedefaults": {
           "line": {
            "color": "#2a3f5f"
           }
          },
          "ternary": {
           "aaxis": {
            "gridcolor": "white",
            "linecolor": "white",
            "ticks": ""
           },
           "baxis": {
            "gridcolor": "white",
            "linecolor": "white",
            "ticks": ""
           },
           "bgcolor": "#E5ECF6",
           "caxis": {
            "gridcolor": "white",
            "linecolor": "white",
            "ticks": ""
           }
          },
          "title": {
           "x": 0.05
          },
          "xaxis": {
           "automargin": true,
           "gridcolor": "white",
           "linecolor": "white",
           "ticks": "",
           "title": {
            "standoff": 15
           },
           "zerolinecolor": "white",
           "zerolinewidth": 2
          },
          "yaxis": {
           "automargin": true,
           "gridcolor": "white",
           "linecolor": "white",
           "ticks": "",
           "title": {
            "standoff": 15
           },
           "zerolinecolor": "white",
           "zerolinewidth": 2
          }
         }
        },
        "title": {
         "text": "Clusterings comparison"
        },
        "xaxis": {
         "showgrid": false,
         "visible": false,
         "zeroline": false
        },
        "yaxis": {
         "showgrid": false,
         "visible": false,
         "zeroline": false
        }
       }
      }
     },
     "metadata": {},
     "output_type": "display_data"
    }
   ],
   "source": [
    "sankey_plot(\n",
    "    [clusters_df['clusterDBSCAN'], clusters_df['clusterKMeans'], clusters_df['clusterKMeansPCA'], clusters_df['clusterHierarchical']],\n",
    "    labels_titles=['DBSCAN', 'KMeans', 'KMeansPCA', 'Heirarchical'],\n",
    "    title='Clusterings comparison'\n",
    ")"
   ]
  },
  {
   "cell_type": "markdown",
   "metadata": {},
   "source": [
    "The clusters found by KMeans applied to the indicators and the clusters found by KMeansPCA applied to the first principal components of the indicators are very similar. Cluster 2 of DBSCAN groups almost all the points from cluster 0, 1 and 3 of KMeans; while cluster 1 of DBSCAN groups almost all the points from cluster 2 of KMeans. Cluster 2 of KMeansPCA groups points belonging mainly to cluster 1, 2 and 6 of the Heirachical clustering. There is an high overlap between cluster 0 and 3 of KMeansPCA and Heirarchical clustering. Cluster 1 of KMeansPCA graoups all the points in cluster 5 of Heirarchical clustering. \n",
    "\n",
    "From this analysis, we can conclude that despite the differences in the methods, the clusters found are not so different.\n",
    "\n",
    "Now we compare the internal scores of KMeans and KMenasPCA:"
   ]
  },
  {
   "cell_type": "code",
   "execution_count": 5,
   "id": "27c24c89",
   "metadata": {},
   "outputs": [
    {
     "data": {
      "text/html": [
       "<div>\n",
       "<style scoped>\n",
       "    .dataframe tbody tr th:only-of-type {\n",
       "        vertical-align: middle;\n",
       "    }\n",
       "\n",
       "    .dataframe tbody tr th {\n",
       "        vertical-align: top;\n",
       "    }\n",
       "\n",
       "    .dataframe thead th {\n",
       "        text-align: right;\n",
       "    }\n",
       "</style>\n",
       "<table border=\"1\" class=\"dataframe\">\n",
       "  <thead>\n",
       "    <tr style=\"text-align: right;\">\n",
       "      <th></th>\n",
       "      <th>BSS</th>\n",
       "      <th>SSE</th>\n",
       "      <th>calinski_harabasz_score</th>\n",
       "      <th>davies_bouldin_score</th>\n",
       "      <th>n_iter</th>\n",
       "      <th>silhouette_score</th>\n",
       "    </tr>\n",
       "  </thead>\n",
       "  <tbody>\n",
       "    <tr>\n",
       "      <th>4means</th>\n",
       "      <td>57863.91870811196</td>\n",
       "      <td>51878.79845330116</td>\n",
       "      <td>49004.18671712359</td>\n",
       "      <td>1.2129926119852776</td>\n",
       "      <td>6</td>\n",
       "      <td>0.3268032005092862</td>\n",
       "    </tr>\n",
       "    <tr>\n",
       "      <th>4means PCA</th>\n",
       "      <td>19658.06936663372</td>\n",
       "      <td>18305.34787899599</td>\n",
       "      <td>47182.621915572796</td>\n",
       "      <td>1.203178019586672</td>\n",
       "      <td>5</td>\n",
       "      <td>0.3235205972416301</td>\n",
       "    </tr>\n",
       "  </tbody>\n",
       "</table>\n",
       "</div>"
      ],
      "text/plain": [
       "                          BSS                SSE calinski_harabasz_score  \\\n",
       "4means      57863.91870811196  51878.79845330116       49004.18671712359   \n",
       "4means PCA  19658.06936663372  18305.34787899599      47182.621915572796   \n",
       "\n",
       "           davies_bouldin_score n_iter    silhouette_score  \n",
       "4means       1.2129926119852776      6  0.3268032005092862  \n",
       "4means PCA    1.203178019586672      5  0.3235205972416301  "
      ]
     },
     "execution_count": 5,
     "metadata": {},
     "output_type": "execute_result"
    }
   ],
   "source": [
    "internal_scores_df = pd.DataFrame()\n",
    "for name, internal_scores_file in zip(clustering_name[:2], internal_scores_files[:2]):\n",
    "    internal_scores_curr_df = pd.read_csv(internal_scores_file, index_col=0).T\n",
    "    internal_scores_df = pd.concat([internal_scores_df, internal_scores_curr_df])\n",
    "internal_scores_df.rename(columns={'0':'silhouette_score'}, inplace=True)\n",
    "internal_scores_df.drop(columns=['model'], inplace=True)\n",
    "internal_scores_df"
   ]
  },
  {
   "cell_type": "markdown",
   "metadata": {},
   "source": [
    "BSS and SSE are not comparable because the feature space on which we run the algorithms is different. The other scores are comparable. As for the Calinski-Harabasz score and the Silhouette score, the best results are obtained by KMeans, while for the Davies-Bouldin score the best results are obtained by KMeansPCA.\n",
    "\n",
    "Now we compare the silhouette score of all the methods:"
   ]
  },
  {
   "cell_type": "code",
   "execution_count": 6,
   "metadata": {},
   "outputs": [
    {
     "data": {
      "text/html": [
       "<div>\n",
       "<style scoped>\n",
       "    .dataframe tbody tr th:only-of-type {\n",
       "        vertical-align: middle;\n",
       "    }\n",
       "\n",
       "    .dataframe tbody tr th {\n",
       "        vertical-align: top;\n",
       "    }\n",
       "\n",
       "    .dataframe thead th {\n",
       "        text-align: right;\n",
       "    }\n",
       "</style>\n",
       "<table border=\"1\" class=\"dataframe\">\n",
       "  <thead>\n",
       "    <tr style=\"text-align: right;\">\n",
       "      <th></th>\n",
       "      <th>silhouette_score</th>\n",
       "    </tr>\n",
       "  </thead>\n",
       "  <tbody>\n",
       "    <tr>\n",
       "      <th>4means</th>\n",
       "      <td>0.3268032005092862</td>\n",
       "    </tr>\n",
       "    <tr>\n",
       "      <th>4means PCA</th>\n",
       "      <td>0.3235205972416301</td>\n",
       "    </tr>\n",
       "    <tr>\n",
       "      <th>DBSCAN</th>\n",
       "      <td>0.251352</td>\n",
       "    </tr>\n",
       "    <tr>\n",
       "      <th>Hierarchical</th>\n",
       "      <td>0.368106</td>\n",
       "    </tr>\n",
       "  </tbody>\n",
       "</table>\n",
       "</div>"
      ],
      "text/plain": [
       "                silhouette_score\n",
       "4means        0.3268032005092862\n",
       "4means PCA    0.3235205972416301\n",
       "DBSCAN                  0.251352\n",
       "Hierarchical            0.368106"
      ]
     },
     "execution_count": 6,
     "metadata": {},
     "output_type": "execute_result"
    }
   ],
   "source": [
    "silhouette_df = internal_scores_df['silhouette_score'].to_frame()\n",
    "DBSCAN_silhouette = pd.read_csv(PATH+'DBSCAN_internal_scores.csv', index_col=0)['silhouette_score'].values[0]\n",
    "hierarchical_silhouette = pd.read_csv(PATH+'hierarchical_internal_scores.csv', index_col=0).T['silhouette_score'].values[0]\n",
    "pd.concat([silhouette_df, pd.DataFrame({'silhouette_score': [DBSCAN_silhouette, hierarchical_silhouette]}, index=['DBSCAN', 'Hierarchical'])])"
   ]
  },
  {
   "cell_type": "markdown",
   "metadata": {},
   "source": [
    "According to the silhouette score the best clustering results are obtained by Hierarchical clustering."
   ]
  },
  {
   "cell_type": "markdown",
   "metadata": {},
   "source": [
    "We finally visualize the external scores of all the methods:"
   ]
  },
  {
   "cell_type": "code",
   "execution_count": 7,
   "id": "e8d75d91",
   "metadata": {},
   "outputs": [
    {
     "name": "stdout",
     "output_type": "stream",
     "text": [
      "KMeans\n"
     ]
    },
    {
     "data": {
      "text/html": [
       "<div>\n",
       "<style scoped>\n",
       "    .dataframe tbody tr th:only-of-type {\n",
       "        vertical-align: middle;\n",
       "    }\n",
       "\n",
       "    .dataframe tbody tr th {\n",
       "        vertical-align: top;\n",
       "    }\n",
       "\n",
       "    .dataframe thead th {\n",
       "        text-align: right;\n",
       "    }\n",
       "</style>\n",
       "<table border=\"1\" class=\"dataframe\">\n",
       "  <thead>\n",
       "    <tr style=\"text-align: right;\">\n",
       "      <th></th>\n",
       "      <th>adjusted rand score</th>\n",
       "      <th>normalized mutual information</th>\n",
       "      <th>homogeneity</th>\n",
       "      <th>completeness</th>\n",
       "    </tr>\n",
       "    <tr>\n",
       "      <th>feature</th>\n",
       "      <th></th>\n",
       "      <th></th>\n",
       "      <th></th>\n",
       "      <th></th>\n",
       "    </tr>\n",
       "  </thead>\n",
       "  <tbody>\n",
       "    <tr>\n",
       "      <th>shots</th>\n",
       "      <td>0.066960</td>\n",
       "      <td>0.178677</td>\n",
       "      <td>0.316218</td>\n",
       "      <td>0.124518</td>\n",
       "    </tr>\n",
       "    <tr>\n",
       "      <th>aggression</th>\n",
       "      <td>0.129628</td>\n",
       "      <td>0.171629</td>\n",
       "      <td>0.257839</td>\n",
       "      <td>0.128623</td>\n",
       "    </tr>\n",
       "    <tr>\n",
       "      <th>suicide</th>\n",
       "      <td>0.005059</td>\n",
       "      <td>0.041971</td>\n",
       "      <td>0.250608</td>\n",
       "      <td>0.022903</td>\n",
       "    </tr>\n",
       "    <tr>\n",
       "      <th>injuries</th>\n",
       "      <td>0.192134</td>\n",
       "      <td>0.249401</td>\n",
       "      <td>0.376695</td>\n",
       "      <td>0.186409</td>\n",
       "    </tr>\n",
       "    <tr>\n",
       "      <th>death</th>\n",
       "      <td>0.286169</td>\n",
       "      <td>0.389875</td>\n",
       "      <td>0.622494</td>\n",
       "      <td>0.283816</td>\n",
       "    </tr>\n",
       "    <tr>\n",
       "      <th>drugs</th>\n",
       "      <td>-0.003387</td>\n",
       "      <td>0.056488</td>\n",
       "      <td>0.166964</td>\n",
       "      <td>0.033995</td>\n",
       "    </tr>\n",
       "    <tr>\n",
       "      <th>illegal_holding</th>\n",
       "      <td>-0.000474</td>\n",
       "      <td>0.040465</td>\n",
       "      <td>0.102789</td>\n",
       "      <td>0.025191</td>\n",
       "    </tr>\n",
       "    <tr>\n",
       "      <th>unharmed</th>\n",
       "      <td>0.313347</td>\n",
       "      <td>0.492696</td>\n",
       "      <td>0.843059</td>\n",
       "      <td>0.348051</td>\n",
       "    </tr>\n",
       "    <tr>\n",
       "      <th>arrested</th>\n",
       "      <td>0.324981</td>\n",
       "      <td>0.382347</td>\n",
       "      <td>0.576628</td>\n",
       "      <td>0.285990</td>\n",
       "    </tr>\n",
       "  </tbody>\n",
       "</table>\n",
       "</div>"
      ],
      "text/plain": [
       "                 adjusted rand score  normalized mutual information  \\\n",
       "feature                                                               \n",
       "shots                       0.066960                       0.178677   \n",
       "aggression                  0.129628                       0.171629   \n",
       "suicide                     0.005059                       0.041971   \n",
       "injuries                    0.192134                       0.249401   \n",
       "death                       0.286169                       0.389875   \n",
       "drugs                      -0.003387                       0.056488   \n",
       "illegal_holding            -0.000474                       0.040465   \n",
       "unharmed                    0.313347                       0.492696   \n",
       "arrested                    0.324981                       0.382347   \n",
       "\n",
       "                 homogeneity  completeness  \n",
       "feature                                     \n",
       "shots               0.316218      0.124518  \n",
       "aggression          0.257839      0.128623  \n",
       "suicide             0.250608      0.022903  \n",
       "injuries            0.376695      0.186409  \n",
       "death               0.622494      0.283816  \n",
       "drugs               0.166964      0.033995  \n",
       "illegal_holding     0.102789      0.025191  \n",
       "unharmed            0.843059      0.348051  \n",
       "arrested            0.576628      0.285990  "
      ]
     },
     "metadata": {},
     "output_type": "display_data"
    },
    {
     "name": "stdout",
     "output_type": "stream",
     "text": [
      "KMeansPCA\n"
     ]
    },
    {
     "data": {
      "text/html": [
       "<div>\n",
       "<style scoped>\n",
       "    .dataframe tbody tr th:only-of-type {\n",
       "        vertical-align: middle;\n",
       "    }\n",
       "\n",
       "    .dataframe tbody tr th {\n",
       "        vertical-align: top;\n",
       "    }\n",
       "\n",
       "    .dataframe thead th {\n",
       "        text-align: right;\n",
       "    }\n",
       "</style>\n",
       "<table border=\"1\" class=\"dataframe\">\n",
       "  <thead>\n",
       "    <tr style=\"text-align: right;\">\n",
       "      <th></th>\n",
       "      <th>adjusted rand score</th>\n",
       "      <th>normalized mutual information</th>\n",
       "      <th>homogeneity</th>\n",
       "      <th>completeness</th>\n",
       "    </tr>\n",
       "    <tr>\n",
       "      <th>feature</th>\n",
       "      <th></th>\n",
       "      <th></th>\n",
       "      <th></th>\n",
       "      <th></th>\n",
       "    </tr>\n",
       "  </thead>\n",
       "  <tbody>\n",
       "    <tr>\n",
       "      <th>shots</th>\n",
       "      <td>0.013098</td>\n",
       "      <td>0.135908</td>\n",
       "      <td>0.235928</td>\n",
       "      <td>0.095445</td>\n",
       "    </tr>\n",
       "    <tr>\n",
       "      <th>aggression</th>\n",
       "      <td>0.119408</td>\n",
       "      <td>0.174358</td>\n",
       "      <td>0.257281</td>\n",
       "      <td>0.131859</td>\n",
       "    </tr>\n",
       "    <tr>\n",
       "      <th>suicide</th>\n",
       "      <td>0.018048</td>\n",
       "      <td>0.055002</td>\n",
       "      <td>0.320398</td>\n",
       "      <td>0.030083</td>\n",
       "    </tr>\n",
       "    <tr>\n",
       "      <th>injuries</th>\n",
       "      <td>0.196766</td>\n",
       "      <td>0.252092</td>\n",
       "      <td>0.373973</td>\n",
       "      <td>0.190128</td>\n",
       "    </tr>\n",
       "    <tr>\n",
       "      <th>death</th>\n",
       "      <td>0.167238</td>\n",
       "      <td>0.260939</td>\n",
       "      <td>0.409001</td>\n",
       "      <td>0.191583</td>\n",
       "    </tr>\n",
       "    <tr>\n",
       "      <th>drugs</th>\n",
       "      <td>-0.021250</td>\n",
       "      <td>0.051653</td>\n",
       "      <td>0.149292</td>\n",
       "      <td>0.031229</td>\n",
       "    </tr>\n",
       "    <tr>\n",
       "      <th>illegal_holding</th>\n",
       "      <td>-0.012607</td>\n",
       "      <td>0.040955</td>\n",
       "      <td>0.101807</td>\n",
       "      <td>0.025633</td>\n",
       "    </tr>\n",
       "    <tr>\n",
       "      <th>unharmed</th>\n",
       "      <td>0.339517</td>\n",
       "      <td>0.501209</td>\n",
       "      <td>0.841450</td>\n",
       "      <td>0.356898</td>\n",
       "    </tr>\n",
       "    <tr>\n",
       "      <th>arrested</th>\n",
       "      <td>0.453665</td>\n",
       "      <td>0.514149</td>\n",
       "      <td>0.761589</td>\n",
       "      <td>0.388066</td>\n",
       "    </tr>\n",
       "  </tbody>\n",
       "</table>\n",
       "</div>"
      ],
      "text/plain": [
       "                 adjusted rand score  normalized mutual information  \\\n",
       "feature                                                               \n",
       "shots                       0.013098                       0.135908   \n",
       "aggression                  0.119408                       0.174358   \n",
       "suicide                     0.018048                       0.055002   \n",
       "injuries                    0.196766                       0.252092   \n",
       "death                       0.167238                       0.260939   \n",
       "drugs                      -0.021250                       0.051653   \n",
       "illegal_holding            -0.012607                       0.040955   \n",
       "unharmed                    0.339517                       0.501209   \n",
       "arrested                    0.453665                       0.514149   \n",
       "\n",
       "                 homogeneity  completeness  \n",
       "feature                                     \n",
       "shots               0.235928      0.095445  \n",
       "aggression          0.257281      0.131859  \n",
       "suicide             0.320398      0.030083  \n",
       "injuries            0.373973      0.190128  \n",
       "death               0.409001      0.191583  \n",
       "drugs               0.149292      0.031229  \n",
       "illegal_holding     0.101807      0.025633  \n",
       "unharmed            0.841450      0.356898  \n",
       "arrested            0.761589      0.388066  "
      ]
     },
     "metadata": {},
     "output_type": "display_data"
    },
    {
     "name": "stdout",
     "output_type": "stream",
     "text": [
      "DBSCAN\n"
     ]
    },
    {
     "data": {
      "text/html": [
       "<div>\n",
       "<style scoped>\n",
       "    .dataframe tbody tr th:only-of-type {\n",
       "        vertical-align: middle;\n",
       "    }\n",
       "\n",
       "    .dataframe tbody tr th {\n",
       "        vertical-align: top;\n",
       "    }\n",
       "\n",
       "    .dataframe thead th {\n",
       "        text-align: right;\n",
       "    }\n",
       "</style>\n",
       "<table border=\"1\" class=\"dataframe\">\n",
       "  <thead>\n",
       "    <tr style=\"text-align: right;\">\n",
       "      <th></th>\n",
       "      <th>adjusted rand score</th>\n",
       "      <th>normalized mutual information</th>\n",
       "      <th>homogeneity</th>\n",
       "      <th>completeness</th>\n",
       "    </tr>\n",
       "    <tr>\n",
       "      <th>feature</th>\n",
       "      <th></th>\n",
       "      <th></th>\n",
       "      <th></th>\n",
       "      <th></th>\n",
       "    </tr>\n",
       "  </thead>\n",
       "  <tbody>\n",
       "    <tr>\n",
       "      <th>shots</th>\n",
       "      <td>-0.075938</td>\n",
       "      <td>0.047912</td>\n",
       "      <td>0.084670</td>\n",
       "      <td>0.033408</td>\n",
       "    </tr>\n",
       "    <tr>\n",
       "      <th>aggression</th>\n",
       "      <td>0.364733</td>\n",
       "      <td>0.212332</td>\n",
       "      <td>0.263700</td>\n",
       "      <td>0.177713</td>\n",
       "    </tr>\n",
       "    <tr>\n",
       "      <th>suicide</th>\n",
       "      <td>0.039015</td>\n",
       "      <td>0.035117</td>\n",
       "      <td>0.295749</td>\n",
       "      <td>0.018667</td>\n",
       "    </tr>\n",
       "    <tr>\n",
       "      <th>injuries</th>\n",
       "      <td>0.352241</td>\n",
       "      <td>0.234914</td>\n",
       "      <td>0.271139</td>\n",
       "      <td>0.207227</td>\n",
       "    </tr>\n",
       "    <tr>\n",
       "      <th>death</th>\n",
       "      <td>0.837984</td>\n",
       "      <td>0.772892</td>\n",
       "      <td>0.985145</td>\n",
       "      <td>0.635888</td>\n",
       "    </tr>\n",
       "    <tr>\n",
       "      <th>drugs</th>\n",
       "      <td>-0.007725</td>\n",
       "      <td>0.003725</td>\n",
       "      <td>0.016119</td>\n",
       "      <td>0.002106</td>\n",
       "    </tr>\n",
       "    <tr>\n",
       "      <th>illegal_holding</th>\n",
       "      <td>-0.038983</td>\n",
       "      <td>0.008984</td>\n",
       "      <td>0.020715</td>\n",
       "      <td>0.005736</td>\n",
       "    </tr>\n",
       "    <tr>\n",
       "      <th>unharmed</th>\n",
       "      <td>-0.029378</td>\n",
       "      <td>0.009844</td>\n",
       "      <td>0.011332</td>\n",
       "      <td>0.008701</td>\n",
       "    </tr>\n",
       "    <tr>\n",
       "      <th>arrested</th>\n",
       "      <td>0.000346</td>\n",
       "      <td>0.026035</td>\n",
       "      <td>0.035774</td>\n",
       "      <td>0.020464</td>\n",
       "    </tr>\n",
       "  </tbody>\n",
       "</table>\n",
       "</div>"
      ],
      "text/plain": [
       "                 adjusted rand score  normalized mutual information  \\\n",
       "feature                                                               \n",
       "shots                      -0.075938                       0.047912   \n",
       "aggression                  0.364733                       0.212332   \n",
       "suicide                     0.039015                       0.035117   \n",
       "injuries                    0.352241                       0.234914   \n",
       "death                       0.837984                       0.772892   \n",
       "drugs                      -0.007725                       0.003725   \n",
       "illegal_holding            -0.038983                       0.008984   \n",
       "unharmed                   -0.029378                       0.009844   \n",
       "arrested                    0.000346                       0.026035   \n",
       "\n",
       "                 homogeneity  completeness  \n",
       "feature                                     \n",
       "shots               0.084670      0.033408  \n",
       "aggression          0.263700      0.177713  \n",
       "suicide             0.295749      0.018667  \n",
       "injuries            0.271139      0.207227  \n",
       "death               0.985145      0.635888  \n",
       "drugs               0.016119      0.002106  \n",
       "illegal_holding     0.020715      0.005736  \n",
       "unharmed            0.011332      0.008701  \n",
       "arrested            0.035774      0.020464  "
      ]
     },
     "metadata": {},
     "output_type": "display_data"
    },
    {
     "name": "stdout",
     "output_type": "stream",
     "text": [
      "Hierarchical\n"
     ]
    },
    {
     "data": {
      "text/html": [
       "<div>\n",
       "<style scoped>\n",
       "    .dataframe tbody tr th:only-of-type {\n",
       "        vertical-align: middle;\n",
       "    }\n",
       "\n",
       "    .dataframe tbody tr th {\n",
       "        vertical-align: top;\n",
       "    }\n",
       "\n",
       "    .dataframe thead th {\n",
       "        text-align: right;\n",
       "    }\n",
       "</style>\n",
       "<table border=\"1\" class=\"dataframe\">\n",
       "  <thead>\n",
       "    <tr style=\"text-align: right;\">\n",
       "      <th></th>\n",
       "      <th>adjusted rand score</th>\n",
       "      <th>normalized mutual information</th>\n",
       "      <th>homogeneity</th>\n",
       "      <th>completeness</th>\n",
       "    </tr>\n",
       "    <tr>\n",
       "      <th>feature</th>\n",
       "      <th></th>\n",
       "      <th></th>\n",
       "      <th></th>\n",
       "      <th></th>\n",
       "    </tr>\n",
       "  </thead>\n",
       "  <tbody>\n",
       "    <tr>\n",
       "      <th>shots</th>\n",
       "      <td>0.045257</td>\n",
       "      <td>0.103206</td>\n",
       "      <td>0.326136</td>\n",
       "      <td>0.061303</td>\n",
       "    </tr>\n",
       "    <tr>\n",
       "      <th>aggression</th>\n",
       "      <td>0.141147</td>\n",
       "      <td>0.194396</td>\n",
       "      <td>0.399959</td>\n",
       "      <td>0.128402</td>\n",
       "    </tr>\n",
       "    <tr>\n",
       "      <th>suicide</th>\n",
       "      <td>0.005569</td>\n",
       "      <td>0.017797</td>\n",
       "      <td>0.304827</td>\n",
       "      <td>0.009166</td>\n",
       "    </tr>\n",
       "    <tr>\n",
       "      <th>injuries</th>\n",
       "      <td>0.197868</td>\n",
       "      <td>0.294542</td>\n",
       "      <td>0.551776</td>\n",
       "      <td>0.200889</td>\n",
       "    </tr>\n",
       "    <tr>\n",
       "      <th>death</th>\n",
       "      <td>0.112758</td>\n",
       "      <td>0.218996</td>\n",
       "      <td>0.465600</td>\n",
       "      <td>0.143167</td>\n",
       "    </tr>\n",
       "    <tr>\n",
       "      <th>drugs</th>\n",
       "      <td>0.006032</td>\n",
       "      <td>0.020277</td>\n",
       "      <td>0.173055</td>\n",
       "      <td>0.010769</td>\n",
       "    </tr>\n",
       "    <tr>\n",
       "      <th>illegal_holding</th>\n",
       "      <td>0.001334</td>\n",
       "      <td>0.024685</td>\n",
       "      <td>0.105911</td>\n",
       "      <td>0.013970</td>\n",
       "    </tr>\n",
       "    <tr>\n",
       "      <th>unharmed</th>\n",
       "      <td>0.235298</td>\n",
       "      <td>0.342733</td>\n",
       "      <td>0.640033</td>\n",
       "      <td>0.234026</td>\n",
       "    </tr>\n",
       "    <tr>\n",
       "      <th>arrested</th>\n",
       "      <td>0.182932</td>\n",
       "      <td>0.351128</td>\n",
       "      <td>0.819837</td>\n",
       "      <td>0.223405</td>\n",
       "    </tr>\n",
       "  </tbody>\n",
       "</table>\n",
       "</div>"
      ],
      "text/plain": [
       "                 adjusted rand score  normalized mutual information  \\\n",
       "feature                                                               \n",
       "shots                       0.045257                       0.103206   \n",
       "aggression                  0.141147                       0.194396   \n",
       "suicide                     0.005569                       0.017797   \n",
       "injuries                    0.197868                       0.294542   \n",
       "death                       0.112758                       0.218996   \n",
       "drugs                       0.006032                       0.020277   \n",
       "illegal_holding             0.001334                       0.024685   \n",
       "unharmed                    0.235298                       0.342733   \n",
       "arrested                    0.182932                       0.351128   \n",
       "\n",
       "                 homogeneity  completeness  \n",
       "feature                                     \n",
       "shots               0.326136      0.061303  \n",
       "aggression          0.399959      0.128402  \n",
       "suicide             0.304827      0.009166  \n",
       "injuries            0.551776      0.200889  \n",
       "death               0.465600      0.143167  \n",
       "drugs               0.173055      0.010769  \n",
       "illegal_holding     0.105911      0.013970  \n",
       "unharmed            0.640033      0.234026  \n",
       "arrested            0.819837      0.223405  "
      ]
     },
     "metadata": {},
     "output_type": "display_data"
    }
   ],
   "source": [
    "external_scores_df = pd.DataFrame()\n",
    "for name, external_score_file in zip(clustering_name, external_scores_files):\n",
    "    scores_curr_df = pd.read_csv(external_score_file, index_col='feature')\n",
    "    print(name)\n",
    "    display(scores_curr_df)"
   ]
  },
  {
   "cell_type": "markdown",
   "metadata": {},
   "source": [
    "Regarding the external scores:\n",
    "- the class 'death' is better clustered by DBSCAN\n",
    "- KMeans has similar scores to KMeansPCA; KMeansPCA works better in identifying incidents from the class 'arrest'\n",
    "- Heirarchical clustering has the highest scores for the class 'arrested' and works also better than the other algorithms in identifying incidents from the class 'aggression' and 'injuries'"
   ]
  }
 ],
 "metadata": {
  "jupytext": {
   "cell_metadata_filter": "-all",
   "main_language": "python",
   "notebook_metadata_filter": "-all"
  },
  "kernelspec": {
   "display_name": "base",
   "language": "python",
   "name": "python3"
  },
  "language_info": {
   "codemirror_mode": {
    "name": "ipython",
    "version": 3
   },
   "file_extension": ".py",
   "mimetype": "text/x-python",
   "name": "python",
   "nbconvert_exporter": "python",
   "pygments_lexer": "ipython3",
   "version": "3.11.4"
  }
 },
 "nbformat": 4,
 "nbformat_minor": 5
}
