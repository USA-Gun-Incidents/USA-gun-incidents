{
 "cells": [
  {
   "cell_type": "markdown",
   "id": "f3cff70d",
   "metadata": {},
   "source": [
    "**Data mining Project - University of Pisa, acedemic year 2023/24**\n",
    "\n",
    "**Authors**: Giacomo Aru, Giulia Ghisolfi, Luca Marini, Irene Testa"
   ]
  },
  {
   "cell_type": "code",
   "execution_count": 1,
   "id": "29de4b6a",
   "metadata": {},
   "outputs": [],
   "source": [
    "import json\n",
    "import pandas as pd\n",
    "import numpy as np\n",
    "from sklearn.preprocessing import MinMaxScaler\n",
    "from sklearn.metrics import silhouette_score"
   ]
  },
  {
   "cell_type": "code",
   "execution_count": 2,
   "id": "869c1f14",
   "metadata": {},
   "outputs": [],
   "source": [
    "# load the data\n",
    "incidents_df = pd.read_csv('../data/incidents_indicators.csv', index_col=0)\n",
    "# load the names of the features to use for clustering\n",
    "features_to_cluster = json.loads(open('../data/indicators_names.json').read())\n",
    "# for clustering we will use all the extracted indicators except the projected coordinates\n",
    "features_to_cluster = [feature for feature in features_to_cluster if feature not in ['lat_proj', 'lon_proj']]\n",
    "# drop nan\n",
    "incidents_df = incidents_df.dropna(subset=features_to_cluster)\n",
    "# initialize a colum for the clustering labels\n",
    "incidents_df['cluster'] = None\n",
    "# project on the indicators\n",
    "indicators_df = incidents_df[features_to_cluster]"
   ]
  },
  {
   "cell_type": "code",
   "execution_count": 3,
   "id": "730d5425",
   "metadata": {},
   "outputs": [],
   "source": [
    "minmax_scaler = MinMaxScaler()\n",
    "X = minmax_scaler.fit_transform(indicators_df.values)"
   ]
  },
  {
   "cell_type": "code",
   "execution_count": null,
   "id": "ce705a9b",
   "metadata": {},
   "outputs": [],
   "source": [
    "n_clusters = [4, 7, 9]\n",
    "silhouette = {}\n",
    "for n_cluster in n_clusters:\n",
    "    print(f'Trying {n_cluster} clusters')\n",
    "    silhouette_values = []\n",
    "    for i in range(10):\n",
    "        print(f'Iteration {i}')\n",
    "        labels = np.random.randint(0, n_cluster, len(indicators_df))\n",
    "        silhouette_values.append(silhouette_score(X, labels))\n",
    "    mean_silhouette = np.mean(silhouette_values)\n",
    "    std_silhouette = np.std(silhouette_values)\n",
    "    silhouette[n_cluster] = {'mean': mean_silhouette, 'std': std_silhouette}\n",
    "silhouette_df = pd.DataFrame(silhouette)\n",
    "silhouette_df"
   ]
  },
  {
   "cell_type": "code",
   "execution_count": null,
   "id": "53612330",
   "metadata": {
    "lines_to_next_cell": 3
   },
   "outputs": [],
   "source": [
    "silhouette_df.to_csv('../data/silhouette.csv')"
   ]
  }
 ],
 "metadata": {
  "jupytext": {
   "cell_metadata_filter": "-all",
   "main_language": "python",
   "notebook_metadata_filter": "-all"
  },
  "kernelspec": {
   "display_name": "base",
   "language": "python",
   "name": "python3"
  },
  "language_info": {
   "codemirror_mode": {
    "name": "ipython",
    "version": 3
   },
   "file_extension": ".py",
   "mimetype": "text/x-python",
   "name": "python",
   "nbconvert_exporter": "python",
   "pygments_lexer": "ipython3",
   "version": "3.10.9"
  }
 },
 "nbformat": 4,
 "nbformat_minor": 5
}
