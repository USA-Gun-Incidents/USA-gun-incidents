{
 "cells": [
  {
   "cell_type": "markdown",
   "id": "fa61ee54",
   "metadata": {},
   "source": [
    "**Data mining Project - University of Pisa, acedemic year 2023/24**\n",
    "\n",
    "**Authors**: Giacomo Aru, Giulia Ghisolfi, Luca Marini, Irene Testa\n",
    "\n",
    "# Poverty percentage in the USA - Data Understanding and Preparation\n",
    "\n",
    "We import the libraries:"
   ]
  },
  {
   "cell_type": "code",
   "execution_count": 1,
   "id": "b6862d9b",
   "metadata": {},
   "outputs": [],
   "source": [
    "import pandas as pd\n",
    "import matplotlib.pyplot as plt\n",
    "import plotly.express as px\n",
    "import plotly.offline as pyo"
   ]
  },
  {
   "cell_type": "markdown",
   "id": "8895e2e4",
   "metadata": {},
   "source": [
    "We define constants and settings for the notebook:"
   ]
  },
  {
   "cell_type": "code",
   "execution_count": 2,
   "id": "b51ba2c2",
   "metadata": {},
   "outputs": [],
   "source": [
    "DATA_FOLDER_PATH = '../data/'\n",
    "pd.set_option('display.max_columns', None)\n",
    "pd.set_option('max_colwidth', None)"
   ]
  },
  {
   "cell_type": "markdown",
   "id": "aface7d5",
   "metadata": {},
   "source": [
    "We load the dataset:"
   ]
  },
  {
   "cell_type": "code",
   "execution_count": 3,
   "id": "e0ffc3a9",
   "metadata": {},
   "outputs": [],
   "source": [
    "poverty_path = DATA_FOLDER_PATH + 'poverty_by_state_year.csv'\n",
    "poverty_df = pd.read_csv(poverty_path)"
   ]
  },
  {
   "cell_type": "markdown",
   "id": "56d04ded",
   "metadata": {},
   "source": [
    "We assess the correct loading of the dataset printing the first 2 rows:"
   ]
  },
  {
   "cell_type": "code",
   "execution_count": 4,
   "id": "68db0f26",
   "metadata": {},
   "outputs": [
    {
     "data": {
      "text/html": [
       "<div>\n",
       "<style scoped>\n",
       "    .dataframe tbody tr th:only-of-type {\n",
       "        vertical-align: middle;\n",
       "    }\n",
       "\n",
       "    .dataframe tbody tr th {\n",
       "        vertical-align: top;\n",
       "    }\n",
       "\n",
       "    .dataframe thead th {\n",
       "        text-align: right;\n",
       "    }\n",
       "</style>\n",
       "<table border=\"1\" class=\"dataframe\">\n",
       "  <thead>\n",
       "    <tr style=\"text-align: right;\">\n",
       "      <th></th>\n",
       "      <th>state</th>\n",
       "      <th>year</th>\n",
       "      <th>povertyPercentage</th>\n",
       "    </tr>\n",
       "  </thead>\n",
       "  <tbody>\n",
       "    <tr>\n",
       "      <th>0</th>\n",
       "      <td>United States</td>\n",
       "      <td>2020</td>\n",
       "      <td>11.5</td>\n",
       "    </tr>\n",
       "    <tr>\n",
       "      <th>1</th>\n",
       "      <td>Alabama</td>\n",
       "      <td>2020</td>\n",
       "      <td>14.8</td>\n",
       "    </tr>\n",
       "  </tbody>\n",
       "</table>\n",
       "</div>"
      ],
      "text/plain": [
       "           state  year  povertyPercentage\n",
       "0  United States  2020               11.5\n",
       "1        Alabama  2020               14.8"
      ]
     },
     "execution_count": 4,
     "metadata": {},
     "output_type": "execute_result"
    }
   ],
   "source": [
    "poverty_df.head(n=2)"
   ]
  },
  {
   "cell_type": "markdown",
   "id": "d0623f7c",
   "metadata": {},
   "source": [
    "This dataset contains information about the poverty percentage for each USA state and year.\n",
    "\n",
    "In the following table we provide the characteristics of each attribute of the dataset. To define the type of the attributes we used the categorization described by Pang-Ning Tan, Michael Steinbach and Vipin Kumar in the book *Introduction to Data Mining*. For each attribute, we also reported the desidered pandas dtype for later analysis.\n",
    "\n",
    "| # | Name | Type | Description | Desired dtype |\n",
    "| :-: | :--: | :--: | :---------: | :------------: |\n",
    "| 0 | state | Categorical (Nominal) | Name of the state | object |\n",
    "| 1 | year | Numeric (Interval) | Year | int64 |\n",
    "| 2 | povertyPercentage | Numeric (Ratio) | Poverty percentage for the corresponding state and year | float64 |\n",
    "\n",
    "We display a concise summary of the DataFrame:"
   ]
  },
  {
   "cell_type": "code",
   "execution_count": 5,
   "id": "25f02597",
   "metadata": {},
   "outputs": [
    {
     "name": "stdout",
     "output_type": "stream",
     "text": [
      "<class 'pandas.core.frame.DataFrame'>\n",
      "RangeIndex: 884 entries, 0 to 883\n",
      "Data columns (total 3 columns):\n",
      " #   Column             Non-Null Count  Dtype  \n",
      "---  ------             --------------  -----  \n",
      " 0   state              884 non-null    object \n",
      " 1   year               884 non-null    int64  \n",
      " 2   povertyPercentage  832 non-null    float64\n",
      "dtypes: float64(1), int64(1), object(1)\n",
      "memory usage: 20.8+ KB\n"
     ]
    }
   ],
   "source": [
    "poverty_df.info()"
   ]
  },
  {
   "cell_type": "markdown",
   "id": "c404bc06",
   "metadata": {},
   "source": [
    "We notice that:\n",
    "- the inferred types of the attributes are correct\n",
    "- the presence of missing values within the attribute `povertyPercentage`\n",
    "\n",
    "We display descriptive statistics:"
   ]
  },
  {
   "cell_type": "code",
   "execution_count": 6,
   "id": "e4baac8c",
   "metadata": {},
   "outputs": [
    {
     "data": {
      "text/html": [
       "<div>\n",
       "<style scoped>\n",
       "    .dataframe tbody tr th:only-of-type {\n",
       "        vertical-align: middle;\n",
       "    }\n",
       "\n",
       "    .dataframe tbody tr th {\n",
       "        vertical-align: top;\n",
       "    }\n",
       "\n",
       "    .dataframe thead th {\n",
       "        text-align: right;\n",
       "    }\n",
       "</style>\n",
       "<table border=\"1\" class=\"dataframe\">\n",
       "  <thead>\n",
       "    <tr style=\"text-align: right;\">\n",
       "      <th></th>\n",
       "      <th>state</th>\n",
       "      <th>year</th>\n",
       "      <th>povertyPercentage</th>\n",
       "    </tr>\n",
       "  </thead>\n",
       "  <tbody>\n",
       "    <tr>\n",
       "      <th>count</th>\n",
       "      <td>884</td>\n",
       "      <td>884.000000</td>\n",
       "      <td>832.000000</td>\n",
       "    </tr>\n",
       "    <tr>\n",
       "      <th>unique</th>\n",
       "      <td>52</td>\n",
       "      <td>NaN</td>\n",
       "      <td>NaN</td>\n",
       "    </tr>\n",
       "    <tr>\n",
       "      <th>top</th>\n",
       "      <td>United States</td>\n",
       "      <td>NaN</td>\n",
       "      <td>NaN</td>\n",
       "    </tr>\n",
       "    <tr>\n",
       "      <th>freq</th>\n",
       "      <td>17</td>\n",
       "      <td>NaN</td>\n",
       "      <td>NaN</td>\n",
       "    </tr>\n",
       "    <tr>\n",
       "      <th>mean</th>\n",
       "      <td>NaN</td>\n",
       "      <td>2011.998869</td>\n",
       "      <td>12.535817</td>\n",
       "    </tr>\n",
       "    <tr>\n",
       "      <th>std</th>\n",
       "      <td>NaN</td>\n",
       "      <td>4.902330</td>\n",
       "      <td>3.205233</td>\n",
       "    </tr>\n",
       "    <tr>\n",
       "      <th>min</th>\n",
       "      <td>NaN</td>\n",
       "      <td>2004.000000</td>\n",
       "      <td>5.400000</td>\n",
       "    </tr>\n",
       "    <tr>\n",
       "      <th>25%</th>\n",
       "      <td>NaN</td>\n",
       "      <td>2008.000000</td>\n",
       "      <td>10.200000</td>\n",
       "    </tr>\n",
       "    <tr>\n",
       "      <th>50%</th>\n",
       "      <td>NaN</td>\n",
       "      <td>2012.000000</td>\n",
       "      <td>12.000000</td>\n",
       "    </tr>\n",
       "    <tr>\n",
       "      <th>75%</th>\n",
       "      <td>NaN</td>\n",
       "      <td>2016.000000</td>\n",
       "      <td>14.700000</td>\n",
       "    </tr>\n",
       "    <tr>\n",
       "      <th>max</th>\n",
       "      <td>NaN</td>\n",
       "      <td>2020.000000</td>\n",
       "      <td>21.800000</td>\n",
       "    </tr>\n",
       "  </tbody>\n",
       "</table>\n",
       "</div>"
      ],
      "text/plain": [
       "                state         year  povertyPercentage\n",
       "count             884   884.000000         832.000000\n",
       "unique             52          NaN                NaN\n",
       "top     United States          NaN                NaN\n",
       "freq               17          NaN                NaN\n",
       "mean              NaN  2011.998869          12.535817\n",
       "std               NaN     4.902330           3.205233\n",
       "min               NaN  2004.000000           5.400000\n",
       "25%               NaN  2008.000000          10.200000\n",
       "50%               NaN  2012.000000          12.000000\n",
       "75%               NaN  2016.000000          14.700000\n",
       "max               NaN  2020.000000          21.800000"
      ]
     },
     "execution_count": 6,
     "metadata": {},
     "output_type": "execute_result"
    }
   ],
   "source": [
    "poverty_df.describe(include='all')"
   ]
  },
  {
   "cell_type": "markdown",
   "id": "0d99e5b9",
   "metadata": {},
   "source": [
    "We notice that:\n",
    "- the data are provided also for the United States as a whole\n",
    "- `year` spans from 2004 to 2020\n",
    "\n",
    "We check whether the tuple <`state`, `year`> uniquely identifies each row:"
   ]
  },
  {
   "cell_type": "code",
   "execution_count": 7,
   "id": "9838d28c",
   "metadata": {},
   "outputs": [
    {
     "data": {
      "text/plain": [
       "False"
      ]
     },
     "execution_count": 7,
     "metadata": {},
     "output_type": "execute_result"
    }
   ],
   "source": [
    "poverty_df.groupby(['state', 'year']).size().max()==1"
   ]
  },
  {
   "cell_type": "markdown",
   "id": "feacd821",
   "metadata": {},
   "source": [
    "Since it does not, we display the duplicated <`state`, `year`> tuples:"
   ]
  },
  {
   "cell_type": "code",
   "execution_count": 8,
   "id": "1758b472",
   "metadata": {},
   "outputs": [
    {
     "data": {
      "text/plain": [
       "state    year\n",
       "Wyoming  2009    2\n",
       "dtype: int64"
      ]
     },
     "execution_count": 8,
     "metadata": {},
     "output_type": "execute_result"
    }
   ],
   "source": [
    "poverty_df.groupby(['state', 'year']).size()[lambda x: x> 1]"
   ]
  },
  {
   "cell_type": "markdown",
   "id": "5faec658",
   "metadata": {},
   "source": [
    "We display the data for Wyoming, the only one with this issue:"
   ]
  },
  {
   "cell_type": "code",
   "execution_count": 9,
   "id": "f9ce0920",
   "metadata": {},
   "outputs": [
    {
     "data": {
      "text/html": [
       "<div>\n",
       "<style scoped>\n",
       "    .dataframe tbody tr th:only-of-type {\n",
       "        vertical-align: middle;\n",
       "    }\n",
       "\n",
       "    .dataframe tbody tr th {\n",
       "        vertical-align: top;\n",
       "    }\n",
       "\n",
       "    .dataframe thead th {\n",
       "        text-align: right;\n",
       "    }\n",
       "</style>\n",
       "<table border=\"1\" class=\"dataframe\">\n",
       "  <thead>\n",
       "    <tr style=\"text-align: right;\">\n",
       "      <th></th>\n",
       "      <th>state</th>\n",
       "      <th>year</th>\n",
       "      <th>povertyPercentage</th>\n",
       "    </tr>\n",
       "  </thead>\n",
       "  <tbody>\n",
       "    <tr>\n",
       "      <th>51</th>\n",
       "      <td>Wyoming</td>\n",
       "      <td>2020</td>\n",
       "      <td>8.7</td>\n",
       "    </tr>\n",
       "    <tr>\n",
       "      <th>103</th>\n",
       "      <td>Wyoming</td>\n",
       "      <td>2019</td>\n",
       "      <td>9.4</td>\n",
       "    </tr>\n",
       "    <tr>\n",
       "      <th>155</th>\n",
       "      <td>Wyoming</td>\n",
       "      <td>2018</td>\n",
       "      <td>9.4</td>\n",
       "    </tr>\n",
       "    <tr>\n",
       "      <th>207</th>\n",
       "      <td>Wyoming</td>\n",
       "      <td>2017</td>\n",
       "      <td>10.5</td>\n",
       "    </tr>\n",
       "    <tr>\n",
       "      <th>259</th>\n",
       "      <td>Wyoming</td>\n",
       "      <td>2016</td>\n",
       "      <td>11.4</td>\n",
       "    </tr>\n",
       "    <tr>\n",
       "      <th>311</th>\n",
       "      <td>Wyoming</td>\n",
       "      <td>2015</td>\n",
       "      <td>11.0</td>\n",
       "    </tr>\n",
       "    <tr>\n",
       "      <th>363</th>\n",
       "      <td>Wyoming</td>\n",
       "      <td>2014</td>\n",
       "      <td>10.1</td>\n",
       "    </tr>\n",
       "    <tr>\n",
       "      <th>415</th>\n",
       "      <td>Wyoming</td>\n",
       "      <td>2013</td>\n",
       "      <td>10.3</td>\n",
       "    </tr>\n",
       "    <tr>\n",
       "      <th>467</th>\n",
       "      <td>Wyoming</td>\n",
       "      <td>2012</td>\n",
       "      <td>NaN</td>\n",
       "    </tr>\n",
       "    <tr>\n",
       "      <th>519</th>\n",
       "      <td>Wyoming</td>\n",
       "      <td>2011</td>\n",
       "      <td>10.7</td>\n",
       "    </tr>\n",
       "    <tr>\n",
       "      <th>571</th>\n",
       "      <td>Wyoming</td>\n",
       "      <td>2009</td>\n",
       "      <td>10.0</td>\n",
       "    </tr>\n",
       "    <tr>\n",
       "      <th>623</th>\n",
       "      <td>Wyoming</td>\n",
       "      <td>2009</td>\n",
       "      <td>9.8</td>\n",
       "    </tr>\n",
       "    <tr>\n",
       "      <th>675</th>\n",
       "      <td>Wyoming</td>\n",
       "      <td>2008</td>\n",
       "      <td>9.6</td>\n",
       "    </tr>\n",
       "    <tr>\n",
       "      <th>727</th>\n",
       "      <td>Wyoming</td>\n",
       "      <td>2007</td>\n",
       "      <td>10.1</td>\n",
       "    </tr>\n",
       "    <tr>\n",
       "      <th>779</th>\n",
       "      <td>Wyoming</td>\n",
       "      <td>2006</td>\n",
       "      <td>10.3</td>\n",
       "    </tr>\n",
       "    <tr>\n",
       "      <th>831</th>\n",
       "      <td>Wyoming</td>\n",
       "      <td>2005</td>\n",
       "      <td>10.5</td>\n",
       "    </tr>\n",
       "    <tr>\n",
       "      <th>883</th>\n",
       "      <td>Wyoming</td>\n",
       "      <td>2004</td>\n",
       "      <td>10.2</td>\n",
       "    </tr>\n",
       "  </tbody>\n",
       "</table>\n",
       "</div>"
      ],
      "text/plain": [
       "       state  year  povertyPercentage\n",
       "51   Wyoming  2020                8.7\n",
       "103  Wyoming  2019                9.4\n",
       "155  Wyoming  2018                9.4\n",
       "207  Wyoming  2017               10.5\n",
       "259  Wyoming  2016               11.4\n",
       "311  Wyoming  2015               11.0\n",
       "363  Wyoming  2014               10.1\n",
       "415  Wyoming  2013               10.3\n",
       "467  Wyoming  2012                NaN\n",
       "519  Wyoming  2011               10.7\n",
       "571  Wyoming  2009               10.0\n",
       "623  Wyoming  2009                9.8\n",
       "675  Wyoming  2008                9.6\n",
       "727  Wyoming  2007               10.1\n",
       "779  Wyoming  2006               10.3\n",
       "831  Wyoming  2005               10.5\n",
       "883  Wyoming  2004               10.2"
      ]
     },
     "execution_count": 9,
     "metadata": {},
     "output_type": "execute_result"
    }
   ],
   "source": [
    "poverty_df[(poverty_df['state']=='Wyoming')]"
   ]
  },
  {
   "cell_type": "markdown",
   "id": "c9780564",
   "metadata": {},
   "source": [
    "We notice that the entry relative to 2010 is missing. Since the other entries are ordered by year, we correct this error setting the year of the row with a povertyPercentage equal to 10.0 to 2010."
   ]
  },
  {
   "cell_type": "code",
   "execution_count": 10,
   "id": "e0cf18e9",
   "metadata": {},
   "outputs": [],
   "source": [
    "poverty_df.loc[\n",
    "    (poverty_df['state'] == 'Wyoming') &\n",
    "    (poverty_df['year'] == 2009) &\n",
    "    (poverty_df['povertyPercentage'] == 10),\n",
    "    'year'] = 2010"
   ]
  },
  {
   "cell_type": "markdown",
   "id": "d385cac0",
   "metadata": {},
   "source": [
    "We check if each state has the expected number or rows:"
   ]
  },
  {
   "cell_type": "code",
   "execution_count": 11,
   "id": "7dd8533b",
   "metadata": {},
   "outputs": [
    {
     "data": {
      "text/plain": [
       "True"
      ]
     },
     "execution_count": 11,
     "metadata": {},
     "output_type": "execute_result"
    }
   ],
   "source": [
    "(poverty_df.groupby('state').size()==(poverty_df['year'].max()-poverty_df['year'].min()+1)).all()"
   ]
  },
  {
   "cell_type": "markdown",
   "id": "61bc4042",
   "metadata": {},
   "source": [
    "Since the tuple <`state`, `year`> uniquely identifies each row we can conclude that there are no missing rows.\n",
    "\n",
    "Now, we count how many rows have missing values:"
   ]
  },
  {
   "cell_type": "code",
   "execution_count": 12,
   "id": "e04f5019",
   "metadata": {},
   "outputs": [
    {
     "data": {
      "text/plain": [
       "52"
      ]
     },
     "execution_count": 12,
     "metadata": {},
     "output_type": "execute_result"
    }
   ],
   "source": [
    "poverty_df[poverty_df['povertyPercentage'].isnull()].shape[0]"
   ]
  },
  {
   "cell_type": "markdown",
   "id": "0469e3a2",
   "metadata": {},
   "source": [
    "Given that there are 52 unique values for the `state` attribute, data for a specific year is probably missing. To check this, we list the years with missing values."
   ]
  },
  {
   "cell_type": "code",
   "execution_count": 13,
   "id": "cfc0c130",
   "metadata": {},
   "outputs": [
    {
     "data": {
      "text/plain": [
       "array([2012])"
      ]
     },
     "execution_count": 13,
     "metadata": {},
     "output_type": "execute_result"
    }
   ],
   "source": [
    "poverty_df[poverty_df['povertyPercentage'].isnull()]['year'].unique()"
   ]
  },
  {
   "cell_type": "markdown",
   "id": "fb58fc9c",
   "metadata": {},
   "source": [
    "As expected we have no data from 2012. Later we will fix this issue.\n",
    "\n",
    "Now we visualize the distribution of poverty percentage for each state."
   ]
  },
  {
   "cell_type": "code",
   "execution_count": 14,
   "id": "a07617f8",
   "metadata": {},
   "outputs": [
    {
     "data": {
      "image/png": "[encoded data removed]",
      "text/plain": [
       "<Figure size 2000x1000 with 1 Axes>"
      ]
     },
     "metadata": {},
     "output_type": "display_data"
    }
   ],
   "source": [
    "poverty_df.boxplot(column='povertyPercentage', by='state', figsize=(20, 10), rot=90, xlabel='state', ylabel='Poverty (%)')\n",
    "plt.suptitle('Poverty Percentage by State')\n",
    "plt.title('')\n",
    "plt.tight_layout()"
   ]
  },
  {
   "cell_type": "markdown",
   "id": "54c03b84",
   "metadata": {},
   "source": [
    "This plot shows that Arkansas, Kentucky, Nebraska and North Dakota seems to be affected by fliers. We check this by plotting their poverty percentage over the years."
   ]
  },
  {
   "cell_type": "code",
   "execution_count": 15,
   "id": "acf70f54",
   "metadata": {},
   "outputs": [
    {
     "data": {
      "text/plain": [
       "Text(0.5, 1.0, 'Poverty (%) over the years')"
      ]
     },
     "execution_count": 15,
     "metadata": {},
     "output_type": "execute_result"
    },
    {
     "data": {
      "image/png": "[encoded data removed]",
      "text/plain": [
       "<Figure size 640x480 with 1 Axes>"
      ]
     },
     "metadata": {},
     "output_type": "display_data"
    }
   ],
   "source": [
    "poverty_df[\n",
    "    poverty_df['state'].isin(['Arkansas', 'Kentucky', 'Nebraska', 'North Dakota', 'United States'])\n",
    "    ].pivot(index='year', columns='state', values='povertyPercentage').plot(kind='line')\n",
    "plt.legend()\n",
    "plt.xlabel('Year')\n",
    "plt.ylabel('Poverty (%)')\n",
    "plt.title('Poverty (%) over the years')"
   ]
  },
  {
   "cell_type": "markdown",
   "id": "6b183347",
   "metadata": {},
   "source": [
    "The plot above shows that those fliers could be realistic values, we don't need to correct them.\n",
    "\n",
    "We plot the average poverty percentage over the years highlighting the standard deviation:"
   ]
  },
  {
   "cell_type": "code",
   "execution_count": 16,
   "id": "6e9e9fbc",
   "metadata": {},
   "outputs": [
    {
     "data": {
      "text/plain": [
       "Text(0.5, 1.0, 'Average poverty (%) over the years')"
      ]
     },
     "execution_count": 16,
     "metadata": {},
     "output_type": "execute_result"
    },
    {
     "data": {
      "image/png": "[encoded data removed]",
      "text/plain": [
       "<Figure size 1500x500 with 1 Axes>"
      ]
     },
     "metadata": {},
     "output_type": "display_data"
    }
   ],
   "source": [
    "poverty_df.groupby('year')['povertyPercentage'].mean().plot(kind='line', figsize=(15, 5), label='USA average', color='black', style='--')\n",
    "plt.fill_between(\n",
    "    poverty_df.groupby('year')['povertyPercentage'].mean().index,\n",
    "    poverty_df.groupby('year')['povertyPercentage'].mean() - poverty_df.groupby('year')['povertyPercentage'].std(),\n",
    "    poverty_df.groupby('year')['povertyPercentage'].mean() + poverty_df.groupby('year')['povertyPercentage'].std(),\n",
    "    alpha=0.2,\n",
    "    color='gray'\n",
    ")\n",
    "plt.legend()\n",
    "plt.xlabel('Year')\n",
    "plt.ylabel('Poverty (%)')\n",
    "plt.title('Average poverty (%) over the years')"
   ]
  },
  {
   "cell_type": "markdown",
   "id": "8c604434",
   "metadata": {},
   "source": [
    "We now plot the average poverty percentage over the years for each state:"
   ]
  },
  {
   "cell_type": "code",
   "execution_count": 17,
   "id": "dd678adc",
   "metadata": {},
   "outputs": [
    {
     "data": {
      "text/plain": [
       "Text(0, 0.5, 'Average Poverty (%)')"
      ]
     },
     "execution_count": 17,
     "metadata": {},
     "output_type": "execute_result"
    },
    {
     "data": {
      "image/png": "[encoded data removed]",
      "text/plain": [
       "<Figure size 1500x500 with 1 Axes>"
      ]
     },
     "metadata": {},
     "output_type": "display_data"
    }
   ],
   "source": [
    "poverty_df.groupby(['state'])['povertyPercentage'].mean().sort_values().plot(kind='bar', figsize=(15, 5))\n",
    "plt.title(f'Average Poverty (%) in the period {poverty_df.year.min()}-{poverty_df.year.max()}')\n",
    "plt.xlabel('State')\n",
    "plt.ylabel('Average Poverty (%)')"
   ]
  },
  {
   "cell_type": "markdown",
   "id": "ebb5ecb6",
   "metadata": {},
   "source": [
    "It is evident that New Hampshire's average poverty rate is markedly lower than that of the other states, whereas Mississippi's average poverty rate is notably higher than the rest. \n",
    "\n",
    "To inspect and compare the poverty percentage of each state over the year, we plot an interactive line chart:"
   ]
  },
  {
   "cell_type": "code",
   "execution_count": 18,
   "id": "aae3b80b",
   "metadata": {},
   "outputs": [
    {
     "data": {
      "application/vnd.plotly.v1+json": {
       "config": {
        "plotlyServerURL": "https://plot.ly"
       },
       "data": [
        {
         "hovertemplate": "state=Alabama<br>year=%{x}<br>value=%{y}<extra></extra>",
         "legendgroup": "Alabama",
         "line": {
          "color": "#636efa",
          "dash": "solid"
         },
         "marker": {
          "symbol": "circle"
         },
         "mode": "lines",
         "name": "Alabama",
         "orientation": "v",
         "showlegend": true,
         "type": "scatter",
         "x": [
          2004,
          2005,
          2006,
          2007,
          2008,
          2009,
          2010,
          2011,
          2012,
          2013,
          2014,
          2015,
          2016,
          2017,
          2018,
          2019,
          2020
         ],
         "xaxis": "x",
         "y": [
          16,
          15.2,
          14.4,
          15.1,
          16,
          16.4,
          16.2,
          16.1,
          null,
          17.5,
          16.8,
          15.8,
          16,
          14.7,
          14.6,
          14.5,
          14.8
         ],
         "yaxis": "y"
        },
        {
         "hovertemplate": "state=Alaska<br>year=%{x}<br>value=%{y}<extra></extra>",
         "legendgroup": "Alaska",
         "line": {
          "color": "#EF553B",
          "dash": "solid"
         },
         "marker": {
          "symbol": "circle"
         },
         "mode": "lines",
         "name": "Alaska",
         "orientation": "v",
         "showlegend": true,
         "type": "scatter",
         "x": [
          2004,
          2005,
          2006,
          2007,
          2008,
          2009,
          2010,
          2011,
          2012,
          2013,
          2014,
          2015,
          2016,
          2017,
          2018,
          2019,
          2020
         ],
         "xaxis": "x",
         "y": [
          9.3,
          8.8,
          8.2,
          9.2,
          10.8,
          12,
          11.4,
          10.9,
          null,
          10.2,
          11.2,
          12.1,
          12.2,
          11.8,
          12.3,
          11.7,
          11.5
         ],
         "yaxis": "y"
        },
        {
         "hovertemplate": "state=Arizona<br>year=%{x}<br>value=%{y}<extra></extra>",
         "legendgroup": "Arizona",
         "line": {
          "color": "#00cc96",
          "dash": "solid"
         },
         "marker": {
          "symbol": "circle"
         },
         "mode": "lines",
         "name": "Arizona",
         "orientation": "v",
         "showlegend": true,
         "type": "scatter",
         "x": [
          2004,
          2005,
          2006,
          2007,
          2008,
          2009,
          2010,
          2011,
          2012,
          2013,
          2014,
          2015,
          2016,
          2017,
          2018,
          2019,
          2020
         ],
         "xaxis": "x",
         "y": [
          14.7,
          14.6,
          15.6,
          17.9,
          19.3,
          19.1,
          18.3,
          18.8,
          null,
          18.7,
          18.1,
          15.5,
          14.4,
          12.1,
          11.2,
          11.2,
          12.1
         ],
         "yaxis": "y"
        },
        {
         "hovertemplate": "state=Arkansas<br>year=%{x}<br>value=%{y}<extra></extra>",
         "legendgroup": "Arkansas",
         "line": {
          "color": "#ab63fa",
          "dash": "solid"
         },
         "marker": {
          "symbol": "circle"
         },
         "mode": "lines",
         "name": "Arkansas",
         "orientation": "v",
         "showlegend": true,
         "type": "scatter",
         "x": [
          2004,
          2005,
          2006,
          2007,
          2008,
          2009,
          2010,
          2011,
          2012,
          2013,
          2014,
          2015,
          2016,
          2017,
          2018,
          2019,
          2020
         ],
         "xaxis": "x",
         "y": [
          15.6,
          15.1,
          15.6,
          16,
          16.5,
          17.6,
          18,
          18.6,
          null,
          16.1,
          16.8,
          15.6,
          15.5,
          15,
          14.7,
          15.1,
          15.8
         ],
         "yaxis": "y"
        },
        {
         "hovertemplate": "state=California<br>year=%{x}<br>value=%{y}<extra></extra>",
         "legendgroup": "California",
         "line": {
          "color": "#FFA15A",
          "dash": "solid"
         },
         "marker": {
          "symbol": "circle"
         },
         "mode": "lines",
         "name": "California",
         "orientation": "v",
         "showlegend": true,
         "type": "scatter",
         "x": [
          2004,
          2005,
          2006,
          2007,
          2008,
          2009,
          2010,
          2011,
          2012,
          2013,
          2014,
          2015,
          2016,
          2017,
          2018,
          2019,
          2020
         ],
         "xaxis": "x",
         "y": [
          12.9,
          12.7,
          13.2,
          14.2,
          15.4,
          16.2,
          16.4,
          15.9,
          null,
          14.9,
          14.5,
          13.4,
          12.5,
          11.4,
          11,
          11,
          11.4
         ],
         "yaxis": "y"
        },
        {
         "hovertemplate": "state=Colorado<br>year=%{x}<br>value=%{y}<extra></extra>",
         "legendgroup": "Colorado",
         "line": {
          "color": "#19d3f3",
          "dash": "solid"
         },
         "marker": {
          "symbol": "circle"
         },
         "mode": "lines",
         "name": "Colorado",
         "orientation": "v",
         "showlegend": true,
         "type": "scatter",
         "x": [
          2004,
          2005,
          2006,
          2007,
          2008,
          2009,
          2010,
          2011,
          2012,
          2013,
          2014,
          2015,
          2016,
          2017,
          2018,
          2019,
          2020
         ],
         "xaxis": "x",
         "y": [
          10.4,
          10.3,
          10.2,
          11.1,
          11.9,
          12.6,
          12.5,
          11.9,
          null,
          11,
          10.2,
          8.7,
          8.9,
          9.1,
          9.3,
          8.9,
          8.5
         ],
         "yaxis": "y"
        },
        {
         "hovertemplate": "state=Connecticut<br>year=%{x}<br>value=%{y}<extra></extra>",
         "legendgroup": "Connecticut",
         "line": {
          "color": "#FF6692",
          "dash": "solid"
         },
         "marker": {
          "symbol": "circle"
         },
         "mode": "lines",
         "name": "Connecticut",
         "orientation": "v",
         "showlegend": true,
         "type": "scatter",
         "x": [
          2004,
          2005,
          2006,
          2007,
          2008,
          2009,
          2010,
          2011,
          2012,
          2013,
          2014,
          2015,
          2016,
          2017,
          2018,
          2019,
          2020
         ],
         "xaxis": "x",
         "y": [
          9.1,
          8.7,
          8.3,
          8.5,
          8.3,
          9,
          9.7,
          10.6,
          null,
          9.5,
          9.2,
          9.9,
          9.9,
          9.7,
          9.9,
          9.2,
          9.8
         ],
         "yaxis": "y"
        },
        {
         "hovertemplate": "state=Delaware<br>year=%{x}<br>value=%{y}<extra></extra>",
         "legendgroup": "Delaware",
         "line": {
          "color": "#B6E880",
          "dash": "solid"
         },
         "marker": {
          "symbol": "circle"
         },
         "mode": "lines",
         "name": "Delaware",
         "orientation": "v",
         "showlegend": true,
         "type": "scatter",
         "x": [
          2004,
          2005,
          2006,
          2007,
          2008,
          2009,
          2010,
          2011,
          2012,
          2013,
          2014,
          2015,
          2016,
          2017,
          2018,
          2019,
          2020
         ],
         "xaxis": "x",
         "y": [
          9.2,
          9.3,
          9.4,
          10.4,
          11.4,
          12.7,
          13.1,
          13.7,
          null,
          11.1,
          11.2,
          10.6,
          9.6,
          7.6,
          8.1,
          9.6,
          10.5
         ],
         "yaxis": "y"
        },
        {
         "hovertemplate": "state=District of Columbia<br>year=%{x}<br>value=%{y}<extra></extra>",
         "legendgroup": "District of Columbia",
         "line": {
          "color": "#FF97FF",
          "dash": "solid"
         },
         "marker": {
          "symbol": "circle"
         },
         "mode": "lines",
         "name": "District of Columbia",
         "orientation": "v",
         "showlegend": true,
         "type": "scatter",
         "x": [
          2004,
          2005,
          2006,
          2007,
          2008,
          2009,
          2010,
          2011,
          2012,
          2013,
          2014,
          2015,
          2016,
          2017,
          2018,
          2019,
          2020
         ],
         "xaxis": "x",
         "y": [
          18.8,
          19.1,
          17.6,
          17.5,
          18,
          19.1,
          19.3,
          19.9,
          null,
          19.6,
          17.3,
          15.5,
          14.9,
          13.7,
          14.7,
          14.4,
          14.7
         ],
         "yaxis": "y"
        },
        {
         "hovertemplate": "state=Florida<br>year=%{x}<br>value=%{y}<extra></extra>",
         "legendgroup": "Florida",
         "line": {
          "color": "#FECB52",
          "dash": "solid"
         },
         "marker": {
          "symbol": "circle"
         },
         "mode": "lines",
         "name": "Florida",
         "orientation": "v",
         "showlegend": true,
         "type": "scatter",
         "x": [
          2004,
          2005,
          2006,
          2007,
          2008,
          2009,
          2010,
          2011,
          2012,
          2013,
          2014,
          2015,
          2016,
          2017,
          2018,
          2019,
          2020
         ],
         "xaxis": "x",
         "y": [
          11.4,
          11.7,
          12.4,
          13.4,
          14.6,
          15.2,
          15.4,
          15,
          null,
          15.9,
          15.2,
          14.3,
          13.6,
          12.8,
          12.8,
          12.5,
          13.1
         ],
         "yaxis": "y"
        },
        {
         "hovertemplate": "state=Georgia<br>year=%{x}<br>value=%{y}<extra></extra>",
         "legendgroup": "Georgia",
         "line": {
          "color": "#636efa",
          "dash": "solid"
         },
         "marker": {
          "symbol": "circle"
         },
         "mode": "lines",
         "name": "Georgia",
         "orientation": "v",
         "showlegend": true,
         "type": "scatter",
         "x": [
          2004,
          2005,
          2006,
          2007,
          2008,
          2009,
          2010,
          2011,
          2012,
          2013,
          2014,
          2015,
          2016,
          2017,
          2018,
          2019,
          2020
         ],
         "xaxis": "x",
         "y": [
          13.3,
          13.5,
          13.9,
          15.8,
          17.6,
          18.5,
          18.4,
          17.6,
          null,
          17.8,
          16.8,
          15.6,
          14.7,
          13.3,
          13.4,
          13.1,
          13
         ],
         "yaxis": "y"
        },
        {
         "hovertemplate": "state=Hawaii<br>year=%{x}<br>value=%{y}<extra></extra>",
         "legendgroup": "Hawaii",
         "line": {
          "color": "#EF553B",
          "dash": "solid"
         },
         "marker": {
          "symbol": "circle"
         },
         "mode": "lines",
         "name": "Hawaii",
         "orientation": "v",
         "showlegend": true,
         "type": "scatter",
         "x": [
          2004,
          2005,
          2006,
          2007,
          2008,
          2009,
          2010,
          2011,
          2012,
          2013,
          2014,
          2015,
          2016,
          2017,
          2018,
          2019,
          2020
         ],
         "xaxis": "x",
         "y": [
          8.8,
          8.4,
          8.9,
          9.9,
          11.6,
          12.3,
          12.8,
          12.3,
          null,
          10.8,
          10.3,
          10.2,
          9.5,
          9.4,
          9.5,
          10.1,
          10.2
         ],
         "yaxis": "y"
        },
        {
         "hovertemplate": "state=Idaho<br>year=%{x}<br>value=%{y}<extra></extra>",
         "legendgroup": "Idaho",
         "line": {
          "color": "#00cc96",
          "dash": "solid"
         },
         "marker": {
          "symbol": "circle"
         },
         "mode": "lines",
         "name": "Idaho",
         "orientation": "v",
         "showlegend": true,
         "type": "scatter",
         "x": [
          2004,
          2005,
          2006,
          2007,
          2008,
          2009,
          2010,
          2011,
          2012,
          2013,
          2014,
          2015,
          2016,
          2017,
          2018,
          2019,
          2020
         ],
         "xaxis": "x",
         "y": [
          9.8,
          9.8,
          10.6,
          12,
          13.2,
          14.4,
          14.7,
          14.4,
          null,
          12.4,
          11.9,
          11.7,
          11.3,
          10,
          9.2,
          8.5,
          8.9
         ],
         "yaxis": "y"
        },
        {
         "hovertemplate": "state=Illinois<br>year=%{x}<br>value=%{y}<extra></extra>",
         "legendgroup": "Illinois",
         "line": {
          "color": "#ab63fa",
          "dash": "solid"
         },
         "marker": {
          "symbol": "circle"
         },
         "mode": "lines",
         "name": "Illinois",
         "orientation": "v",
         "showlegend": true,
         "type": "scatter",
         "x": [
          2004,
          2005,
          2006,
          2007,
          2008,
          2009,
          2010,
          2011,
          2012,
          2013,
          2014,
          2015,
          2016,
          2017,
          2018,
          2019,
          2020
         ],
         "xaxis": "x",
         "y": [
          11.4,
          10.7,
          11,
          11.8,
          13.2,
          13.8,
          13.6,
          13.4,
          null,
          12.7,
          12.2,
          11.3,
          10.9,
          10.4,
          9.2,
          9.3,
          9.4
         ],
         "yaxis": "y"
        },
        {
         "hovertemplate": "state=Indiana<br>year=%{x}<br>value=%{y}<extra></extra>",
         "legendgroup": "Indiana",
         "line": {
          "color": "#FFA15A",
          "dash": "solid"
         },
         "marker": {
          "symbol": "circle"
         },
         "mode": "lines",
         "name": "Indiana",
         "orientation": "v",
         "showlegend": true,
         "type": "scatter",
         "x": [
          2004,
          2005,
          2006,
          2007,
          2008,
          2009,
          2010,
          2011,
          2012,
          2013,
          2014,
          2015,
          2016,
          2017,
          2018,
          2019,
          2020
         ],
         "xaxis": "x",
         "y": [
          11.6,
          11.7,
          12.3,
          14.1,
          15.6,
          16,
          15.7,
          14.1,
          null,
          14.9,
          13.3,
          12.3,
          11.8,
          11.1,
          11.2,
          10.8,
          10.9
         ],
         "yaxis": "y"
        },
        {
         "hovertemplate": "state=Iowa<br>year=%{x}<br>value=%{y}<extra></extra>",
         "legendgroup": "Iowa",
         "line": {
          "color": "#19d3f3",
          "dash": "solid"
         },
         "marker": {
          "symbol": "circle"
         },
         "mode": "lines",
         "name": "Iowa",
         "orientation": "v",
         "showlegend": true,
         "type": "scatter",
         "x": [
          2004,
          2005,
          2006,
          2007,
          2008,
          2009,
          2010,
          2011,
          2012,
          2013,
          2014,
          2015,
          2016,
          2017,
          2018,
          2019,
          2020
         ],
         "xaxis": "x",
         "y": [
          10.8,
          10.2,
          9.6,
          9.7,
          10.2,
          10.5,
          10.3,
          10.5,
          null,
          11.3,
          10.1,
          9.7,
          9.2,
          8.7,
          9.2,
          9.5,
          9.4
         ],
         "yaxis": "y"
        },
        {
         "hovertemplate": "state=Kansas<br>year=%{x}<br>value=%{y}<extra></extra>",
         "legendgroup": "Kansas",
         "line": {
          "color": "#FF6692",
          "dash": "solid"
         },
         "marker": {
          "symbol": "circle"
         },
         "mode": "lines",
         "name": "Kansas",
         "orientation": "v",
         "showlegend": true,
         "type": "scatter",
         "x": [
          2004,
          2005,
          2006,
          2007,
          2008,
          2009,
          2010,
          2011,
          2012,
          2013,
          2014,
          2015,
          2016,
          2017,
          2018,
          2019,
          2020
         ],
         "xaxis": "x",
         "y": [
          12.2,
          12.3,
          12.4,
          12.7,
          13.6,
          14.2,
          14.3,
          13.8,
          null,
          12.6,
          12.5,
          13.4,
          10.8,
          10.4,
          8.7,
          8.6,
          8.9
         ],
         "yaxis": "y"
        },
        {
         "hovertemplate": "state=Kentucky<br>year=%{x}<br>value=%{y}<extra></extra>",
         "legendgroup": "Kentucky",
         "line": {
          "color": "#B6E880",
          "dash": "solid"
         },
         "marker": {
          "symbol": "circle"
         },
         "mode": "lines",
         "name": "Kentucky",
         "orientation": "v",
         "showlegend": true,
         "type": "scatter",
         "x": [
          2004,
          2005,
          2006,
          2007,
          2008,
          2009,
          2010,
          2011,
          2012,
          2013,
          2014,
          2015,
          2016,
          2017,
          2018,
          2019,
          2020
         ],
         "xaxis": "x",
         "y": [
          16.5,
          15.7,
          16.5,
          16.5,
          17.2,
          16.9,
          17.2,
          18,
          null,
          20.5,
          18.2,
          16.4,
          15.3,
          14.2,
          14.4,
          14.6,
          15.8
         ],
         "yaxis": "y"
        },
        {
         "hovertemplate": "state=Louisiana<br>year=%{x}<br>value=%{y}<extra></extra>",
         "legendgroup": "Louisiana",
         "line": {
          "color": "#FF97FF",
          "dash": "solid"
         },
         "marker": {
          "symbol": "circle"
         },
         "mode": "lines",
         "name": "Louisiana",
         "orientation": "v",
         "showlegend": true,
         "type": "scatter",
         "x": [
          2004,
          2005,
          2006,
          2007,
          2008,
          2009,
          2010,
          2011,
          2012,
          2013,
          2014,
          2015,
          2016,
          2017,
          2018,
          2019,
          2020
         ],
         "xaxis": "x",
         "y": [
          17.4,
          17.1,
          17.1,
          16.2,
          18,
          18.9,
          21.2,
          20.5,
          null,
          21,
          20.6,
          20,
          19.8,
          19.1,
          17.5,
          17.3,
          16.9
         ],
         "yaxis": "y"
        },
        {
         "hovertemplate": "state=Maine<br>year=%{x}<br>value=%{y}<extra></extra>",
         "legendgroup": "Maine",
         "line": {
          "color": "#FECB52",
          "dash": "solid"
         },
         "marker": {
          "symbol": "circle"
         },
         "mode": "lines",
         "name": "Maine",
         "orientation": "v",
         "showlegend": true,
         "type": "scatter",
         "x": [
          2004,
          2005,
          2006,
          2007,
          2008,
          2009,
          2010,
          2011,
          2012,
          2013,
          2014,
          2015,
          2016,
          2017,
          2018,
          2019,
          2020
         ],
         "xaxis": "x",
         "y": [
          11.5,
          11.2,
          11,
          11.4,
          12,
          12.5,
          13,
          12.8,
          null,
          12.8,
          13.2,
          12.3,
          12.6,
          11.5,
          10,
          9.2,
          8.9
         ],
         "yaxis": "y"
        },
        {
         "hovertemplate": "state=Maryland<br>year=%{x}<br>value=%{y}<extra></extra>",
         "legendgroup": "Maryland",
         "line": {
          "color": "#636efa",
          "dash": "solid"
         },
         "marker": {
          "symbol": "circle"
         },
         "mode": "lines",
         "name": "Maryland",
         "orientation": "v",
         "showlegend": true,
         "type": "scatter",
         "x": [
          2004,
          2005,
          2006,
          2007,
          2008,
          2009,
          2010,
          2011,
          2012,
          2013,
          2014,
          2015,
          2016,
          2017,
          2018,
          2019,
          2020
         ],
         "xaxis": "x",
         "y": [
          9.3,
          9,
          8.6,
          9,
          9.7,
          9.9,
          10,
          9.8,
          null,
          10,
          8.9,
          8.2,
          7.1,
          7.5,
          8.1,
          8,
          8.6
         ],
         "yaxis": "y"
        },
        {
         "hovertemplate": "state=Massachusetts<br>year=%{x}<br>value=%{y}<extra></extra>",
         "legendgroup": "Massachusetts",
         "line": {
          "color": "#EF553B",
          "dash": "solid"
         },
         "marker": {
          "symbol": "circle"
         },
         "mode": "lines",
         "name": "Massachusetts",
         "orientation": "v",
         "showlegend": true,
         "type": "scatter",
         "x": [
          2004,
          2005,
          2006,
          2007,
          2008,
          2009,
          2010,
          2011,
          2012,
          2013,
          2014,
          2015,
          2016,
          2017,
          2018,
          2019,
          2020
         ],
         "xaxis": "x",
         "y": [
          10.5,
          11.1,
          11.5,
          11.1,
          11,
          10.8,
          10.9,
          11.3,
          null,
          12.4,
          11.5,
          10.6,
          9.8,
          9.2,
          8.2,
          7.9,
          8.6
         ],
         "yaxis": "y"
        },
        {
         "hovertemplate": "state=Michigan<br>year=%{x}<br>value=%{y}<extra></extra>",
         "legendgroup": "Michigan",
         "line": {
          "color": "#00cc96",
          "dash": "solid"
         },
         "marker": {
          "symbol": "circle"
         },
         "mode": "lines",
         "name": "Michigan",
         "orientation": "v",
         "showlegend": true,
         "type": "scatter",
         "x": [
          2004,
          2005,
          2006,
          2007,
          2008,
          2009,
          2010,
          2011,
          2012,
          2013,
          2014,
          2015,
          2016,
          2017,
          2018,
          2019,
          2020
         ],
         "xaxis": "x",
         "y": [
          12.9,
          12,
          12.4,
          12.6,
          14.2,
          14.9,
          14.8,
          14.4,
          null,
          13.4,
          12.9,
          12.2,
          11,
          10.7,
          10.6,
          11,
          11.7
         ],
         "yaxis": "y"
        },
        {
         "hovertemplate": "state=Minnesota<br>year=%{x}<br>value=%{y}<extra></extra>",
         "legendgroup": "Minnesota",
         "line": {
          "color": "#ab63fa",
          "dash": "solid"
         },
         "marker": {
          "symbol": "circle"
         },
         "mode": "lines",
         "name": "Minnesota",
         "orientation": "v",
         "showlegend": true,
         "type": "scatter",
         "x": [
          2004,
          2005,
          2006,
          2007,
          2008,
          2009,
          2010,
          2011,
          2012,
          2013,
          2014,
          2015,
          2016,
          2017,
          2018,
          2019,
          2020
         ],
         "xaxis": "x",
         "y": [
          7.7,
          8.5,
          9.1,
          10.1,
          10.6,
          10.6,
          10.3,
          10.7,
          null,
          9,
          8.3,
          8.6,
          8.7,
          7.4,
          7.4,
          7,
          7.7
         ],
         "yaxis": "y"
        },
        {
         "hovertemplate": "state=Mississippi<br>year=%{x}<br>value=%{y}<extra></extra>",
         "legendgroup": "Mississippi",
         "line": {
          "color": "#FFA15A",
          "dash": "solid"
         },
         "marker": {
          "symbol": "circle"
         },
         "mode": "lines",
         "name": "Mississippi",
         "orientation": "v",
         "showlegend": true,
         "type": "scatter",
         "x": [
          2004,
          2005,
          2006,
          2007,
          2008,
          2009,
          2010,
          2011,
          2012,
          2013,
          2014,
          2015,
          2016,
          2017,
          2018,
          2019,
          2020
         ],
         "xaxis": "x",
         "y": [
          19.8,
          21.1,
          20.5,
          21.3,
          21.2,
          21,
          20.6,
          20.6,
          null,
          20.1,
          20.8,
          19.5,
          19.8,
          19.1,
          18.8,
          18.1,
          17.8
         ],
         "yaxis": "y"
        },
        {
         "hovertemplate": "state=Missouri<br>year=%{x}<br>value=%{y}<extra></extra>",
         "legendgroup": "Missouri",
         "line": {
          "color": "#19d3f3",
          "dash": "solid"
         },
         "marker": {
          "symbol": "circle"
         },
         "mode": "lines",
         "name": "Missouri",
         "orientation": "v",
         "showlegend": true,
         "type": "scatter",
         "x": [
          2004,
          2005,
          2006,
          2007,
          2008,
          2009,
          2010,
          2011,
          2012,
          2013,
          2014,
          2015,
          2016,
          2017,
          2018,
          2019,
          2020
         ],
         "xaxis": "x",
         "y": [
          11.7,
          11.9,
          12.5,
          13.9,
          14.6,
          15.3,
          15.2,
          14.8,
          null,
          12.6,
          11,
          11.3,
          11.9,
          11,
          10.8,
          10.8,
          11.5
         ],
         "yaxis": "y"
        },
        {
         "hovertemplate": "state=Montana<br>year=%{x}<br>value=%{y}<extra></extra>",
         "legendgroup": "Montana",
         "line": {
          "color": "#FF6692",
          "dash": "solid"
         },
         "marker": {
          "symbol": "circle"
         },
         "mode": "lines",
         "name": "Montana",
         "orientation": "v",
         "showlegend": true,
         "type": "scatter",
         "x": [
          2004,
          2005,
          2006,
          2007,
          2008,
          2009,
          2010,
          2011,
          2012,
          2013,
          2014,
          2015,
          2016,
          2017,
          2018,
          2019,
          2020
         ],
         "xaxis": "x",
         "y": [
          13.8,
          13.4,
          13.1,
          13.1,
          13.6,
          14.8,
          14.8,
          14.8,
          null,
          11.5,
          11.9,
          11.1,
          10.4,
          10.1,
          10.3,
          10.4,
          10.7
         ],
         "yaxis": "y"
        },
        {
         "hovertemplate": "state=Nebraska<br>year=%{x}<br>value=%{y}<extra></extra>",
         "legendgroup": "Nebraska",
         "line": {
          "color": "#B6E880",
          "dash": "solid"
         },
         "marker": {
          "symbol": "circle"
         },
         "mode": "lines",
         "name": "Nebraska",
         "orientation": "v",
         "showlegend": true,
         "type": "scatter",
         "x": [
          2004,
          2005,
          2006,
          2007,
          2008,
          2009,
          2010,
          2011,
          2012,
          2013,
          2014,
          2015,
          2016,
          2017,
          2018,
          2019,
          2020
         ],
         "xaxis": "x",
         "y": [
          9.7,
          9.9,
          10.2,
          10.1,
          10.2,
          10.1,
          10.9,
          11.2,
          null,
          10.9,
          10.6,
          10.1,
          10.4,
          10.3,
          9.2,
          8.4,
          8.1
         ],
         "yaxis": "y"
        },
        {
         "hovertemplate": "state=Nevada<br>year=%{x}<br>value=%{y}<extra></extra>",
         "legendgroup": "Nevada",
         "line": {
          "color": "#FF97FF",
          "dash": "solid"
         },
         "marker": {
          "symbol": "circle"
         },
         "mode": "lines",
         "name": "Nevada",
         "orientation": "v",
         "showlegend": true,
         "type": "scatter",
         "x": [
          2004,
          2005,
          2006,
          2007,
          2008,
          2009,
          2010,
          2011,
          2012,
          2013,
          2014,
          2015,
          2016,
          2017,
          2018,
          2019,
          2020
         ],
         "xaxis": "x",
         "y": [
          10.3,
          10,
          10,
          11.2,
          13.5,
          15,
          15.9,
          16.2,
          null,
          14.8,
          13.3,
          12.3,
          12.2,
          12.2,
          12.1,
          12.1,
          12.6
         ],
         "yaxis": "y"
        },
        {
         "hovertemplate": "state=New Hampshire<br>year=%{x}<br>value=%{y}<extra></extra>",
         "legendgroup": "New Hampshire",
         "line": {
          "color": "#FECB52",
          "dash": "solid"
         },
         "marker": {
          "symbol": "circle"
         },
         "mode": "lines",
         "name": "New Hampshire",
         "orientation": "v",
         "showlegend": true,
         "type": "scatter",
         "x": [
          2004,
          2005,
          2006,
          2007,
          2008,
          2009,
          2010,
          2011,
          2012,
          2013,
          2014,
          2015,
          2016,
          2017,
          2018,
          2019,
          2020
         ],
         "xaxis": "x",
         "y": [
          5.5,
          5.6,
          6.1,
          6.9,
          7.1,
          7.3,
          7.4,
          8.3,
          null,
          6.6,
          6.9,
          6.7,
          6.4,
          5.6,
          5.4,
          5.6,
          7.1
         ],
         "yaxis": "y"
        },
        {
         "hovertemplate": "state=New Jersey<br>year=%{x}<br>value=%{y}<extra></extra>",
         "legendgroup": "New Jersey",
         "line": {
          "color": "#636efa",
          "dash": "solid"
         },
         "marker": {
          "symbol": "circle"
         },
         "mode": "lines",
         "name": "New Jersey",
         "orientation": "v",
         "showlegend": true,
         "type": "scatter",
         "x": [
          2004,
          2005,
          2006,
          2007,
          2008,
          2009,
          2010,
          2011,
          2012,
          2013,
          2014,
          2015,
          2016,
          2017,
          2018,
          2019,
          2020
         ],
         "xaxis": "x",
         "y": [
          7.9,
          8.1,
          8.9,
          9.1,
          9.9,
          10.6,
          10.6,
          10.6,
          null,
          10.8,
          10.7,
          9.7,
          9.1,
          8.2,
          7.6,
          7.3,
          8.2
         ],
         "yaxis": "y"
        },
        {
         "hovertemplate": "state=New Mexico<br>year=%{x}<br>value=%{y}<extra></extra>",
         "legendgroup": "New Mexico",
         "line": {
          "color": "#EF553B",
          "dash": "solid"
         },
         "marker": {
          "symbol": "circle"
         },
         "mode": "lines",
         "name": "New Mexico",
         "orientation": "v",
         "showlegend": true,
         "type": "scatter",
         "x": [
          2004,
          2005,
          2006,
          2007,
          2008,
          2009,
          2010,
          2011,
          2012,
          2013,
          2014,
          2015,
          2016,
          2017,
          2018,
          2019,
          2020
         ],
         "xaxis": "x",
         "y": [
          17.1,
          16.3,
          16.7,
          17.6,
          19,
          19.9,
          20.3,
          21.4,
          null,
          21.8,
          19.1,
          18.7,
          18.7,
          17.2,
          16.2,
          16.7,
          18.3
         ],
         "yaxis": "y"
        },
        {
         "hovertemplate": "state=New York<br>year=%{x}<br>value=%{y}<extra></extra>",
         "legendgroup": "New York",
         "line": {
          "color": "#00cc96",
          "dash": "solid"
         },
         "marker": {
          "symbol": "circle"
         },
         "mode": "lines",
         "name": "New York",
         "orientation": "v",
         "showlegend": true,
         "type": "scatter",
         "x": [
          2004,
          2005,
          2006,
          2007,
          2008,
          2009,
          2010,
          2011,
          2012,
          2013,
          2014,
          2015,
          2016,
          2017,
          2018,
          2019,
          2020
         ],
         "xaxis": "x",
         "y": [
          14.5,
          14.4,
          14.2,
          14.8,
          15.3,
          15.9,
          16.4,
          15.9,
          null,
          15.1,
          13.4,
          13.2,
          11.8,
          12.1,
          11.8,
          12.3,
          12.4
         ],
         "yaxis": "y"
        },
        {
         "hovertemplate": "state=North Carolina<br>year=%{x}<br>value=%{y}<extra></extra>",
         "legendgroup": "North Carolina",
         "line": {
          "color": "#ab63fa",
          "dash": "solid"
         },
         "marker": {
          "symbol": "circle"
         },
         "mode": "lines",
         "name": "North Carolina",
         "orientation": "v",
         "showlegend": true,
         "type": "scatter",
         "x": [
          2004,
          2005,
          2006,
          2007,
          2008,
          2009,
          2010,
          2011,
          2012,
          2013,
          2014,
          2015,
          2016,
          2017,
          2018,
          2019,
          2020
         ],
         "xaxis": "x",
         "y": [
          13.8,
          14.2,
          14.4,
          15.4,
          16.1,
          16.6,
          16.7,
          17.1,
          null,
          15.7,
          15.3,
          14.4,
          14.1,
          13.6,
          13.2,
          12.8,
          13.3
         ],
         "yaxis": "y"
        },
        {
         "hovertemplate": "state=North Dakota<br>year=%{x}<br>value=%{y}<extra></extra>",
         "legendgroup": "North Dakota",
         "line": {
          "color": "#FFA15A",
          "dash": "solid"
         },
         "marker": {
          "symbol": "circle"
         },
         "mode": "lines",
         "name": "North Dakota",
         "orientation": "v",
         "showlegend": true,
         "type": "scatter",
         "x": [
          2004,
          2005,
          2006,
          2007,
          2008,
          2009,
          2010,
          2011,
          2012,
          2013,
          2014,
          2015,
          2016,
          2017,
          2018,
          2019,
          2020
         ],
         "xaxis": "x",
         "y": [
          10.7,
          10.6,
          10.8,
          10.7,
          11.8,
          11.2,
          11.3,
          10.4,
          null,
          11.2,
          10.5,
          11,
          10.9,
          10.1,
          9.5,
          9.1,
          9.6
         ],
         "yaxis": "y"
        },
        {
         "hovertemplate": "state=Ohio<br>year=%{x}<br>value=%{y}<extra></extra>",
         "legendgroup": "Ohio",
         "line": {
          "color": "#19d3f3",
          "dash": "solid"
         },
         "marker": {
          "symbol": "circle"
         },
         "mode": "lines",
         "name": "Ohio",
         "orientation": "v",
         "showlegend": true,
         "type": "scatter",
         "x": [
          2004,
          2005,
          2006,
          2007,
          2008,
          2009,
          2010,
          2011,
          2012,
          2013,
          2014,
          2015,
          2016,
          2017,
          2018,
          2019,
          2020
         ],
         "xaxis": "x",
         "y": [
          12,
          12.4,
          12.9,
          13.3,
          14.1,
          14.6,
          15.3,
          14.7,
          null,
          14.7,
          14.3,
          13.3,
          12.8,
          12.4,
          12.3,
          12.2,
          11.4
         ],
         "yaxis": "y"
        },
        {
         "hovertemplate": "state=Oklahoma<br>year=%{x}<br>value=%{y}<extra></extra>",
         "legendgroup": "Oklahoma",
         "line": {
          "color": "#FF6692",
          "dash": "solid"
         },
         "marker": {
          "symbol": "circle"
         },
         "mode": "lines",
         "name": "Oklahoma",
         "orientation": "v",
         "showlegend": true,
         "type": "scatter",
         "x": [
          2004,
          2005,
          2006,
          2007,
          2008,
          2009,
          2010,
          2011,
          2012,
          2013,
          2014,
          2015,
          2016,
          2017,
          2018,
          2019,
          2020
         ],
         "xaxis": "x",
         "y": [
          13.9,
          14.7,
          14.1,
          13.3,
          14.3,
          14.4,
          16.1,
          15.3,
          null,
          17.5,
          15.3,
          13.8,
          14,
          12.4,
          13.3,
          13.8,
          15.8
         ],
         "yaxis": "y"
        },
        {
         "hovertemplate": "state=Oregon<br>year=%{x}<br>value=%{y}<extra></extra>",
         "legendgroup": "Oregon",
         "line": {
          "color": "#B6E880",
          "dash": "solid"
         },
         "marker": {
          "symbol": "circle"
         },
         "mode": "lines",
         "name": "Oregon",
         "orientation": "v",
         "showlegend": true,
         "type": "scatter",
         "x": [
          2004,
          2005,
          2006,
          2007,
          2008,
          2009,
          2010,
          2011,
          2012,
          2013,
          2014,
          2015,
          2016,
          2017,
          2018,
          2019,
          2020
         ],
         "xaxis": "x",
         "y": [
          11.9,
          12.2,
          11.7,
          12.2,
          12.7,
          14,
          14.1,
          14.3,
          null,
          13.4,
          12.7,
          11.3,
          10.6,
          9.8,
          9.1,
          8.9,
          9.5
         ],
         "yaxis": "y"
        },
        {
         "hovertemplate": "state=Pennsylvania<br>year=%{x}<br>value=%{y}<extra></extra>",
         "legendgroup": "Pennsylvania",
         "line": {
          "color": "#FF97FF",
          "dash": "solid"
         },
         "marker": {
          "symbol": "circle"
         },
         "mode": "lines",
         "name": "Pennsylvania",
         "orientation": "v",
         "showlegend": true,
         "type": "scatter",
         "x": [
          2004,
          2005,
          2006,
          2007,
          2008,
          2009,
          2010,
          2011,
          2012,
          2013,
          2014,
          2015,
          2016,
          2017,
          2018,
          2019,
          2020
         ],
         "xaxis": "x",
         "y": [
          11.3,
          11,
          10.9,
          10.8,
          11.4,
          12,
          12.9,
          13,
          null,
          12,
          12,
          11.5,
          11.5,
          10.5,
          10.4,
          10,
          10.8
         ],
         "yaxis": "y"
        },
        {
         "hovertemplate": "state=Rhode Island<br>year=%{x}<br>value=%{y}<extra></extra>",
         "legendgroup": "Rhode Island",
         "line": {
          "color": "#FECB52",
          "dash": "solid"
         },
         "marker": {
          "symbol": "circle"
         },
         "mode": "lines",
         "name": "Rhode Island",
         "orientation": "v",
         "showlegend": true,
         "type": "scatter",
         "x": [
          2004,
          2005,
          2006,
          2007,
          2008,
          2009,
          2010,
          2011,
          2012,
          2013,
          2014,
          2015,
          2016,
          2017,
          2018,
          2019,
          2020
         ],
         "xaxis": "x",
         "y": [
          11.3,
          10.7,
          10.9,
          11.7,
          13.2,
          13.5,
          13.7,
          13.5,
          null,
          10.8,
          11.5,
          11.8,
          10.3,
          9.8,
          8.9,
          9,
          8.8
         ],
         "yaxis": "y"
        },
        {
         "hovertemplate": "state=South Carolina<br>year=%{x}<br>value=%{y}<extra></extra>",
         "legendgroup": "South Carolina",
         "line": {
          "color": "#636efa",
          "dash": "solid"
         },
         "marker": {
          "symbol": "circle"
         },
         "mode": "lines",
         "name": "South Carolina",
         "orientation": "v",
         "showlegend": true,
         "type": "scatter",
         "x": [
          2004,
          2005,
          2006,
          2007,
          2008,
          2009,
          2010,
          2011,
          2012,
          2013,
          2014,
          2015,
          2016,
          2017,
          2018,
          2019,
          2020
         ],
         "xaxis": "x",
         "y": [
          13.7,
          13.4,
          13.1,
          13.9,
          14.9,
          16.6,
          17.5,
          17.2,
          null,
          16.7,
          14.9,
          14.6,
          14.1,
          14.4,
          13.7,
          14,
          13.3
         ],
         "yaxis": "y"
        },
        {
         "hovertemplate": "state=South Dakota<br>year=%{x}<br>value=%{y}<extra></extra>",
         "legendgroup": "South Dakota",
         "line": {
          "color": "#EF553B",
          "dash": "solid"
         },
         "marker": {
          "symbol": "circle"
         },
         "mode": "lines",
         "name": "South Dakota",
         "orientation": "v",
         "showlegend": true,
         "type": "scatter",
         "x": [
          2004,
          2005,
          2006,
          2007,
          2008,
          2009,
          2010,
          2011,
          2012,
          2013,
          2014,
          2015,
          2016,
          2017,
          2018,
          2019,
          2020
         ],
         "xaxis": "x",
         "y": [
          12,
          10.6,
          11.1,
          12.2,
          13.6,
          14.1,
          13.6,
          12.5,
          null,
          13.3,
          13.7,
          12.9,
          11.8,
          10.6,
          11,
          10.2,
          9.7
         ],
         "yaxis": "y"
        },
        {
         "hovertemplate": "state=Tennessee<br>year=%{x}<br>value=%{y}<extra></extra>",
         "legendgroup": "Tennessee",
         "line": {
          "color": "#00cc96",
          "dash": "solid"
         },
         "marker": {
          "symbol": "circle"
         },
         "mode": "lines",
         "name": "Tennessee",
         "orientation": "v",
         "showlegend": true,
         "type": "scatter",
         "x": [
          2004,
          2005,
          2006,
          2007,
          2008,
          2009,
          2010,
          2011,
          2012,
          2013,
          2014,
          2015,
          2016,
          2017,
          2018,
          2019,
          2020
         ],
         "xaxis": "x",
         "y": [
          15.2,
          14.8,
          14.9,
          15.4,
          16.1,
          16.5,
          17.2,
          17.7,
          null,
          15.8,
          15.6,
          13.7,
          12.6,
          12.1,
          12.7,
          12.3,
          11.4
         ],
         "yaxis": "y"
        },
        {
         "hovertemplate": "state=Texas<br>year=%{x}<br>value=%{y}<extra></extra>",
         "legendgroup": "Texas",
         "line": {
          "color": "#ab63fa",
          "dash": "solid"
         },
         "marker": {
          "symbol": "circle"
         },
         "mode": "lines",
         "name": "Texas",
         "orientation": "v",
         "showlegend": true,
         "type": "scatter",
         "x": [
          2004,
          2005,
          2006,
          2007,
          2008,
          2009,
          2010,
          2011,
          2012,
          2013,
          2014,
          2015,
          2016,
          2017,
          2018,
          2019,
          2020
         ],
         "xaxis": "x",
         "y": [
          16.4,
          16.4,
          16.3,
          16.6,
          17.2,
          17.7,
          17.6,
          17.1,
          null,
          16,
          14.9,
          14,
          13.7,
          12.6,
          12.9,
          12.9,
          13.7
         ],
         "yaxis": "y"
        },
        {
         "hovertemplate": "state=United States<br>year=%{x}<br>value=%{y}<extra></extra>",
         "legendgroup": "United States",
         "line": {
          "color": "#FFA15A",
          "dash": "solid"
         },
         "marker": {
          "symbol": "circle"
         },
         "mode": "lines",
         "name": "United States",
         "orientation": "v",
         "showlegend": true,
         "type": "scatter",
         "x": [
          2004,
          2005,
          2006,
          2007,
          2008,
          2009,
          2010,
          2011,
          2012,
          2013,
          2014,
          2015,
          2016,
          2017,
          2018,
          2019,
          2020
         ],
         "xaxis": "x",
         "y": [
          12.5,
          12.5,
          12.7,
          13.4,
          14.2,
          14.8,
          15,
          14.8,
          null,
          14.4,
          13.7,
          12.8,
          12.3,
          11.5,
          11.2,
          11.2,
          11.5
         ],
         "yaxis": "y"
        },
        {
         "hovertemplate": "state=Utah<br>year=%{x}<br>value=%{y}<extra></extra>",
         "legendgroup": "Utah",
         "line": {
          "color": "#19d3f3",
          "dash": "solid"
         },
         "marker": {
          "symbol": "circle"
         },
         "mode": "lines",
         "name": "Utah",
         "orientation": "v",
         "showlegend": true,
         "type": "scatter",
         "x": [
          2004,
          2005,
          2006,
          2007,
          2008,
          2009,
          2010,
          2011,
          2012,
          2013,
          2014,
          2015,
          2016,
          2017,
          2018,
          2019,
          2020
         ],
         "xaxis": "x",
         "y": [
          9.5,
          9.4,
          8.8,
          9,
          9.1,
          10.2,
          10.7,
          10.1,
          null,
          10.5,
          9.3,
          8.8,
          7.9,
          7.6,
          7.2,
          7.5,
          7.1
         ],
         "yaxis": "y"
        },
        {
         "hovertemplate": "state=Vermont<br>year=%{x}<br>value=%{y}<extra></extra>",
         "legendgroup": "Vermont",
         "line": {
          "color": "#FF6692",
          "dash": "solid"
         },
         "marker": {
          "symbol": "circle"
         },
         "mode": "lines",
         "name": "Vermont",
         "orientation": "v",
         "showlegend": true,
         "type": "scatter",
         "x": [
          2004,
          2005,
          2006,
          2007,
          2008,
          2009,
          2010,
          2011,
          2012,
          2013,
          2014,
          2015,
          2016,
          2017,
          2018,
          2019,
          2020
         ],
         "xaxis": "x",
         "y": [
          7.7,
          8.4,
          8.9,
          9.4,
          9.7,
          10.6,
          11.2,
          10.5,
          null,
          8.9,
          9.9,
          10.2,
          9.6,
          9,
          9,
          8.3,
          8.4
         ],
         "yaxis": "y"
        },
        {
         "hovertemplate": "state=Virginia<br>year=%{x}<br>value=%{y}<extra></extra>",
         "legendgroup": "Virginia",
         "line": {
          "color": "#B6E880",
          "dash": "solid"
         },
         "marker": {
          "symbol": "circle"
         },
         "mode": "lines",
         "name": "Virginia",
         "orientation": "v",
         "showlegend": true,
         "type": "scatter",
         "x": [
          2004,
          2005,
          2006,
          2007,
          2008,
          2009,
          2010,
          2011,
          2012,
          2013,
          2014,
          2015,
          2016,
          2017,
          2018,
          2019,
          2020
         ],
         "xaxis": "x",
         "y": [
          9.1,
          8.8,
          9.2,
          9.9,
          10.6,
          10.9,
          10.9,
          10.8,
          null,
          10.3,
          10.8,
          10.8,
          10.7,
          9.7,
          8.8,
          8.8,
          8.6
         ],
         "yaxis": "y"
        },
        {
         "hovertemplate": "state=Washington<br>year=%{x}<br>value=%{y}<extra></extra>",
         "legendgroup": "Washington",
         "line": {
          "color": "#FF97FF",
          "dash": "solid"
         },
         "marker": {
          "symbol": "circle"
         },
         "mode": "lines",
         "name": "Washington",
         "orientation": "v",
         "showlegend": true,
         "type": "scatter",
         "x": [
          2004,
          2005,
          2006,
          2007,
          2008,
          2009,
          2010,
          2011,
          2012,
          2013,
          2014,
          2015,
          2016,
          2017,
          2018,
          2019,
          2020
         ],
         "xaxis": "x",
         "y": [
          9.8,
          9.4,
          9.5,
          10.8,
          11.2,
          11.9,
          11.9,
          12,
          null,
          11.9,
          11.5,
          10.7,
          10.3,
          8.8,
          7.9,
          7.6,
          8.3
         ],
         "yaxis": "y"
        },
        {
         "hovertemplate": "state=West Virginia<br>year=%{x}<br>value=%{y}<extra></extra>",
         "legendgroup": "West Virginia",
         "line": {
          "color": "#FECB52",
          "dash": "solid"
         },
         "marker": {
          "symbol": "circle"
         },
         "mode": "lines",
         "name": "West Virginia",
         "orientation": "v",
         "showlegend": true,
         "type": "scatter",
         "x": [
          2004,
          2005,
          2006,
          2007,
          2008,
          2009,
          2010,
          2011,
          2012,
          2013,
          2014,
          2015,
          2016,
          2017,
          2018,
          2019,
          2020
         ],
         "xaxis": "x",
         "y": [
          15,
          15.2,
          14.9,
          15,
          15.7,
          16.7,
          17,
          17.2,
          null,
          18.3,
          17.7,
          16.6,
          17.2,
          15.6,
          14.6,
          15,
          15.5
         ],
         "yaxis": "y"
        },
        {
         "hovertemplate": "state=Wisconsin<br>year=%{x}<br>value=%{y}<extra></extra>",
         "legendgroup": "Wisconsin",
         "line": {
          "color": "#636efa",
          "dash": "solid"
         },
         "marker": {
          "symbol": "circle"
         },
         "mode": "lines",
         "name": "Wisconsin",
         "orientation": "v",
         "showlegend": true,
         "type": "scatter",
         "x": [
          2004,
          2005,
          2006,
          2007,
          2008,
          2009,
          2010,
          2011,
          2012,
          2013,
          2014,
          2015,
          2016,
          2017,
          2018,
          2019,
          2020
         ],
         "xaxis": "x",
         "y": [
          10.9,
          10.4,
          10.3,
          10.5,
          10.2,
          11.3,
          11.5,
          11.8,
          null,
          11.9,
          11,
          10.5,
          9.5,
          8.7,
          8.3,
          8.6,
          8
         ],
         "yaxis": "y"
        },
        {
         "hovertemplate": "state=Wyoming<br>year=%{x}<br>value=%{y}<extra></extra>",
         "legendgroup": "Wyoming",
         "line": {
          "color": "#EF553B",
          "dash": "solid"
         },
         "marker": {
          "symbol": "circle"
         },
         "mode": "lines",
         "name": "Wyoming",
         "orientation": "v",
         "showlegend": true,
         "type": "scatter",
         "x": [
          2004,
          2005,
          2006,
          2007,
          2008,
          2009,
          2010,
          2011,
          2012,
          2013,
          2014,
          2015,
          2016,
          2017,
          2018,
          2019,
          2020
         ],
         "xaxis": "x",
         "y": [
          10.2,
          10.5,
          10.3,
          10.1,
          9.6,
          9.8,
          10,
          10.7,
          null,
          10.3,
          10.1,
          11,
          11.4,
          10.5,
          9.4,
          9.4,
          8.7
         ],
         "yaxis": "y"
        }
       ],
       "layout": {
        "legend": {
         "title": {
          "text": "state"
         },
         "tracegroupgap": 0
        },
        "template": {
         "data": {
          "bar": [
           {
            "error_x": {
             "color": "#2a3f5f"
            },
            "error_y": {
             "color": "#2a3f5f"
            },
            "marker": {
             "line": {
              "color": "#E5ECF6",
              "width": 0.5
             },
             "pattern": {
              "fillmode": "overlay",
              "size": 10,
              "solidity": 0.2
             }
            },
            "type": "bar"
           }
          ],
          "barpolar": [
           {
            "marker": {
             "line": {
              "color": "#E5ECF6",
              "width": 0.5
             },
             "pattern": {
              "fillmode": "overlay",
              "size": 10,
              "solidity": 0.2
             }
            },
            "type": "barpolar"
           }
          ],
          "carpet": [
           {
            "aaxis": {
             "endlinecolor": "#2a3f5f",
             "gridcolor": "white",
             "linecolor": "white",
             "minorgridcolor": "white",
             "startlinecolor": "#2a3f5f"
            },
            "baxis": {
             "endlinecolor": "#2a3f5f",
             "gridcolor": "white",
             "linecolor": "white",
             "minorgridcolor": "white",
             "startlinecolor": "#2a3f5f"
            },
            "type": "carpet"
           }
          ],
          "choropleth": [
           {
            "colorbar": {
             "outlinewidth": 0,
             "ticks": ""
            },
            "type": "choropleth"
           }
          ],
          "contour": [
           {
            "colorbar": {
             "outlinewidth": 0,
             "ticks": ""
            },
            "colorscale": [
             [
              0,
              "#0d0887"
             ],
             [
              0.1111111111111111,
              "#46039f"
             ],
             [
              0.2222222222222222,
              "#7201a8"
             ],
             [
              0.3333333333333333,
              "#9c179e"
             ],
             [
              0.4444444444444444,
              "#bd3786"
             ],
             [
              0.5555555555555556,
              "#d8576b"
             ],
             [
              0.6666666666666666,
              "#ed7953"
             ],
             [
              0.7777777777777778,
              "#fb9f3a"
             ],
             [
              0.8888888888888888,
              "#fdca26"
             ],
             [
              1,
              "#f0f921"
             ]
            ],
            "type": "contour"
           }
          ],
          "contourcarpet": [
           {
            "colorbar": {
             "outlinewidth": 0,
             "ticks": ""
            },
            "type": "contourcarpet"
           }
          ],
          "heatmap": [
           {
            "colorbar": {
             "outlinewidth": 0,
             "ticks": ""
            },
            "colorscale": [
             [
              0,
              "#0d0887"
             ],
             [
              0.1111111111111111,
              "#46039f"
             ],
             [
              0.2222222222222222,
              "#7201a8"
             ],
             [
              0.3333333333333333,
              "#9c179e"
             ],
             [
              0.4444444444444444,
              "#bd3786"
             ],
             [
              0.5555555555555556,
              "#d8576b"
             ],
             [
              0.6666666666666666,
              "#ed7953"
             ],
             [
              0.7777777777777778,
              "#fb9f3a"
             ],
             [
              0.8888888888888888,
              "#fdca26"
             ],
             [
              1,
              "#f0f921"
             ]
            ],
            "type": "heatmap"
           }
          ],
          "heatmapgl": [
           {
            "colorbar": {
             "outlinewidth": 0,
             "ticks": ""
            },
            "colorscale": [
             [
              0,
              "#0d0887"
             ],
             [
              0.1111111111111111,
              "#46039f"
             ],
             [
              0.2222222222222222,
              "#7201a8"
             ],
             [
              0.3333333333333333,
              "#9c179e"
             ],
             [
              0.4444444444444444,
              "#bd3786"
             ],
             [
              0.5555555555555556,
              "#d8576b"
             ],
             [
              0.6666666666666666,
              "#ed7953"
             ],
             [
              0.7777777777777778,
              "#fb9f3a"
             ],
             [
              0.8888888888888888,
              "#fdca26"
             ],
             [
              1,
              "#f0f921"
             ]
            ],
            "type": "heatmapgl"
           }
          ],
          "histogram": [
           {
            "marker": {
             "pattern": {
              "fillmode": "overlay",
              "size": 10,
              "solidity": 0.2
             }
            },
            "type": "histogram"
           }
          ],
          "histogram2d": [
           {
            "colorbar": {
             "outlinewidth": 0,
             "ticks": ""
            },
            "colorscale": [
             [
              0,
              "#0d0887"
             ],
             [
              0.1111111111111111,
              "#46039f"
             ],
             [
              0.2222222222222222,
              "#7201a8"
             ],
             [
              0.3333333333333333,
              "#9c179e"
             ],
             [
              0.4444444444444444,
              "#bd3786"
             ],
             [
              0.5555555555555556,
              "#d8576b"
             ],
             [
              0.6666666666666666,
              "#ed7953"
             ],
             [
              0.7777777777777778,
              "#fb9f3a"
             ],
             [
              0.8888888888888888,
              "#fdca26"
             ],
             [
              1,
              "#f0f921"
             ]
            ],
            "type": "histogram2d"
           }
          ],
          "histogram2dcontour": [
           {
            "colorbar": {
             "outlinewidth": 0,
             "ticks": ""
            },
            "colorscale": [
             [
              0,
              "#0d0887"
             ],
             [
              0.1111111111111111,
              "#46039f"
             ],
             [
              0.2222222222222222,
              "#7201a8"
             ],
             [
              0.3333333333333333,
              "#9c179e"
             ],
             [
              0.4444444444444444,
              "#bd3786"
             ],
             [
              0.5555555555555556,
              "#d8576b"
             ],
             [
              0.6666666666666666,
              "#ed7953"
             ],
             [
              0.7777777777777778,
              "#fb9f3a"
             ],
             [
              0.8888888888888888,
              "#fdca26"
             ],
             [
              1,
              "#f0f921"
             ]
            ],
            "type": "histogram2dcontour"
           }
          ],
          "mesh3d": [
           {
            "colorbar": {
             "outlinewidth": 0,
             "ticks": ""
            },
            "type": "mesh3d"
           }
          ],
          "parcoords": [
           {
            "line": {
             "colorbar": {
              "outlinewidth": 0,
              "ticks": ""
             }
            },
            "type": "parcoords"
           }
          ],
          "pie": [
           {
            "automargin": true,
            "type": "pie"
           }
          ],
          "scatter": [
           {
            "fillpattern": {
             "fillmode": "overlay",
             "size": 10,
             "solidity": 0.2
            },
            "type": "scatter"
           }
          ],
          "scatter3d": [
           {
            "line": {
             "colorbar": {
              "outlinewidth": 0,
              "ticks": ""
             }
            },
            "marker": {
             "colorbar": {
              "outlinewidth": 0,
              "ticks": ""
             }
            },
            "type": "scatter3d"
           }
          ],
          "scattercarpet": [
           {
            "marker": {
             "colorbar": {
              "outlinewidth": 0,
              "ticks": ""
             }
            },
            "type": "scattercarpet"
           }
          ],
          "scattergeo": [
           {
            "marker": {
             "colorbar": {
              "outlinewidth": 0,
              "ticks": ""
             }
            },
            "type": "scattergeo"
           }
          ],
          "scattergl": [
           {
            "marker": {
             "colorbar": {
              "outlinewidth": 0,
              "ticks": ""
             }
            },
            "type": "scattergl"
           }
          ],
          "scattermapbox": [
           {
            "marker": {
             "colorbar": {
              "outlinewidth": 0,
              "ticks": ""
             }
            },
            "type": "scattermapbox"
           }
          ],
          "scatterpolar": [
           {
            "marker": {
             "colorbar": {
              "outlinewidth": 0,
              "ticks": ""
             }
            },
            "type": "scatterpolar"
           }
          ],
          "scatterpolargl": [
           {
            "marker": {
             "colorbar": {
              "outlinewidth": 0,
              "ticks": ""
             }
            },
            "type": "scatterpolargl"
           }
          ],
          "scatterternary": [
           {
            "marker": {
             "colorbar": {
              "outlinewidth": 0,
              "ticks": ""
             }
            },
            "type": "scatterternary"
           }
          ],
          "surface": [
           {
            "colorbar": {
             "outlinewidth": 0,
             "ticks": ""
            },
            "colorscale": [
             [
              0,
              "#0d0887"
             ],
             [
              0.1111111111111111,
              "#46039f"
             ],
             [
              0.2222222222222222,
              "#7201a8"
             ],
             [
              0.3333333333333333,
              "#9c179e"
             ],
             [
              0.4444444444444444,
              "#bd3786"
             ],
             [
              0.5555555555555556,
              "#d8576b"
             ],
             [
              0.6666666666666666,
              "#ed7953"
             ],
             [
              0.7777777777777778,
              "#fb9f3a"
             ],
             [
              0.8888888888888888,
              "#fdca26"
             ],
             [
              1,
              "#f0f921"
             ]
            ],
            "type": "surface"
           }
          ],
          "table": [
           {
            "cells": {
             "fill": {
              "color": "#EBF0F8"
             },
             "line": {
              "color": "white"
             }
            },
            "header": {
             "fill": {
              "color": "#C8D4E3"
             },
             "line": {
              "color": "white"
             }
            },
            "type": "table"
           }
          ]
         },
         "layout": {
          "annotationdefaults": {
           "arrowcolor": "#2a3f5f",
           "arrowhead": 0,
           "arrowwidth": 1
          },
          "autotypenumbers": "strict",
          "coloraxis": {
           "colorbar": {
            "outlinewidth": 0,
            "ticks": ""
           }
          },
          "colorscale": {
           "diverging": [
            [
             0,
             "#8e0152"
            ],
            [
             0.1,
             "#c51b7d"
            ],
            [
             0.2,
             "#de77ae"
            ],
            [
             0.3,
             "#f1b6da"
            ],
            [
             0.4,
             "#fde0ef"
            ],
            [
             0.5,
             "#f7f7f7"
            ],
            [
             0.6,
             "#e6f5d0"
            ],
            [
             0.7,
             "#b8e186"
            ],
            [
             0.8,
             "#7fbc41"
            ],
            [
             0.9,
             "#4d9221"
            ],
            [
             1,
             "#276419"
            ]
           ],
           "sequential": [
            [
             0,
             "#0d0887"
            ],
            [
             0.1111111111111111,
             "#46039f"
            ],
            [
             0.2222222222222222,
             "#7201a8"
            ],
            [
             0.3333333333333333,
             "#9c179e"
            ],
            [
             0.4444444444444444,
             "#bd3786"
            ],
            [
             0.5555555555555556,
             "#d8576b"
            ],
            [
             0.6666666666666666,
             "#ed7953"
            ],
            [
             0.7777777777777778,
             "#fb9f3a"
            ],
            [
             0.8888888888888888,
             "#fdca26"
            ],
            [
             1,
             "#f0f921"
            ]
           ],
           "sequentialminus": [
            [
             0,
             "#0d0887"
            ],
            [
             0.1111111111111111,
             "#46039f"
            ],
            [
             0.2222222222222222,
             "#7201a8"
            ],
            [
             0.3333333333333333,
             "#9c179e"
            ],
            [
             0.4444444444444444,
             "#bd3786"
            ],
            [
             0.5555555555555556,
             "#d8576b"
            ],
            [
             0.6666666666666666,
             "#ed7953"
            ],
            [
             0.7777777777777778,
             "#fb9f3a"
            ],
            [
             0.8888888888888888,
             "#fdca26"
            ],
            [
             1,
             "#f0f921"
            ]
           ]
          },
          "colorway": [
           "#636efa",
           "#EF553B",
           "#00cc96",
           "#ab63fa",
           "#FFA15A",
           "#19d3f3",
           "#FF6692",
           "#B6E880",
           "#FF97FF",
           "#FECB52"
          ],
          "font": {
           "color": "#2a3f5f"
          },
          "geo": {
           "bgcolor": "white",
           "lakecolor": "white",
           "landcolor": "#E5ECF6",
           "showlakes": true,
           "showland": true,
           "subunitcolor": "white"
          },
          "hoverlabel": {
           "align": "left"
          },
          "hovermode": "closest",
          "mapbox": {
           "style": "light"
          },
          "paper_bgcolor": "white",
          "plot_bgcolor": "#E5ECF6",
          "polar": {
           "angularaxis": {
            "gridcolor": "white",
            "linecolor": "white",
            "ticks": ""
           },
           "bgcolor": "#E5ECF6",
           "radialaxis": {
            "gridcolor": "white",
            "linecolor": "white",
            "ticks": ""
           }
          },
          "scene": {
           "xaxis": {
            "backgroundcolor": "#E5ECF6",
            "gridcolor": "white",
            "gridwidth": 2,
            "linecolor": "white",
            "showbackground": true,
            "ticks": "",
            "zerolinecolor": "white"
           },
           "yaxis": {
            "backgroundcolor": "#E5ECF6",
            "gridcolor": "white",
            "gridwidth": 2,
            "linecolor": "white",
            "showbackground": true,
            "ticks": "",
            "zerolinecolor": "white"
           },
           "zaxis": {
            "backgroundcolor": "#E5ECF6",
            "gridcolor": "white",
            "gridwidth": 2,
            "linecolor": "white",
            "showbackground": true,
            "ticks": "",
            "zerolinecolor": "white"
           }
          },
          "shapedefaults": {
           "line": {
            "color": "#2a3f5f"
           }
          },
          "ternary": {
           "aaxis": {
            "gridcolor": "white",
            "linecolor": "white",
            "ticks": ""
           },
           "baxis": {
            "gridcolor": "white",
            "linecolor": "white",
            "ticks": ""
           },
           "bgcolor": "#E5ECF6",
           "caxis": {
            "gridcolor": "white",
            "linecolor": "white",
            "ticks": ""
           }
          },
          "title": {
           "x": 0.05
          },
          "xaxis": {
           "automargin": true,
           "gridcolor": "white",
           "linecolor": "white",
           "ticks": "",
           "title": {
            "standoff": 15
           },
           "zerolinecolor": "white",
           "zerolinewidth": 2
          },
          "yaxis": {
           "automargin": true,
           "gridcolor": "white",
           "linecolor": "white",
           "ticks": "",
           "title": {
            "standoff": 15
           },
           "zerolinecolor": "white",
           "zerolinewidth": 2
          }
         }
        },
        "title": {
         "text": "Poverty percentage in the US over the years"
        },
        "xaxis": {
         "anchor": "y",
         "domain": [
          0,
          1
         ],
         "title": {
          "text": "year"
         }
        },
        "yaxis": {
         "anchor": "x",
         "domain": [
          0,
          1
         ],
         "title": {
          "text": "value"
         }
        }
       }
      }
     },
     "metadata": {},
     "output_type": "display_data"
    }
   ],
   "source": [
    "fig = px.line(\n",
    "    poverty_df.pivot(index='year', columns='state', values='povertyPercentage'),\n",
    "    title='Poverty percentage in the US over the years')\n",
    "fig.show()"
   ]
  },
  {
   "cell_type": "markdown",
   "id": "02be6f3e",
   "metadata": {},
   "source": [
    "We can oberserve that New Hampshire always had the lowest poverty percentage, whereas Mississippi had the highest till 2009, then it was surpassed by New Mexico and Louisiana.\n",
    "\n",
    "To imputate the missing data from 2012, we calculate the average of the `povertyPercentage` values for the preceding and succeeding year."
   ]
  },
  {
   "cell_type": "code",
   "execution_count": 19,
   "id": "d9cfc6d3",
   "metadata": {},
   "outputs": [],
   "source": [
    "poverty_perc_2012 = poverty_df[poverty_df['year'].isin([2011, 2013])].groupby(['state'])['povertyPercentage'].mean()\n",
    "poverty_df['povertyPercentage'] = poverty_df.apply(\n",
    "    lambda x: poverty_perc_2012[x['state']] if x['year']==2012 else x['povertyPercentage'], axis=1\n",
    ")"
   ]
  },
  {
   "cell_type": "markdown",
   "id": "41c0ac84",
   "metadata": {},
   "source": [
    "Now we plot again the interactive line chart:"
   ]
  },
  {
   "cell_type": "code",
   "execution_count": 20,
   "id": "51db1868",
   "metadata": {},
   "outputs": [
    {
     "data": {
      "application/vnd.plotly.v1+json": {
       "config": {
        "plotlyServerURL": "https://plot.ly"
       },
       "data": [
        {
         "hovertemplate": "state=Alabama<br>year=%{x}<br>value=%{y}<extra></extra>",
         "legendgroup": "Alabama",
         "line": {
          "color": "#636efa",
          "dash": "solid"
         },
         "marker": {
          "symbol": "circle"
         },
         "mode": "lines",
         "name": "Alabama",
         "orientation": "v",
         "showlegend": true,
         "type": "scatter",
         "x": [
          2004,
          2005,
          2006,
          2007,
          2008,
          2009,
          2010,
          2011,
          2012,
          2013,
          2014,
          2015,
          2016,
          2017,
          2018,
          2019,
          2020
         ],
         "xaxis": "x",
         "y": [
          16,
          15.2,
          14.4,
          15.1,
          16,
          16.4,
          16.2,
          16.1,
          16.8,
          17.5,
          16.8,
          15.8,
          16,
          14.7,
          14.6,
          14.5,
          14.8
         ],
         "yaxis": "y"
        },
        {
         "hovertemplate": "state=Alaska<br>year=%{x}<br>value=%{y}<extra></extra>",
         "legendgroup": "Alaska",
         "line": {
          "color": "#EF553B",
          "dash": "solid"
         },
         "marker": {
          "symbol": "circle"
         },
         "mode": "lines",
         "name": "Alaska",
         "orientation": "v",
         "showlegend": true,
         "type": "scatter",
         "x": [
          2004,
          2005,
          2006,
          2007,
          2008,
          2009,
          2010,
          2011,
          2012,
          2013,
          2014,
          2015,
          2016,
          2017,
          2018,
          2019,
          2020
         ],
         "xaxis": "x",
         "y": [
          9.3,
          8.8,
          8.2,
          9.2,
          10.8,
          12,
          11.4,
          10.9,
          10.55,
          10.2,
          11.2,
          12.1,
          12.2,
          11.8,
          12.3,
          11.7,
          11.5
         ],
         "yaxis": "y"
        },
        {
         "hovertemplate": "state=Arizona<br>year=%{x}<br>value=%{y}<extra></extra>",
         "legendgroup": "Arizona",
         "line": {
          "color": "#00cc96",
          "dash": "solid"
         },
         "marker": {
          "symbol": "circle"
         },
         "mode": "lines",
         "name": "Arizona",
         "orientation": "v",
         "showlegend": true,
         "type": "scatter",
         "x": [
          2004,
          2005,
          2006,
          2007,
          2008,
          2009,
          2010,
          2011,
          2012,
          2013,
          2014,
          2015,
          2016,
          2017,
          2018,
          2019,
          2020
         ],
         "xaxis": "x",
         "y": [
          14.7,
          14.6,
          15.6,
          17.9,
          19.3,
          19.1,
          18.3,
          18.8,
          18.75,
          18.7,
          18.1,
          15.5,
          14.4,
          12.1,
          11.2,
          11.2,
          12.1
         ],
         "yaxis": "y"
        },
        {
         "hovertemplate": "state=Arkansas<br>year=%{x}<br>value=%{y}<extra></extra>",
         "legendgroup": "Arkansas",
         "line": {
          "color": "#ab63fa",
          "dash": "solid"
         },
         "marker": {
          "symbol": "circle"
         },
         "mode": "lines",
         "name": "Arkansas",
         "orientation": "v",
         "showlegend": true,
         "type": "scatter",
         "x": [
          2004,
          2005,
          2006,
          2007,
          2008,
          2009,
          2010,
          2011,
          2012,
          2013,
          2014,
          2015,
          2016,
          2017,
          2018,
          2019,
          2020
         ],
         "xaxis": "x",
         "y": [
          15.6,
          15.1,
          15.6,
          16,
          16.5,
          17.6,
          18,
          18.6,
          17.35,
          16.1,
          16.8,
          15.6,
          15.5,
          15,
          14.7,
          15.1,
          15.8
         ],
         "yaxis": "y"
        },
        {
         "hovertemplate": "state=California<br>year=%{x}<br>value=%{y}<extra></extra>",
         "legendgroup": "California",
         "line": {
          "color": "#FFA15A",
          "dash": "solid"
         },
         "marker": {
          "symbol": "circle"
         },
         "mode": "lines",
         "name": "California",
         "orientation": "v",
         "showlegend": true,
         "type": "scatter",
         "x": [
          2004,
          2005,
          2006,
          2007,
          2008,
          2009,
          2010,
          2011,
          2012,
          2013,
          2014,
          2015,
          2016,
          2017,
          2018,
          2019,
          2020
         ],
         "xaxis": "x",
         "y": [
          12.9,
          12.7,
          13.2,
          14.2,
          15.4,
          16.2,
          16.4,
          15.9,
          15.4,
          14.9,
          14.5,
          13.4,
          12.5,
          11.4,
          11,
          11,
          11.4
         ],
         "yaxis": "y"
        },
        {
         "hovertemplate": "state=Colorado<br>year=%{x}<br>value=%{y}<extra></extra>",
         "legendgroup": "Colorado",
         "line": {
          "color": "#19d3f3",
          "dash": "solid"
         },
         "marker": {
          "symbol": "circle"
         },
         "mode": "lines",
         "name": "Colorado",
         "orientation": "v",
         "showlegend": true,
         "type": "scatter",
         "x": [
          2004,
          2005,
          2006,
          2007,
          2008,
          2009,
          2010,
          2011,
          2012,
          2013,
          2014,
          2015,
          2016,
          2017,
          2018,
          2019,
          2020
         ],
         "xaxis": "x",
         "y": [
          10.4,
          10.3,
          10.2,
          11.1,
          11.9,
          12.6,
          12.5,
          11.9,
          11.45,
          11,
          10.2,
          8.7,
          8.9,
          9.1,
          9.3,
          8.9,
          8.5
         ],
         "yaxis": "y"
        },
        {
         "hovertemplate": "state=Connecticut<br>year=%{x}<br>value=%{y}<extra></extra>",
         "legendgroup": "Connecticut",
         "line": {
          "color": "#FF6692",
          "dash": "solid"
         },
         "marker": {
          "symbol": "circle"
         },
         "mode": "lines",
         "name": "Connecticut",
         "orientation": "v",
         "showlegend": true,
         "type": "scatter",
         "x": [
          2004,
          2005,
          2006,
          2007,
          2008,
          2009,
          2010,
          2011,
          2012,
          2013,
          2014,
          2015,
          2016,
          2017,
          2018,
          2019,
          2020
         ],
         "xaxis": "x",
         "y": [
          9.1,
          8.7,
          8.3,
          8.5,
          8.3,
          9,
          9.7,
          10.6,
          10.05,
          9.5,
          9.2,
          9.9,
          9.9,
          9.7,
          9.9,
          9.2,
          9.8
         ],
         "yaxis": "y"
        },
        {
         "hovertemplate": "state=Delaware<br>year=%{x}<br>value=%{y}<extra></extra>",
         "legendgroup": "Delaware",
         "line": {
          "color": "#B6E880",
          "dash": "solid"
         },
         "marker": {
          "symbol": "circle"
         },
         "mode": "lines",
         "name": "Delaware",
         "orientation": "v",
         "showlegend": true,
         "type": "scatter",
         "x": [
          2004,
          2005,
          2006,
          2007,
          2008,
          2009,
          2010,
          2011,
          2012,
          2013,
          2014,
          2015,
          2016,
          2017,
          2018,
          2019,
          2020
         ],
         "xaxis": "x",
         "y": [
          9.2,
          9.3,
          9.4,
          10.4,
          11.4,
          12.7,
          13.1,
          13.7,
          12.399999999999999,
          11.1,
          11.2,
          10.6,
          9.6,
          7.6,
          8.1,
          9.6,
          10.5
         ],
         "yaxis": "y"
        },
        {
         "hovertemplate": "state=District of Columbia<br>year=%{x}<br>value=%{y}<extra></extra>",
         "legendgroup": "District of Columbia",
         "line": {
          "color": "#FF97FF",
          "dash": "solid"
         },
         "marker": {
          "symbol": "circle"
         },
         "mode": "lines",
         "name": "District of Columbia",
         "orientation": "v",
         "showlegend": true,
         "type": "scatter",
         "x": [
          2004,
          2005,
          2006,
          2007,
          2008,
          2009,
          2010,
          2011,
          2012,
          2013,
          2014,
          2015,
          2016,
          2017,
          2018,
          2019,
          2020
         ],
         "xaxis": "x",
         "y": [
          18.8,
          19.1,
          17.6,
          17.5,
          18,
          19.1,
          19.3,
          19.9,
          19.75,
          19.6,
          17.3,
          15.5,
          14.9,
          13.7,
          14.7,
          14.4,
          14.7
         ],
         "yaxis": "y"
        },
        {
         "hovertemplate": "state=Florida<br>year=%{x}<br>value=%{y}<extra></extra>",
         "legendgroup": "Florida",
         "line": {
          "color": "#FECB52",
          "dash": "solid"
         },
         "marker": {
          "symbol": "circle"
         },
         "mode": "lines",
         "name": "Florida",
         "orientation": "v",
         "showlegend": true,
         "type": "scatter",
         "x": [
          2004,
          2005,
          2006,
          2007,
          2008,
          2009,
          2010,
          2011,
          2012,
          2013,
          2014,
          2015,
          2016,
          2017,
          2018,
          2019,
          2020
         ],
         "xaxis": "x",
         "y": [
          11.4,
          11.7,
          12.4,
          13.4,
          14.6,
          15.2,
          15.4,
          15,
          15.45,
          15.9,
          15.2,
          14.3,
          13.6,
          12.8,
          12.8,
          12.5,
          13.1
         ],
         "yaxis": "y"
        },
        {
         "hovertemplate": "state=Georgia<br>year=%{x}<br>value=%{y}<extra></extra>",
         "legendgroup": "Georgia",
         "line": {
          "color": "#636efa",
          "dash": "solid"
         },
         "marker": {
          "symbol": "circle"
         },
         "mode": "lines",
         "name": "Georgia",
         "orientation": "v",
         "showlegend": true,
         "type": "scatter",
         "x": [
          2004,
          2005,
          2006,
          2007,
          2008,
          2009,
          2010,
          2011,
          2012,
          2013,
          2014,
          2015,
          2016,
          2017,
          2018,
          2019,
          2020
         ],
         "xaxis": "x",
         "y": [
          13.3,
          13.5,
          13.9,
          15.8,
          17.6,
          18.5,
          18.4,
          17.6,
          17.700000000000003,
          17.8,
          16.8,
          15.6,
          14.7,
          13.3,
          13.4,
          13.1,
          13
         ],
         "yaxis": "y"
        },
        {
         "hovertemplate": "state=Hawaii<br>year=%{x}<br>value=%{y}<extra></extra>",
         "legendgroup": "Hawaii",
         "line": {
          "color": "#EF553B",
          "dash": "solid"
         },
         "marker": {
          "symbol": "circle"
         },
         "mode": "lines",
         "name": "Hawaii",
         "orientation": "v",
         "showlegend": true,
         "type": "scatter",
         "x": [
          2004,
          2005,
          2006,
          2007,
          2008,
          2009,
          2010,
          2011,
          2012,
          2013,
          2014,
          2015,
          2016,
          2017,
          2018,
          2019,
          2020
         ],
         "xaxis": "x",
         "y": [
          8.8,
          8.4,
          8.9,
          9.9,
          11.6,
          12.3,
          12.8,
          12.3,
          11.55,
          10.8,
          10.3,
          10.2,
          9.5,
          9.4,
          9.5,
          10.1,
          10.2
         ],
         "yaxis": "y"
        },
        {
         "hovertemplate": "state=Idaho<br>year=%{x}<br>value=%{y}<extra></extra>",
         "legendgroup": "Idaho",
         "line": {
          "color": "#00cc96",
          "dash": "solid"
         },
         "marker": {
          "symbol": "circle"
         },
         "mode": "lines",
         "name": "Idaho",
         "orientation": "v",
         "showlegend": true,
         "type": "scatter",
         "x": [
          2004,
          2005,
          2006,
          2007,
          2008,
          2009,
          2010,
          2011,
          2012,
          2013,
          2014,
          2015,
          2016,
          2017,
          2018,
          2019,
          2020
         ],
         "xaxis": "x",
         "y": [
          9.8,
          9.8,
          10.6,
          12,
          13.2,
          14.4,
          14.7,
          14.4,
          13.4,
          12.4,
          11.9,
          11.7,
          11.3,
          10,
          9.2,
          8.5,
          8.9
         ],
         "yaxis": "y"
        },
        {
         "hovertemplate": "state=Illinois<br>year=%{x}<br>value=%{y}<extra></extra>",
         "legendgroup": "Illinois",
         "line": {
          "color": "#ab63fa",
          "dash": "solid"
         },
         "marker": {
          "symbol": "circle"
         },
         "mode": "lines",
         "name": "Illinois",
         "orientation": "v",
         "showlegend": true,
         "type": "scatter",
         "x": [
          2004,
          2005,
          2006,
          2007,
          2008,
          2009,
          2010,
          2011,
          2012,
          2013,
          2014,
          2015,
          2016,
          2017,
          2018,
          2019,
          2020
         ],
         "xaxis": "x",
         "y": [
          11.4,
          10.7,
          11,
          11.8,
          13.2,
          13.8,
          13.6,
          13.4,
          13.05,
          12.7,
          12.2,
          11.3,
          10.9,
          10.4,
          9.2,
          9.3,
          9.4
         ],
         "yaxis": "y"
        },
        {
         "hovertemplate": "state=Indiana<br>year=%{x}<br>value=%{y}<extra></extra>",
         "legendgroup": "Indiana",
         "line": {
          "color": "#FFA15A",
          "dash": "solid"
         },
         "marker": {
          "symbol": "circle"
         },
         "mode": "lines",
         "name": "Indiana",
         "orientation": "v",
         "showlegend": true,
         "type": "scatter",
         "x": [
          2004,
          2005,
          2006,
          2007,
          2008,
          2009,
          2010,
          2011,
          2012,
          2013,
          2014,
          2015,
          2016,
          2017,
          2018,
          2019,
          2020
         ],
         "xaxis": "x",
         "y": [
          11.6,
          11.7,
          12.3,
          14.1,
          15.6,
          16,
          15.7,
          14.1,
          14.5,
          14.9,
          13.3,
          12.3,
          11.8,
          11.1,
          11.2,
          10.8,
          10.9
         ],
         "yaxis": "y"
        },
        {
         "hovertemplate": "state=Iowa<br>year=%{x}<br>value=%{y}<extra></extra>",
         "legendgroup": "Iowa",
         "line": {
          "color": "#19d3f3",
          "dash": "solid"
         },
         "marker": {
          "symbol": "circle"
         },
         "mode": "lines",
         "name": "Iowa",
         "orientation": "v",
         "showlegend": true,
         "type": "scatter",
         "x": [
          2004,
          2005,
          2006,
          2007,
          2008,
          2009,
          2010,
          2011,
          2012,
          2013,
          2014,
          2015,
          2016,
          2017,
          2018,
          2019,
          2020
         ],
         "xaxis": "x",
         "y": [
          10.8,
          10.2,
          9.6,
          9.7,
          10.2,
          10.5,
          10.3,
          10.5,
          10.9,
          11.3,
          10.1,
          9.7,
          9.2,
          8.7,
          9.2,
          9.5,
          9.4
         ],
         "yaxis": "y"
        },
        {
         "hovertemplate": "state=Kansas<br>year=%{x}<br>value=%{y}<extra></extra>",
         "legendgroup": "Kansas",
         "line": {
          "color": "#FF6692",
          "dash": "solid"
         },
         "marker": {
          "symbol": "circle"
         },
         "mode": "lines",
         "name": "Kansas",
         "orientation": "v",
         "showlegend": true,
         "type": "scatter",
         "x": [
          2004,
          2005,
          2006,
          2007,
          2008,
          2009,
          2010,
          2011,
          2012,
          2013,
          2014,
          2015,
          2016,
          2017,
          2018,
          2019,
          2020
         ],
         "xaxis": "x",
         "y": [
          12.2,
          12.3,
          12.4,
          12.7,
          13.6,
          14.2,
          14.3,
          13.8,
          13.2,
          12.6,
          12.5,
          13.4,
          10.8,
          10.4,
          8.7,
          8.6,
          8.9
         ],
         "yaxis": "y"
        },
        {
         "hovertemplate": "state=Kentucky<br>year=%{x}<br>value=%{y}<extra></extra>",
         "legendgroup": "Kentucky",
         "line": {
          "color": "#B6E880",
          "dash": "solid"
         },
         "marker": {
          "symbol": "circle"
         },
         "mode": "lines",
         "name": "Kentucky",
         "orientation": "v",
         "showlegend": true,
         "type": "scatter",
         "x": [
          2004,
          2005,
          2006,
          2007,
          2008,
          2009,
          2010,
          2011,
          2012,
          2013,
          2014,
          2015,
          2016,
          2017,
          2018,
          2019,
          2020
         ],
         "xaxis": "x",
         "y": [
          16.5,
          15.7,
          16.5,
          16.5,
          17.2,
          16.9,
          17.2,
          18,
          19.25,
          20.5,
          18.2,
          16.4,
          15.3,
          14.2,
          14.4,
          14.6,
          15.8
         ],
         "yaxis": "y"
        },
        {
         "hovertemplate": "state=Louisiana<br>year=%{x}<br>value=%{y}<extra></extra>",
         "legendgroup": "Louisiana",
         "line": {
          "color": "#FF97FF",
          "dash": "solid"
         },
         "marker": {
          "symbol": "circle"
         },
         "mode": "lines",
         "name": "Louisiana",
         "orientation": "v",
         "showlegend": true,
         "type": "scatter",
         "x": [
          2004,
          2005,
          2006,
          2007,
          2008,
          2009,
          2010,
          2011,
          2012,
          2013,
          2014,
          2015,
          2016,
          2017,
          2018,
          2019,
          2020
         ],
         "xaxis": "x",
         "y": [
          17.4,
          17.1,
          17.1,
          16.2,
          18,
          18.9,
          21.2,
          20.5,
          20.75,
          21,
          20.6,
          20,
          19.8,
          19.1,
          17.5,
          17.3,
          16.9
         ],
         "yaxis": "y"
        },
        {
         "hovertemplate": "state=Maine<br>year=%{x}<br>value=%{y}<extra></extra>",
         "legendgroup": "Maine",
         "line": {
          "color": "#FECB52",
          "dash": "solid"
         },
         "marker": {
          "symbol": "circle"
         },
         "mode": "lines",
         "name": "Maine",
         "orientation": "v",
         "showlegend": true,
         "type": "scatter",
         "x": [
          2004,
          2005,
          2006,
          2007,
          2008,
          2009,
          2010,
          2011,
          2012,
          2013,
          2014,
          2015,
          2016,
          2017,
          2018,
          2019,
          2020
         ],
         "xaxis": "x",
         "y": [
          11.5,
          11.2,
          11,
          11.4,
          12,
          12.5,
          13,
          12.8,
          12.8,
          12.8,
          13.2,
          12.3,
          12.6,
          11.5,
          10,
          9.2,
          8.9
         ],
         "yaxis": "y"
        },
        {
         "hovertemplate": "state=Maryland<br>year=%{x}<br>value=%{y}<extra></extra>",
         "legendgroup": "Maryland",
         "line": {
          "color": "#636efa",
          "dash": "solid"
         },
         "marker": {
          "symbol": "circle"
         },
         "mode": "lines",
         "name": "Maryland",
         "orientation": "v",
         "showlegend": true,
         "type": "scatter",
         "x": [
          2004,
          2005,
          2006,
          2007,
          2008,
          2009,
          2010,
          2011,
          2012,
          2013,
          2014,
          2015,
          2016,
          2017,
          2018,
          2019,
          2020
         ],
         "xaxis": "x",
         "y": [
          9.3,
          9,
          8.6,
          9,
          9.7,
          9.9,
          10,
          9.8,
          9.9,
          10,
          8.9,
          8.2,
          7.1,
          7.5,
          8.1,
          8,
          8.6
         ],
         "yaxis": "y"
        },
        {
         "hovertemplate": "state=Massachusetts<br>year=%{x}<br>value=%{y}<extra></extra>",
         "legendgroup": "Massachusetts",
         "line": {
          "color": "#EF553B",
          "dash": "solid"
         },
         "marker": {
          "symbol": "circle"
         },
         "mode": "lines",
         "name": "Massachusetts",
         "orientation": "v",
         "showlegend": true,
         "type": "scatter",
         "x": [
          2004,
          2005,
          2006,
          2007,
          2008,
          2009,
          2010,
          2011,
          2012,
          2013,
          2014,
          2015,
          2016,
          2017,
          2018,
          2019,
          2020
         ],
         "xaxis": "x",
         "y": [
          10.5,
          11.1,
          11.5,
          11.1,
          11,
          10.8,
          10.9,
          11.3,
          11.850000000000001,
          12.4,
          11.5,
          10.6,
          9.8,
          9.2,
          8.2,
          7.9,
          8.6
         ],
         "yaxis": "y"
        },
        {
         "hovertemplate": "state=Michigan<br>year=%{x}<br>value=%{y}<extra></extra>",
         "legendgroup": "Michigan",
         "line": {
          "color": "#00cc96",
          "dash": "solid"
         },
         "marker": {
          "symbol": "circle"
         },
         "mode": "lines",
         "name": "Michigan",
         "orientation": "v",
         "showlegend": true,
         "type": "scatter",
         "x": [
          2004,
          2005,
          2006,
          2007,
          2008,
          2009,
          2010,
          2011,
          2012,
          2013,
          2014,
          2015,
          2016,
          2017,
          2018,
          2019,
          2020
         ],
         "xaxis": "x",
         "y": [
          12.9,
          12,
          12.4,
          12.6,
          14.2,
          14.9,
          14.8,
          14.4,
          13.9,
          13.4,
          12.9,
          12.2,
          11,
          10.7,
          10.6,
          11,
          11.7
         ],
         "yaxis": "y"
        },
        {
         "hovertemplate": "state=Minnesota<br>year=%{x}<br>value=%{y}<extra></extra>",
         "legendgroup": "Minnesota",
         "line": {
          "color": "#ab63fa",
          "dash": "solid"
         },
         "marker": {
          "symbol": "circle"
         },
         "mode": "lines",
         "name": "Minnesota",
         "orientation": "v",
         "showlegend": true,
         "type": "scatter",
         "x": [
          2004,
          2005,
          2006,
          2007,
          2008,
          2009,
          2010,
          2011,
          2012,
          2013,
          2014,
          2015,
          2016,
          2017,
          2018,
          2019,
          2020
         ],
         "xaxis": "x",
         "y": [
          7.7,
          8.5,
          9.1,
          10.1,
          10.6,
          10.6,
          10.3,
          10.7,
          9.85,
          9,
          8.3,
          8.6,
          8.7,
          7.4,
          7.4,
          7,
          7.7
         ],
         "yaxis": "y"
        },
        {
         "hovertemplate": "state=Mississippi<br>year=%{x}<br>value=%{y}<extra></extra>",
         "legendgroup": "Mississippi",
         "line": {
          "color": "#FFA15A",
          "dash": "solid"
         },
         "marker": {
          "symbol": "circle"
         },
         "mode": "lines",
         "name": "Mississippi",
         "orientation": "v",
         "showlegend": true,
         "type": "scatter",
         "x": [
          2004,
          2005,
          2006,
          2007,
          2008,
          2009,
          2010,
          2011,
          2012,
          2013,
          2014,
          2015,
          2016,
          2017,
          2018,
          2019,
          2020
         ],
         "xaxis": "x",
         "y": [
          19.8,
          21.1,
          20.5,
          21.3,
          21.2,
          21,
          20.6,
          20.6,
          20.35,
          20.1,
          20.8,
          19.5,
          19.8,
          19.1,
          18.8,
          18.1,
          17.8
         ],
         "yaxis": "y"
        },
        {
         "hovertemplate": "state=Missouri<br>year=%{x}<br>value=%{y}<extra></extra>",
         "legendgroup": "Missouri",
         "line": {
          "color": "#19d3f3",
          "dash": "solid"
         },
         "marker": {
          "symbol": "circle"
         },
         "mode": "lines",
         "name": "Missouri",
         "orientation": "v",
         "showlegend": true,
         "type": "scatter",
         "x": [
          2004,
          2005,
          2006,
          2007,
          2008,
          2009,
          2010,
          2011,
          2012,
          2013,
          2014,
          2015,
          2016,
          2017,
          2018,
          2019,
          2020
         ],
         "xaxis": "x",
         "y": [
          11.7,
          11.9,
          12.5,
          13.9,
          14.6,
          15.3,
          15.2,
          14.8,
          13.7,
          12.6,
          11,
          11.3,
          11.9,
          11,
          10.8,
          10.8,
          11.5
         ],
         "yaxis": "y"
        },
        {
         "hovertemplate": "state=Montana<br>year=%{x}<br>value=%{y}<extra></extra>",
         "legendgroup": "Montana",
         "line": {
          "color": "#FF6692",
          "dash": "solid"
         },
         "marker": {
          "symbol": "circle"
         },
         "mode": "lines",
         "name": "Montana",
         "orientation": "v",
         "showlegend": true,
         "type": "scatter",
         "x": [
          2004,
          2005,
          2006,
          2007,
          2008,
          2009,
          2010,
          2011,
          2012,
          2013,
          2014,
          2015,
          2016,
          2017,
          2018,
          2019,
          2020
         ],
         "xaxis": "x",
         "y": [
          13.8,
          13.4,
          13.1,
          13.1,
          13.6,
          14.8,
          14.8,
          14.8,
          13.15,
          11.5,
          11.9,
          11.1,
          10.4,
          10.1,
          10.3,
          10.4,
          10.7
         ],
         "yaxis": "y"
        },
        {
         "hovertemplate": "state=Nebraska<br>year=%{x}<br>value=%{y}<extra></extra>",
         "legendgroup": "Nebraska",
         "line": {
          "color": "#B6E880",
          "dash": "solid"
         },
         "marker": {
          "symbol": "circle"
         },
         "mode": "lines",
         "name": "Nebraska",
         "orientation": "v",
         "showlegend": true,
         "type": "scatter",
         "x": [
          2004,
          2005,
          2006,
          2007,
          2008,
          2009,
          2010,
          2011,
          2012,
          2013,
          2014,
          2015,
          2016,
          2017,
          2018,
          2019,
          2020
         ],
         "xaxis": "x",
         "y": [
          9.7,
          9.9,
          10.2,
          10.1,
          10.2,
          10.1,
          10.9,
          11.2,
          11.05,
          10.9,
          10.6,
          10.1,
          10.4,
          10.3,
          9.2,
          8.4,
          8.1
         ],
         "yaxis": "y"
        },
        {
         "hovertemplate": "state=Nevada<br>year=%{x}<br>value=%{y}<extra></extra>",
         "legendgroup": "Nevada",
         "line": {
          "color": "#FF97FF",
          "dash": "solid"
         },
         "marker": {
          "symbol": "circle"
         },
         "mode": "lines",
         "name": "Nevada",
         "orientation": "v",
         "showlegend": true,
         "type": "scatter",
         "x": [
          2004,
          2005,
          2006,
          2007,
          2008,
          2009,
          2010,
          2011,
          2012,
          2013,
          2014,
          2015,
          2016,
          2017,
          2018,
          2019,
          2020
         ],
         "xaxis": "x",
         "y": [
          10.3,
          10,
          10,
          11.2,
          13.5,
          15,
          15.9,
          16.2,
          15.5,
          14.8,
          13.3,
          12.3,
          12.2,
          12.2,
          12.1,
          12.1,
          12.6
         ],
         "yaxis": "y"
        },
        {
         "hovertemplate": "state=New Hampshire<br>year=%{x}<br>value=%{y}<extra></extra>",
         "legendgroup": "New Hampshire",
         "line": {
          "color": "#FECB52",
          "dash": "solid"
         },
         "marker": {
          "symbol": "circle"
         },
         "mode": "lines",
         "name": "New Hampshire",
         "orientation": "v",
         "showlegend": true,
         "type": "scatter",
         "x": [
          2004,
          2005,
          2006,
          2007,
          2008,
          2009,
          2010,
          2011,
          2012,
          2013,
          2014,
          2015,
          2016,
          2017,
          2018,
          2019,
          2020
         ],
         "xaxis": "x",
         "y": [
          5.5,
          5.6,
          6.1,
          6.9,
          7.1,
          7.3,
          7.4,
          8.3,
          7.45,
          6.6,
          6.9,
          6.7,
          6.4,
          5.6,
          5.4,
          5.6,
          7.1
         ],
         "yaxis": "y"
        },
        {
         "hovertemplate": "state=New Jersey<br>year=%{x}<br>value=%{y}<extra></extra>",
         "legendgroup": "New Jersey",
         "line": {
          "color": "#636efa",
          "dash": "solid"
         },
         "marker": {
          "symbol": "circle"
         },
         "mode": "lines",
         "name": "New Jersey",
         "orientation": "v",
         "showlegend": true,
         "type": "scatter",
         "x": [
          2004,
          2005,
          2006,
          2007,
          2008,
          2009,
          2010,
          2011,
          2012,
          2013,
          2014,
          2015,
          2016,
          2017,
          2018,
          2019,
          2020
         ],
         "xaxis": "x",
         "y": [
          7.9,
          8.1,
          8.9,
          9.1,
          9.9,
          10.6,
          10.6,
          10.6,
          10.7,
          10.8,
          10.7,
          9.7,
          9.1,
          8.2,
          7.6,
          7.3,
          8.2
         ],
         "yaxis": "y"
        },
        {
         "hovertemplate": "state=New Mexico<br>year=%{x}<br>value=%{y}<extra></extra>",
         "legendgroup": "New Mexico",
         "line": {
          "color": "#EF553B",
          "dash": "solid"
         },
         "marker": {
          "symbol": "circle"
         },
         "mode": "lines",
         "name": "New Mexico",
         "orientation": "v",
         "showlegend": true,
         "type": "scatter",
         "x": [
          2004,
          2005,
          2006,
          2007,
          2008,
          2009,
          2010,
          2011,
          2012,
          2013,
          2014,
          2015,
          2016,
          2017,
          2018,
          2019,
          2020
         ],
         "xaxis": "x",
         "y": [
          17.1,
          16.3,
          16.7,
          17.6,
          19,
          19.9,
          20.3,
          21.4,
          21.6,
          21.8,
          19.1,
          18.7,
          18.7,
          17.2,
          16.2,
          16.7,
          18.3
         ],
         "yaxis": "y"
        },
        {
         "hovertemplate": "state=New York<br>year=%{x}<br>value=%{y}<extra></extra>",
         "legendgroup": "New York",
         "line": {
          "color": "#00cc96",
          "dash": "solid"
         },
         "marker": {
          "symbol": "circle"
         },
         "mode": "lines",
         "name": "New York",
         "orientation": "v",
         "showlegend": true,
         "type": "scatter",
         "x": [
          2004,
          2005,
          2006,
          2007,
          2008,
          2009,
          2010,
          2011,
          2012,
          2013,
          2014,
          2015,
          2016,
          2017,
          2018,
          2019,
          2020
         ],
         "xaxis": "x",
         "y": [
          14.5,
          14.4,
          14.2,
          14.8,
          15.3,
          15.9,
          16.4,
          15.9,
          15.5,
          15.1,
          13.4,
          13.2,
          11.8,
          12.1,
          11.8,
          12.3,
          12.4
         ],
         "yaxis": "y"
        },
        {
         "hovertemplate": "state=North Carolina<br>year=%{x}<br>value=%{y}<extra></extra>",
         "legendgroup": "North Carolina",
         "line": {
          "color": "#ab63fa",
          "dash": "solid"
         },
         "marker": {
          "symbol": "circle"
         },
         "mode": "lines",
         "name": "North Carolina",
         "orientation": "v",
         "showlegend": true,
         "type": "scatter",
         "x": [
          2004,
          2005,
          2006,
          2007,
          2008,
          2009,
          2010,
          2011,
          2012,
          2013,
          2014,
          2015,
          2016,
          2017,
          2018,
          2019,
          2020
         ],
         "xaxis": "x",
         "y": [
          13.8,
          14.2,
          14.4,
          15.4,
          16.1,
          16.6,
          16.7,
          17.1,
          16.4,
          15.7,
          15.3,
          14.4,
          14.1,
          13.6,
          13.2,
          12.8,
          13.3
         ],
         "yaxis": "y"
        },
        {
         "hovertemplate": "state=North Dakota<br>year=%{x}<br>value=%{y}<extra></extra>",
         "legendgroup": "North Dakota",
         "line": {
          "color": "#FFA15A",
          "dash": "solid"
         },
         "marker": {
          "symbol": "circle"
         },
         "mode": "lines",
         "name": "North Dakota",
         "orientation": "v",
         "showlegend": true,
         "type": "scatter",
         "x": [
          2004,
          2005,
          2006,
          2007,
          2008,
          2009,
          2010,
          2011,
          2012,
          2013,
          2014,
          2015,
          2016,
          2017,
          2018,
          2019,
          2020
         ],
         "xaxis": "x",
         "y": [
          10.7,
          10.6,
          10.8,
          10.7,
          11.8,
          11.2,
          11.3,
          10.4,
          10.8,
          11.2,
          10.5,
          11,
          10.9,
          10.1,
          9.5,
          9.1,
          9.6
         ],
         "yaxis": "y"
        },
        {
         "hovertemplate": "state=Ohio<br>year=%{x}<br>value=%{y}<extra></extra>",
         "legendgroup": "Ohio",
         "line": {
          "color": "#19d3f3",
          "dash": "solid"
         },
         "marker": {
          "symbol": "circle"
         },
         "mode": "lines",
         "name": "Ohio",
         "orientation": "v",
         "showlegend": true,
         "type": "scatter",
         "x": [
          2004,
          2005,
          2006,
          2007,
          2008,
          2009,
          2010,
          2011,
          2012,
          2013,
          2014,
          2015,
          2016,
          2017,
          2018,
          2019,
          2020
         ],
         "xaxis": "x",
         "y": [
          12,
          12.4,
          12.9,
          13.3,
          14.1,
          14.6,
          15.3,
          14.7,
          14.7,
          14.7,
          14.3,
          13.3,
          12.8,
          12.4,
          12.3,
          12.2,
          11.4
         ],
         "yaxis": "y"
        },
        {
         "hovertemplate": "state=Oklahoma<br>year=%{x}<br>value=%{y}<extra></extra>",
         "legendgroup": "Oklahoma",
         "line": {
          "color": "#FF6692",
          "dash": "solid"
         },
         "marker": {
          "symbol": "circle"
         },
         "mode": "lines",
         "name": "Oklahoma",
         "orientation": "v",
         "showlegend": true,
         "type": "scatter",
         "x": [
          2004,
          2005,
          2006,
          2007,
          2008,
          2009,
          2010,
          2011,
          2012,
          2013,
          2014,
          2015,
          2016,
          2017,
          2018,
          2019,
          2020
         ],
         "xaxis": "x",
         "y": [
          13.9,
          14.7,
          14.1,
          13.3,
          14.3,
          14.4,
          16.1,
          15.3,
          16.4,
          17.5,
          15.3,
          13.8,
          14,
          12.4,
          13.3,
          13.8,
          15.8
         ],
         "yaxis": "y"
        },
        {
         "hovertemplate": "state=Oregon<br>year=%{x}<br>value=%{y}<extra></extra>",
         "legendgroup": "Oregon",
         "line": {
          "color": "#B6E880",
          "dash": "solid"
         },
         "marker": {
          "symbol": "circle"
         },
         "mode": "lines",
         "name": "Oregon",
         "orientation": "v",
         "showlegend": true,
         "type": "scatter",
         "x": [
          2004,
          2005,
          2006,
          2007,
          2008,
          2009,
          2010,
          2011,
          2012,
          2013,
          2014,
          2015,
          2016,
          2017,
          2018,
          2019,
          2020
         ],
         "xaxis": "x",
         "y": [
          11.9,
          12.2,
          11.7,
          12.2,
          12.7,
          14,
          14.1,
          14.3,
          13.850000000000001,
          13.4,
          12.7,
          11.3,
          10.6,
          9.8,
          9.1,
          8.9,
          9.5
         ],
         "yaxis": "y"
        },
        {
         "hovertemplate": "state=Pennsylvania<br>year=%{x}<br>value=%{y}<extra></extra>",
         "legendgroup": "Pennsylvania",
         "line": {
          "color": "#FF97FF",
          "dash": "solid"
         },
         "marker": {
          "symbol": "circle"
         },
         "mode": "lines",
         "name": "Pennsylvania",
         "orientation": "v",
         "showlegend": true,
         "type": "scatter",
         "x": [
          2004,
          2005,
          2006,
          2007,
          2008,
          2009,
          2010,
          2011,
          2012,
          2013,
          2014,
          2015,
          2016,
          2017,
          2018,
          2019,
          2020
         ],
         "xaxis": "x",
         "y": [
          11.3,
          11,
          10.9,
          10.8,
          11.4,
          12,
          12.9,
          13,
          12.5,
          12,
          12,
          11.5,
          11.5,
          10.5,
          10.4,
          10,
          10.8
         ],
         "yaxis": "y"
        },
        {
         "hovertemplate": "state=Rhode Island<br>year=%{x}<br>value=%{y}<extra></extra>",
         "legendgroup": "Rhode Island",
         "line": {
          "color": "#FECB52",
          "dash": "solid"
         },
         "marker": {
          "symbol": "circle"
         },
         "mode": "lines",
         "name": "Rhode Island",
         "orientation": "v",
         "showlegend": true,
         "type": "scatter",
         "x": [
          2004,
          2005,
          2006,
          2007,
          2008,
          2009,
          2010,
          2011,
          2012,
          2013,
          2014,
          2015,
          2016,
          2017,
          2018,
          2019,
          2020
         ],
         "xaxis": "x",
         "y": [
          11.3,
          10.7,
          10.9,
          11.7,
          13.2,
          13.5,
          13.7,
          13.5,
          12.15,
          10.8,
          11.5,
          11.8,
          10.3,
          9.8,
          8.9,
          9,
          8.8
         ],
         "yaxis": "y"
        },
        {
         "hovertemplate": "state=South Carolina<br>year=%{x}<br>value=%{y}<extra></extra>",
         "legendgroup": "South Carolina",
         "line": {
          "color": "#636efa",
          "dash": "solid"
         },
         "marker": {
          "symbol": "circle"
         },
         "mode": "lines",
         "name": "South Carolina",
         "orientation": "v",
         "showlegend": true,
         "type": "scatter",
         "x": [
          2004,
          2005,
          2006,
          2007,
          2008,
          2009,
          2010,
          2011,
          2012,
          2013,
          2014,
          2015,
          2016,
          2017,
          2018,
          2019,
          2020
         ],
         "xaxis": "x",
         "y": [
          13.7,
          13.4,
          13.1,
          13.9,
          14.9,
          16.6,
          17.5,
          17.2,
          16.95,
          16.7,
          14.9,
          14.6,
          14.1,
          14.4,
          13.7,
          14,
          13.3
         ],
         "yaxis": "y"
        },
        {
         "hovertemplate": "state=South Dakota<br>year=%{x}<br>value=%{y}<extra></extra>",
         "legendgroup": "South Dakota",
         "line": {
          "color": "#EF553B",
          "dash": "solid"
         },
         "marker": {
          "symbol": "circle"
         },
         "mode": "lines",
         "name": "South Dakota",
         "orientation": "v",
         "showlegend": true,
         "type": "scatter",
         "x": [
          2004,
          2005,
          2006,
          2007,
          2008,
          2009,
          2010,
          2011,
          2012,
          2013,
          2014,
          2015,
          2016,
          2017,
          2018,
          2019,
          2020
         ],
         "xaxis": "x",
         "y": [
          12,
          10.6,
          11.1,
          12.2,
          13.6,
          14.1,
          13.6,
          12.5,
          12.9,
          13.3,
          13.7,
          12.9,
          11.8,
          10.6,
          11,
          10.2,
          9.7
         ],
         "yaxis": "y"
        },
        {
         "hovertemplate": "state=Tennessee<br>year=%{x}<br>value=%{y}<extra></extra>",
         "legendgroup": "Tennessee",
         "line": {
          "color": "#00cc96",
          "dash": "solid"
         },
         "marker": {
          "symbol": "circle"
         },
         "mode": "lines",
         "name": "Tennessee",
         "orientation": "v",
         "showlegend": true,
         "type": "scatter",
         "x": [
          2004,
          2005,
          2006,
          2007,
          2008,
          2009,
          2010,
          2011,
          2012,
          2013,
          2014,
          2015,
          2016,
          2017,
          2018,
          2019,
          2020
         ],
         "xaxis": "x",
         "y": [
          15.2,
          14.8,
          14.9,
          15.4,
          16.1,
          16.5,
          17.2,
          17.7,
          16.75,
          15.8,
          15.6,
          13.7,
          12.6,
          12.1,
          12.7,
          12.3,
          11.4
         ],
         "yaxis": "y"
        },
        {
         "hovertemplate": "state=Texas<br>year=%{x}<br>value=%{y}<extra></extra>",
         "legendgroup": "Texas",
         "line": {
          "color": "#ab63fa",
          "dash": "solid"
         },
         "marker": {
          "symbol": "circle"
         },
         "mode": "lines",
         "name": "Texas",
         "orientation": "v",
         "showlegend": true,
         "type": "scatter",
         "x": [
          2004,
          2005,
          2006,
          2007,
          2008,
          2009,
          2010,
          2011,
          2012,
          2013,
          2014,
          2015,
          2016,
          2017,
          2018,
          2019,
          2020
         ],
         "xaxis": "x",
         "y": [
          16.4,
          16.4,
          16.3,
          16.6,
          17.2,
          17.7,
          17.6,
          17.1,
          16.55,
          16,
          14.9,
          14,
          13.7,
          12.6,
          12.9,
          12.9,
          13.7
         ],
         "yaxis": "y"
        },
        {
         "hovertemplate": "state=United States<br>year=%{x}<br>value=%{y}<extra></extra>",
         "legendgroup": "United States",
         "line": {
          "color": "#FFA15A",
          "dash": "solid"
         },
         "marker": {
          "symbol": "circle"
         },
         "mode": "lines",
         "name": "United States",
         "orientation": "v",
         "showlegend": true,
         "type": "scatter",
         "x": [
          2004,
          2005,
          2006,
          2007,
          2008,
          2009,
          2010,
          2011,
          2012,
          2013,
          2014,
          2015,
          2016,
          2017,
          2018,
          2019,
          2020
         ],
         "xaxis": "x",
         "y": [
          12.5,
          12.5,
          12.7,
          13.4,
          14.2,
          14.8,
          15,
          14.8,
          14.600000000000001,
          14.4,
          13.7,
          12.8,
          12.3,
          11.5,
          11.2,
          11.2,
          11.5
         ],
         "yaxis": "y"
        },
        {
         "hovertemplate": "state=Utah<br>year=%{x}<br>value=%{y}<extra></extra>",
         "legendgroup": "Utah",
         "line": {
          "color": "#19d3f3",
          "dash": "solid"
         },
         "marker": {
          "symbol": "circle"
         },
         "mode": "lines",
         "name": "Utah",
         "orientation": "v",
         "showlegend": true,
         "type": "scatter",
         "x": [
          2004,
          2005,
          2006,
          2007,
          2008,
          2009,
          2010,
          2011,
          2012,
          2013,
          2014,
          2015,
          2016,
          2017,
          2018,
          2019,
          2020
         ],
         "xaxis": "x",
         "y": [
          9.5,
          9.4,
          8.8,
          9,
          9.1,
          10.2,
          10.7,
          10.1,
          10.3,
          10.5,
          9.3,
          8.8,
          7.9,
          7.6,
          7.2,
          7.5,
          7.1
         ],
         "yaxis": "y"
        },
        {
         "hovertemplate": "state=Vermont<br>year=%{x}<br>value=%{y}<extra></extra>",
         "legendgroup": "Vermont",
         "line": {
          "color": "#FF6692",
          "dash": "solid"
         },
         "marker": {
          "symbol": "circle"
         },
         "mode": "lines",
         "name": "Vermont",
         "orientation": "v",
         "showlegend": true,
         "type": "scatter",
         "x": [
          2004,
          2005,
          2006,
          2007,
          2008,
          2009,
          2010,
          2011,
          2012,
          2013,
          2014,
          2015,
          2016,
          2017,
          2018,
          2019,
          2020
         ],
         "xaxis": "x",
         "y": [
          7.7,
          8.4,
          8.9,
          9.4,
          9.7,
          10.6,
          11.2,
          10.5,
          9.7,
          8.9,
          9.9,
          10.2,
          9.6,
          9,
          9,
          8.3,
          8.4
         ],
         "yaxis": "y"
        },
        {
         "hovertemplate": "state=Virginia<br>year=%{x}<br>value=%{y}<extra></extra>",
         "legendgroup": "Virginia",
         "line": {
          "color": "#B6E880",
          "dash": "solid"
         },
         "marker": {
          "symbol": "circle"
         },
         "mode": "lines",
         "name": "Virginia",
         "orientation": "v",
         "showlegend": true,
         "type": "scatter",
         "x": [
          2004,
          2005,
          2006,
          2007,
          2008,
          2009,
          2010,
          2011,
          2012,
          2013,
          2014,
          2015,
          2016,
          2017,
          2018,
          2019,
          2020
         ],
         "xaxis": "x",
         "y": [
          9.1,
          8.8,
          9.2,
          9.9,
          10.6,
          10.9,
          10.9,
          10.8,
          10.55,
          10.3,
          10.8,
          10.8,
          10.7,
          9.7,
          8.8,
          8.8,
          8.6
         ],
         "yaxis": "y"
        },
        {
         "hovertemplate": "state=Washington<br>year=%{x}<br>value=%{y}<extra></extra>",
         "legendgroup": "Washington",
         "line": {
          "color": "#FF97FF",
          "dash": "solid"
         },
         "marker": {
          "symbol": "circle"
         },
         "mode": "lines",
         "name": "Washington",
         "orientation": "v",
         "showlegend": true,
         "type": "scatter",
         "x": [
          2004,
          2005,
          2006,
          2007,
          2008,
          2009,
          2010,
          2011,
          2012,
          2013,
          2014,
          2015,
          2016,
          2017,
          2018,
          2019,
          2020
         ],
         "xaxis": "x",
         "y": [
          9.8,
          9.4,
          9.5,
          10.8,
          11.2,
          11.9,
          11.9,
          12,
          11.95,
          11.9,
          11.5,
          10.7,
          10.3,
          8.8,
          7.9,
          7.6,
          8.3
         ],
         "yaxis": "y"
        },
        {
         "hovertemplate": "state=West Virginia<br>year=%{x}<br>value=%{y}<extra></extra>",
         "legendgroup": "West Virginia",
         "line": {
          "color": "#FECB52",
          "dash": "solid"
         },
         "marker": {
          "symbol": "circle"
         },
         "mode": "lines",
         "name": "West Virginia",
         "orientation": "v",
         "showlegend": true,
         "type": "scatter",
         "x": [
          2004,
          2005,
          2006,
          2007,
          2008,
          2009,
          2010,
          2011,
          2012,
          2013,
          2014,
          2015,
          2016,
          2017,
          2018,
          2019,
          2020
         ],
         "xaxis": "x",
         "y": [
          15,
          15.2,
          14.9,
          15,
          15.7,
          16.7,
          17,
          17.2,
          17.75,
          18.3,
          17.7,
          16.6,
          17.2,
          15.6,
          14.6,
          15,
          15.5
         ],
         "yaxis": "y"
        },
        {
         "hovertemplate": "state=Wisconsin<br>year=%{x}<br>value=%{y}<extra></extra>",
         "legendgroup": "Wisconsin",
         "line": {
          "color": "#636efa",
          "dash": "solid"
         },
         "marker": {
          "symbol": "circle"
         },
         "mode": "lines",
         "name": "Wisconsin",
         "orientation": "v",
         "showlegend": true,
         "type": "scatter",
         "x": [
          2004,
          2005,
          2006,
          2007,
          2008,
          2009,
          2010,
          2011,
          2012,
          2013,
          2014,
          2015,
          2016,
          2017,
          2018,
          2019,
          2020
         ],
         "xaxis": "x",
         "y": [
          10.9,
          10.4,
          10.3,
          10.5,
          10.2,
          11.3,
          11.5,
          11.8,
          11.850000000000001,
          11.9,
          11,
          10.5,
          9.5,
          8.7,
          8.3,
          8.6,
          8
         ],
         "yaxis": "y"
        },
        {
         "hovertemplate": "state=Wyoming<br>year=%{x}<br>value=%{y}<extra></extra>",
         "legendgroup": "Wyoming",
         "line": {
          "color": "#EF553B",
          "dash": "solid"
         },
         "marker": {
          "symbol": "circle"
         },
         "mode": "lines",
         "name": "Wyoming",
         "orientation": "v",
         "showlegend": true,
         "type": "scatter",
         "x": [
          2004,
          2005,
          2006,
          2007,
          2008,
          2009,
          2010,
          2011,
          2012,
          2013,
          2014,
          2015,
          2016,
          2017,
          2018,
          2019,
          2020
         ],
         "xaxis": "x",
         "y": [
          10.2,
          10.5,
          10.3,
          10.1,
          9.6,
          9.8,
          10,
          10.7,
          10.5,
          10.3,
          10.1,
          11,
          11.4,
          10.5,
          9.4,
          9.4,
          8.7
         ],
         "yaxis": "y"
        }
       ],
       "layout": {
        "legend": {
         "title": {
          "text": "state"
         },
         "tracegroupgap": 0
        },
        "template": {
         "data": {
          "bar": [
           {
            "error_x": {
             "color": "#2a3f5f"
            },
            "error_y": {
             "color": "#2a3f5f"
            },
            "marker": {
             "line": {
              "color": "#E5ECF6",
              "width": 0.5
             },
             "pattern": {
              "fillmode": "overlay",
              "size": 10,
              "solidity": 0.2
             }
            },
            "type": "bar"
           }
          ],
          "barpolar": [
           {
            "marker": {
             "line": {
              "color": "#E5ECF6",
              "width": 0.5
             },
             "pattern": {
              "fillmode": "overlay",
              "size": 10,
              "solidity": 0.2
             }
            },
            "type": "barpolar"
           }
          ],
          "carpet": [
           {
            "aaxis": {
             "endlinecolor": "#2a3f5f",
             "gridcolor": "white",
             "linecolor": "white",
             "minorgridcolor": "white",
             "startlinecolor": "#2a3f5f"
            },
            "baxis": {
             "endlinecolor": "#2a3f5f",
             "gridcolor": "white",
             "linecolor": "white",
             "minorgridcolor": "white",
             "startlinecolor": "#2a3f5f"
            },
            "type": "carpet"
           }
          ],
          "choropleth": [
           {
            "colorbar": {
             "outlinewidth": 0,
             "ticks": ""
            },
            "type": "choropleth"
           }
          ],
          "contour": [
           {
            "colorbar": {
             "outlinewidth": 0,
             "ticks": ""
            },
            "colorscale": [
             [
              0,
              "#0d0887"
             ],
             [
              0.1111111111111111,
              "#46039f"
             ],
             [
              0.2222222222222222,
              "#7201a8"
             ],
             [
              0.3333333333333333,
              "#9c179e"
             ],
             [
              0.4444444444444444,
              "#bd3786"
             ],
             [
              0.5555555555555556,
              "#d8576b"
             ],
             [
              0.6666666666666666,
              "#ed7953"
             ],
             [
              0.7777777777777778,
              "#fb9f3a"
             ],
             [
              0.8888888888888888,
              "#fdca26"
             ],
             [
              1,
              "#f0f921"
             ]
            ],
            "type": "contour"
           }
          ],
          "contourcarpet": [
           {
            "colorbar": {
             "outlinewidth": 0,
             "ticks": ""
            },
            "type": "contourcarpet"
           }
          ],
          "heatmap": [
           {
            "colorbar": {
             "outlinewidth": 0,
             "ticks": ""
            },
            "colorscale": [
             [
              0,
              "#0d0887"
             ],
             [
              0.1111111111111111,
              "#46039f"
             ],
             [
              0.2222222222222222,
              "#7201a8"
             ],
             [
              0.3333333333333333,
              "#9c179e"
             ],
             [
              0.4444444444444444,
              "#bd3786"
             ],
             [
              0.5555555555555556,
              "#d8576b"
             ],
             [
              0.6666666666666666,
              "#ed7953"
             ],
             [
              0.7777777777777778,
              "#fb9f3a"
             ],
             [
              0.8888888888888888,
              "#fdca26"
             ],
             [
              1,
              "#f0f921"
             ]
            ],
            "type": "heatmap"
           }
          ],
          "heatmapgl": [
           {
            "colorbar": {
             "outlinewidth": 0,
             "ticks": ""
            },
            "colorscale": [
             [
              0,
              "#0d0887"
             ],
             [
              0.1111111111111111,
              "#46039f"
             ],
             [
              0.2222222222222222,
              "#7201a8"
             ],
             [
              0.3333333333333333,
              "#9c179e"
             ],
             [
              0.4444444444444444,
              "#bd3786"
             ],
             [
              0.5555555555555556,
              "#d8576b"
             ],
             [
              0.6666666666666666,
              "#ed7953"
             ],
             [
              0.7777777777777778,
              "#fb9f3a"
             ],
             [
              0.8888888888888888,
              "#fdca26"
             ],
             [
              1,
              "#f0f921"
             ]
            ],
            "type": "heatmapgl"
           }
          ],
          "histogram": [
           {
            "marker": {
             "pattern": {
              "fillmode": "overlay",
              "size": 10,
              "solidity": 0.2
             }
            },
            "type": "histogram"
           }
          ],
          "histogram2d": [
           {
            "colorbar": {
             "outlinewidth": 0,
             "ticks": ""
            },
            "colorscale": [
             [
              0,
              "#0d0887"
             ],
             [
              0.1111111111111111,
              "#46039f"
             ],
             [
              0.2222222222222222,
              "#7201a8"
             ],
             [
              0.3333333333333333,
              "#9c179e"
             ],
             [
              0.4444444444444444,
              "#bd3786"
             ],
             [
              0.5555555555555556,
              "#d8576b"
             ],
             [
              0.6666666666666666,
              "#ed7953"
             ],
             [
              0.7777777777777778,
              "#fb9f3a"
             ],
             [
              0.8888888888888888,
              "#fdca26"
             ],
             [
              1,
              "#f0f921"
             ]
            ],
            "type": "histogram2d"
           }
          ],
          "histogram2dcontour": [
           {
            "colorbar": {
             "outlinewidth": 0,
             "ticks": ""
            },
            "colorscale": [
             [
              0,
              "#0d0887"
             ],
             [
              0.1111111111111111,
              "#46039f"
             ],
             [
              0.2222222222222222,
              "#7201a8"
             ],
             [
              0.3333333333333333,
              "#9c179e"
             ],
             [
              0.4444444444444444,
              "#bd3786"
             ],
             [
              0.5555555555555556,
              "#d8576b"
             ],
             [
              0.6666666666666666,
              "#ed7953"
             ],
             [
              0.7777777777777778,
              "#fb9f3a"
             ],
             [
              0.8888888888888888,
              "#fdca26"
             ],
             [
              1,
              "#f0f921"
             ]
            ],
            "type": "histogram2dcontour"
           }
          ],
          "mesh3d": [
           {
            "colorbar": {
             "outlinewidth": 0,
             "ticks": ""
            },
            "type": "mesh3d"
           }
          ],
          "parcoords": [
           {
            "line": {
             "colorbar": {
              "outlinewidth": 0,
              "ticks": ""
             }
            },
            "type": "parcoords"
           }
          ],
          "pie": [
           {
            "automargin": true,
            "type": "pie"
           }
          ],
          "scatter": [
           {
            "fillpattern": {
             "fillmode": "overlay",
             "size": 10,
             "solidity": 0.2
            },
            "type": "scatter"
           }
          ],
          "scatter3d": [
           {
            "line": {
             "colorbar": {
              "outlinewidth": 0,
              "ticks": ""
             }
            },
            "marker": {
             "colorbar": {
              "outlinewidth": 0,
              "ticks": ""
             }
            },
            "type": "scatter3d"
           }
          ],
          "scattercarpet": [
           {
            "marker": {
             "colorbar": {
              "outlinewidth": 0,
              "ticks": ""
             }
            },
            "type": "scattercarpet"
           }
          ],
          "scattergeo": [
           {
            "marker": {
             "colorbar": {
              "outlinewidth": 0,
              "ticks": ""
             }
            },
            "type": "scattergeo"
           }
          ],
          "scattergl": [
           {
            "marker": {
             "colorbar": {
              "outlinewidth": 0,
              "ticks": ""
             }
            },
            "type": "scattergl"
           }
          ],
          "scattermapbox": [
           {
            "marker": {
             "colorbar": {
              "outlinewidth": 0,
              "ticks": ""
             }
            },
            "type": "scattermapbox"
           }
          ],
          "scatterpolar": [
           {
            "marker": {
             "colorbar": {
              "outlinewidth": 0,
              "ticks": ""
             }
            },
            "type": "scatterpolar"
           }
          ],
          "scatterpolargl": [
           {
            "marker": {
             "colorbar": {
              "outlinewidth": 0,
              "ticks": ""
             }
            },
            "type": "scatterpolargl"
           }
          ],
          "scatterternary": [
           {
            "marker": {
             "colorbar": {
              "outlinewidth": 0,
              "ticks": ""
             }
            },
            "type": "scatterternary"
           }
          ],
          "surface": [
           {
            "colorbar": {
             "outlinewidth": 0,
             "ticks": ""
            },
            "colorscale": [
             [
              0,
              "#0d0887"
             ],
             [
              0.1111111111111111,
              "#46039f"
             ],
             [
              0.2222222222222222,
              "#7201a8"
             ],
             [
              0.3333333333333333,
              "#9c179e"
             ],
             [
              0.4444444444444444,
              "#bd3786"
             ],
             [
              0.5555555555555556,
              "#d8576b"
             ],
             [
              0.6666666666666666,
              "#ed7953"
             ],
             [
              0.7777777777777778,
              "#fb9f3a"
             ],
             [
              0.8888888888888888,
              "#fdca26"
             ],
             [
              1,
              "#f0f921"
             ]
            ],
            "type": "surface"
           }
          ],
          "table": [
           {
            "cells": {
             "fill": {
              "color": "#EBF0F8"
             },
             "line": {
              "color": "white"
             }
            },
            "header": {
             "fill": {
              "color": "#C8D4E3"
             },
             "line": {
              "color": "white"
             }
            },
            "type": "table"
           }
          ]
         },
         "layout": {
          "annotationdefaults": {
           "arrowcolor": "#2a3f5f",
           "arrowhead": 0,
           "arrowwidth": 1
          },
          "autotypenumbers": "strict",
          "coloraxis": {
           "colorbar": {
            "outlinewidth": 0,
            "ticks": ""
           }
          },
          "colorscale": {
           "diverging": [
            [
             0,
             "#8e0152"
            ],
            [
             0.1,
             "#c51b7d"
            ],
            [
             0.2,
             "#de77ae"
            ],
            [
             0.3,
             "#f1b6da"
            ],
            [
             0.4,
             "#fde0ef"
            ],
            [
             0.5,
             "#f7f7f7"
            ],
            [
             0.6,
             "#e6f5d0"
            ],
            [
             0.7,
             "#b8e186"
            ],
            [
             0.8,
             "#7fbc41"
            ],
            [
             0.9,
             "#4d9221"
            ],
            [
             1,
             "#276419"
            ]
           ],
           "sequential": [
            [
             0,
             "#0d0887"
            ],
            [
             0.1111111111111111,
             "#46039f"
            ],
            [
             0.2222222222222222,
             "#7201a8"
            ],
            [
             0.3333333333333333,
             "#9c179e"
            ],
            [
             0.4444444444444444,
             "#bd3786"
            ],
            [
             0.5555555555555556,
             "#d8576b"
            ],
            [
             0.6666666666666666,
             "#ed7953"
            ],
            [
             0.7777777777777778,
             "#fb9f3a"
            ],
            [
             0.8888888888888888,
             "#fdca26"
            ],
            [
             1,
             "#f0f921"
            ]
           ],
           "sequentialminus": [
            [
             0,
             "#0d0887"
            ],
            [
             0.1111111111111111,
             "#46039f"
            ],
            [
             0.2222222222222222,
             "#7201a8"
            ],
            [
             0.3333333333333333,
             "#9c179e"
            ],
            [
             0.4444444444444444,
             "#bd3786"
            ],
            [
             0.5555555555555556,
             "#d8576b"
            ],
            [
             0.6666666666666666,
             "#ed7953"
            ],
            [
             0.7777777777777778,
             "#fb9f3a"
            ],
            [
             0.8888888888888888,
             "#fdca26"
            ],
            [
             1,
             "#f0f921"
            ]
           ]
          },
          "colorway": [
           "#636efa",
           "#EF553B",
           "#00cc96",
           "#ab63fa",
           "#FFA15A",
           "#19d3f3",
           "#FF6692",
           "#B6E880",
           "#FF97FF",
           "#FECB52"
          ],
          "font": {
           "color": "#2a3f5f"
          },
          "geo": {
           "bgcolor": "white",
           "lakecolor": "white",
           "landcolor": "#E5ECF6",
           "showlakes": true,
           "showland": true,
           "subunitcolor": "white"
          },
          "hoverlabel": {
           "align": "left"
          },
          "hovermode": "closest",
          "mapbox": {
           "style": "light"
          },
          "paper_bgcolor": "white",
          "plot_bgcolor": "#E5ECF6",
          "polar": {
           "angularaxis": {
            "gridcolor": "white",
            "linecolor": "white",
            "ticks": ""
           },
           "bgcolor": "#E5ECF6",
           "radialaxis": {
            "gridcolor": "white",
            "linecolor": "white",
            "ticks": ""
           }
          },
          "scene": {
           "xaxis": {
            "backgroundcolor": "#E5ECF6",
            "gridcolor": "white",
            "gridwidth": 2,
            "linecolor": "white",
            "showbackground": true,
            "ticks": "",
            "zerolinecolor": "white"
           },
           "yaxis": {
            "backgroundcolor": "#E5ECF6",
            "gridcolor": "white",
            "gridwidth": 2,
            "linecolor": "white",
            "showbackground": true,
            "ticks": "",
            "zerolinecolor": "white"
           },
           "zaxis": {
            "backgroundcolor": "#E5ECF6",
            "gridcolor": "white",
            "gridwidth": 2,
            "linecolor": "white",
            "showbackground": true,
            "ticks": "",
            "zerolinecolor": "white"
           }
          },
          "shapedefaults": {
           "line": {
            "color": "#2a3f5f"
           }
          },
          "ternary": {
           "aaxis": {
            "gridcolor": "white",
            "linecolor": "white",
            "ticks": ""
           },
           "baxis": {
            "gridcolor": "white",
            "linecolor": "white",
            "ticks": ""
           },
           "bgcolor": "#E5ECF6",
           "caxis": {
            "gridcolor": "white",
            "linecolor": "white",
            "ticks": ""
           }
          },
          "title": {
           "x": 0.05
          },
          "xaxis": {
           "automargin": true,
           "gridcolor": "white",
           "linecolor": "white",
           "ticks": "",
           "title": {
            "standoff": 15
           },
           "zerolinecolor": "white",
           "zerolinewidth": 2
          },
          "yaxis": {
           "automargin": true,
           "gridcolor": "white",
           "linecolor": "white",
           "ticks": "",
           "title": {
            "standoff": 15
           },
           "zerolinecolor": "white",
           "zerolinewidth": 2
          }
         }
        },
        "title": {
         "text": "Poverty percentage in the US over the years"
        },
        "xaxis": {
         "anchor": "y",
         "domain": [
          0,
          1
         ],
         "title": {
          "text": "year"
         }
        },
        "yaxis": {
         "anchor": "x",
         "domain": [
          0,
          1
         ],
         "title": {
          "text": "value"
         }
        }
       }
      }
     },
     "metadata": {},
     "output_type": "display_data"
    }
   ],
   "source": [
    "fig = px.line(\n",
    "    poverty_df.pivot(index='year', columns='state', values='povertyPercentage'),\n",
    "    title='Poverty percentage in the US over the years')\n",
    "pyo.plot(fig, filename='../html/lines_poverty.html', auto_open=False)\n",
    "fig.show()"
   ]
  },
  {
   "cell_type": "markdown",
   "id": "3100eb15",
   "metadata": {},
   "source": [
    "We also visualize how the poverty percentage changed with an animated map (to do this we need the alphanumeric codes associated to each state):"
   ]
  },
  {
   "cell_type": "code",
   "execution_count": 21,
   "id": "b753c532",
   "metadata": {},
   "outputs": [
    {
     "data": {
      "application/vnd.plotly.v1+json": {
       "config": {
        "plotlyServerURL": "https://plot.ly"
       },
       "data": [
        {
         "coloraxis": "coloraxis",
         "customdata": [
          [
           "AL"
          ],
          [
           "AK"
          ],
          [
           "AZ"
          ],
          [
           "AR"
          ],
          [
           "CA"
          ],
          [
           "CO"
          ],
          [
           "CT"
          ],
          [
           "DE"
          ],
          [
           "DC"
          ],
          [
           "FL"
          ],
          [
           "GA"
          ],
          [
           "HI"
          ],
          [
           "ID"
          ],
          [
           "IL"
          ],
          [
           "IN"
          ],
          [
           "IA"
          ],
          [
           "KS"
          ],
          [
           "KY"
          ],
          [
           "LA"
          ],
          [
           "ME"
          ],
          [
           "MD"
          ],
          [
           "MA"
          ],
          [
           "MI"
          ],
          [
           "MN"
          ],
          [
           "MS"
          ],
          [
           "MO"
          ],
          [
           "MT"
          ],
          [
           "NE"
          ],
          [
           "NV"
          ],
          [
           "NH"
          ],
          [
           "NJ"
          ],
          [
           "NM"
          ],
          [
           "NY"
          ],
          [
           "NC"
          ],
          [
           "ND"
          ],
          [
           "OH"
          ],
          [
           "OK"
          ],
          [
           "OR"
          ],
          [
           "PA"
          ],
          [
           "RI"
          ],
          [
           "SC"
          ],
          [
           "SD"
          ],
          [
           "TN"
          ],
          [
           "TX"
          ],
          [
           "UT"
          ],
          [
           "VT"
          ],
          [
           "VA"
          ],
          [
           "WA"
          ],
          [
           "WV"
          ],
          [
           "WI"
          ],
          [
           "WY"
          ]
         ],
         "geo": "geo",
         "hovertemplate": "<b>%{hovertext}</b><br><br>year=2004<br>povertyPercentage=%{z}<extra></extra>",
         "hovertext": [
          "Alabama",
          "Alaska",
          "Arizona",
          "Arkansas",
          "California",
          "Colorado",
          "Connecticut",
          "Delaware",
          "District of Columbia",
          "Florida",
          "Georgia",
          "Hawaii",
          "Idaho",
          "Illinois",
          "Indiana",
          "Iowa",
          "Kansas",
          "Kentucky",
          "Louisiana",
          "Maine",
          "Maryland",
          "Massachusetts",
          "Michigan",
          "Minnesota",
          "Mississippi",
          "Missouri",
          "Montana",
          "Nebraska",
          "Nevada",
          "New Hampshire",
          "New Jersey",
          "New Mexico",
          "New York",
          "North Carolina",
          "North Dakota",
          "Ohio",
          "Oklahoma",
          "Oregon",
          "Pennsylvania",
          "Rhode Island",
          "South Carolina",
          "South Dakota",
          "Tennessee",
          "Texas",
          "Utah",
          "Vermont",
          "Virginia",
          "Washington",
          "West Virginia",
          "Wisconsin",
          "Wyoming"
         ],
         "locationmode": "USA-states",
         "locations": [
          "AL",
          "AK",
          "AZ",
          "AR",
          "CA",
          "CO",
          "CT",
          "DE",
          "DC",
          "FL",
          "GA",
          "HI",
          "ID",
          "IL",
          "IN",
          "IA",
          "KS",
          "KY",
          "LA",
          "ME",
          "MD",
          "MA",
          "MI",
          "MN",
          "MS",
          "MO",
          "MT",
          "NE",
          "NV",
          "NH",
          "NJ",
          "NM",
          "NY",
          "NC",
          "ND",
          "OH",
          "OK",
          "OR",
          "PA",
          "RI",
          "SC",
          "SD",
          "TN",
          "TX",
          "UT",
          "VT",
          "VA",
          "WA",
          "WV",
          "WI",
          "WY"
         ],
         "name": "",
         "type": "choropleth",
         "z": [
          16,
          9.3,
          14.7,
          15.6,
          12.9,
          10.4,
          9.1,
          9.2,
          18.8,
          11.4,
          13.3,
          8.8,
          9.8,
          11.4,
          11.6,
          10.8,
          12.2,
          16.5,
          17.4,
          11.5,
          9.3,
          10.5,
          12.9,
          7.7,
          19.8,
          11.7,
          13.8,
          9.7,
          10.3,
          5.5,
          7.9,
          17.1,
          14.5,
          13.8,
          10.7,
          12,
          13.9,
          11.9,
          11.3,
          11.3,
          13.7,
          12,
          15.2,
          16.4,
          9.5,
          7.7,
          9.1,
          9.8,
          15,
          10.9,
          10.2
         ]
        }
       ],
       "frames": [
        {
         "data": [
          {
           "coloraxis": "coloraxis",
           "customdata": [
            [
             "AL"
            ],
            [
             "AK"
            ],
            [
             "AZ"
            ],
            [
             "AR"
            ],
            [
             "CA"
            ],
            [
             "CO"
            ],
            [
             "CT"
            ],
            [
             "DE"
            ],
            [
             "DC"
            ],
            [
             "FL"
            ],
            [
             "GA"
            ],
            [
             "HI"
            ],
            [
             "ID"
            ],
            [
             "IL"
            ],
            [
             "IN"
            ],
            [
             "IA"
            ],
            [
             "KS"
            ],
            [
             "KY"
            ],
            [
             "LA"
            ],
            [
             "ME"
            ],
            [
             "MD"
            ],
            [
             "MA"
            ],
            [
             "MI"
            ],
            [
             "MN"
            ],
            [
             "MS"
            ],
            [
             "MO"
            ],
            [
             "MT"
            ],
            [
             "NE"
            ],
            [
             "NV"
            ],
            [
             "NH"
            ],
            [
             "NJ"
            ],
            [
             "NM"
            ],
            [
             "NY"
            ],
            [
             "NC"
            ],
            [
             "ND"
            ],
            [
             "OH"
            ],
            [
             "OK"
            ],
            [
             "OR"
            ],
            [
             "PA"
            ],
            [
             "RI"
            ],
            [
             "SC"
            ],
            [
             "SD"
            ],
            [
             "TN"
            ],
            [
             "TX"
            ],
            [
             "UT"
            ],
            [
             "VT"
            ],
            [
             "VA"
            ],
            [
             "WA"
            ],
            [
             "WV"
            ],
            [
             "WI"
            ],
            [
             "WY"
            ]
           ],
           "geo": "geo",
           "hovertemplate": "<b>%{hovertext}</b><br><br>year=2004<br>povertyPercentage=%{z}<extra></extra>",
           "hovertext": [
            "Alabama",
            "Alaska",
            "Arizona",
            "Arkansas",
            "California",
            "Colorado",
            "Connecticut",
            "Delaware",
            "District of Columbia",
            "Florida",
            "Georgia",
            "Hawaii",
            "Idaho",
            "Illinois",
            "Indiana",
            "Iowa",
            "Kansas",
            "Kentucky",
            "Louisiana",
            "Maine",
            "Maryland",
            "Massachusetts",
            "Michigan",
            "Minnesota",
            "Mississippi",
            "Missouri",
            "Montana",
            "Nebraska",
            "Nevada",
            "New Hampshire",
            "New Jersey",
            "New Mexico",
            "New York",
            "North Carolina",
            "North Dakota",
            "Ohio",
            "Oklahoma",
            "Oregon",
            "Pennsylvania",
            "Rhode Island",
            "South Carolina",
            "South Dakota",
            "Tennessee",
            "Texas",
            "Utah",
            "Vermont",
            "Virginia",
            "Washington",
            "West Virginia",
            "Wisconsin",
            "Wyoming"
           ],
           "locationmode": "USA-states",
           "locations": [
            "AL",
            "AK",
            "AZ",
            "AR",
            "CA",
            "CO",
            "CT",
            "DE",
            "DC",
            "FL",
            "GA",
            "HI",
            "ID",
            "IL",
            "IN",
            "IA",
            "KS",
            "KY",
            "LA",
            "ME",
            "MD",
            "MA",
            "MI",
            "MN",
            "MS",
            "MO",
            "MT",
            "NE",
            "NV",
            "NH",
            "NJ",
            "NM",
            "NY",
            "NC",
            "ND",
            "OH",
            "OK",
            "OR",
            "PA",
            "RI",
            "SC",
            "SD",
            "TN",
            "TX",
            "UT",
            "VT",
            "VA",
            "WA",
            "WV",
            "WI",
            "WY"
           ],
           "name": "",
           "type": "choropleth",
           "z": [
            16,
            9.3,
            14.7,
            15.6,
            12.9,
            10.4,
            9.1,
            9.2,
            18.8,
            11.4,
            13.3,
            8.8,
            9.8,
            11.4,
            11.6,
            10.8,
            12.2,
            16.5,
            17.4,
            11.5,
            9.3,
            10.5,
            12.9,
            7.7,
            19.8,
            11.7,
            13.8,
            9.7,
            10.3,
            5.5,
            7.9,
            17.1,
            14.5,
            13.8,
            10.7,
            12,
            13.9,
            11.9,
            11.3,
            11.3,
            13.7,
            12,
            15.2,
            16.4,
            9.5,
            7.7,
            9.1,
            9.8,
            15,
            10.9,
            10.2
           ]
          }
         ],
         "name": "2004"
        },
        {
         "data": [
          {
           "coloraxis": "coloraxis",
           "customdata": [
            [
             "AL"
            ],
            [
             "AK"
            ],
            [
             "AZ"
            ],
            [
             "AR"
            ],
            [
             "CA"
            ],
            [
             "CO"
            ],
            [
             "CT"
            ],
            [
             "DE"
            ],
            [
             "DC"
            ],
            [
             "FL"
            ],
            [
             "GA"
            ],
            [
             "HI"
            ],
            [
             "ID"
            ],
            [
             "IL"
            ],
            [
             "IN"
            ],
            [
             "IA"
            ],
            [
             "KS"
            ],
            [
             "KY"
            ],
            [
             "LA"
            ],
            [
             "ME"
            ],
            [
             "MD"
            ],
            [
             "MA"
            ],
            [
             "MI"
            ],
            [
             "MN"
            ],
            [
             "MS"
            ],
            [
             "MO"
            ],
            [
             "MT"
            ],
            [
             "NE"
            ],
            [
             "NV"
            ],
            [
             "NH"
            ],
            [
             "NJ"
            ],
            [
             "NM"
            ],
            [
             "NY"
            ],
            [
             "NC"
            ],
            [
             "ND"
            ],
            [
             "OH"
            ],
            [
             "OK"
            ],
            [
             "OR"
            ],
            [
             "PA"
            ],
            [
             "RI"
            ],
            [
             "SC"
            ],
            [
             "SD"
            ],
            [
             "TN"
            ],
            [
             "TX"
            ],
            [
             "UT"
            ],
            [
             "VT"
            ],
            [
             "VA"
            ],
            [
             "WA"
            ],
            [
             "WV"
            ],
            [
             "WI"
            ],
            [
             "WY"
            ]
           ],
           "geo": "geo",
           "hovertemplate": "<b>%{hovertext}</b><br><br>year=2005<br>povertyPercentage=%{z}<extra></extra>",
           "hovertext": [
            "Alabama",
            "Alaska",
            "Arizona",
            "Arkansas",
            "California",
            "Colorado",
            "Connecticut",
            "Delaware",
            "District of Columbia",
            "Florida",
            "Georgia",
            "Hawaii",
            "Idaho",
            "Illinois",
            "Indiana",
            "Iowa",
            "Kansas",
            "Kentucky",
            "Louisiana",
            "Maine",
            "Maryland",
            "Massachusetts",
            "Michigan",
            "Minnesota",
            "Mississippi",
            "Missouri",
            "Montana",
            "Nebraska",
            "Nevada",
            "New Hampshire",
            "New Jersey",
            "New Mexico",
            "New York",
            "North Carolina",
            "North Dakota",
            "Ohio",
            "Oklahoma",
            "Oregon",
            "Pennsylvania",
            "Rhode Island",
            "South Carolina",
            "South Dakota",
            "Tennessee",
            "Texas",
            "Utah",
            "Vermont",
            "Virginia",
            "Washington",
            "West Virginia",
            "Wisconsin",
            "Wyoming"
           ],
           "locationmode": "USA-states",
           "locations": [
            "AL",
            "AK",
            "AZ",
            "AR",
            "CA",
            "CO",
            "CT",
            "DE",
            "DC",
            "FL",
            "GA",
            "HI",
            "ID",
            "IL",
            "IN",
            "IA",
            "KS",
            "KY",
            "LA",
            "ME",
            "MD",
            "MA",
            "MI",
            "MN",
            "MS",
            "MO",
            "MT",
            "NE",
            "NV",
            "NH",
            "NJ",
            "NM",
            "NY",
            "NC",
            "ND",
            "OH",
            "OK",
            "OR",
            "PA",
            "RI",
            "SC",
            "SD",
            "TN",
            "TX",
            "UT",
            "VT",
            "VA",
            "WA",
            "WV",
            "WI",
            "WY"
           ],
           "name": "",
           "type": "choropleth",
           "z": [
            15.2,
            8.8,
            14.6,
            15.1,
            12.7,
            10.3,
            8.7,
            9.3,
            19.1,
            11.7,
            13.5,
            8.4,
            9.8,
            10.7,
            11.7,
            10.2,
            12.3,
            15.7,
            17.1,
            11.2,
            9,
            11.1,
            12,
            8.5,
            21.1,
            11.9,
            13.4,
            9.9,
            10,
            5.6,
            8.1,
            16.3,
            14.4,
            14.2,
            10.6,
            12.4,
            14.7,
            12.2,
            11,
            10.7,
            13.4,
            10.6,
            14.8,
            16.4,
            9.4,
            8.4,
            8.8,
            9.4,
            15.2,
            10.4,
            10.5
           ]
          }
         ],
         "name": "2005"
        },
        {
         "data": [
          {
           "coloraxis": "coloraxis",
           "customdata": [
            [
             "AL"
            ],
            [
             "AK"
            ],
            [
             "AZ"
            ],
            [
             "AR"
            ],
            [
             "CA"
            ],
            [
             "CO"
            ],
            [
             "CT"
            ],
            [
             "DE"
            ],
            [
             "DC"
            ],
            [
             "FL"
            ],
            [
             "GA"
            ],
            [
             "HI"
            ],
            [
             "ID"
            ],
            [
             "IL"
            ],
            [
             "IN"
            ],
            [
             "IA"
            ],
            [
             "KS"
            ],
            [
             "KY"
            ],
            [
             "LA"
            ],
            [
             "ME"
            ],
            [
             "MD"
            ],
            [
             "MA"
            ],
            [
             "MI"
            ],
            [
             "MN"
            ],
            [
             "MS"
            ],
            [
             "MO"
            ],
            [
             "MT"
            ],
            [
             "NE"
            ],
            [
             "NV"
            ],
            [
             "NH"
            ],
            [
             "NJ"
            ],
            [
             "NM"
            ],
            [
             "NY"
            ],
            [
             "NC"
            ],
            [
             "ND"
            ],
            [
             "OH"
            ],
            [
             "OK"
            ],
            [
             "OR"
            ],
            [
             "PA"
            ],
            [
             "RI"
            ],
            [
             "SC"
            ],
            [
             "SD"
            ],
            [
             "TN"
            ],
            [
             "TX"
            ],
            [
             "UT"
            ],
            [
             "VT"
            ],
            [
             "VA"
            ],
            [
             "WA"
            ],
            [
             "WV"
            ],
            [
             "WI"
            ],
            [
             "WY"
            ]
           ],
           "geo": "geo",
           "hovertemplate": "<b>%{hovertext}</b><br><br>year=2006<br>povertyPercentage=%{z}<extra></extra>",
           "hovertext": [
            "Alabama",
            "Alaska",
            "Arizona",
            "Arkansas",
            "California",
            "Colorado",
            "Connecticut",
            "Delaware",
            "District of Columbia",
            "Florida",
            "Georgia",
            "Hawaii",
            "Idaho",
            "Illinois",
            "Indiana",
            "Iowa",
            "Kansas",
            "Kentucky",
            "Louisiana",
            "Maine",
            "Maryland",
            "Massachusetts",
            "Michigan",
            "Minnesota",
            "Mississippi",
            "Missouri",
            "Montana",
            "Nebraska",
            "Nevada",
            "New Hampshire",
            "New Jersey",
            "New Mexico",
            "New York",
            "North Carolina",
            "North Dakota",
            "Ohio",
            "Oklahoma",
            "Oregon",
            "Pennsylvania",
            "Rhode Island",
            "South Carolina",
            "South Dakota",
            "Tennessee",
            "Texas",
            "Utah",
            "Vermont",
            "Virginia",
            "Washington",
            "West Virginia",
            "Wisconsin",
            "Wyoming"
           ],
           "locationmode": "USA-states",
           "locations": [
            "AL",
            "AK",
            "AZ",
            "AR",
            "CA",
            "CO",
            "CT",
            "DE",
            "DC",
            "FL",
            "GA",
            "HI",
            "ID",
            "IL",
            "IN",
            "IA",
            "KS",
            "KY",
            "LA",
            "ME",
            "MD",
            "MA",
            "MI",
            "MN",
            "MS",
            "MO",
            "MT",
            "NE",
            "NV",
            "NH",
            "NJ",
            "NM",
            "NY",
            "NC",
            "ND",
            "OH",
            "OK",
            "OR",
            "PA",
            "RI",
            "SC",
            "SD",
            "TN",
            "TX",
            "UT",
            "VT",
            "VA",
            "WA",
            "WV",
            "WI",
            "WY"
           ],
           "name": "",
           "type": "choropleth",
           "z": [
            14.4,
            8.2,
            15.6,
            15.6,
            13.2,
            10.2,
            8.3,
            9.4,
            17.6,
            12.4,
            13.9,
            8.9,
            10.6,
            11,
            12.3,
            9.6,
            12.4,
            16.5,
            17.1,
            11,
            8.6,
            11.5,
            12.4,
            9.1,
            20.5,
            12.5,
            13.1,
            10.2,
            10,
            6.1,
            8.9,
            16.7,
            14.2,
            14.4,
            10.8,
            12.9,
            14.1,
            11.7,
            10.9,
            10.9,
            13.1,
            11.1,
            14.9,
            16.3,
            8.8,
            8.9,
            9.2,
            9.5,
            14.9,
            10.3,
            10.3
           ]
          }
         ],
         "name": "2006"
        },
        {
         "data": [
          {
           "coloraxis": "coloraxis",
           "customdata": [
            [
             "AL"
            ],
            [
             "AK"
            ],
            [
             "AZ"
            ],
            [
             "AR"
            ],
            [
             "CA"
            ],
            [
             "CO"
            ],
            [
             "CT"
            ],
            [
             "DE"
            ],
            [
             "DC"
            ],
            [
             "FL"
            ],
            [
             "GA"
            ],
            [
             "HI"
            ],
            [
             "ID"
            ],
            [
             "IL"
            ],
            [
             "IN"
            ],
            [
             "IA"
            ],
            [
             "KS"
            ],
            [
             "KY"
            ],
            [
             "LA"
            ],
            [
             "ME"
            ],
            [
             "MD"
            ],
            [
             "MA"
            ],
            [
             "MI"
            ],
            [
             "MN"
            ],
            [
             "MS"
            ],
            [
             "MO"
            ],
            [
             "MT"
            ],
            [
             "NE"
            ],
            [
             "NV"
            ],
            [
             "NH"
            ],
            [
             "NJ"
            ],
            [
             "NM"
            ],
            [
             "NY"
            ],
            [
             "NC"
            ],
            [
             "ND"
            ],
            [
             "OH"
            ],
            [
             "OK"
            ],
            [
             "OR"
            ],
            [
             "PA"
            ],
            [
             "RI"
            ],
            [
             "SC"
            ],
            [
             "SD"
            ],
            [
             "TN"
            ],
            [
             "TX"
            ],
            [
             "UT"
            ],
            [
             "VT"
            ],
            [
             "VA"
            ],
            [
             "WA"
            ],
            [
             "WV"
            ],
            [
             "WI"
            ],
            [
             "WY"
            ]
           ],
           "geo": "geo",
           "hovertemplate": "<b>%{hovertext}</b><br><br>year=2007<br>povertyPercentage=%{z}<extra></extra>",
           "hovertext": [
            "Alabama",
            "Alaska",
            "Arizona",
            "Arkansas",
            "California",
            "Colorado",
            "Connecticut",
            "Delaware",
            "District of Columbia",
            "Florida",
            "Georgia",
            "Hawaii",
            "Idaho",
            "Illinois",
            "Indiana",
            "Iowa",
            "Kansas",
            "Kentucky",
            "Louisiana",
            "Maine",
            "Maryland",
            "Massachusetts",
            "Michigan",
            "Minnesota",
            "Mississippi",
            "Missouri",
            "Montana",
            "Nebraska",
            "Nevada",
            "New Hampshire",
            "New Jersey",
            "New Mexico",
            "New York",
            "North Carolina",
            "North Dakota",
            "Ohio",
            "Oklahoma",
            "Oregon",
            "Pennsylvania",
            "Rhode Island",
            "South Carolina",
            "South Dakota",
            "Tennessee",
            "Texas",
            "Utah",
            "Vermont",
            "Virginia",
            "Washington",
            "West Virginia",
            "Wisconsin",
            "Wyoming"
           ],
           "locationmode": "USA-states",
           "locations": [
            "AL",
            "AK",
            "AZ",
            "AR",
            "CA",
            "CO",
            "CT",
            "DE",
            "DC",
            "FL",
            "GA",
            "HI",
            "ID",
            "IL",
            "IN",
            "IA",
            "KS",
            "KY",
            "LA",
            "ME",
            "MD",
            "MA",
            "MI",
            "MN",
            "MS",
            "MO",
            "MT",
            "NE",
            "NV",
            "NH",
            "NJ",
            "NM",
            "NY",
            "NC",
            "ND",
            "OH",
            "OK",
            "OR",
            "PA",
            "RI",
            "SC",
            "SD",
            "TN",
            "TX",
            "UT",
            "VT",
            "VA",
            "WA",
            "WV",
            "WI",
            "WY"
           ],
           "name": "",
           "type": "choropleth",
           "z": [
            15.1,
            9.2,
            17.9,
            16,
            14.2,
            11.1,
            8.5,
            10.4,
            17.5,
            13.4,
            15.8,
            9.9,
            12,
            11.8,
            14.1,
            9.7,
            12.7,
            16.5,
            16.2,
            11.4,
            9,
            11.1,
            12.6,
            10.1,
            21.3,
            13.9,
            13.1,
            10.1,
            11.2,
            6.9,
            9.1,
            17.6,
            14.8,
            15.4,
            10.7,
            13.3,
            13.3,
            12.2,
            10.8,
            11.7,
            13.9,
            12.2,
            15.4,
            16.6,
            9,
            9.4,
            9.9,
            10.8,
            15,
            10.5,
            10.1
           ]
          }
         ],
         "name": "2007"
        },
        {
         "data": [
          {
           "coloraxis": "coloraxis",
           "customdata": [
            [
             "AL"
            ],
            [
             "AK"
            ],
            [
             "AZ"
            ],
            [
             "AR"
            ],
            [
             "CA"
            ],
            [
             "CO"
            ],
            [
             "CT"
            ],
            [
             "DE"
            ],
            [
             "DC"
            ],
            [
             "FL"
            ],
            [
             "GA"
            ],
            [
             "HI"
            ],
            [
             "ID"
            ],
            [
             "IL"
            ],
            [
             "IN"
            ],
            [
             "IA"
            ],
            [
             "KS"
            ],
            [
             "KY"
            ],
            [
             "LA"
            ],
            [
             "ME"
            ],
            [
             "MD"
            ],
            [
             "MA"
            ],
            [
             "MI"
            ],
            [
             "MN"
            ],
            [
             "MS"
            ],
            [
             "MO"
            ],
            [
             "MT"
            ],
            [
             "NE"
            ],
            [
             "NV"
            ],
            [
             "NH"
            ],
            [
             "NJ"
            ],
            [
             "NM"
            ],
            [
             "NY"
            ],
            [
             "NC"
            ],
            [
             "ND"
            ],
            [
             "OH"
            ],
            [
             "OK"
            ],
            [
             "OR"
            ],
            [
             "PA"
            ],
            [
             "RI"
            ],
            [
             "SC"
            ],
            [
             "SD"
            ],
            [
             "TN"
            ],
            [
             "TX"
            ],
            [
             "UT"
            ],
            [
             "VT"
            ],
            [
             "VA"
            ],
            [
             "WA"
            ],
            [
             "WV"
            ],
            [
             "WI"
            ],
            [
             "WY"
            ]
           ],
           "geo": "geo",
           "hovertemplate": "<b>%{hovertext}</b><br><br>year=2008<br>povertyPercentage=%{z}<extra></extra>",
           "hovertext": [
            "Alabama",
            "Alaska",
            "Arizona",
            "Arkansas",
            "California",
            "Colorado",
            "Connecticut",
            "Delaware",
            "District of Columbia",
            "Florida",
            "Georgia",
            "Hawaii",
            "Idaho",
            "Illinois",
            "Indiana",
            "Iowa",
            "Kansas",
            "Kentucky",
            "Louisiana",
            "Maine",
            "Maryland",
            "Massachusetts",
            "Michigan",
            "Minnesota",
            "Mississippi",
            "Missouri",
            "Montana",
            "Nebraska",
            "Nevada",
            "New Hampshire",
            "New Jersey",
            "New Mexico",
            "New York",
            "North Carolina",
            "North Dakota",
            "Ohio",
            "Oklahoma",
            "Oregon",
            "Pennsylvania",
            "Rhode Island",
            "South Carolina",
            "South Dakota",
            "Tennessee",
            "Texas",
            "Utah",
            "Vermont",
            "Virginia",
            "Washington",
            "West Virginia",
            "Wisconsin",
            "Wyoming"
           ],
           "locationmode": "USA-states",
           "locations": [
            "AL",
            "AK",
            "AZ",
            "AR",
            "CA",
            "CO",
            "CT",
            "DE",
            "DC",
            "FL",
            "GA",
            "HI",
            "ID",
            "IL",
            "IN",
            "IA",
            "KS",
            "KY",
            "LA",
            "ME",
            "MD",
            "MA",
            "MI",
            "MN",
            "MS",
            "MO",
            "MT",
            "NE",
            "NV",
            "NH",
            "NJ",
            "NM",
            "NY",
            "NC",
            "ND",
            "OH",
            "OK",
            "OR",
            "PA",
            "RI",
            "SC",
            "SD",
            "TN",
            "TX",
            "UT",
            "VT",
            "VA",
            "WA",
            "WV",
            "WI",
            "WY"
           ],
           "name": "",
           "type": "choropleth",
           "z": [
            16,
            10.8,
            19.3,
            16.5,
            15.4,
            11.9,
            8.3,
            11.4,
            18,
            14.6,
            17.6,
            11.6,
            13.2,
            13.2,
            15.6,
            10.2,
            13.6,
            17.2,
            18,
            12,
            9.7,
            11,
            14.2,
            10.6,
            21.2,
            14.6,
            13.6,
            10.2,
            13.5,
            7.1,
            9.9,
            19,
            15.3,
            16.1,
            11.8,
            14.1,
            14.3,
            12.7,
            11.4,
            13.2,
            14.9,
            13.6,
            16.1,
            17.2,
            9.1,
            9.7,
            10.6,
            11.2,
            15.7,
            10.2,
            9.6
           ]
          }
         ],
         "name": "2008"
        },
        {
         "data": [
          {
           "coloraxis": "coloraxis",
           "customdata": [
            [
             "AL"
            ],
            [
             "AK"
            ],
            [
             "AZ"
            ],
            [
             "AR"
            ],
            [
             "CA"
            ],
            [
             "CO"
            ],
            [
             "CT"
            ],
            [
             "DE"
            ],
            [
             "DC"
            ],
            [
             "FL"
            ],
            [
             "GA"
            ],
            [
             "HI"
            ],
            [
             "ID"
            ],
            [
             "IL"
            ],
            [
             "IN"
            ],
            [
             "IA"
            ],
            [
             "KS"
            ],
            [
             "KY"
            ],
            [
             "LA"
            ],
            [
             "ME"
            ],
            [
             "MD"
            ],
            [
             "MA"
            ],
            [
             "MI"
            ],
            [
             "MN"
            ],
            [
             "MS"
            ],
            [
             "MO"
            ],
            [
             "MT"
            ],
            [
             "NE"
            ],
            [
             "NV"
            ],
            [
             "NH"
            ],
            [
             "NJ"
            ],
            [
             "NM"
            ],
            [
             "NY"
            ],
            [
             "NC"
            ],
            [
             "ND"
            ],
            [
             "OH"
            ],
            [
             "OK"
            ],
            [
             "OR"
            ],
            [
             "PA"
            ],
            [
             "RI"
            ],
            [
             "SC"
            ],
            [
             "SD"
            ],
            [
             "TN"
            ],
            [
             "TX"
            ],
            [
             "UT"
            ],
            [
             "VT"
            ],
            [
             "VA"
            ],
            [
             "WA"
            ],
            [
             "WV"
            ],
            [
             "WI"
            ],
            [
             "WY"
            ]
           ],
           "geo": "geo",
           "hovertemplate": "<b>%{hovertext}</b><br><br>year=2009<br>povertyPercentage=%{z}<extra></extra>",
           "hovertext": [
            "Alabama",
            "Alaska",
            "Arizona",
            "Arkansas",
            "California",
            "Colorado",
            "Connecticut",
            "Delaware",
            "District of Columbia",
            "Florida",
            "Georgia",
            "Hawaii",
            "Idaho",
            "Illinois",
            "Indiana",
            "Iowa",
            "Kansas",
            "Kentucky",
            "Louisiana",
            "Maine",
            "Maryland",
            "Massachusetts",
            "Michigan",
            "Minnesota",
            "Mississippi",
            "Missouri",
            "Montana",
            "Nebraska",
            "Nevada",
            "New Hampshire",
            "New Jersey",
            "New Mexico",
            "New York",
            "North Carolina",
            "North Dakota",
            "Ohio",
            "Oklahoma",
            "Oregon",
            "Pennsylvania",
            "Rhode Island",
            "South Carolina",
            "South Dakota",
            "Tennessee",
            "Texas",
            "Utah",
            "Vermont",
            "Virginia",
            "Washington",
            "West Virginia",
            "Wisconsin",
            "Wyoming"
           ],
           "locationmode": "USA-states",
           "locations": [
            "AL",
            "AK",
            "AZ",
            "AR",
            "CA",
            "CO",
            "CT",
            "DE",
            "DC",
            "FL",
            "GA",
            "HI",
            "ID",
            "IL",
            "IN",
            "IA",
            "KS",
            "KY",
            "LA",
            "ME",
            "MD",
            "MA",
            "MI",
            "MN",
            "MS",
            "MO",
            "MT",
            "NE",
            "NV",
            "NH",
            "NJ",
            "NM",
            "NY",
            "NC",
            "ND",
            "OH",
            "OK",
            "OR",
            "PA",
            "RI",
            "SC",
            "SD",
            "TN",
            "TX",
            "UT",
            "VT",
            "VA",
            "WA",
            "WV",
            "WI",
            "WY"
           ],
           "name": "",
           "type": "choropleth",
           "z": [
            16.4,
            12,
            19.1,
            17.6,
            16.2,
            12.6,
            9,
            12.7,
            19.1,
            15.2,
            18.5,
            12.3,
            14.4,
            13.8,
            16,
            10.5,
            14.2,
            16.9,
            18.9,
            12.5,
            9.9,
            10.8,
            14.9,
            10.6,
            21,
            15.3,
            14.8,
            10.1,
            15,
            7.3,
            10.6,
            19.9,
            15.9,
            16.6,
            11.2,
            14.6,
            14.4,
            14,
            12,
            13.5,
            16.6,
            14.1,
            16.5,
            17.7,
            10.2,
            10.6,
            10.9,
            11.9,
            16.7,
            11.3,
            9.8
           ]
          }
         ],
         "name": "2009"
        },
        {
         "data": [
          {
           "coloraxis": "coloraxis",
           "customdata": [
            [
             "AL"
            ],
            [
             "AK"
            ],
            [
             "AZ"
            ],
            [
             "AR"
            ],
            [
             "CA"
            ],
            [
             "CO"
            ],
            [
             "CT"
            ],
            [
             "DE"
            ],
            [
             "DC"
            ],
            [
             "FL"
            ],
            [
             "GA"
            ],
            [
             "HI"
            ],
            [
             "ID"
            ],
            [
             "IL"
            ],
            [
             "IN"
            ],
            [
             "IA"
            ],
            [
             "KS"
            ],
            [
             "KY"
            ],
            [
             "LA"
            ],
            [
             "ME"
            ],
            [
             "MD"
            ],
            [
             "MA"
            ],
            [
             "MI"
            ],
            [
             "MN"
            ],
            [
             "MS"
            ],
            [
             "MO"
            ],
            [
             "MT"
            ],
            [
             "NE"
            ],
            [
             "NV"
            ],
            [
             "NH"
            ],
            [
             "NJ"
            ],
            [
             "NM"
            ],
            [
             "NY"
            ],
            [
             "NC"
            ],
            [
             "ND"
            ],
            [
             "OH"
            ],
            [
             "OK"
            ],
            [
             "OR"
            ],
            [
             "PA"
            ],
            [
             "RI"
            ],
            [
             "SC"
            ],
            [
             "SD"
            ],
            [
             "TN"
            ],
            [
             "TX"
            ],
            [
             "UT"
            ],
            [
             "VT"
            ],
            [
             "VA"
            ],
            [
             "WA"
            ],
            [
             "WV"
            ],
            [
             "WI"
            ],
            [
             "WY"
            ]
           ],
           "geo": "geo",
           "hovertemplate": "<b>%{hovertext}</b><br><br>year=2010<br>povertyPercentage=%{z}<extra></extra>",
           "hovertext": [
            "Alabama",
            "Alaska",
            "Arizona",
            "Arkansas",
            "California",
            "Colorado",
            "Connecticut",
            "Delaware",
            "District of Columbia",
            "Florida",
            "Georgia",
            "Hawaii",
            "Idaho",
            "Illinois",
            "Indiana",
            "Iowa",
            "Kansas",
            "Kentucky",
            "Louisiana",
            "Maine",
            "Maryland",
            "Massachusetts",
            "Michigan",
            "Minnesota",
            "Mississippi",
            "Missouri",
            "Montana",
            "Nebraska",
            "Nevada",
            "New Hampshire",
            "New Jersey",
            "New Mexico",
            "New York",
            "North Carolina",
            "North Dakota",
            "Ohio",
            "Oklahoma",
            "Oregon",
            "Pennsylvania",
            "Rhode Island",
            "South Carolina",
            "South Dakota",
            "Tennessee",
            "Texas",
            "Utah",
            "Vermont",
            "Virginia",
            "Washington",
            "West Virginia",
            "Wisconsin",
            "Wyoming"
           ],
           "locationmode": "USA-states",
           "locations": [
            "AL",
            "AK",
            "AZ",
            "AR",
            "CA",
            "CO",
            "CT",
            "DE",
            "DC",
            "FL",
            "GA",
            "HI",
            "ID",
            "IL",
            "IN",
            "IA",
            "KS",
            "KY",
            "LA",
            "ME",
            "MD",
            "MA",
            "MI",
            "MN",
            "MS",
            "MO",
            "MT",
            "NE",
            "NV",
            "NH",
            "NJ",
            "NM",
            "NY",
            "NC",
            "ND",
            "OH",
            "OK",
            "OR",
            "PA",
            "RI",
            "SC",
            "SD",
            "TN",
            "TX",
            "UT",
            "VT",
            "VA",
            "WA",
            "WV",
            "WI",
            "WY"
           ],
           "name": "",
           "type": "choropleth",
           "z": [
            16.2,
            11.4,
            18.3,
            18,
            16.4,
            12.5,
            9.7,
            13.1,
            19.3,
            15.4,
            18.4,
            12.8,
            14.7,
            13.6,
            15.7,
            10.3,
            14.3,
            17.2,
            21.2,
            13,
            10,
            10.9,
            14.8,
            10.3,
            20.6,
            15.2,
            14.8,
            10.9,
            15.9,
            7.4,
            10.6,
            20.3,
            16.4,
            16.7,
            11.3,
            15.3,
            16.1,
            14.1,
            12.9,
            13.7,
            17.5,
            13.6,
            17.2,
            17.6,
            10.7,
            11.2,
            10.9,
            11.9,
            17,
            11.5,
            10
           ]
          }
         ],
         "name": "2010"
        },
        {
         "data": [
          {
           "coloraxis": "coloraxis",
           "customdata": [
            [
             "AL"
            ],
            [
             "AK"
            ],
            [
             "AZ"
            ],
            [
             "AR"
            ],
            [
             "CA"
            ],
            [
             "CO"
            ],
            [
             "CT"
            ],
            [
             "DE"
            ],
            [
             "DC"
            ],
            [
             "FL"
            ],
            [
             "GA"
            ],
            [
             "HI"
            ],
            [
             "ID"
            ],
            [
             "IL"
            ],
            [
             "IN"
            ],
            [
             "IA"
            ],
            [
             "KS"
            ],
            [
             "KY"
            ],
            [
             "LA"
            ],
            [
             "ME"
            ],
            [
             "MD"
            ],
            [
             "MA"
            ],
            [
             "MI"
            ],
            [
             "MN"
            ],
            [
             "MS"
            ],
            [
             "MO"
            ],
            [
             "MT"
            ],
            [
             "NE"
            ],
            [
             "NV"
            ],
            [
             "NH"
            ],
            [
             "NJ"
            ],
            [
             "NM"
            ],
            [
             "NY"
            ],
            [
             "NC"
            ],
            [
             "ND"
            ],
            [
             "OH"
            ],
            [
             "OK"
            ],
            [
             "OR"
            ],
            [
             "PA"
            ],
            [
             "RI"
            ],
            [
             "SC"
            ],
            [
             "SD"
            ],
            [
             "TN"
            ],
            [
             "TX"
            ],
            [
             "UT"
            ],
            [
             "VT"
            ],
            [
             "VA"
            ],
            [
             "WA"
            ],
            [
             "WV"
            ],
            [
             "WI"
            ],
            [
             "WY"
            ]
           ],
           "geo": "geo",
           "hovertemplate": "<b>%{hovertext}</b><br><br>year=2011<br>povertyPercentage=%{z}<extra></extra>",
           "hovertext": [
            "Alabama",
            "Alaska",
            "Arizona",
            "Arkansas",
            "California",
            "Colorado",
            "Connecticut",
            "Delaware",
            "District of Columbia",
            "Florida",
            "Georgia",
            "Hawaii",
            "Idaho",
            "Illinois",
            "Indiana",
            "Iowa",
            "Kansas",
            "Kentucky",
            "Louisiana",
            "Maine",
            "Maryland",
            "Massachusetts",
            "Michigan",
            "Minnesota",
            "Mississippi",
            "Missouri",
            "Montana",
            "Nebraska",
            "Nevada",
            "New Hampshire",
            "New Jersey",
            "New Mexico",
            "New York",
            "North Carolina",
            "North Dakota",
            "Ohio",
            "Oklahoma",
            "Oregon",
            "Pennsylvania",
            "Rhode Island",
            "South Carolina",
            "South Dakota",
            "Tennessee",
            "Texas",
            "Utah",
            "Vermont",
            "Virginia",
            "Washington",
            "West Virginia",
            "Wisconsin",
            "Wyoming"
           ],
           "locationmode": "USA-states",
           "locations": [
            "AL",
            "AK",
            "AZ",
            "AR",
            "CA",
            "CO",
            "CT",
            "DE",
            "DC",
            "FL",
            "GA",
            "HI",
            "ID",
            "IL",
            "IN",
            "IA",
            "KS",
            "KY",
            "LA",
            "ME",
            "MD",
            "MA",
            "MI",
            "MN",
            "MS",
            "MO",
            "MT",
            "NE",
            "NV",
            "NH",
            "NJ",
            "NM",
            "NY",
            "NC",
            "ND",
            "OH",
            "OK",
            "OR",
            "PA",
            "RI",
            "SC",
            "SD",
            "TN",
            "TX",
            "UT",
            "VT",
            "VA",
            "WA",
            "WV",
            "WI",
            "WY"
           ],
           "name": "",
           "type": "choropleth",
           "z": [
            16.1,
            10.9,
            18.8,
            18.6,
            15.9,
            11.9,
            10.6,
            13.7,
            19.9,
            15,
            17.6,
            12.3,
            14.4,
            13.4,
            14.1,
            10.5,
            13.8,
            18,
            20.5,
            12.8,
            9.8,
            11.3,
            14.4,
            10.7,
            20.6,
            14.8,
            14.8,
            11.2,
            16.2,
            8.3,
            10.6,
            21.4,
            15.9,
            17.1,
            10.4,
            14.7,
            15.3,
            14.3,
            13,
            13.5,
            17.2,
            12.5,
            17.7,
            17.1,
            10.1,
            10.5,
            10.8,
            12,
            17.2,
            11.8,
            10.7
           ]
          }
         ],
         "name": "2011"
        },
        {
         "data": [
          {
           "coloraxis": "coloraxis",
           "customdata": [
            [
             "AL"
            ],
            [
             "AK"
            ],
            [
             "AZ"
            ],
            [
             "AR"
            ],
            [
             "CA"
            ],
            [
             "CO"
            ],
            [
             "CT"
            ],
            [
             "DE"
            ],
            [
             "DC"
            ],
            [
             "FL"
            ],
            [
             "GA"
            ],
            [
             "HI"
            ],
            [
             "ID"
            ],
            [
             "IL"
            ],
            [
             "IN"
            ],
            [
             "IA"
            ],
            [
             "KS"
            ],
            [
             "KY"
            ],
            [
             "LA"
            ],
            [
             "ME"
            ],
            [
             "MD"
            ],
            [
             "MA"
            ],
            [
             "MI"
            ],
            [
             "MN"
            ],
            [
             "MS"
            ],
            [
             "MO"
            ],
            [
             "MT"
            ],
            [
             "NE"
            ],
            [
             "NV"
            ],
            [
             "NH"
            ],
            [
             "NJ"
            ],
            [
             "NM"
            ],
            [
             "NY"
            ],
            [
             "NC"
            ],
            [
             "ND"
            ],
            [
             "OH"
            ],
            [
             "OK"
            ],
            [
             "OR"
            ],
            [
             "PA"
            ],
            [
             "RI"
            ],
            [
             "SC"
            ],
            [
             "SD"
            ],
            [
             "TN"
            ],
            [
             "TX"
            ],
            [
             "UT"
            ],
            [
             "VT"
            ],
            [
             "VA"
            ],
            [
             "WA"
            ],
            [
             "WV"
            ],
            [
             "WI"
            ],
            [
             "WY"
            ]
           ],
           "geo": "geo",
           "hovertemplate": "<b>%{hovertext}</b><br><br>year=2012<br>povertyPercentage=%{z}<extra></extra>",
           "hovertext": [
            "Alabama",
            "Alaska",
            "Arizona",
            "Arkansas",
            "California",
            "Colorado",
            "Connecticut",
            "Delaware",
            "District of Columbia",
            "Florida",
            "Georgia",
            "Hawaii",
            "Idaho",
            "Illinois",
            "Indiana",
            "Iowa",
            "Kansas",
            "Kentucky",
            "Louisiana",
            "Maine",
            "Maryland",
            "Massachusetts",
            "Michigan",
            "Minnesota",
            "Mississippi",
            "Missouri",
            "Montana",
            "Nebraska",
            "Nevada",
            "New Hampshire",
            "New Jersey",
            "New Mexico",
            "New York",
            "North Carolina",
            "North Dakota",
            "Ohio",
            "Oklahoma",
            "Oregon",
            "Pennsylvania",
            "Rhode Island",
            "South Carolina",
            "South Dakota",
            "Tennessee",
            "Texas",
            "Utah",
            "Vermont",
            "Virginia",
            "Washington",
            "West Virginia",
            "Wisconsin",
            "Wyoming"
           ],
           "locationmode": "USA-states",
           "locations": [
            "AL",
            "AK",
            "AZ",
            "AR",
            "CA",
            "CO",
            "CT",
            "DE",
            "DC",
            "FL",
            "GA",
            "HI",
            "ID",
            "IL",
            "IN",
            "IA",
            "KS",
            "KY",
            "LA",
            "ME",
            "MD",
            "MA",
            "MI",
            "MN",
            "MS",
            "MO",
            "MT",
            "NE",
            "NV",
            "NH",
            "NJ",
            "NM",
            "NY",
            "NC",
            "ND",
            "OH",
            "OK",
            "OR",
            "PA",
            "RI",
            "SC",
            "SD",
            "TN",
            "TX",
            "UT",
            "VT",
            "VA",
            "WA",
            "WV",
            "WI",
            "WY"
           ],
           "name": "",
           "type": "choropleth",
           "z": [
            16.8,
            10.55,
            18.75,
            17.35,
            15.4,
            11.45,
            10.05,
            12.399999999999999,
            19.75,
            15.45,
            17.700000000000003,
            11.55,
            13.4,
            13.05,
            14.5,
            10.9,
            13.2,
            19.25,
            20.75,
            12.8,
            9.9,
            11.850000000000001,
            13.9,
            9.85,
            20.35,
            13.7,
            13.15,
            11.05,
            15.5,
            7.45,
            10.7,
            21.6,
            15.5,
            16.4,
            10.8,
            14.7,
            16.4,
            13.850000000000001,
            12.5,
            12.15,
            16.95,
            12.9,
            16.75,
            16.55,
            10.3,
            9.7,
            10.55,
            11.95,
            17.75,
            11.850000000000001,
            10.5
           ]
          }
         ],
         "name": "2012"
        },
        {
         "data": [
          {
           "coloraxis": "coloraxis",
           "customdata": [
            [
             "AL"
            ],
            [
             "AK"
            ],
            [
             "AZ"
            ],
            [
             "AR"
            ],
            [
             "CA"
            ],
            [
             "CO"
            ],
            [
             "CT"
            ],
            [
             "DE"
            ],
            [
             "DC"
            ],
            [
             "FL"
            ],
            [
             "GA"
            ],
            [
             "HI"
            ],
            [
             "ID"
            ],
            [
             "IL"
            ],
            [
             "IN"
            ],
            [
             "IA"
            ],
            [
             "KS"
            ],
            [
             "KY"
            ],
            [
             "LA"
            ],
            [
             "ME"
            ],
            [
             "MD"
            ],
            [
             "MA"
            ],
            [
             "MI"
            ],
            [
             "MN"
            ],
            [
             "MS"
            ],
            [
             "MO"
            ],
            [
             "MT"
            ],
            [
             "NE"
            ],
            [
             "NV"
            ],
            [
             "NH"
            ],
            [
             "NJ"
            ],
            [
             "NM"
            ],
            [
             "NY"
            ],
            [
             "NC"
            ],
            [
             "ND"
            ],
            [
             "OH"
            ],
            [
             "OK"
            ],
            [
             "OR"
            ],
            [
             "PA"
            ],
            [
             "RI"
            ],
            [
             "SC"
            ],
            [
             "SD"
            ],
            [
             "TN"
            ],
            [
             "TX"
            ],
            [
             "UT"
            ],
            [
             "VT"
            ],
            [
             "VA"
            ],
            [
             "WA"
            ],
            [
             "WV"
            ],
            [
             "WI"
            ],
            [
             "WY"
            ]
           ],
           "geo": "geo",
           "hovertemplate": "<b>%{hovertext}</b><br><br>year=2013<br>povertyPercentage=%{z}<extra></extra>",
           "hovertext": [
            "Alabama",
            "Alaska",
            "Arizona",
            "Arkansas",
            "California",
            "Colorado",
            "Connecticut",
            "Delaware",
            "District of Columbia",
            "Florida",
            "Georgia",
            "Hawaii",
            "Idaho",
            "Illinois",
            "Indiana",
            "Iowa",
            "Kansas",
            "Kentucky",
            "Louisiana",
            "Maine",
            "Maryland",
            "Massachusetts",
            "Michigan",
            "Minnesota",
            "Mississippi",
            "Missouri",
            "Montana",
            "Nebraska",
            "Nevada",
            "New Hampshire",
            "New Jersey",
            "New Mexico",
            "New York",
            "North Carolina",
            "North Dakota",
            "Ohio",
            "Oklahoma",
            "Oregon",
            "Pennsylvania",
            "Rhode Island",
            "South Carolina",
            "South Dakota",
            "Tennessee",
            "Texas",
            "Utah",
            "Vermont",
            "Virginia",
            "Washington",
            "West Virginia",
            "Wisconsin",
            "Wyoming"
           ],
           "locationmode": "USA-states",
           "locations": [
            "AL",
            "AK",
            "AZ",
            "AR",
            "CA",
            "CO",
            "CT",
            "DE",
            "DC",
            "FL",
            "GA",
            "HI",
            "ID",
            "IL",
            "IN",
            "IA",
            "KS",
            "KY",
            "LA",
            "ME",
            "MD",
            "MA",
            "MI",
            "MN",
            "MS",
            "MO",
            "MT",
            "NE",
            "NV",
            "NH",
            "NJ",
            "NM",
            "NY",
            "NC",
            "ND",
            "OH",
            "OK",
            "OR",
            "PA",
            "RI",
            "SC",
            "SD",
            "TN",
            "TX",
            "UT",
            "VT",
            "VA",
            "WA",
            "WV",
            "WI",
            "WY"
           ],
           "name": "",
           "type": "choropleth",
           "z": [
            17.5,
            10.2,
            18.7,
            16.1,
            14.9,
            11,
            9.5,
            11.1,
            19.6,
            15.9,
            17.8,
            10.8,
            12.4,
            12.7,
            14.9,
            11.3,
            12.6,
            20.5,
            21,
            12.8,
            10,
            12.4,
            13.4,
            9,
            20.1,
            12.6,
            11.5,
            10.9,
            14.8,
            6.6,
            10.8,
            21.8,
            15.1,
            15.7,
            11.2,
            14.7,
            17.5,
            13.4,
            12,
            10.8,
            16.7,
            13.3,
            15.8,
            16,
            10.5,
            8.9,
            10.3,
            11.9,
            18.3,
            11.9,
            10.3
           ]
          }
         ],
         "name": "2013"
        },
        {
         "data": [
          {
           "coloraxis": "coloraxis",
           "customdata": [
            [
             "AL"
            ],
            [
             "AK"
            ],
            [
             "AZ"
            ],
            [
             "AR"
            ],
            [
             "CA"
            ],
            [
             "CO"
            ],
            [
             "CT"
            ],
            [
             "DE"
            ],
            [
             "DC"
            ],
            [
             "FL"
            ],
            [
             "GA"
            ],
            [
             "HI"
            ],
            [
             "ID"
            ],
            [
             "IL"
            ],
            [
             "IN"
            ],
            [
             "IA"
            ],
            [
             "KS"
            ],
            [
             "KY"
            ],
            [
             "LA"
            ],
            [
             "ME"
            ],
            [
             "MD"
            ],
            [
             "MA"
            ],
            [
             "MI"
            ],
            [
             "MN"
            ],
            [
             "MS"
            ],
            [
             "MO"
            ],
            [
             "MT"
            ],
            [
             "NE"
            ],
            [
             "NV"
            ],
            [
             "NH"
            ],
            [
             "NJ"
            ],
            [
             "NM"
            ],
            [
             "NY"
            ],
            [
             "NC"
            ],
            [
             "ND"
            ],
            [
             "OH"
            ],
            [
             "OK"
            ],
            [
             "OR"
            ],
            [
             "PA"
            ],
            [
             "RI"
            ],
            [
             "SC"
            ],
            [
             "SD"
            ],
            [
             "TN"
            ],
            [
             "TX"
            ],
            [
             "UT"
            ],
            [
             "VT"
            ],
            [
             "VA"
            ],
            [
             "WA"
            ],
            [
             "WV"
            ],
            [
             "WI"
            ],
            [
             "WY"
            ]
           ],
           "geo": "geo",
           "hovertemplate": "<b>%{hovertext}</b><br><br>year=2014<br>povertyPercentage=%{z}<extra></extra>",
           "hovertext": [
            "Alabama",
            "Alaska",
            "Arizona",
            "Arkansas",
            "California",
            "Colorado",
            "Connecticut",
            "Delaware",
            "District of Columbia",
            "Florida",
            "Georgia",
            "Hawaii",
            "Idaho",
            "Illinois",
            "Indiana",
            "Iowa",
            "Kansas",
            "Kentucky",
            "Louisiana",
            "Maine",
            "Maryland",
            "Massachusetts",
            "Michigan",
            "Minnesota",
            "Mississippi",
            "Missouri",
            "Montana",
            "Nebraska",
            "Nevada",
            "New Hampshire",
            "New Jersey",
            "New Mexico",
            "New York",
            "North Carolina",
            "North Dakota",
            "Ohio",
            "Oklahoma",
            "Oregon",
            "Pennsylvania",
            "Rhode Island",
            "South Carolina",
            "South Dakota",
            "Tennessee",
            "Texas",
            "Utah",
            "Vermont",
            "Virginia",
            "Washington",
            "West Virginia",
            "Wisconsin",
            "Wyoming"
           ],
           "locationmode": "USA-states",
           "locations": [
            "AL",
            "AK",
            "AZ",
            "AR",
            "CA",
            "CO",
            "CT",
            "DE",
            "DC",
            "FL",
            "GA",
            "HI",
            "ID",
            "IL",
            "IN",
            "IA",
            "KS",
            "KY",
            "LA",
            "ME",
            "MD",
            "MA",
            "MI",
            "MN",
            "MS",
            "MO",
            "MT",
            "NE",
            "NV",
            "NH",
            "NJ",
            "NM",
            "NY",
            "NC",
            "ND",
            "OH",
            "OK",
            "OR",
            "PA",
            "RI",
            "SC",
            "SD",
            "TN",
            "TX",
            "UT",
            "VT",
            "VA",
            "WA",
            "WV",
            "WI",
            "WY"
           ],
           "name": "",
           "type": "choropleth",
           "z": [
            16.8,
            11.2,
            18.1,
            16.8,
            14.5,
            10.2,
            9.2,
            11.2,
            17.3,
            15.2,
            16.8,
            10.3,
            11.9,
            12.2,
            13.3,
            10.1,
            12.5,
            18.2,
            20.6,
            13.2,
            8.9,
            11.5,
            12.9,
            8.3,
            20.8,
            11,
            11.9,
            10.6,
            13.3,
            6.9,
            10.7,
            19.1,
            13.4,
            15.3,
            10.5,
            14.3,
            15.3,
            12.7,
            12,
            11.5,
            14.9,
            13.7,
            15.6,
            14.9,
            9.3,
            9.9,
            10.8,
            11.5,
            17.7,
            11,
            10.1
           ]
          }
         ],
         "name": "2014"
        },
        {
         "data": [
          {
           "coloraxis": "coloraxis",
           "customdata": [
            [
             "AL"
            ],
            [
             "AK"
            ],
            [
             "AZ"
            ],
            [
             "AR"
            ],
            [
             "CA"
            ],
            [
             "CO"
            ],
            [
             "CT"
            ],
            [
             "DE"
            ],
            [
             "DC"
            ],
            [
             "FL"
            ],
            [
             "GA"
            ],
            [
             "HI"
            ],
            [
             "ID"
            ],
            [
             "IL"
            ],
            [
             "IN"
            ],
            [
             "IA"
            ],
            [
             "KS"
            ],
            [
             "KY"
            ],
            [
             "LA"
            ],
            [
             "ME"
            ],
            [
             "MD"
            ],
            [
             "MA"
            ],
            [
             "MI"
            ],
            [
             "MN"
            ],
            [
             "MS"
            ],
            [
             "MO"
            ],
            [
             "MT"
            ],
            [
             "NE"
            ],
            [
             "NV"
            ],
            [
             "NH"
            ],
            [
             "NJ"
            ],
            [
             "NM"
            ],
            [
             "NY"
            ],
            [
             "NC"
            ],
            [
             "ND"
            ],
            [
             "OH"
            ],
            [
             "OK"
            ],
            [
             "OR"
            ],
            [
             "PA"
            ],
            [
             "RI"
            ],
            [
             "SC"
            ],
            [
             "SD"
            ],
            [
             "TN"
            ],
            [
             "TX"
            ],
            [
             "UT"
            ],
            [
             "VT"
            ],
            [
             "VA"
            ],
            [
             "WA"
            ],
            [
             "WV"
            ],
            [
             "WI"
            ],
            [
             "WY"
            ]
           ],
           "geo": "geo",
           "hovertemplate": "<b>%{hovertext}</b><br><br>year=2015<br>povertyPercentage=%{z}<extra></extra>",
           "hovertext": [
            "Alabama",
            "Alaska",
            "Arizona",
            "Arkansas",
            "California",
            "Colorado",
            "Connecticut",
            "Delaware",
            "District of Columbia",
            "Florida",
            "Georgia",
            "Hawaii",
            "Idaho",
            "Illinois",
            "Indiana",
            "Iowa",
            "Kansas",
            "Kentucky",
            "Louisiana",
            "Maine",
            "Maryland",
            "Massachusetts",
            "Michigan",
            "Minnesota",
            "Mississippi",
            "Missouri",
            "Montana",
            "Nebraska",
            "Nevada",
            "New Hampshire",
            "New Jersey",
            "New Mexico",
            "New York",
            "North Carolina",
            "North Dakota",
            "Ohio",
            "Oklahoma",
            "Oregon",
            "Pennsylvania",
            "Rhode Island",
            "South Carolina",
            "South Dakota",
            "Tennessee",
            "Texas",
            "Utah",
            "Vermont",
            "Virginia",
            "Washington",
            "West Virginia",
            "Wisconsin",
            "Wyoming"
           ],
           "locationmode": "USA-states",
           "locations": [
            "AL",
            "AK",
            "AZ",
            "AR",
            "CA",
            "CO",
            "CT",
            "DE",
            "DC",
            "FL",
            "GA",
            "HI",
            "ID",
            "IL",
            "IN",
            "IA",
            "KS",
            "KY",
            "LA",
            "ME",
            "MD",
            "MA",
            "MI",
            "MN",
            "MS",
            "MO",
            "MT",
            "NE",
            "NV",
            "NH",
            "NJ",
            "NM",
            "NY",
            "NC",
            "ND",
            "OH",
            "OK",
            "OR",
            "PA",
            "RI",
            "SC",
            "SD",
            "TN",
            "TX",
            "UT",
            "VT",
            "VA",
            "WA",
            "WV",
            "WI",
            "WY"
           ],
           "name": "",
           "type": "choropleth",
           "z": [
            15.8,
            12.1,
            15.5,
            15.6,
            13.4,
            8.7,
            9.9,
            10.6,
            15.5,
            14.3,
            15.6,
            10.2,
            11.7,
            11.3,
            12.3,
            9.7,
            13.4,
            16.4,
            20,
            12.3,
            8.2,
            10.6,
            12.2,
            8.6,
            19.5,
            11.3,
            11.1,
            10.1,
            12.3,
            6.7,
            9.7,
            18.7,
            13.2,
            14.4,
            11,
            13.3,
            13.8,
            11.3,
            11.5,
            11.8,
            14.6,
            12.9,
            13.7,
            14,
            8.8,
            10.2,
            10.8,
            10.7,
            16.6,
            10.5,
            11
           ]
          }
         ],
         "name": "2015"
        },
        {
         "data": [
          {
           "coloraxis": "coloraxis",
           "customdata": [
            [
             "AL"
            ],
            [
             "AK"
            ],
            [
             "AZ"
            ],
            [
             "AR"
            ],
            [
             "CA"
            ],
            [
             "CO"
            ],
            [
             "CT"
            ],
            [
             "DE"
            ],
            [
             "DC"
            ],
            [
             "FL"
            ],
            [
             "GA"
            ],
            [
             "HI"
            ],
            [
             "ID"
            ],
            [
             "IL"
            ],
            [
             "IN"
            ],
            [
             "IA"
            ],
            [
             "KS"
            ],
            [
             "KY"
            ],
            [
             "LA"
            ],
            [
             "ME"
            ],
            [
             "MD"
            ],
            [
             "MA"
            ],
            [
             "MI"
            ],
            [
             "MN"
            ],
            [
             "MS"
            ],
            [
             "MO"
            ],
            [
             "MT"
            ],
            [
             "NE"
            ],
            [
             "NV"
            ],
            [
             "NH"
            ],
            [
             "NJ"
            ],
            [
             "NM"
            ],
            [
             "NY"
            ],
            [
             "NC"
            ],
            [
             "ND"
            ],
            [
             "OH"
            ],
            [
             "OK"
            ],
            [
             "OR"
            ],
            [
             "PA"
            ],
            [
             "RI"
            ],
            [
             "SC"
            ],
            [
             "SD"
            ],
            [
             "TN"
            ],
            [
             "TX"
            ],
            [
             "UT"
            ],
            [
             "VT"
            ],
            [
             "VA"
            ],
            [
             "WA"
            ],
            [
             "WV"
            ],
            [
             "WI"
            ],
            [
             "WY"
            ]
           ],
           "geo": "geo",
           "hovertemplate": "<b>%{hovertext}</b><br><br>year=2016<br>povertyPercentage=%{z}<extra></extra>",
           "hovertext": [
            "Alabama",
            "Alaska",
            "Arizona",
            "Arkansas",
            "California",
            "Colorado",
            "Connecticut",
            "Delaware",
            "District of Columbia",
            "Florida",
            "Georgia",
            "Hawaii",
            "Idaho",
            "Illinois",
            "Indiana",
            "Iowa",
            "Kansas",
            "Kentucky",
            "Louisiana",
            "Maine",
            "Maryland",
            "Massachusetts",
            "Michigan",
            "Minnesota",
            "Mississippi",
            "Missouri",
            "Montana",
            "Nebraska",
            "Nevada",
            "New Hampshire",
            "New Jersey",
            "New Mexico",
            "New York",
            "North Carolina",
            "North Dakota",
            "Ohio",
            "Oklahoma",
            "Oregon",
            "Pennsylvania",
            "Rhode Island",
            "South Carolina",
            "South Dakota",
            "Tennessee",
            "Texas",
            "Utah",
            "Vermont",
            "Virginia",
            "Washington",
            "West Virginia",
            "Wisconsin",
            "Wyoming"
           ],
           "locationmode": "USA-states",
           "locations": [
            "AL",
            "AK",
            "AZ",
            "AR",
            "CA",
            "CO",
            "CT",
            "DE",
            "DC",
            "FL",
            "GA",
            "HI",
            "ID",
            "IL",
            "IN",
            "IA",
            "KS",
            "KY",
            "LA",
            "ME",
            "MD",
            "MA",
            "MI",
            "MN",
            "MS",
            "MO",
            "MT",
            "NE",
            "NV",
            "NH",
            "NJ",
            "NM",
            "NY",
            "NC",
            "ND",
            "OH",
            "OK",
            "OR",
            "PA",
            "RI",
            "SC",
            "SD",
            "TN",
            "TX",
            "UT",
            "VT",
            "VA",
            "WA",
            "WV",
            "WI",
            "WY"
           ],
           "name": "",
           "type": "choropleth",
           "z": [
            16,
            12.2,
            14.4,
            15.5,
            12.5,
            8.9,
            9.9,
            9.6,
            14.9,
            13.6,
            14.7,
            9.5,
            11.3,
            10.9,
            11.8,
            9.2,
            10.8,
            15.3,
            19.8,
            12.6,
            7.1,
            9.8,
            11,
            8.7,
            19.8,
            11.9,
            10.4,
            10.4,
            12.2,
            6.4,
            9.1,
            18.7,
            11.8,
            14.1,
            10.9,
            12.8,
            14,
            10.6,
            11.5,
            10.3,
            14.1,
            11.8,
            12.6,
            13.7,
            7.9,
            9.6,
            10.7,
            10.3,
            17.2,
            9.5,
            11.4
           ]
          }
         ],
         "name": "2016"
        },
        {
         "data": [
          {
           "coloraxis": "coloraxis",
           "customdata": [
            [
             "AL"
            ],
            [
             "AK"
            ],
            [
             "AZ"
            ],
            [
             "AR"
            ],
            [
             "CA"
            ],
            [
             "CO"
            ],
            [
             "CT"
            ],
            [
             "DE"
            ],
            [
             "DC"
            ],
            [
             "FL"
            ],
            [
             "GA"
            ],
            [
             "HI"
            ],
            [
             "ID"
            ],
            [
             "IL"
            ],
            [
             "IN"
            ],
            [
             "IA"
            ],
            [
             "KS"
            ],
            [
             "KY"
            ],
            [
             "LA"
            ],
            [
             "ME"
            ],
            [
             "MD"
            ],
            [
             "MA"
            ],
            [
             "MI"
            ],
            [
             "MN"
            ],
            [
             "MS"
            ],
            [
             "MO"
            ],
            [
             "MT"
            ],
            [
             "NE"
            ],
            [
             "NV"
            ],
            [
             "NH"
            ],
            [
             "NJ"
            ],
            [
             "NM"
            ],
            [
             "NY"
            ],
            [
             "NC"
            ],
            [
             "ND"
            ],
            [
             "OH"
            ],
            [
             "OK"
            ],
            [
             "OR"
            ],
            [
             "PA"
            ],
            [
             "RI"
            ],
            [
             "SC"
            ],
            [
             "SD"
            ],
            [
             "TN"
            ],
            [
             "TX"
            ],
            [
             "UT"
            ],
            [
             "VT"
            ],
            [
             "VA"
            ],
            [
             "WA"
            ],
            [
             "WV"
            ],
            [
             "WI"
            ],
            [
             "WY"
            ]
           ],
           "geo": "geo",
           "hovertemplate": "<b>%{hovertext}</b><br><br>year=2017<br>povertyPercentage=%{z}<extra></extra>",
           "hovertext": [
            "Alabama",
            "Alaska",
            "Arizona",
            "Arkansas",
            "California",
            "Colorado",
            "Connecticut",
            "Delaware",
            "District of Columbia",
            "Florida",
            "Georgia",
            "Hawaii",
            "Idaho",
            "Illinois",
            "Indiana",
            "Iowa",
            "Kansas",
            "Kentucky",
            "Louisiana",
            "Maine",
            "Maryland",
            "Massachusetts",
            "Michigan",
            "Minnesota",
            "Mississippi",
            "Missouri",
            "Montana",
            "Nebraska",
            "Nevada",
            "New Hampshire",
            "New Jersey",
            "New Mexico",
            "New York",
            "North Carolina",
            "North Dakota",
            "Ohio",
            "Oklahoma",
            "Oregon",
            "Pennsylvania",
            "Rhode Island",
            "South Carolina",
            "South Dakota",
            "Tennessee",
            "Texas",
            "Utah",
            "Vermont",
            "Virginia",
            "Washington",
            "West Virginia",
            "Wisconsin",
            "Wyoming"
           ],
           "locationmode": "USA-states",
           "locations": [
            "AL",
            "AK",
            "AZ",
            "AR",
            "CA",
            "CO",
            "CT",
            "DE",
            "DC",
            "FL",
            "GA",
            "HI",
            "ID",
            "IL",
            "IN",
            "IA",
            "KS",
            "KY",
            "LA",
            "ME",
            "MD",
            "MA",
            "MI",
            "MN",
            "MS",
            "MO",
            "MT",
            "NE",
            "NV",
            "NH",
            "NJ",
            "NM",
            "NY",
            "NC",
            "ND",
            "OH",
            "OK",
            "OR",
            "PA",
            "RI",
            "SC",
            "SD",
            "TN",
            "TX",
            "UT",
            "VT",
            "VA",
            "WA",
            "WV",
            "WI",
            "WY"
           ],
           "name": "",
           "type": "choropleth",
           "z": [
            14.7,
            11.8,
            12.1,
            15,
            11.4,
            9.1,
            9.7,
            7.6,
            13.7,
            12.8,
            13.3,
            9.4,
            10,
            10.4,
            11.1,
            8.7,
            10.4,
            14.2,
            19.1,
            11.5,
            7.5,
            9.2,
            10.7,
            7.4,
            19.1,
            11,
            10.1,
            10.3,
            12.2,
            5.6,
            8.2,
            17.2,
            12.1,
            13.6,
            10.1,
            12.4,
            12.4,
            9.8,
            10.5,
            9.8,
            14.4,
            10.6,
            12.1,
            12.6,
            7.6,
            9,
            9.7,
            8.8,
            15.6,
            8.7,
            10.5
           ]
          }
         ],
         "name": "2017"
        },
        {
         "data": [
          {
           "coloraxis": "coloraxis",
           "customdata": [
            [
             "AL"
            ],
            [
             "AK"
            ],
            [
             "AZ"
            ],
            [
             "AR"
            ],
            [
             "CA"
            ],
            [
             "CO"
            ],
            [
             "CT"
            ],
            [
             "DE"
            ],
            [
             "DC"
            ],
            [
             "FL"
            ],
            [
             "GA"
            ],
            [
             "HI"
            ],
            [
             "ID"
            ],
            [
             "IL"
            ],
            [
             "IN"
            ],
            [
             "IA"
            ],
            [
             "KS"
            ],
            [
             "KY"
            ],
            [
             "LA"
            ],
            [
             "ME"
            ],
            [
             "MD"
            ],
            [
             "MA"
            ],
            [
             "MI"
            ],
            [
             "MN"
            ],
            [
             "MS"
            ],
            [
             "MO"
            ],
            [
             "MT"
            ],
            [
             "NE"
            ],
            [
             "NV"
            ],
            [
             "NH"
            ],
            [
             "NJ"
            ],
            [
             "NM"
            ],
            [
             "NY"
            ],
            [
             "NC"
            ],
            [
             "ND"
            ],
            [
             "OH"
            ],
            [
             "OK"
            ],
            [
             "OR"
            ],
            [
             "PA"
            ],
            [
             "RI"
            ],
            [
             "SC"
            ],
            [
             "SD"
            ],
            [
             "TN"
            ],
            [
             "TX"
            ],
            [
             "UT"
            ],
            [
             "VT"
            ],
            [
             "VA"
            ],
            [
             "WA"
            ],
            [
             "WV"
            ],
            [
             "WI"
            ],
            [
             "WY"
            ]
           ],
           "geo": "geo",
           "hovertemplate": "<b>%{hovertext}</b><br><br>year=2018<br>povertyPercentage=%{z}<extra></extra>",
           "hovertext": [
            "Alabama",
            "Alaska",
            "Arizona",
            "Arkansas",
            "California",
            "Colorado",
            "Connecticut",
            "Delaware",
            "District of Columbia",
            "Florida",
            "Georgia",
            "Hawaii",
            "Idaho",
            "Illinois",
            "Indiana",
            "Iowa",
            "Kansas",
            "Kentucky",
            "Louisiana",
            "Maine",
            "Maryland",
            "Massachusetts",
            "Michigan",
            "Minnesota",
            "Mississippi",
            "Missouri",
            "Montana",
            "Nebraska",
            "Nevada",
            "New Hampshire",
            "New Jersey",
            "New Mexico",
            "New York",
            "North Carolina",
            "North Dakota",
            "Ohio",
            "Oklahoma",
            "Oregon",
            "Pennsylvania",
            "Rhode Island",
            "South Carolina",
            "South Dakota",
            "Tennessee",
            "Texas",
            "Utah",
            "Vermont",
            "Virginia",
            "Washington",
            "West Virginia",
            "Wisconsin",
            "Wyoming"
           ],
           "locationmode": "USA-states",
           "locations": [
            "AL",
            "AK",
            "AZ",
            "AR",
            "CA",
            "CO",
            "CT",
            "DE",
            "DC",
            "FL",
            "GA",
            "HI",
            "ID",
            "IL",
            "IN",
            "IA",
            "KS",
            "KY",
            "LA",
            "ME",
            "MD",
            "MA",
            "MI",
            "MN",
            "MS",
            "MO",
            "MT",
            "NE",
            "NV",
            "NH",
            "NJ",
            "NM",
            "NY",
            "NC",
            "ND",
            "OH",
            "OK",
            "OR",
            "PA",
            "RI",
            "SC",
            "SD",
            "TN",
            "TX",
            "UT",
            "VT",
            "VA",
            "WA",
            "WV",
            "WI",
            "WY"
           ],
           "name": "",
           "type": "choropleth",
           "z": [
            14.6,
            12.3,
            11.2,
            14.7,
            11,
            9.3,
            9.9,
            8.1,
            14.7,
            12.8,
            13.4,
            9.5,
            9.2,
            9.2,
            11.2,
            9.2,
            8.7,
            14.4,
            17.5,
            10,
            8.1,
            8.2,
            10.6,
            7.4,
            18.8,
            10.8,
            10.3,
            9.2,
            12.1,
            5.4,
            7.6,
            16.2,
            11.8,
            13.2,
            9.5,
            12.3,
            13.3,
            9.1,
            10.4,
            8.9,
            13.7,
            11,
            12.7,
            12.9,
            7.2,
            9,
            8.8,
            7.9,
            14.6,
            8.3,
            9.4
           ]
          }
         ],
         "name": "2018"
        },
        {
         "data": [
          {
           "coloraxis": "coloraxis",
           "customdata": [
            [
             "AL"
            ],
            [
             "AK"
            ],
            [
             "AZ"
            ],
            [
             "AR"
            ],
            [
             "CA"
            ],
            [
             "CO"
            ],
            [
             "CT"
            ],
            [
             "DE"
            ],
            [
             "DC"
            ],
            [
             "FL"
            ],
            [
             "GA"
            ],
            [
             "HI"
            ],
            [
             "ID"
            ],
            [
             "IL"
            ],
            [
             "IN"
            ],
            [
             "IA"
            ],
            [
             "KS"
            ],
            [
             "KY"
            ],
            [
             "LA"
            ],
            [
             "ME"
            ],
            [
             "MD"
            ],
            [
             "MA"
            ],
            [
             "MI"
            ],
            [
             "MN"
            ],
            [
             "MS"
            ],
            [
             "MO"
            ],
            [
             "MT"
            ],
            [
             "NE"
            ],
            [
             "NV"
            ],
            [
             "NH"
            ],
            [
             "NJ"
            ],
            [
             "NM"
            ],
            [
             "NY"
            ],
            [
             "NC"
            ],
            [
             "ND"
            ],
            [
             "OH"
            ],
            [
             "OK"
            ],
            [
             "OR"
            ],
            [
             "PA"
            ],
            [
             "RI"
            ],
            [
             "SC"
            ],
            [
             "SD"
            ],
            [
             "TN"
            ],
            [
             "TX"
            ],
            [
             "UT"
            ],
            [
             "VT"
            ],
            [
             "VA"
            ],
            [
             "WA"
            ],
            [
             "WV"
            ],
            [
             "WI"
            ],
            [
             "WY"
            ]
           ],
           "geo": "geo",
           "hovertemplate": "<b>%{hovertext}</b><br><br>year=2019<br>povertyPercentage=%{z}<extra></extra>",
           "hovertext": [
            "Alabama",
            "Alaska",
            "Arizona",
            "Arkansas",
            "California",
            "Colorado",
            "Connecticut",
            "Delaware",
            "District of Columbia",
            "Florida",
            "Georgia",
            "Hawaii",
            "Idaho",
            "Illinois",
            "Indiana",
            "Iowa",
            "Kansas",
            "Kentucky",
            "Louisiana",
            "Maine",
            "Maryland",
            "Massachusetts",
            "Michigan",
            "Minnesota",
            "Mississippi",
            "Missouri",
            "Montana",
            "Nebraska",
            "Nevada",
            "New Hampshire",
            "New Jersey",
            "New Mexico",
            "New York",
            "North Carolina",
            "North Dakota",
            "Ohio",
            "Oklahoma",
            "Oregon",
            "Pennsylvania",
            "Rhode Island",
            "South Carolina",
            "South Dakota",
            "Tennessee",
            "Texas",
            "Utah",
            "Vermont",
            "Virginia",
            "Washington",
            "West Virginia",
            "Wisconsin",
            "Wyoming"
           ],
           "locationmode": "USA-states",
           "locations": [
            "AL",
            "AK",
            "AZ",
            "AR",
            "CA",
            "CO",
            "CT",
            "DE",
            "DC",
            "FL",
            "GA",
            "HI",
            "ID",
            "IL",
            "IN",
            "IA",
            "KS",
            "KY",
            "LA",
            "ME",
            "MD",
            "MA",
            "MI",
            "MN",
            "MS",
            "MO",
            "MT",
            "NE",
            "NV",
            "NH",
            "NJ",
            "NM",
            "NY",
            "NC",
            "ND",
            "OH",
            "OK",
            "OR",
            "PA",
            "RI",
            "SC",
            "SD",
            "TN",
            "TX",
            "UT",
            "VT",
            "VA",
            "WA",
            "WV",
            "WI",
            "WY"
           ],
           "name": "",
           "type": "choropleth",
           "z": [
            14.5,
            11.7,
            11.2,
            15.1,
            11,
            8.9,
            9.2,
            9.6,
            14.4,
            12.5,
            13.1,
            10.1,
            8.5,
            9.3,
            10.8,
            9.5,
            8.6,
            14.6,
            17.3,
            9.2,
            8,
            7.9,
            11,
            7,
            18.1,
            10.8,
            10.4,
            8.4,
            12.1,
            5.6,
            7.3,
            16.7,
            12.3,
            12.8,
            9.1,
            12.2,
            13.8,
            8.9,
            10,
            9,
            14,
            10.2,
            12.3,
            12.9,
            7.5,
            8.3,
            8.8,
            7.6,
            15,
            8.6,
            9.4
           ]
          }
         ],
         "name": "2019"
        },
        {
         "data": [
          {
           "coloraxis": "coloraxis",
           "customdata": [
            [
             "AL"
            ],
            [
             "AK"
            ],
            [
             "AZ"
            ],
            [
             "AR"
            ],
            [
             "CA"
            ],
            [
             "CO"
            ],
            [
             "CT"
            ],
            [
             "DE"
            ],
            [
             "DC"
            ],
            [
             "FL"
            ],
            [
             "GA"
            ],
            [
             "HI"
            ],
            [
             "ID"
            ],
            [
             "IL"
            ],
            [
             "IN"
            ],
            [
             "IA"
            ],
            [
             "KS"
            ],
            [
             "KY"
            ],
            [
             "LA"
            ],
            [
             "ME"
            ],
            [
             "MD"
            ],
            [
             "MA"
            ],
            [
             "MI"
            ],
            [
             "MN"
            ],
            [
             "MS"
            ],
            [
             "MO"
            ],
            [
             "MT"
            ],
            [
             "NE"
            ],
            [
             "NV"
            ],
            [
             "NH"
            ],
            [
             "NJ"
            ],
            [
             "NM"
            ],
            [
             "NY"
            ],
            [
             "NC"
            ],
            [
             "ND"
            ],
            [
             "OH"
            ],
            [
             "OK"
            ],
            [
             "OR"
            ],
            [
             "PA"
            ],
            [
             "RI"
            ],
            [
             "SC"
            ],
            [
             "SD"
            ],
            [
             "TN"
            ],
            [
             "TX"
            ],
            [
             "UT"
            ],
            [
             "VT"
            ],
            [
             "VA"
            ],
            [
             "WA"
            ],
            [
             "WV"
            ],
            [
             "WI"
            ],
            [
             "WY"
            ]
           ],
           "geo": "geo",
           "hovertemplate": "<b>%{hovertext}</b><br><br>year=2020<br>povertyPercentage=%{z}<extra></extra>",
           "hovertext": [
            "Alabama",
            "Alaska",
            "Arizona",
            "Arkansas",
            "California",
            "Colorado",
            "Connecticut",
            "Delaware",
            "District of Columbia",
            "Florida",
            "Georgia",
            "Hawaii",
            "Idaho",
            "Illinois",
            "Indiana",
            "Iowa",
            "Kansas",
            "Kentucky",
            "Louisiana",
            "Maine",
            "Maryland",
            "Massachusetts",
            "Michigan",
            "Minnesota",
            "Mississippi",
            "Missouri",
            "Montana",
            "Nebraska",
            "Nevada",
            "New Hampshire",
            "New Jersey",
            "New Mexico",
            "New York",
            "North Carolina",
            "North Dakota",
            "Ohio",
            "Oklahoma",
            "Oregon",
            "Pennsylvania",
            "Rhode Island",
            "South Carolina",
            "South Dakota",
            "Tennessee",
            "Texas",
            "Utah",
            "Vermont",
            "Virginia",
            "Washington",
            "West Virginia",
            "Wisconsin",
            "Wyoming"
           ],
           "locationmode": "USA-states",
           "locations": [
            "AL",
            "AK",
            "AZ",
            "AR",
            "CA",
            "CO",
            "CT",
            "DE",
            "DC",
            "FL",
            "GA",
            "HI",
            "ID",
            "IL",
            "IN",
            "IA",
            "KS",
            "KY",
            "LA",
            "ME",
            "MD",
            "MA",
            "MI",
            "MN",
            "MS",
            "MO",
            "MT",
            "NE",
            "NV",
            "NH",
            "NJ",
            "NM",
            "NY",
            "NC",
            "ND",
            "OH",
            "OK",
            "OR",
            "PA",
            "RI",
            "SC",
            "SD",
            "TN",
            "TX",
            "UT",
            "VT",
            "VA",
            "WA",
            "WV",
            "WI",
            "WY"
           ],
           "name": "",
           "type": "choropleth",
           "z": [
            14.8,
            11.5,
            12.1,
            15.8,
            11.4,
            8.5,
            9.8,
            10.5,
            14.7,
            13.1,
            13,
            10.2,
            8.9,
            9.4,
            10.9,
            9.4,
            8.9,
            15.8,
            16.9,
            8.9,
            8.6,
            8.6,
            11.7,
            7.7,
            17.8,
            11.5,
            10.7,
            8.1,
            12.6,
            7.1,
            8.2,
            18.3,
            12.4,
            13.3,
            9.6,
            11.4,
            15.8,
            9.5,
            10.8,
            8.8,
            13.3,
            9.7,
            11.4,
            13.7,
            7.1,
            8.4,
            8.6,
            8.3,
            15.5,
            8,
            8.7
           ]
          }
         ],
         "name": "2020"
        }
       ],
       "layout": {
        "coloraxis": {
         "cmax": 21.8,
         "cmin": 5.4,
         "colorbar": {
          "title": {
           "text": "Poverty (%)"
          }
         },
         "colorscale": [
          [
           0,
           "rgb(103,0,31)"
          ],
          [
           0.1,
           "rgb(178,24,43)"
          ],
          [
           0.2,
           "rgb(214,96,77)"
          ],
          [
           0.3,
           "rgb(244,165,130)"
          ],
          [
           0.4,
           "rgb(253,219,199)"
          ],
          [
           0.5,
           "rgb(247,247,247)"
          ],
          [
           0.6,
           "rgb(209,229,240)"
          ],
          [
           0.7,
           "rgb(146,197,222)"
          ],
          [
           0.8,
           "rgb(67,147,195)"
          ],
          [
           0.9,
           "rgb(33,102,172)"
          ],
          [
           1,
           "rgb(5,48,97)"
          ]
         ]
        },
        "geo": {
         "center": {},
         "domain": {
          "x": [
           0,
           1
          ],
          "y": [
           0,
           1
          ]
         },
         "scope": "usa"
        },
        "legend": {
         "tracegroupgap": 0
        },
        "sliders": [
         {
          "active": 0,
          "currentvalue": {
           "prefix": "year="
          },
          "len": 0.9,
          "pad": {
           "b": 10,
           "t": 60
          },
          "steps": [
           {
            "args": [
             [
              "2004"
             ],
             {
              "frame": {
               "duration": 0,
               "redraw": true
              },
              "fromcurrent": true,
              "mode": "immediate",
              "transition": {
               "duration": 0,
               "easing": "linear"
              }
             }
            ],
            "label": "2004",
            "method": "animate"
           },
           {
            "args": [
             [
              "2005"
             ],
             {
              "frame": {
               "duration": 0,
               "redraw": true
              },
              "fromcurrent": true,
              "mode": "immediate",
              "transition": {
               "duration": 0,
               "easing": "linear"
              }
             }
            ],
            "label": "2005",
            "method": "animate"
           },
           {
            "args": [
             [
              "2006"
             ],
             {
              "frame": {
               "duration": 0,
               "redraw": true
              },
              "fromcurrent": true,
              "mode": "immediate",
              "transition": {
               "duration": 0,
               "easing": "linear"
              }
             }
            ],
            "label": "2006",
            "method": "animate"
           },
           {
            "args": [
             [
              "2007"
             ],
             {
              "frame": {
               "duration": 0,
               "redraw": true
              },
              "fromcurrent": true,
              "mode": "immediate",
              "transition": {
               "duration": 0,
               "easing": "linear"
              }
             }
            ],
            "label": "2007",
            "method": "animate"
           },
           {
            "args": [
             [
              "2008"
             ],
             {
              "frame": {
               "duration": 0,
               "redraw": true
              },
              "fromcurrent": true,
              "mode": "immediate",
              "transition": {
               "duration": 0,
               "easing": "linear"
              }
             }
            ],
            "label": "2008",
            "method": "animate"
           },
           {
            "args": [
             [
              "2009"
             ],
             {
              "frame": {
               "duration": 0,
               "redraw": true
              },
              "fromcurrent": true,
              "mode": "immediate",
              "transition": {
               "duration": 0,
               "easing": "linear"
              }
             }
            ],
            "label": "2009",
            "method": "animate"
           },
           {
            "args": [
             [
              "2010"
             ],
             {
              "frame": {
               "duration": 0,
               "redraw": true
              },
              "fromcurrent": true,
              "mode": "immediate",
              "transition": {
               "duration": 0,
               "easing": "linear"
              }
             }
            ],
            "label": "2010",
            "method": "animate"
           },
           {
            "args": [
             [
              "2011"
             ],
             {
              "frame": {
               "duration": 0,
               "redraw": true
              },
              "fromcurrent": true,
              "mode": "immediate",
              "transition": {
               "duration": 0,
               "easing": "linear"
              }
             }
            ],
            "label": "2011",
            "method": "animate"
           },
           {
            "args": [
             [
              "2012"
             ],
             {
              "frame": {
               "duration": 0,
               "redraw": true
              },
              "fromcurrent": true,
              "mode": "immediate",
              "transition": {
               "duration": 0,
               "easing": "linear"
              }
             }
            ],
            "label": "2012",
            "method": "animate"
           },
           {
            "args": [
             [
              "2013"
             ],
             {
              "frame": {
               "duration": 0,
               "redraw": true
              },
              "fromcurrent": true,
              "mode": "immediate",
              "transition": {
               "duration": 0,
               "easing": "linear"
              }
             }
            ],
            "label": "2013",
            "method": "animate"
           },
           {
            "args": [
             [
              "2014"
             ],
             {
              "frame": {
               "duration": 0,
               "redraw": true
              },
              "fromcurrent": true,
              "mode": "immediate",
              "transition": {
               "duration": 0,
               "easing": "linear"
              }
             }
            ],
            "label": "2014",
            "method": "animate"
           },
           {
            "args": [
             [
              "2015"
             ],
             {
              "frame": {
               "duration": 0,
               "redraw": true
              },
              "fromcurrent": true,
              "mode": "immediate",
              "transition": {
               "duration": 0,
               "easing": "linear"
              }
             }
            ],
            "label": "2015",
            "method": "animate"
           },
           {
            "args": [
             [
              "2016"
             ],
             {
              "frame": {
               "duration": 0,
               "redraw": true
              },
              "fromcurrent": true,
              "mode": "immediate",
              "transition": {
               "duration": 0,
               "easing": "linear"
              }
             }
            ],
            "label": "2016",
            "method": "animate"
           },
           {
            "args": [
             [
              "2017"
             ],
             {
              "frame": {
               "duration": 0,
               "redraw": true
              },
              "fromcurrent": true,
              "mode": "immediate",
              "transition": {
               "duration": 0,
               "easing": "linear"
              }
             }
            ],
            "label": "2017",
            "method": "animate"
           },
           {
            "args": [
             [
              "2018"
             ],
             {
              "frame": {
               "duration": 0,
               "redraw": true
              },
              "fromcurrent": true,
              "mode": "immediate",
              "transition": {
               "duration": 0,
               "easing": "linear"
              }
             }
            ],
            "label": "2018",
            "method": "animate"
           },
           {
            "args": [
             [
              "2019"
             ],
             {
              "frame": {
               "duration": 0,
               "redraw": true
              },
              "fromcurrent": true,
              "mode": "immediate",
              "transition": {
               "duration": 0,
               "easing": "linear"
              }
             }
            ],
            "label": "2019",
            "method": "animate"
           },
           {
            "args": [
             [
              "2020"
             ],
             {
              "frame": {
               "duration": 0,
               "redraw": true
              },
              "fromcurrent": true,
              "mode": "immediate",
              "transition": {
               "duration": 0,
               "easing": "linear"
              }
             }
            ],
            "label": "2020",
            "method": "animate"
           }
          ],
          "x": 0.1,
          "xanchor": "left",
          "y": 0,
          "yanchor": "top"
         }
        ],
        "template": {
         "data": {
          "bar": [
           {
            "error_x": {
             "color": "#2a3f5f"
            },
            "error_y": {
             "color": "#2a3f5f"
            },
            "marker": {
             "line": {
              "color": "#E5ECF6",
              "width": 0.5
             },
             "pattern": {
              "fillmode": "overlay",
              "size": 10,
              "solidity": 0.2
             }
            },
            "type": "bar"
           }
          ],
          "barpolar": [
           {
            "marker": {
             "line": {
              "color": "#E5ECF6",
              "width": 0.5
             },
             "pattern": {
              "fillmode": "overlay",
              "size": 10,
              "solidity": 0.2
             }
            },
            "type": "barpolar"
           }
          ],
          "carpet": [
           {
            "aaxis": {
             "endlinecolor": "#2a3f5f",
             "gridcolor": "white",
             "linecolor": "white",
             "minorgridcolor": "white",
             "startlinecolor": "#2a3f5f"
            },
            "baxis": {
             "endlinecolor": "#2a3f5f",
             "gridcolor": "white",
             "linecolor": "white",
             "minorgridcolor": "white",
             "startlinecolor": "#2a3f5f"
            },
            "type": "carpet"
           }
          ],
          "choropleth": [
           {
            "colorbar": {
             "outlinewidth": 0,
             "ticks": ""
            },
            "type": "choropleth"
           }
          ],
          "contour": [
           {
            "colorbar": {
             "outlinewidth": 0,
             "ticks": ""
            },
            "colorscale": [
             [
              0,
              "#0d0887"
             ],
             [
              0.1111111111111111,
              "#46039f"
             ],
             [
              0.2222222222222222,
              "#7201a8"
             ],
             [
              0.3333333333333333,
              "#9c179e"
             ],
             [
              0.4444444444444444,
              "#bd3786"
             ],
             [
              0.5555555555555556,
              "#d8576b"
             ],
             [
              0.6666666666666666,
              "#ed7953"
             ],
             [
              0.7777777777777778,
              "#fb9f3a"
             ],
             [
              0.8888888888888888,
              "#fdca26"
             ],
             [
              1,
              "#f0f921"
             ]
            ],
            "type": "contour"
           }
          ],
          "contourcarpet": [
           {
            "colorbar": {
             "outlinewidth": 0,
             "ticks": ""
            },
            "type": "contourcarpet"
           }
          ],
          "heatmap": [
           {
            "colorbar": {
             "outlinewidth": 0,
             "ticks": ""
            },
            "colorscale": [
             [
              0,
              "#0d0887"
             ],
             [
              0.1111111111111111,
              "#46039f"
             ],
             [
              0.2222222222222222,
              "#7201a8"
             ],
             [
              0.3333333333333333,
              "#9c179e"
             ],
             [
              0.4444444444444444,
              "#bd3786"
             ],
             [
              0.5555555555555556,
              "#d8576b"
             ],
             [
              0.6666666666666666,
              "#ed7953"
             ],
             [
              0.7777777777777778,
              "#fb9f3a"
             ],
             [
              0.8888888888888888,
              "#fdca26"
             ],
             [
              1,
              "#f0f921"
             ]
            ],
            "type": "heatmap"
           }
          ],
          "heatmapgl": [
           {
            "colorbar": {
             "outlinewidth": 0,
             "ticks": ""
            },
            "colorscale": [
             [
              0,
              "#0d0887"
             ],
             [
              0.1111111111111111,
              "#46039f"
             ],
             [
              0.2222222222222222,
              "#7201a8"
             ],
             [
              0.3333333333333333,
              "#9c179e"
             ],
             [
              0.4444444444444444,
              "#bd3786"
             ],
             [
              0.5555555555555556,
              "#d8576b"
             ],
             [
              0.6666666666666666,
              "#ed7953"
             ],
             [
              0.7777777777777778,
              "#fb9f3a"
             ],
             [
              0.8888888888888888,
              "#fdca26"
             ],
             [
              1,
              "#f0f921"
             ]
            ],
            "type": "heatmapgl"
           }
          ],
          "histogram": [
           {
            "marker": {
             "pattern": {
              "fillmode": "overlay",
              "size": 10,
              "solidity": 0.2
             }
            },
            "type": "histogram"
           }
          ],
          "histogram2d": [
           {
            "colorbar": {
             "outlinewidth": 0,
             "ticks": ""
            },
            "colorscale": [
             [
              0,
              "#0d0887"
             ],
             [
              0.1111111111111111,
              "#46039f"
             ],
             [
              0.2222222222222222,
              "#7201a8"
             ],
             [
              0.3333333333333333,
              "#9c179e"
             ],
             [
              0.4444444444444444,
              "#bd3786"
             ],
             [
              0.5555555555555556,
              "#d8576b"
             ],
             [
              0.6666666666666666,
              "#ed7953"
             ],
             [
              0.7777777777777778,
              "#fb9f3a"
             ],
             [
              0.8888888888888888,
              "#fdca26"
             ],
             [
              1,
              "#f0f921"
             ]
            ],
            "type": "histogram2d"
           }
          ],
          "histogram2dcontour": [
           {
            "colorbar": {
             "outlinewidth": 0,
             "ticks": ""
            },
            "colorscale": [
             [
              0,
              "#0d0887"
             ],
             [
              0.1111111111111111,
              "#46039f"
             ],
             [
              0.2222222222222222,
              "#7201a8"
             ],
             [
              0.3333333333333333,
              "#9c179e"
             ],
             [
              0.4444444444444444,
              "#bd3786"
             ],
             [
              0.5555555555555556,
              "#d8576b"
             ],
             [
              0.6666666666666666,
              "#ed7953"
             ],
             [
              0.7777777777777778,
              "#fb9f3a"
             ],
             [
              0.8888888888888888,
              "#fdca26"
             ],
             [
              1,
              "#f0f921"
             ]
            ],
            "type": "histogram2dcontour"
           }
          ],
          "mesh3d": [
           {
            "colorbar": {
             "outlinewidth": 0,
             "ticks": ""
            },
            "type": "mesh3d"
           }
          ],
          "parcoords": [
           {
            "line": {
             "colorbar": {
              "outlinewidth": 0,
              "ticks": ""
             }
            },
            "type": "parcoords"
           }
          ],
          "pie": [
           {
            "automargin": true,
            "type": "pie"
           }
          ],
          "scatter": [
           {
            "fillpattern": {
             "fillmode": "overlay",
             "size": 10,
             "solidity": 0.2
            },
            "type": "scatter"
           }
          ],
          "scatter3d": [
           {
            "line": {
             "colorbar": {
              "outlinewidth": 0,
              "ticks": ""
             }
            },
            "marker": {
             "colorbar": {
              "outlinewidth": 0,
              "ticks": ""
             }
            },
            "type": "scatter3d"
           }
          ],
          "scattercarpet": [
           {
            "marker": {
             "colorbar": {
              "outlinewidth": 0,
              "ticks": ""
             }
            },
            "type": "scattercarpet"
           }
          ],
          "scattergeo": [
           {
            "marker": {
             "colorbar": {
              "outlinewidth": 0,
              "ticks": ""
             }
            },
            "type": "scattergeo"
           }
          ],
          "scattergl": [
           {
            "marker": {
             "colorbar": {
              "outlinewidth": 0,
              "ticks": ""
             }
            },
            "type": "scattergl"
           }
          ],
          "scattermapbox": [
           {
            "marker": {
             "colorbar": {
              "outlinewidth": 0,
              "ticks": ""
             }
            },
            "type": "scattermapbox"
           }
          ],
          "scatterpolar": [
           {
            "marker": {
             "colorbar": {
              "outlinewidth": 0,
              "ticks": ""
             }
            },
            "type": "scatterpolar"
           }
          ],
          "scatterpolargl": [
           {
            "marker": {
             "colorbar": {
              "outlinewidth": 0,
              "ticks": ""
             }
            },
            "type": "scatterpolargl"
           }
          ],
          "scatterternary": [
           {
            "marker": {
             "colorbar": {
              "outlinewidth": 0,
              "ticks": ""
             }
            },
            "type": "scatterternary"
           }
          ],
          "surface": [
           {
            "colorbar": {
             "outlinewidth": 0,
             "ticks": ""
            },
            "colorscale": [
             [
              0,
              "#0d0887"
             ],
             [
              0.1111111111111111,
              "#46039f"
             ],
             [
              0.2222222222222222,
              "#7201a8"
             ],
             [
              0.3333333333333333,
              "#9c179e"
             ],
             [
              0.4444444444444444,
              "#bd3786"
             ],
             [
              0.5555555555555556,
              "#d8576b"
             ],
             [
              0.6666666666666666,
              "#ed7953"
             ],
             [
              0.7777777777777778,
              "#fb9f3a"
             ],
             [
              0.8888888888888888,
              "#fdca26"
             ],
             [
              1,
              "#f0f921"
             ]
            ],
            "type": "surface"
           }
          ],
          "table": [
           {
            "cells": {
             "fill": {
              "color": "#EBF0F8"
             },
             "line": {
              "color": "white"
             }
            },
            "header": {
             "fill": {
              "color": "#C8D4E3"
             },
             "line": {
              "color": "white"
             }
            },
            "type": "table"
           }
          ]
         },
         "layout": {
          "annotationdefaults": {
           "arrowcolor": "#2a3f5f",
           "arrowhead": 0,
           "arrowwidth": 1
          },
          "autotypenumbers": "strict",
          "coloraxis": {
           "colorbar": {
            "outlinewidth": 0,
            "ticks": ""
           }
          },
          "colorscale": {
           "diverging": [
            [
             0,
             "#8e0152"
            ],
            [
             0.1,
             "#c51b7d"
            ],
            [
             0.2,
             "#de77ae"
            ],
            [
             0.3,
             "#f1b6da"
            ],
            [
             0.4,
             "#fde0ef"
            ],
            [
             0.5,
             "#f7f7f7"
            ],
            [
             0.6,
             "#e6f5d0"
            ],
            [
             0.7,
             "#b8e186"
            ],
            [
             0.8,
             "#7fbc41"
            ],
            [
             0.9,
             "#4d9221"
            ],
            [
             1,
             "#276419"
            ]
           ],
           "sequential": [
            [
             0,
             "#0d0887"
            ],
            [
             0.1111111111111111,
             "#46039f"
            ],
            [
             0.2222222222222222,
             "#7201a8"
            ],
            [
             0.3333333333333333,
             "#9c179e"
            ],
            [
             0.4444444444444444,
             "#bd3786"
            ],
            [
             0.5555555555555556,
             "#d8576b"
            ],
            [
             0.6666666666666666,
             "#ed7953"
            ],
            [
             0.7777777777777778,
             "#fb9f3a"
            ],
            [
             0.8888888888888888,
             "#fdca26"
            ],
            [
             1,
             "#f0f921"
            ]
           ],
           "sequentialminus": [
            [
             0,
             "#0d0887"
            ],
            [
             0.1111111111111111,
             "#46039f"
            ],
            [
             0.2222222222222222,
             "#7201a8"
            ],
            [
             0.3333333333333333,
             "#9c179e"
            ],
            [
             0.4444444444444444,
             "#bd3786"
            ],
            [
             0.5555555555555556,
             "#d8576b"
            ],
            [
             0.6666666666666666,
             "#ed7953"
            ],
            [
             0.7777777777777778,
             "#fb9f3a"
            ],
            [
             0.8888888888888888,
             "#fdca26"
            ],
            [
             1,
             "#f0f921"
            ]
           ]
          },
          "colorway": [
           "#636efa",
           "#EF553B",
           "#00cc96",
           "#ab63fa",
           "#FFA15A",
           "#19d3f3",
           "#FF6692",
           "#B6E880",
           "#FF97FF",
           "#FECB52"
          ],
          "font": {
           "color": "#2a3f5f"
          },
          "geo": {
           "bgcolor": "white",
           "lakecolor": "white",
           "landcolor": "#E5ECF6",
           "showlakes": true,
           "showland": true,
           "subunitcolor": "white"
          },
          "hoverlabel": {
           "align": "left"
          },
          "hovermode": "closest",
          "mapbox": {
           "style": "light"
          },
          "paper_bgcolor": "white",
          "plot_bgcolor": "#E5ECF6",
          "polar": {
           "angularaxis": {
            "gridcolor": "white",
            "linecolor": "white",
            "ticks": ""
           },
           "bgcolor": "#E5ECF6",
           "radialaxis": {
            "gridcolor": "white",
            "linecolor": "white",
            "ticks": ""
           }
          },
          "scene": {
           "xaxis": {
            "backgroundcolor": "#E5ECF6",
            "gridcolor": "white",
            "gridwidth": 2,
            "linecolor": "white",
            "showbackground": true,
            "ticks": "",
            "zerolinecolor": "white"
           },
           "yaxis": {
            "backgroundcolor": "#E5ECF6",
            "gridcolor": "white",
            "gridwidth": 2,
            "linecolor": "white",
            "showbackground": true,
            "ticks": "",
            "zerolinecolor": "white"
           },
           "zaxis": {
            "backgroundcolor": "#E5ECF6",
            "gridcolor": "white",
            "gridwidth": 2,
            "linecolor": "white",
            "showbackground": true,
            "ticks": "",
            "zerolinecolor": "white"
           }
          },
          "shapedefaults": {
           "line": {
            "color": "#2a3f5f"
           }
          },
          "ternary": {
           "aaxis": {
            "gridcolor": "white",
            "linecolor": "white",
            "ticks": ""
           },
           "baxis": {
            "gridcolor": "white",
            "linecolor": "white",
            "ticks": ""
           },
           "bgcolor": "#E5ECF6",
           "caxis": {
            "gridcolor": "white",
            "linecolor": "white",
            "ticks": ""
           }
          },
          "title": {
           "x": 0.05
          },
          "xaxis": {
           "automargin": true,
           "gridcolor": "white",
           "linecolor": "white",
           "ticks": "",
           "title": {
            "standoff": 15
           },
           "zerolinecolor": "white",
           "zerolinewidth": 2
          },
          "yaxis": {
           "automargin": true,
           "gridcolor": "white",
           "linecolor": "white",
           "ticks": "",
           "title": {
            "standoff": 15
           },
           "zerolinecolor": "white",
           "zerolinewidth": 2
          }
         }
        },
        "title": {
         "text": "US Poverty Percentage over the years"
        },
        "updatemenus": [
         {
          "buttons": [
           {
            "args": [
             null,
             {
              "frame": {
               "duration": 500,
               "redraw": true
              },
              "fromcurrent": true,
              "mode": "immediate",
              "transition": {
               "duration": 500,
               "easing": "linear"
              }
             }
            ],
            "label": "&#9654;",
            "method": "animate"
           },
           {
            "args": [
             [
              null
             ],
             {
              "frame": {
               "duration": 0,
               "redraw": true
              },
              "fromcurrent": true,
              "mode": "immediate",
              "transition": {
               "duration": 0,
               "easing": "linear"
              }
             }
            ],
            "label": "&#9724;",
            "method": "animate"
           }
          ],
          "direction": "left",
          "pad": {
           "r": 10,
           "t": 70
          },
          "showactive": false,
          "type": "buttons",
          "x": 0.1,
          "xanchor": "right",
          "y": 0,
          "yanchor": "top"
         }
        ]
       }
      }
     },
     "metadata": {},
     "output_type": "display_data"
    }
   ],
   "source": [
    "usa_states_df = pd.read_csv(\n",
    "    'https://www2.census.gov/geo/docs/reference/state.txt',\n",
    "    sep='|',\n",
    "    dtype={'STATE': str, 'STATE_NAME': str}\n",
    ")\n",
    "usa_name_alphcode = usa_states_df.set_index('STATE_NAME').to_dict()['STUSAB']\n",
    "poverty_df.sort_values(by=['state', 'year'], inplace=True)\n",
    "poverty_df['px_code'] = poverty_df['state'].map(usa_name_alphcode)\n",
    "fig = px.choropleth(\n",
    "    poverty_df[poverty_df['state']!='United States'],\n",
    "    locations='px_code',\n",
    "    locationmode=\"USA-states\",\n",
    "    color='povertyPercentage',\n",
    "    color_continuous_scale=\"rdbu\",\n",
    "    range_color=(\n",
    "        min(poverty_df[poverty_df['state']!='United States']['povertyPercentage']),\n",
    "        max(poverty_df[poverty_df['state']!='United States']['povertyPercentage'])),\n",
    "    scope=\"usa\",\n",
    "    animation_frame='year',\n",
    "    title=\"US Poverty Percentage over the years\",\n",
    "    hover_name='state',\n",
    "    hover_data={'px_code': False}\n",
    ")\n",
    "fig.update_layout(\n",
    "    title_text='US Poverty Percentage over the years',\n",
    "    coloraxis_colorbar_title_text = 'Poverty (%)'\n",
    ")\n",
    "pyo.plot(fig, filename='../html/animation_poverty.html', auto_open=False)\n",
    "fig.show()"
   ]
  },
  {
   "cell_type": "markdown",
   "id": "013879d9",
   "metadata": {},
   "source": [
    "We write the cleaned dataset to a csv file:"
   ]
  },
  {
   "cell_type": "code",
   "execution_count": 22,
   "id": "1e1a402f",
   "metadata": {
    "lines_to_next_cell": 3
   },
   "outputs": [],
   "source": [
    "poverty_df.to_csv('../data/poverty_by_state_year_cleaned.csv', index=False)"
   ]
  }
 ],
 "metadata": {
  "jupytext": {
   "cell_metadata_filter": "-all",
   "main_language": "python",
   "notebook_metadata_filter": "-all"
  },
  "kernelspec": {
   "display_name": "base",
   "language": "python",
   "name": "python3"
  },
  "language_info": {
   "codemirror_mode": {
    "name": "ipython",
    "version": 3
   },
   "file_extension": ".py",
   "mimetype": "text/x-python",
   "name": "python",
   "nbconvert_exporter": "python",
   "pygments_lexer": "ipython3",
   "version": "3.11.4"
  }
 },
 "nbformat": 4,
 "nbformat_minor": 5
}
