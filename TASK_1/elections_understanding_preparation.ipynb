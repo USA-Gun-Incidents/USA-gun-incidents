{
 "cells": [
  {
   "cell_type": "markdown",
   "id": "69efda77",
   "metadata": {},
   "source": [
    "**Data mining Project - University of Pisa, acedemic year 2023/24**\n",
    "\n",
    "**Authors**: Giacomo Aru, Giulia Ghisolfi, Luca Marini, Irene Testa\n",
    "\n",
    "# Elections data understanding and preparation\n",
    "\n",
    "We import the libraries:"
   ]
  },
  {
   "cell_type": "code",
   "execution_count": 1,
   "id": "af891ea4",
   "metadata": {},
   "outputs": [],
   "source": [
    "import pandas as pd\n",
    "import matplotlib.pyplot as plt\n",
    "import plotly.offline as pyo"
   ]
  },
  {
   "cell_type": "markdown",
   "id": "6dfe32a0",
   "metadata": {},
   "source": [
    "We define constants and settings for the notebook:"
   ]
  },
  {
   "cell_type": "code",
   "execution_count": 2,
   "id": "43074f05",
   "metadata": {},
   "outputs": [],
   "source": [
    "%matplotlib inline\n",
    "\n",
    "import sys, os\n",
    "sys.path.append(os.path.abspath('..'))\n",
    "from plot_utils import *\n",
    "\n",
    "DATA_FOLDER_PATH = '../data/'\n",
    "\n",
    "pd.set_option('display.max_columns', None)\n",
    "pd.set_option('max_colwidth', None)"
   ]
  },
  {
   "cell_type": "markdown",
   "id": "09022343",
   "metadata": {},
   "source": [
    "We load the dataset:"
   ]
  },
  {
   "cell_type": "code",
   "execution_count": 3,
   "id": "8aa5acb8",
   "metadata": {},
   "outputs": [],
   "source": [
    "elections_path = DATA_FOLDER_PATH + 'year_state_district_house.csv'\n",
    "elections_df = pd.read_csv(elections_path)"
   ]
  },
  {
   "cell_type": "markdown",
   "id": "1935314a",
   "metadata": {},
   "source": [
    "We assess the correct loading of the dataset printing the first 2 rows:"
   ]
  },
  {
   "cell_type": "code",
   "execution_count": 4,
   "id": "b89135ae",
   "metadata": {},
   "outputs": [
    {
     "data": {
      "text/html": [
       "<div>\n",
       "<style scoped>\n",
       "    .dataframe tbody tr th:only-of-type {\n",
       "        vertical-align: middle;\n",
       "    }\n",
       "\n",
       "    .dataframe tbody tr th {\n",
       "        vertical-align: top;\n",
       "    }\n",
       "\n",
       "    .dataframe thead th {\n",
       "        text-align: right;\n",
       "    }\n",
       "</style>\n",
       "<table border=\"1\" class=\"dataframe\">\n",
       "  <thead>\n",
       "    <tr style=\"text-align: right;\">\n",
       "      <th></th>\n",
       "      <th>year</th>\n",
       "      <th>state</th>\n",
       "      <th>congressional_district</th>\n",
       "      <th>party</th>\n",
       "      <th>candidatevotes</th>\n",
       "      <th>totalvotes</th>\n",
       "    </tr>\n",
       "  </thead>\n",
       "  <tbody>\n",
       "    <tr>\n",
       "      <th>0</th>\n",
       "      <td>1976</td>\n",
       "      <td>ALABAMA</td>\n",
       "      <td>1</td>\n",
       "      <td>REPUBLICAN</td>\n",
       "      <td>98257</td>\n",
       "      <td>157170</td>\n",
       "    </tr>\n",
       "    <tr>\n",
       "      <th>1</th>\n",
       "      <td>1976</td>\n",
       "      <td>ALABAMA</td>\n",
       "      <td>2</td>\n",
       "      <td>REPUBLICAN</td>\n",
       "      <td>90069</td>\n",
       "      <td>156362</td>\n",
       "    </tr>\n",
       "  </tbody>\n",
       "</table>\n",
       "</div>"
      ],
      "text/plain": [
       "   year    state  congressional_district       party  candidatevotes  \\\n",
       "0  1976  ALABAMA                       1  REPUBLICAN           98257   \n",
       "1  1976  ALABAMA                       2  REPUBLICAN           90069   \n",
       "\n",
       "   totalvotes  \n",
       "0      157170  \n",
       "1      156362  "
      ]
     },
     "execution_count": 4,
     "metadata": {},
     "output_type": "execute_result"
    }
   ],
   "source": [
    "elections_df.head(n=2)"
   ]
  },
  {
   "cell_type": "markdown",
   "id": "d636b95d",
   "metadata": {},
   "source": [
    "This dataset contains information about the winner of the congressional elections in the USA, for each year, state and congressional district.\n",
    "\n",
    "In the following table we provide the characteristics of each attribute of the dataset. To define the type of the attributes we used the categorization described by Pang-Ning Tan, Michael Steinbach and Vipin Kumar in the book *Introduction to Data Mining*. For each attribute, we also reported the desidered pandas `dtype` for later analysis.\n",
    "\n",
    "| # | Name | Type | Description | Desired dtype |\n",
    "| :-: | :--: | :--: | :---------: | :------------: |\n",
    "| 0 | year | Numeric (Interval) | Year | int64 |\n",
    "| 1 | state | Categorical (Nominal) | Name of the state | object |\n",
    "| 2 | congressional_district | Categorical (Nominal) | Congressional district | int64 |\n",
    "| 3 | party | Categorical (Nominal) | Winning party fort the corresponding congressional_district in the state, in the corresponding year | object |\n",
    "| 4 | candidatevotes | Numeric (Ratio) | Number of votes obtained by the winning party in the corresponding election | int64 |\n",
    "| 5 | totalvotes | Numeric (Ratio)| Number total votes for the corresponding election | int64 |\n",
    "\n",
    "We display a concise summary of the DataFrame:"
   ]
  },
  {
   "cell_type": "code",
   "execution_count": 5,
   "id": "e5660fc2",
   "metadata": {},
   "outputs": [
    {
     "name": "stdout",
     "output_type": "stream",
     "text": [
      "<class 'pandas.core.frame.DataFrame'>\n",
      "RangeIndex: 10441 entries, 0 to 10440\n",
      "Data columns (total 6 columns):\n",
      " #   Column                  Non-Null Count  Dtype \n",
      "---  ------                  --------------  ----- \n",
      " 0   year                    10441 non-null  int64 \n",
      " 1   state                   10441 non-null  object\n",
      " 2   congressional_district  10441 non-null  int64 \n",
      " 3   party                   10441 non-null  object\n",
      " 4   candidatevotes          10441 non-null  int64 \n",
      " 5   totalvotes              10441 non-null  int64 \n",
      "dtypes: int64(4), object(2)\n",
      "memory usage: 489.5+ KB\n"
     ]
    }
   ],
   "source": [
    "elections_df.info()"
   ]
  },
  {
   "cell_type": "markdown",
   "id": "33639c45",
   "metadata": {},
   "source": [
    "We notice that:\n",
    "- the inferred types are correct\n",
    "- there are no missing values (however, we should still assess whether there are any missing rows for specific years, states, or congressional districts)\n",
    "\n",
    "We display descriptive statistics:"
   ]
  },
  {
   "cell_type": "code",
   "execution_count": 6,
   "id": "9f02e052",
   "metadata": {},
   "outputs": [
    {
     "data": {
      "text/html": [
       "<div>\n",
       "<style scoped>\n",
       "    .dataframe tbody tr th:only-of-type {\n",
       "        vertical-align: middle;\n",
       "    }\n",
       "\n",
       "    .dataframe tbody tr th {\n",
       "        vertical-align: top;\n",
       "    }\n",
       "\n",
       "    .dataframe thead th {\n",
       "        text-align: right;\n",
       "    }\n",
       "</style>\n",
       "<table border=\"1\" class=\"dataframe\">\n",
       "  <thead>\n",
       "    <tr style=\"text-align: right;\">\n",
       "      <th></th>\n",
       "      <th>year</th>\n",
       "      <th>state</th>\n",
       "      <th>congressional_district</th>\n",
       "      <th>party</th>\n",
       "      <th>candidatevotes</th>\n",
       "      <th>totalvotes</th>\n",
       "    </tr>\n",
       "  </thead>\n",
       "  <tbody>\n",
       "    <tr>\n",
       "      <th>count</th>\n",
       "      <td>10441.000000</td>\n",
       "      <td>10441</td>\n",
       "      <td>10441.000000</td>\n",
       "      <td>10441</td>\n",
       "      <td>1.044100e+04</td>\n",
       "      <td>1.044100e+04</td>\n",
       "    </tr>\n",
       "    <tr>\n",
       "      <th>unique</th>\n",
       "      <td>NaN</td>\n",
       "      <td>51</td>\n",
       "      <td>NaN</td>\n",
       "      <td>6</td>\n",
       "      <td>NaN</td>\n",
       "      <td>NaN</td>\n",
       "    </tr>\n",
       "    <tr>\n",
       "      <th>top</th>\n",
       "      <td>NaN</td>\n",
       "      <td>CALIFORNIA</td>\n",
       "      <td>NaN</td>\n",
       "      <td>DEMOCRAT</td>\n",
       "      <td>NaN</td>\n",
       "      <td>NaN</td>\n",
       "    </tr>\n",
       "    <tr>\n",
       "      <th>freq</th>\n",
       "      <td>NaN</td>\n",
       "      <td>1196</td>\n",
       "      <td>NaN</td>\n",
       "      <td>5513</td>\n",
       "      <td>NaN</td>\n",
       "      <td>NaN</td>\n",
       "    </tr>\n",
       "    <tr>\n",
       "      <th>mean</th>\n",
       "      <td>1999.002011</td>\n",
       "      <td>NaN</td>\n",
       "      <td>9.873096</td>\n",
       "      <td>NaN</td>\n",
       "      <td>1.345276e+05</td>\n",
       "      <td>2.076422e+05</td>\n",
       "    </tr>\n",
       "    <tr>\n",
       "      <th>std</th>\n",
       "      <td>13.845898</td>\n",
       "      <td>NaN</td>\n",
       "      <td>10.017078</td>\n",
       "      <td>NaN</td>\n",
       "      <td>5.160721e+04</td>\n",
       "      <td>8.262643e+04</td>\n",
       "    </tr>\n",
       "    <tr>\n",
       "      <th>min</th>\n",
       "      <td>1976.000000</td>\n",
       "      <td>NaN</td>\n",
       "      <td>0.000000</td>\n",
       "      <td>NaN</td>\n",
       "      <td>-1.000000e+00</td>\n",
       "      <td>-1.000000e+00</td>\n",
       "    </tr>\n",
       "    <tr>\n",
       "      <th>25%</th>\n",
       "      <td>1988.000000</td>\n",
       "      <td>NaN</td>\n",
       "      <td>3.000000</td>\n",
       "      <td>NaN</td>\n",
       "      <td>1.004870e+05</td>\n",
       "      <td>1.554510e+05</td>\n",
       "    </tr>\n",
       "    <tr>\n",
       "      <th>50%</th>\n",
       "      <td>2000.000000</td>\n",
       "      <td>NaN</td>\n",
       "      <td>6.000000</td>\n",
       "      <td>NaN</td>\n",
       "      <td>1.290850e+05</td>\n",
       "      <td>2.004450e+05</td>\n",
       "    </tr>\n",
       "    <tr>\n",
       "      <th>75%</th>\n",
       "      <td>2012.000000</td>\n",
       "      <td>NaN</td>\n",
       "      <td>13.000000</td>\n",
       "      <td>NaN</td>\n",
       "      <td>1.653710e+05</td>\n",
       "      <td>2.555770e+05</td>\n",
       "    </tr>\n",
       "    <tr>\n",
       "      <th>max</th>\n",
       "      <td>2022.000000</td>\n",
       "      <td>NaN</td>\n",
       "      <td>53.000000</td>\n",
       "      <td>NaN</td>\n",
       "      <td>1.165136e+06</td>\n",
       "      <td>2.656104e+06</td>\n",
       "    </tr>\n",
       "  </tbody>\n",
       "</table>\n",
       "</div>"
      ],
      "text/plain": [
       "                year       state  congressional_district     party  \\\n",
       "count   10441.000000       10441            10441.000000     10441   \n",
       "unique           NaN          51                     NaN         6   \n",
       "top              NaN  CALIFORNIA                     NaN  DEMOCRAT   \n",
       "freq             NaN        1196                     NaN      5513   \n",
       "mean     1999.002011         NaN                9.873096       NaN   \n",
       "std        13.845898         NaN               10.017078       NaN   \n",
       "min      1976.000000         NaN                0.000000       NaN   \n",
       "25%      1988.000000         NaN                3.000000       NaN   \n",
       "50%      2000.000000         NaN                6.000000       NaN   \n",
       "75%      2012.000000         NaN               13.000000       NaN   \n",
       "max      2022.000000         NaN               53.000000       NaN   \n",
       "\n",
       "        candidatevotes    totalvotes  \n",
       "count     1.044100e+04  1.044100e+04  \n",
       "unique             NaN           NaN  \n",
       "top                NaN           NaN  \n",
       "freq               NaN           NaN  \n",
       "mean      1.345276e+05  2.076422e+05  \n",
       "std       5.160721e+04  8.262643e+04  \n",
       "min      -1.000000e+00 -1.000000e+00  \n",
       "25%       1.004870e+05  1.554510e+05  \n",
       "50%       1.290850e+05  2.004450e+05  \n",
       "75%       1.653710e+05  2.555770e+05  \n",
       "max       1.165136e+06  2.656104e+06  "
      ]
     },
     "execution_count": 6,
     "metadata": {},
     "output_type": "execute_result"
    }
   ],
   "source": [
    "elections_df.describe(include='all')"
   ]
  },
  {
   "cell_type": "markdown",
   "id": "de4aac44",
   "metadata": {},
   "source": [
    "We notice that:\n",
    "- year spans from 2004 to 2020\n",
    "- there are 6 unique parties\n",
    "- the minimum of candidatevotes and totalvotes are negative numbers, meaning that there are actually missing values\n",
    "\n",
    "First we check if the triple <`year`, `state`, `congressional_district`> uniquely identifies each row:"
   ]
  },
  {
   "cell_type": "code",
   "execution_count": 7,
   "id": "917856db",
   "metadata": {},
   "outputs": [
    {
     "data": {
      "text/plain": [
       "True"
      ]
     },
     "execution_count": 7,
     "metadata": {},
     "output_type": "execute_result"
    }
   ],
   "source": [
    "elections_df.groupby(['year', 'state', 'congressional_district']).size().max() == 1"
   ]
  },
  {
   "cell_type": "markdown",
   "id": "93e042cf",
   "metadata": {},
   "source": [
    "Then, we check if `candidatevotes` are always less or equal than `totalvotes`:"
   ]
  },
  {
   "cell_type": "code",
   "execution_count": 8,
   "id": "3de1425b",
   "metadata": {},
   "outputs": [
    {
     "data": {
      "text/plain": [
       "True"
      ]
     },
     "execution_count": 8,
     "metadata": {},
     "output_type": "execute_result"
    }
   ],
   "source": [
    "elections_df[elections_df['candidatevotes'] <= elections_df['totalvotes']].size == elections_df.size"
   ]
  },
  {
   "cell_type": "markdown",
   "id": "529e749b",
   "metadata": {},
   "source": [
    "We list the unique values in the column `state`:"
   ]
  },
  {
   "cell_type": "code",
   "execution_count": 9,
   "id": "7cb0612a",
   "metadata": {},
   "outputs": [
    {
     "name": "stdout",
     "output_type": "stream",
     "text": [
      "States: ['ALABAMA' 'ALASKA' 'ARIZONA' 'ARKANSAS' 'CALIFORNIA' 'COLORADO'\n",
      " 'CONNECTICUT' 'DELAWARE' 'DISTRICT OF COLUMBIA' 'FLORIDA' 'GEORGIA'\n",
      " 'HAWAII' 'IDAHO' 'ILLINOIS' 'INDIANA' 'IOWA' 'KANSAS' 'KENTUCKY'\n",
      " 'LOUISIANA' 'MAINE' 'MARYLAND' 'MASSACHUSETTS' 'MICHIGAN' 'MINNESOTA'\n",
      " 'MISSISSIPPI' 'MISSOURI' 'MONTANA' 'NEBRASKA' 'NEVADA' 'NEW HAMPSHIRE'\n",
      " 'NEW JERSEY' 'NEW MEXICO' 'NEW YORK' 'NORTH CAROLINA' 'NORTH DAKOTA'\n",
      " 'OHIO' 'OKLAHOMA' 'OREGON' 'PENNSYLVANIA' 'RHODE ISLAND' 'SOUTH CAROLINA'\n",
      " 'SOUTH DAKOTA' 'TENNESSEE' 'TEXAS' 'UTAH' 'VERMONT' 'VIRGINIA'\n",
      " 'WASHINGTON' 'WEST VIRGINIA' 'WISCONSIN' 'WYOMING']\n",
      "Number of states: 51\n"
     ]
    }
   ],
   "source": [
    "states = elections_df['state'].unique()\n",
    "states.sort()\n",
    "print(f'States: {states}')\n",
    "print(f'Number of states: {states.size}')"
   ]
  },
  {
   "cell_type": "markdown",
   "id": "78aeae61",
   "metadata": {},
   "source": [
    "All the states (District of Columbia included) are present.\n",
    "\n",
    "We now display the states and the years for which there are missing rows:"
   ]
  },
  {
   "cell_type": "code",
   "execution_count": 10,
   "id": "c49effb6",
   "metadata": {},
   "outputs": [
    {
     "name": "stdout",
     "output_type": "stream",
     "text": [
      "No data for 'DISTRICT OF COLUMBIA' in 1976\n",
      "No data for 'DISTRICT OF COLUMBIA' in 1978\n",
      "No data for 'DISTRICT OF COLUMBIA' in 1980\n",
      "No data for 'DISTRICT OF COLUMBIA' in 1982\n",
      "No data for 'DISTRICT OF COLUMBIA' in 1984\n",
      "No data for 'DISTRICT OF COLUMBIA' in 1986\n",
      "No data for 'DISTRICT OF COLUMBIA' in 1988\n",
      "No data for 'DISTRICT OF COLUMBIA' in 1990\n",
      "No data for 'DISTRICT OF COLUMBIA' in 1992\n",
      "No data for 'DISTRICT OF COLUMBIA' in 1994\n",
      "No data for 'DISTRICT OF COLUMBIA' in 1996\n",
      "No data for 'DISTRICT OF COLUMBIA' in 1998\n",
      "No data for 'DISTRICT OF COLUMBIA' in 2000\n",
      "No data for 'DISTRICT OF COLUMBIA' in 2002\n",
      "No data for 'DISTRICT OF COLUMBIA' in 2004\n",
      "No data for 'DISTRICT OF COLUMBIA' in 2006\n",
      "No data for 'DISTRICT OF COLUMBIA' in 2008\n",
      "No data for 'DISTRICT OF COLUMBIA' in 2010\n",
      "No data for 'DISTRICT OF COLUMBIA' in 2012\n",
      "No data for 'DISTRICT OF COLUMBIA' in 2014\n",
      "No data for 'DISTRICT OF COLUMBIA' in 2016\n",
      "No data for 'DISTRICT OF COLUMBIA' in 2018\n"
     ]
    }
   ],
   "source": [
    "years = [i for i in range(elections_df['year'].min(), elections_df['year'].max(), 2)]\n",
    "for year in years:\n",
    "    for state in states:\n",
    "        if elections_df[(elections_df['state']==state) & (elections_df['year']==year)].size == 0:\n",
    "            print(f\"No data for '{state}' in {year}\")"
   ]
  },
  {
   "cell_type": "markdown",
   "id": "4c4d1c4a",
   "metadata": {},
   "source": [
    "Except for District of Columbia, there are no missing rows.\n",
    "For District of Columbia we have only the following row:"
   ]
  },
  {
   "cell_type": "code",
   "execution_count": 11,
   "id": "32c39a6f",
   "metadata": {},
   "outputs": [
    {
     "data": {
      "text/html": [
       "<div>\n",
       "<style scoped>\n",
       "    .dataframe tbody tr th:only-of-type {\n",
       "        vertical-align: middle;\n",
       "    }\n",
       "\n",
       "    .dataframe tbody tr th {\n",
       "        vertical-align: top;\n",
       "    }\n",
       "\n",
       "    .dataframe thead th {\n",
       "        text-align: right;\n",
       "    }\n",
       "</style>\n",
       "<table border=\"1\" class=\"dataframe\">\n",
       "  <thead>\n",
       "    <tr style=\"text-align: right;\">\n",
       "      <th></th>\n",
       "      <th>year</th>\n",
       "      <th>state</th>\n",
       "      <th>congressional_district</th>\n",
       "      <th>party</th>\n",
       "      <th>candidatevotes</th>\n",
       "      <th>totalvotes</th>\n",
       "    </tr>\n",
       "  </thead>\n",
       "  <tbody>\n",
       "    <tr>\n",
       "      <th>9657</th>\n",
       "      <td>2020</td>\n",
       "      <td>DISTRICT OF COLUMBIA</td>\n",
       "      <td>0</td>\n",
       "      <td>DEMOCRAT</td>\n",
       "      <td>281831</td>\n",
       "      <td>344177</td>\n",
       "    </tr>\n",
       "  </tbody>\n",
       "</table>\n",
       "</div>"
      ],
      "text/plain": [
       "      year                 state  congressional_district     party  \\\n",
       "9657  2020  DISTRICT OF COLUMBIA                       0  DEMOCRAT   \n",
       "\n",
       "      candidatevotes  totalvotes  \n",
       "9657          281831      344177  "
      ]
     },
     "execution_count": 11,
     "metadata": {},
     "output_type": "execute_result"
    }
   ],
   "source": [
    "elections_df[elections_df['state']=='DISTRICT OF COLUMBIA']"
   ]
  },
  {
   "cell_type": "markdown",
   "id": "32f5ca15",
   "metadata": {},
   "source": [
    "Missing values are probably due to the fact that District of Columbia is a non voting delegate district. Anyway, we gathered the missing values from Wikipedia. We noticed that as for the 2020 elecetions, the number of votes received by the winning party coincides, but the number of totalvotes is different (see [here](https://en.wikipedia.org/wiki/2020_United_States_House_of_Representatives_election_in_the_District_of_Columbia)). To be consistent with the other data, we replace the totalvotes value from 2020 with the one from Wikipedia.\n",
    "\n",
    "Now we import those data:"
   ]
  },
  {
   "cell_type": "code",
   "execution_count": 12,
   "id": "c5a0a9bd",
   "metadata": {},
   "outputs": [
    {
     "data": {
      "text/html": [
       "<div>\n",
       "<style scoped>\n",
       "    .dataframe tbody tr th:only-of-type {\n",
       "        vertical-align: middle;\n",
       "    }\n",
       "\n",
       "    .dataframe tbody tr th {\n",
       "        vertical-align: top;\n",
       "    }\n",
       "\n",
       "    .dataframe thead th {\n",
       "        text-align: right;\n",
       "    }\n",
       "</style>\n",
       "<table border=\"1\" class=\"dataframe\">\n",
       "  <thead>\n",
       "    <tr style=\"text-align: right;\">\n",
       "      <th></th>\n",
       "      <th>year</th>\n",
       "      <th>state</th>\n",
       "      <th>congressional_district</th>\n",
       "      <th>party</th>\n",
       "      <th>candidatevotes</th>\n",
       "      <th>totalvotes</th>\n",
       "    </tr>\n",
       "  </thead>\n",
       "  <tbody>\n",
       "    <tr>\n",
       "      <th>0</th>\n",
       "      <td>1976</td>\n",
       "      <td>DISTRICT OF COLUMBIA</td>\n",
       "      <td>0</td>\n",
       "      <td>DEMOCRAT</td>\n",
       "      <td>12149</td>\n",
       "      <td>15742</td>\n",
       "    </tr>\n",
       "    <tr>\n",
       "      <th>1</th>\n",
       "      <td>1978</td>\n",
       "      <td>DISTRICT OF COLUMBIA</td>\n",
       "      <td>0</td>\n",
       "      <td>DEMOCRAT</td>\n",
       "      <td>76557</td>\n",
       "      <td>96306</td>\n",
       "    </tr>\n",
       "  </tbody>\n",
       "</table>\n",
       "</div>"
      ],
      "text/plain": [
       "   year                 state  congressional_district     party  \\\n",
       "0  1976  DISTRICT OF COLUMBIA                       0  DEMOCRAT   \n",
       "1  1978  DISTRICT OF COLUMBIA                       0  DEMOCRAT   \n",
       "\n",
       "   candidatevotes  totalvotes  \n",
       "0           12149       15742  \n",
       "1           76557       96306  "
      ]
     },
     "execution_count": 12,
     "metadata": {},
     "output_type": "execute_result"
    }
   ],
   "source": [
    "dc_elections_df = pd.read_csv('../data/external_data/district_of_columbia_house.csv')\n",
    "dc_elections_df.head(n=2)"
   ]
  },
  {
   "cell_type": "markdown",
   "id": "b36e4302",
   "metadata": {},
   "source": [
    "We display a concise summary of the DataFrame:"
   ]
  },
  {
   "cell_type": "code",
   "execution_count": 13,
   "id": "7c5e7741",
   "metadata": {},
   "outputs": [
    {
     "name": "stdout",
     "output_type": "stream",
     "text": [
      "<class 'pandas.core.frame.DataFrame'>\n",
      "RangeIndex: 24 entries, 0 to 23\n",
      "Data columns (total 6 columns):\n",
      " #   Column                  Non-Null Count  Dtype \n",
      "---  ------                  --------------  ----- \n",
      " 0   year                    24 non-null     int64 \n",
      " 1   state                   24 non-null     object\n",
      " 2   congressional_district  24 non-null     int64 \n",
      " 3   party                   24 non-null     object\n",
      " 4   candidatevotes          24 non-null     int64 \n",
      " 5   totalvotes              24 non-null     int64 \n",
      "dtypes: int64(4), object(2)\n",
      "memory usage: 1.2+ KB\n"
     ]
    }
   ],
   "source": [
    "dc_elections_df.info()"
   ]
  },
  {
   "cell_type": "markdown",
   "id": "1ee7748f",
   "metadata": {},
   "source": [
    "The inferred types are correct.\n",
    "\n",
    "We now merge the two dataframes:"
   ]
  },
  {
   "cell_type": "code",
   "execution_count": 14,
   "id": "41d674c3",
   "metadata": {},
   "outputs": [],
   "source": [
    "elections_df.drop(elections_df[elections_df['state']=='DISTRICT OF COLUMBIA'].index, inplace=True)\n",
    "elections_df = pd.concat([elections_df, dc_elections_df], ignore_index=True)\n",
    "elections_df.sort_values(by=['year', 'state', 'congressional_district'], inplace=True, ignore_index=True)"
   ]
  },
  {
   "cell_type": "markdown",
   "id": "3179aa99",
   "metadata": {},
   "source": [
    "We now check if congressional districts are numbered correctly (with '0' for states with only one congressional district, or with incremental values starting from '1' otherwise):"
   ]
  },
  {
   "cell_type": "code",
   "execution_count": 15,
   "id": "7a3ccab0",
   "metadata": {},
   "outputs": [
    {
     "data": {
      "text/plain": [
       "True"
      ]
     },
     "execution_count": 15,
     "metadata": {},
     "output_type": "execute_result"
    }
   ],
   "source": [
    "correct_numbering = True\n",
    "for state in states:\n",
    "    if state == 'DISTRICT OF COLUMBIA':\n",
    "        continue\n",
    "    for year in years:\n",
    "        districts = elections_df[(elections_df['state']==state) & (elections_df['year']==year)]['congressional_district'].unique()\n",
    "        districts.sort()\n",
    "        if districts.size > 1:\n",
    "            if (districts != [i for i in range(1, districts.size+1)]).any():\n",
    "                correct_numbering = False\n",
    "                break\n",
    "        elif districts[0] != 0:\n",
    "            correct_numbering = False\n",
    "            break\n",
    "correct_numbering"
   ]
  },
  {
   "cell_type": "markdown",
   "id": "4d3851b8",
   "metadata": {},
   "source": [
    "We now plot the distribution of `totalvotes` for each state in the years of interest, excluding 0 and negative values (this plot makes sense because congressional districts are redrawn so that the population of each district is roughly equal):"
   ]
  },
  {
   "cell_type": "code",
   "execution_count": 16,
   "id": "af409f4d",
   "metadata": {},
   "outputs": [
    {
     "data": {
      "image/png": "[encoded data removed]",
      "text/plain": [
       "<Figure size 2000x1000 with 1 Axes>"
      ]
     },
     "metadata": {},
     "output_type": "display_data"
    }
   ],
   "source": [
    "elections_df[\n",
    "    (elections_df['totalvotes']>0)&(elections_df['year']>2012)\n",
    "].boxplot(column='totalvotes', by='state', figsize=(20, 10), rot=90, xlabel='State', ylabel='Total votes')\n",
    "plt.suptitle('Total votes from 2014')\n",
    "plt.title('')\n",
    "plt.tight_layout()"
   ]
  },
  {
   "cell_type": "markdown",
   "id": "08944540",
   "metadata": {},
   "source": [
    "We can observe that for both total and candidate votes Florida, Louisian and Oklahoma have lower outliers, while Maine has an upper outlier. \n",
    "\n",
    "We display the rows relative to Maine:"
   ]
  },
  {
   "cell_type": "code",
   "execution_count": 17,
   "id": "bb21ac56",
   "metadata": {},
   "outputs": [
    {
     "data": {
      "text/html": [
       "<div>\n",
       "<style scoped>\n",
       "    .dataframe tbody tr th:only-of-type {\n",
       "        vertical-align: middle;\n",
       "    }\n",
       "\n",
       "    .dataframe tbody tr th {\n",
       "        vertical-align: top;\n",
       "    }\n",
       "\n",
       "    .dataframe thead th {\n",
       "        text-align: right;\n",
       "    }\n",
       "</style>\n",
       "<table border=\"1\" class=\"dataframe\">\n",
       "  <thead>\n",
       "    <tr style=\"text-align: right;\">\n",
       "      <th></th>\n",
       "      <th>year</th>\n",
       "      <th>state</th>\n",
       "      <th>congressional_district</th>\n",
       "      <th>party</th>\n",
       "      <th>candidatevotes</th>\n",
       "      <th>totalvotes</th>\n",
       "    </tr>\n",
       "  </thead>\n",
       "  <tbody>\n",
       "    <tr>\n",
       "      <th>8464</th>\n",
       "      <td>2014</td>\n",
       "      <td>MAINE</td>\n",
       "      <td>1</td>\n",
       "      <td>DEMOCRAT</td>\n",
       "      <td>186674</td>\n",
       "      <td>321987</td>\n",
       "    </tr>\n",
       "    <tr>\n",
       "      <th>8465</th>\n",
       "      <td>2014</td>\n",
       "      <td>MAINE</td>\n",
       "      <td>2</td>\n",
       "      <td>REPUBLICAN</td>\n",
       "      <td>133320</td>\n",
       "      <td>295009</td>\n",
       "    </tr>\n",
       "    <tr>\n",
       "      <th>8900</th>\n",
       "      <td>2016</td>\n",
       "      <td>MAINE</td>\n",
       "      <td>1</td>\n",
       "      <td>DEMOCRAT</td>\n",
       "      <td>227546</td>\n",
       "      <td>406942</td>\n",
       "    </tr>\n",
       "    <tr>\n",
       "      <th>8901</th>\n",
       "      <td>2016</td>\n",
       "      <td>MAINE</td>\n",
       "      <td>2</td>\n",
       "      <td>REPUBLICAN</td>\n",
       "      <td>192878</td>\n",
       "      <td>364886</td>\n",
       "    </tr>\n",
       "    <tr>\n",
       "      <th>9336</th>\n",
       "      <td>2018</td>\n",
       "      <td>MAINE</td>\n",
       "      <td>1</td>\n",
       "      <td>DEMOCRAT</td>\n",
       "      <td>201195</td>\n",
       "      <td>342053</td>\n",
       "    </tr>\n",
       "    <tr>\n",
       "      <th>9337</th>\n",
       "      <td>2018</td>\n",
       "      <td>MAINE</td>\n",
       "      <td>2</td>\n",
       "      <td>DEMOCRAT</td>\n",
       "      <td>139231</td>\n",
       "      <td>281371</td>\n",
       "    </tr>\n",
       "    <tr>\n",
       "      <th>9772</th>\n",
       "      <td>2020</td>\n",
       "      <td>MAINE</td>\n",
       "      <td>1</td>\n",
       "      <td>DEMOCRAT</td>\n",
       "      <td>271004</td>\n",
       "      <td>447981</td>\n",
       "    </tr>\n",
       "    <tr>\n",
       "      <th>9773</th>\n",
       "      <td>2020</td>\n",
       "      <td>MAINE</td>\n",
       "      <td>2</td>\n",
       "      <td>DEMOCRAT</td>\n",
       "      <td>197974</td>\n",
       "      <td>380324</td>\n",
       "    </tr>\n",
       "    <tr>\n",
       "      <th>10208</th>\n",
       "      <td>2022</td>\n",
       "      <td>MAINE</td>\n",
       "      <td>1</td>\n",
       "      <td>DEMOCRAT</td>\n",
       "      <td>219753</td>\n",
       "      <td>358138</td>\n",
       "    </tr>\n",
       "    <tr>\n",
       "      <th>10209</th>\n",
       "      <td>2022</td>\n",
       "      <td>MAINE</td>\n",
       "      <td>2</td>\n",
       "      <td>DEMOCRAT</td>\n",
       "      <td>1165136</td>\n",
       "      <td>2656104</td>\n",
       "    </tr>\n",
       "  </tbody>\n",
       "</table>\n",
       "</div>"
      ],
      "text/plain": [
       "       year  state  congressional_district       party  candidatevotes  \\\n",
       "8464   2014  MAINE                       1    DEMOCRAT          186674   \n",
       "8465   2014  MAINE                       2  REPUBLICAN          133320   \n",
       "8900   2016  MAINE                       1    DEMOCRAT          227546   \n",
       "8901   2016  MAINE                       2  REPUBLICAN          192878   \n",
       "9336   2018  MAINE                       1    DEMOCRAT          201195   \n",
       "9337   2018  MAINE                       2    DEMOCRAT          139231   \n",
       "9772   2020  MAINE                       1    DEMOCRAT          271004   \n",
       "9773   2020  MAINE                       2    DEMOCRAT          197974   \n",
       "10208  2022  MAINE                       1    DEMOCRAT          219753   \n",
       "10209  2022  MAINE                       2    DEMOCRAT         1165136   \n",
       "\n",
       "       totalvotes  \n",
       "8464       321987  \n",
       "8465       295009  \n",
       "8900       406942  \n",
       "8901       364886  \n",
       "9336       342053  \n",
       "9337       281371  \n",
       "9772       447981  \n",
       "9773       380324  \n",
       "10208      358138  \n",
       "10209     2656104  "
      ]
     },
     "execution_count": 17,
     "metadata": {},
     "output_type": "execute_result"
    }
   ],
   "source": [
    "elections_df[(elections_df['year']>2013) & (elections_df['state']=='MAINE')]"
   ]
  },
  {
   "cell_type": "markdown",
   "id": "98cce979",
   "metadata": {},
   "source": [
    "We found in [Wikipedia](https://en.wikipedia.org/wiki/2022_United_States_House_of_Representatives_elections_in_Maine) that in Maine, that year, the Democratic party received 165136 votes out of a total of 311278 votes. We correct the error:"
   ]
  },
  {
   "cell_type": "code",
   "execution_count": 18,
   "id": "27699fd8",
   "metadata": {},
   "outputs": [],
   "source": [
    "elections_df.loc[\n",
    "    (elections_df['state']=='MAINE') &\n",
    "    (elections_df['year']==2022) &\n",
    "    (elections_df['congressional_district']==2),\n",
    "    'candidatevotes'] = 165136\n",
    "elections_df.loc[\n",
    "    (elections_df['state']=='MAINE') &\n",
    "    (elections_df['year']==2022) &\n",
    "    (elections_df['congressional_district']==2),\n",
    "    'totalvotes'] = 311278"
   ]
  },
  {
   "cell_type": "code",
   "execution_count": 19,
   "id": "568fe76e",
   "metadata": {},
   "outputs": [
    {
     "data": {
      "text/html": [
       "<div>\n",
       "<style scoped>\n",
       "    .dataframe tbody tr th:only-of-type {\n",
       "        vertical-align: middle;\n",
       "    }\n",
       "\n",
       "    .dataframe tbody tr th {\n",
       "        vertical-align: top;\n",
       "    }\n",
       "\n",
       "    .dataframe thead th {\n",
       "        text-align: right;\n",
       "    }\n",
       "</style>\n",
       "<table border=\"1\" class=\"dataframe\">\n",
       "  <thead>\n",
       "    <tr style=\"text-align: right;\">\n",
       "      <th></th>\n",
       "      <th>year</th>\n",
       "      <th>state</th>\n",
       "      <th>congressional_district</th>\n",
       "      <th>party</th>\n",
       "      <th>candidatevotes</th>\n",
       "      <th>totalvotes</th>\n",
       "    </tr>\n",
       "  </thead>\n",
       "  <tbody>\n",
       "    <tr>\n",
       "      <th>8383</th>\n",
       "      <td>2014</td>\n",
       "      <td>FLORIDA</td>\n",
       "      <td>12</td>\n",
       "      <td>REPUBLICAN</td>\n",
       "      <td>1</td>\n",
       "      <td>1</td>\n",
       "    </tr>\n",
       "    <tr>\n",
       "      <th>8385</th>\n",
       "      <td>2014</td>\n",
       "      <td>FLORIDA</td>\n",
       "      <td>14</td>\n",
       "      <td>DEMOCRAT</td>\n",
       "      <td>1</td>\n",
       "      <td>1</td>\n",
       "    </tr>\n",
       "    <tr>\n",
       "      <th>8396</th>\n",
       "      <td>2014</td>\n",
       "      <td>FLORIDA</td>\n",
       "      <td>25</td>\n",
       "      <td>REPUBLICAN</td>\n",
       "      <td>1</td>\n",
       "      <td>1</td>\n",
       "    </tr>\n",
       "    <tr>\n",
       "      <th>8398</th>\n",
       "      <td>2014</td>\n",
       "      <td>FLORIDA</td>\n",
       "      <td>27</td>\n",
       "      <td>REPUBLICAN</td>\n",
       "      <td>1</td>\n",
       "      <td>1</td>\n",
       "    </tr>\n",
       "    <tr>\n",
       "      <th>8599</th>\n",
       "      <td>2014</td>\n",
       "      <td>OKLAHOMA</td>\n",
       "      <td>1</td>\n",
       "      <td>REPUBLICAN</td>\n",
       "      <td>1</td>\n",
       "      <td>1</td>\n",
       "    </tr>\n",
       "    <tr>\n",
       "      <th>8831</th>\n",
       "      <td>2016</td>\n",
       "      <td>FLORIDA</td>\n",
       "      <td>24</td>\n",
       "      <td>DEMOCRAT</td>\n",
       "      <td>0</td>\n",
       "      <td>0</td>\n",
       "    </tr>\n",
       "    <tr>\n",
       "      <th>9035</th>\n",
       "      <td>2016</td>\n",
       "      <td>OKLAHOMA</td>\n",
       "      <td>1</td>\n",
       "      <td>REPUBLICAN</td>\n",
       "      <td>1</td>\n",
       "      <td>1</td>\n",
       "    </tr>\n",
       "    <tr>\n",
       "      <th>9253</th>\n",
       "      <td>2018</td>\n",
       "      <td>FLORIDA</td>\n",
       "      <td>10</td>\n",
       "      <td>DEMOCRAT</td>\n",
       "      <td>1</td>\n",
       "      <td>1</td>\n",
       "    </tr>\n",
       "    <tr>\n",
       "      <th>9257</th>\n",
       "      <td>2018</td>\n",
       "      <td>FLORIDA</td>\n",
       "      <td>14</td>\n",
       "      <td>DEMOCRAT</td>\n",
       "      <td>1</td>\n",
       "      <td>1</td>\n",
       "    </tr>\n",
       "    <tr>\n",
       "      <th>9264</th>\n",
       "      <td>2018</td>\n",
       "      <td>FLORIDA</td>\n",
       "      <td>21</td>\n",
       "      <td>DEMOCRAT</td>\n",
       "      <td>1</td>\n",
       "      <td>1</td>\n",
       "    </tr>\n",
       "    <tr>\n",
       "      <th>9267</th>\n",
       "      <td>2018</td>\n",
       "      <td>FLORIDA</td>\n",
       "      <td>24</td>\n",
       "      <td>DEMOCRAT</td>\n",
       "      <td>1</td>\n",
       "      <td>1</td>\n",
       "    </tr>\n",
       "    <tr>\n",
       "      <th>9704</th>\n",
       "      <td>2020</td>\n",
       "      <td>FLORIDA</td>\n",
       "      <td>25</td>\n",
       "      <td>REPUBLICAN</td>\n",
       "      <td>-1</td>\n",
       "      <td>-1</td>\n",
       "    </tr>\n",
       "    <tr>\n",
       "      <th>10120</th>\n",
       "      <td>2022</td>\n",
       "      <td>FLORIDA</td>\n",
       "      <td>5</td>\n",
       "      <td>REPUBLICAN</td>\n",
       "      <td>1</td>\n",
       "      <td>1</td>\n",
       "    </tr>\n",
       "  </tbody>\n",
       "</table>\n",
       "</div>"
      ],
      "text/plain": [
       "       year     state  congressional_district       party  candidatevotes  \\\n",
       "8383   2014   FLORIDA                      12  REPUBLICAN               1   \n",
       "8385   2014   FLORIDA                      14    DEMOCRAT               1   \n",
       "8396   2014   FLORIDA                      25  REPUBLICAN               1   \n",
       "8398   2014   FLORIDA                      27  REPUBLICAN               1   \n",
       "8599   2014  OKLAHOMA                       1  REPUBLICAN               1   \n",
       "8831   2016   FLORIDA                      24    DEMOCRAT               0   \n",
       "9035   2016  OKLAHOMA                       1  REPUBLICAN               1   \n",
       "9253   2018   FLORIDA                      10    DEMOCRAT               1   \n",
       "9257   2018   FLORIDA                      14    DEMOCRAT               1   \n",
       "9264   2018   FLORIDA                      21    DEMOCRAT               1   \n",
       "9267   2018   FLORIDA                      24    DEMOCRAT               1   \n",
       "9704   2020   FLORIDA                      25  REPUBLICAN              -1   \n",
       "10120  2022   FLORIDA                       5  REPUBLICAN               1   \n",
       "\n",
       "       totalvotes  \n",
       "8383            1  \n",
       "8385            1  \n",
       "8396            1  \n",
       "8398            1  \n",
       "8599            1  \n",
       "8831            0  \n",
       "9035            1  \n",
       "9253            1  \n",
       "9257            1  \n",
       "9264            1  \n",
       "9267            1  \n",
       "9704           -1  \n",
       "10120           1  "
      ]
     },
     "execution_count": 19,
     "metadata": {},
     "output_type": "execute_result"
    }
   ],
   "source": [
    "elections_df[\n",
    "    (elections_df['year']>2013) &\n",
    "    (elections_df['state'].isin(['FLORIDA', 'LOUSIANA', 'OKLAHOMA'])) &\n",
    "    ((elections_df['candidatevotes']<100) | (elections_df['totalvotes']<100))\n",
    "]"
   ]
  },
  {
   "cell_type": "markdown",
   "id": "7358aab9",
   "metadata": {},
   "source": [
    "We found in Wikipedia (e.g. [here](https://en.wikipedia.org/wiki/2014_United_States_House_of_Representatives_elections_in_Florida)), that for all the years and states above, no candidates filed to challenge the incumbent representative for their seat. Therefore, we will copy the `candidatevotes` and `totalvotes` values from the previous year:"
   ]
  },
  {
   "cell_type": "code",
   "execution_count": 20,
   "id": "13253214",
   "metadata": {},
   "outputs": [],
   "source": [
    "for index, row in elections_df.iterrows():\n",
    "    if row['candidatevotes'] < 2:\n",
    "        replacement = elections_df[\n",
    "            (elections_df['year']==row['year']-2) &\n",
    "            (elections_df['state']==row['state']) &\n",
    "            (elections_df['congressional_district']==row['congressional_district'])\n",
    "        ]\n",
    "        if replacement.size > 0:\n",
    "            elections_df.at[index, 'candidatevotes'] = replacement['candidatevotes'].iloc[0]\n",
    "            elections_df.at[index, 'totalvotes'] = replacement['totalvotes'].iloc[0]"
   ]
  },
  {
   "cell_type": "markdown",
   "id": "460f62cd",
   "metadata": {},
   "source": [
    "We now plot the distribution of `totalvotes` (summing over the districts) after cleaning the data:"
   ]
  },
  {
   "cell_type": "code",
   "execution_count": 21,
   "id": "50dbfc87",
   "metadata": {},
   "outputs": [
    {
     "data": {
      "image/png": "[encoded data removed]",
      "text/plain": [
       "<Figure size 2000x1000 with 1 Axes>"
      ]
     },
     "metadata": {},
     "output_type": "display_data"
    }
   ],
   "source": [
    "elections_df[\n",
    "    elections_df['year']>2012\n",
    "].groupby(['year', 'state']).agg('sum', numeric_only=True).boxplot(column='totalvotes', by='state', figsize=(20, 10), rot=90, xlabel='State', ylabel='Total votes')\n",
    "plt.suptitle('Total votes from 2014')\n",
    "plt.title('')\n",
    "plt.tight_layout()"
   ]
  },
  {
   "cell_type": "markdown",
   "id": "6220bb84",
   "metadata": {},
   "source": [
    "It is evident that in some states the number of votes fluctuates significantly from year to year.\n",
    "\n",
    "We get the unique names of the parties for the years of interest:"
   ]
  },
  {
   "cell_type": "code",
   "execution_count": 22,
   "id": "96bc662c",
   "metadata": {},
   "outputs": [
    {
     "data": {
      "text/plain": [
       "array(['REPUBLICAN', 'DEMOCRAT', 'DEMOCRATIC-FARMER-LABOR'], dtype=object)"
      ]
     },
     "execution_count": 22,
     "metadata": {},
     "output_type": "execute_result"
    }
   ],
   "source": [
    "elections_df[\n",
    "    (elections_df['year']>2012)\n",
    "]['party'].unique()"
   ]
  },
  {
   "cell_type": "markdown",
   "id": "26ccec37",
   "metadata": {},
   "source": [
    "The Democratic Farmer Labor is the affiliate of the Democratic Party in the U.S. state of Minnesota [[Wikipedia](https://en.wikipedia.org/wiki/Minnesota_Democratic–Farmer–Labor_Party)], hence we replace this party name with 'DEMOCRATIC' to ease later analysis."
   ]
  },
  {
   "cell_type": "code",
   "execution_count": 23,
   "id": "f05f6bcc",
   "metadata": {},
   "outputs": [],
   "source": [
    "elections_df['party'] = elections_df['party'].apply(\n",
    "    lambda x: 'DEMOCRAT' if x=='DEMOCRATIC-FARMER-LABOR' else x\n",
    ")"
   ]
  },
  {
   "cell_type": "markdown",
   "id": "eaf18174",
   "metadata": {},
   "source": [
    "We now compute the percentage of votes obtained by the winner party and we plot the distribution of these percentages for the years of interest:"
   ]
  },
  {
   "cell_type": "code",
   "execution_count": 24,
   "id": "89d6e41b",
   "metadata": {},
   "outputs": [],
   "source": [
    "elections_df['candidateperc'] = (elections_df['candidatevotes']/elections_df['totalvotes'])*100"
   ]
  },
  {
   "cell_type": "code",
   "execution_count": 25,
   "id": "708f134f",
   "metadata": {},
   "outputs": [
    {
     "data": {
      "image/png": "[encoded data removed]",
      "text/plain": [
       "<Figure size 1000x500 with 3 Axes>"
      ]
     },
     "metadata": {},
     "output_type": "display_data"
    }
   ],
   "source": [
    "hist_box_plot(elections_df[elections_df['year']>2012], col='candidateperc', title='Percentage of winner votes')"
   ]
  },
  {
   "cell_type": "markdown",
   "id": "2761d0a0",
   "metadata": {},
   "source": [
    "It seems that in some districts the winner party obtained 100% of the votes. We disaply those districts:"
   ]
  },
  {
   "cell_type": "code",
   "execution_count": 26,
   "id": "d516fa97",
   "metadata": {},
   "outputs": [
    {
     "data": {
      "text/html": [
       "<div>\n",
       "<style scoped>\n",
       "    .dataframe tbody tr th:only-of-type {\n",
       "        vertical-align: middle;\n",
       "    }\n",
       "\n",
       "    .dataframe tbody tr th {\n",
       "        vertical-align: top;\n",
       "    }\n",
       "\n",
       "    .dataframe thead th {\n",
       "        text-align: right;\n",
       "    }\n",
       "</style>\n",
       "<table border=\"1\" class=\"dataframe\">\n",
       "  <thead>\n",
       "    <tr style=\"text-align: right;\">\n",
       "      <th></th>\n",
       "      <th>year</th>\n",
       "      <th>state</th>\n",
       "      <th>congressional_district</th>\n",
       "      <th>party</th>\n",
       "      <th>candidatevotes</th>\n",
       "      <th>totalvotes</th>\n",
       "      <th>candidateperc</th>\n",
       "    </tr>\n",
       "  </thead>\n",
       "  <tbody>\n",
       "    <tr>\n",
       "      <th>8401</th>\n",
       "      <td>2014</td>\n",
       "      <td>GEORGIA</td>\n",
       "      <td>3</td>\n",
       "      <td>REPUBLICAN</td>\n",
       "      <td>156277</td>\n",
       "      <td>156277</td>\n",
       "      <td>100.0</td>\n",
       "    </tr>\n",
       "    <tr>\n",
       "      <th>8403</th>\n",
       "      <td>2014</td>\n",
       "      <td>GEORGIA</td>\n",
       "      <td>5</td>\n",
       "      <td>DEMOCRAT</td>\n",
       "      <td>170326</td>\n",
       "      <td>170326</td>\n",
       "      <td>100.0</td>\n",
       "    </tr>\n",
       "    <tr>\n",
       "      <th>8409</th>\n",
       "      <td>2014</td>\n",
       "      <td>GEORGIA</td>\n",
       "      <td>11</td>\n",
       "      <td>REPUBLICAN</td>\n",
       "      <td>161532</td>\n",
       "      <td>161532</td>\n",
       "      <td>100.0</td>\n",
       "    </tr>\n",
       "    <tr>\n",
       "      <th>8411</th>\n",
       "      <td>2014</td>\n",
       "      <td>GEORGIA</td>\n",
       "      <td>13</td>\n",
       "      <td>DEMOCRAT</td>\n",
       "      <td>159445</td>\n",
       "      <td>159445</td>\n",
       "      <td>100.0</td>\n",
       "    </tr>\n",
       "    <tr>\n",
       "      <th>8412</th>\n",
       "      <td>2014</td>\n",
       "      <td>GEORGIA</td>\n",
       "      <td>14</td>\n",
       "      <td>REPUBLICAN</td>\n",
       "      <td>118782</td>\n",
       "      <td>118782</td>\n",
       "      <td>100.0</td>\n",
       "    </tr>\n",
       "    <tr>\n",
       "      <th>8589</th>\n",
       "      <td>2014</td>\n",
       "      <td>OHIO</td>\n",
       "      <td>7</td>\n",
       "      <td>REPUBLICAN</td>\n",
       "      <td>143959</td>\n",
       "      <td>143959</td>\n",
       "      <td>100.0</td>\n",
       "    </tr>\n",
       "    <tr>\n",
       "      <th>8622</th>\n",
       "      <td>2014</td>\n",
       "      <td>PENNSYLVANIA</td>\n",
       "      <td>14</td>\n",
       "      <td>DEMOCRAT</td>\n",
       "      <td>148351</td>\n",
       "      <td>148351</td>\n",
       "      <td>100.0</td>\n",
       "    </tr>\n",
       "    <tr>\n",
       "      <th>8623</th>\n",
       "      <td>2014</td>\n",
       "      <td>PENNSYLVANIA</td>\n",
       "      <td>15</td>\n",
       "      <td>REPUBLICAN</td>\n",
       "      <td>128285</td>\n",
       "      <td>128285</td>\n",
       "      <td>100.0</td>\n",
       "    </tr>\n",
       "    <tr>\n",
       "      <th>8626</th>\n",
       "      <td>2014</td>\n",
       "      <td>PENNSYLVANIA</td>\n",
       "      <td>18</td>\n",
       "      <td>REPUBLICAN</td>\n",
       "      <td>166076</td>\n",
       "      <td>166076</td>\n",
       "      <td>100.0</td>\n",
       "    </tr>\n",
       "    <tr>\n",
       "      <th>8649</th>\n",
       "      <td>2014</td>\n",
       "      <td>TEXAS</td>\n",
       "      <td>4</td>\n",
       "      <td>REPUBLICAN</td>\n",
       "      <td>115085</td>\n",
       "      <td>115085</td>\n",
       "      <td>100.0</td>\n",
       "    </tr>\n",
       "    <tr>\n",
       "      <th>8843</th>\n",
       "      <td>2016</td>\n",
       "      <td>GEORGIA</td>\n",
       "      <td>9</td>\n",
       "      <td>REPUBLICAN</td>\n",
       "      <td>256535</td>\n",
       "      <td>256535</td>\n",
       "      <td>100.0</td>\n",
       "    </tr>\n",
       "    <tr>\n",
       "      <th>8847</th>\n",
       "      <td>2016</td>\n",
       "      <td>GEORGIA</td>\n",
       "      <td>13</td>\n",
       "      <td>DEMOCRAT</td>\n",
       "      <td>252833</td>\n",
       "      <td>252833</td>\n",
       "      <td>100.0</td>\n",
       "    </tr>\n",
       "    <tr>\n",
       "      <th>8848</th>\n",
       "      <td>2016</td>\n",
       "      <td>GEORGIA</td>\n",
       "      <td>14</td>\n",
       "      <td>REPUBLICAN</td>\n",
       "      <td>216743</td>\n",
       "      <td>216743</td>\n",
       "      <td>100.0</td>\n",
       "    </tr>\n",
       "    <tr>\n",
       "      <th>8856</th>\n",
       "      <td>2016</td>\n",
       "      <td>ILLINOIS</td>\n",
       "      <td>4</td>\n",
       "      <td>DEMOCRAT</td>\n",
       "      <td>171297</td>\n",
       "      <td>171297</td>\n",
       "      <td>100.0</td>\n",
       "    </tr>\n",
       "    <tr>\n",
       "      <th>8867</th>\n",
       "      <td>2016</td>\n",
       "      <td>ILLINOIS</td>\n",
       "      <td>15</td>\n",
       "      <td>REPUBLICAN</td>\n",
       "      <td>274554</td>\n",
       "      <td>274554</td>\n",
       "      <td>100.0</td>\n",
       "    </tr>\n",
       "    <tr>\n",
       "      <th>8889</th>\n",
       "      <td>2016</td>\n",
       "      <td>KENTUCKY</td>\n",
       "      <td>2</td>\n",
       "      <td>REPUBLICAN</td>\n",
       "      <td>251825</td>\n",
       "      <td>251825</td>\n",
       "      <td>100.0</td>\n",
       "    </tr>\n",
       "    <tr>\n",
       "      <th>8892</th>\n",
       "      <td>2016</td>\n",
       "      <td>KENTUCKY</td>\n",
       "      <td>5</td>\n",
       "      <td>REPUBLICAN</td>\n",
       "      <td>221242</td>\n",
       "      <td>221242</td>\n",
       "      <td>100.0</td>\n",
       "    </tr>\n",
       "    <tr>\n",
       "      <th>8956</th>\n",
       "      <td>2016</td>\n",
       "      <td>NEBRASKA</td>\n",
       "      <td>3</td>\n",
       "      <td>REPUBLICAN</td>\n",
       "      <td>226720</td>\n",
       "      <td>226720</td>\n",
       "      <td>100.0</td>\n",
       "    </tr>\n",
       "    <tr>\n",
       "      <th>9047</th>\n",
       "      <td>2016</td>\n",
       "      <td>PENNSYLVANIA</td>\n",
       "      <td>3</td>\n",
       "      <td>REPUBLICAN</td>\n",
       "      <td>244893</td>\n",
       "      <td>244893</td>\n",
       "      <td>100.0</td>\n",
       "    </tr>\n",
       "    <tr>\n",
       "      <th>9057</th>\n",
       "      <td>2016</td>\n",
       "      <td>PENNSYLVANIA</td>\n",
       "      <td>13</td>\n",
       "      <td>DEMOCRAT</td>\n",
       "      <td>239316</td>\n",
       "      <td>239316</td>\n",
       "      <td>100.0</td>\n",
       "    </tr>\n",
       "    <tr>\n",
       "      <th>9062</th>\n",
       "      <td>2016</td>\n",
       "      <td>PENNSYLVANIA</td>\n",
       "      <td>18</td>\n",
       "      <td>REPUBLICAN</td>\n",
       "      <td>293684</td>\n",
       "      <td>293684</td>\n",
       "      <td>100.0</td>\n",
       "    </tr>\n",
       "    <tr>\n",
       "      <th>9089</th>\n",
       "      <td>2016</td>\n",
       "      <td>TEXAS</td>\n",
       "      <td>8</td>\n",
       "      <td>REPUBLICAN</td>\n",
       "      <td>236379</td>\n",
       "      <td>236379</td>\n",
       "      <td>100.0</td>\n",
       "    </tr>\n",
       "    <tr>\n",
       "      <th>9275</th>\n",
       "      <td>2018</td>\n",
       "      <td>GEORGIA</td>\n",
       "      <td>5</td>\n",
       "      <td>DEMOCRAT</td>\n",
       "      <td>275406</td>\n",
       "      <td>275406</td>\n",
       "      <td>100.0</td>\n",
       "    </tr>\n",
       "    <tr>\n",
       "      <th>9278</th>\n",
       "      <td>2018</td>\n",
       "      <td>GEORGIA</td>\n",
       "      <td>8</td>\n",
       "      <td>REPUBLICAN</td>\n",
       "      <td>198152</td>\n",
       "      <td>198152</td>\n",
       "      <td>100.0</td>\n",
       "    </tr>\n",
       "    <tr>\n",
       "      <th>9443</th>\n",
       "      <td>2018</td>\n",
       "      <td>NORTH CAROLINA</td>\n",
       "      <td>3</td>\n",
       "      <td>REPUBLICAN</td>\n",
       "      <td>187901</td>\n",
       "      <td>187901</td>\n",
       "      <td>100.0</td>\n",
       "    </tr>\n",
       "    <tr>\n",
       "      <th>9498</th>\n",
       "      <td>2018</td>\n",
       "      <td>PENNSYLVANIA</td>\n",
       "      <td>18</td>\n",
       "      <td>DEMOCRAT</td>\n",
       "      <td>231472</td>\n",
       "      <td>231472</td>\n",
       "      <td>100.0</td>\n",
       "    </tr>\n",
       "    <tr>\n",
       "      <th>9609</th>\n",
       "      <td>2020</td>\n",
       "      <td>ARKANSAS</td>\n",
       "      <td>1</td>\n",
       "      <td>REPUBLICAN</td>\n",
       "      <td>237596</td>\n",
       "      <td>237596</td>\n",
       "      <td>100.0</td>\n",
       "    </tr>\n",
       "    <tr>\n",
       "      <th>9816</th>\n",
       "      <td>2020</td>\n",
       "      <td>MISSISSIPPI</td>\n",
       "      <td>4</td>\n",
       "      <td>REPUBLICAN</td>\n",
       "      <td>255971</td>\n",
       "      <td>255971</td>\n",
       "      <td>100.0</td>\n",
       "    </tr>\n",
       "    <tr>\n",
       "      <th>9888</th>\n",
       "      <td>2020</td>\n",
       "      <td>NORTH CAROLINA</td>\n",
       "      <td>12</td>\n",
       "      <td>DEMOCRAT</td>\n",
       "      <td>341457</td>\n",
       "      <td>341457</td>\n",
       "      <td>100.0</td>\n",
       "    </tr>\n",
       "    <tr>\n",
       "      <th>10365</th>\n",
       "      <td>2022</td>\n",
       "      <td>PENNSYLVANIA</td>\n",
       "      <td>13</td>\n",
       "      <td>REPUBLICAN</td>\n",
       "      <td>260345</td>\n",
       "      <td>260345</td>\n",
       "      <td>100.0</td>\n",
       "    </tr>\n",
       "    <tr>\n",
       "      <th>10366</th>\n",
       "      <td>2022</td>\n",
       "      <td>PENNSYLVANIA</td>\n",
       "      <td>14</td>\n",
       "      <td>REPUBLICAN</td>\n",
       "      <td>230865</td>\n",
       "      <td>230865</td>\n",
       "      <td>100.0</td>\n",
       "    </tr>\n",
       "    <tr>\n",
       "      <th>10394</th>\n",
       "      <td>2022</td>\n",
       "      <td>TEXAS</td>\n",
       "      <td>6</td>\n",
       "      <td>REPUBLICAN</td>\n",
       "      <td>149321</td>\n",
       "      <td>149321</td>\n",
       "      <td>100.0</td>\n",
       "    </tr>\n",
       "    <tr>\n",
       "      <th>10399</th>\n",
       "      <td>2022</td>\n",
       "      <td>TEXAS</td>\n",
       "      <td>11</td>\n",
       "      <td>REPUBLICAN</td>\n",
       "      <td>151066</td>\n",
       "      <td>151066</td>\n",
       "      <td>100.0</td>\n",
       "    </tr>\n",
       "    <tr>\n",
       "      <th>10413</th>\n",
       "      <td>2022</td>\n",
       "      <td>TEXAS</td>\n",
       "      <td>25</td>\n",
       "      <td>REPUBLICAN</td>\n",
       "      <td>185270</td>\n",
       "      <td>185270</td>\n",
       "      <td>100.0</td>\n",
       "    </tr>\n",
       "    <tr>\n",
       "      <th>10419</th>\n",
       "      <td>2022</td>\n",
       "      <td>TEXAS</td>\n",
       "      <td>31</td>\n",
       "      <td>REPUBLICAN</td>\n",
       "      <td>183185</td>\n",
       "      <td>183185</td>\n",
       "      <td>100.0</td>\n",
       "    </tr>\n",
       "  </tbody>\n",
       "</table>\n",
       "</div>"
      ],
      "text/plain": [
       "       year           state  congressional_district       party  \\\n",
       "8401   2014         GEORGIA                       3  REPUBLICAN   \n",
       "8403   2014         GEORGIA                       5    DEMOCRAT   \n",
       "8409   2014         GEORGIA                      11  REPUBLICAN   \n",
       "8411   2014         GEORGIA                      13    DEMOCRAT   \n",
       "8412   2014         GEORGIA                      14  REPUBLICAN   \n",
       "8589   2014            OHIO                       7  REPUBLICAN   \n",
       "8622   2014    PENNSYLVANIA                      14    DEMOCRAT   \n",
       "8623   2014    PENNSYLVANIA                      15  REPUBLICAN   \n",
       "8626   2014    PENNSYLVANIA                      18  REPUBLICAN   \n",
       "8649   2014           TEXAS                       4  REPUBLICAN   \n",
       "8843   2016         GEORGIA                       9  REPUBLICAN   \n",
       "8847   2016         GEORGIA                      13    DEMOCRAT   \n",
       "8848   2016         GEORGIA                      14  REPUBLICAN   \n",
       "8856   2016        ILLINOIS                       4    DEMOCRAT   \n",
       "8867   2016        ILLINOIS                      15  REPUBLICAN   \n",
       "8889   2016        KENTUCKY                       2  REPUBLICAN   \n",
       "8892   2016        KENTUCKY                       5  REPUBLICAN   \n",
       "8956   2016        NEBRASKA                       3  REPUBLICAN   \n",
       "9047   2016    PENNSYLVANIA                       3  REPUBLICAN   \n",
       "9057   2016    PENNSYLVANIA                      13    DEMOCRAT   \n",
       "9062   2016    PENNSYLVANIA                      18  REPUBLICAN   \n",
       "9089   2016           TEXAS                       8  REPUBLICAN   \n",
       "9275   2018         GEORGIA                       5    DEMOCRAT   \n",
       "9278   2018         GEORGIA                       8  REPUBLICAN   \n",
       "9443   2018  NORTH CAROLINA                       3  REPUBLICAN   \n",
       "9498   2018    PENNSYLVANIA                      18    DEMOCRAT   \n",
       "9609   2020        ARKANSAS                       1  REPUBLICAN   \n",
       "9816   2020     MISSISSIPPI                       4  REPUBLICAN   \n",
       "9888   2020  NORTH CAROLINA                      12    DEMOCRAT   \n",
       "10365  2022    PENNSYLVANIA                      13  REPUBLICAN   \n",
       "10366  2022    PENNSYLVANIA                      14  REPUBLICAN   \n",
       "10394  2022           TEXAS                       6  REPUBLICAN   \n",
       "10399  2022           TEXAS                      11  REPUBLICAN   \n",
       "10413  2022           TEXAS                      25  REPUBLICAN   \n",
       "10419  2022           TEXAS                      31  REPUBLICAN   \n",
       "\n",
       "       candidatevotes  totalvotes  candidateperc  \n",
       "8401           156277      156277          100.0  \n",
       "8403           170326      170326          100.0  \n",
       "8409           161532      161532          100.0  \n",
       "8411           159445      159445          100.0  \n",
       "8412           118782      118782          100.0  \n",
       "8589           143959      143959          100.0  \n",
       "8622           148351      148351          100.0  \n",
       "8623           128285      128285          100.0  \n",
       "8626           166076      166076          100.0  \n",
       "8649           115085      115085          100.0  \n",
       "8843           256535      256535          100.0  \n",
       "8847           252833      252833          100.0  \n",
       "8848           216743      216743          100.0  \n",
       "8856           171297      171297          100.0  \n",
       "8867           274554      274554          100.0  \n",
       "8889           251825      251825          100.0  \n",
       "8892           221242      221242          100.0  \n",
       "8956           226720      226720          100.0  \n",
       "9047           244893      244893          100.0  \n",
       "9057           239316      239316          100.0  \n",
       "9062           293684      293684          100.0  \n",
       "9089           236379      236379          100.0  \n",
       "9275           275406      275406          100.0  \n",
       "9278           198152      198152          100.0  \n",
       "9443           187901      187901          100.0  \n",
       "9498           231472      231472          100.0  \n",
       "9609           237596      237596          100.0  \n",
       "9816           255971      255971          100.0  \n",
       "9888           341457      341457          100.0  \n",
       "10365          260345      260345          100.0  \n",
       "10366          230865      230865          100.0  \n",
       "10394          149321      149321          100.0  \n",
       "10399          151066      151066          100.0  \n",
       "10413          185270      185270          100.0  \n",
       "10419          183185      183185          100.0  "
      ]
     },
     "execution_count": 26,
     "metadata": {},
     "output_type": "execute_result"
    }
   ],
   "source": [
    "elections_df[(elections_df['candidateperc']==100) & (elections_df['year']>2012)]"
   ]
  },
  {
   "cell_type": "markdown",
   "id": "8c69de7d",
   "metadata": {},
   "source": [
    "Wikipedia reports the same data, in those cases there was not an opponent party.\n",
    "\n",
    "The histogram above also shows that in some disticts the winner party obtained less than 50% of the votes. We display some of those districts:"
   ]
  },
  {
   "cell_type": "code",
   "execution_count": 27,
   "id": "73d0a290",
   "metadata": {},
   "outputs": [
    {
     "data": {
      "text/html": [
       "<div>\n",
       "<style scoped>\n",
       "    .dataframe tbody tr th:only-of-type {\n",
       "        vertical-align: middle;\n",
       "    }\n",
       "\n",
       "    .dataframe tbody tr th {\n",
       "        vertical-align: top;\n",
       "    }\n",
       "\n",
       "    .dataframe thead th {\n",
       "        text-align: right;\n",
       "    }\n",
       "</style>\n",
       "<table border=\"1\" class=\"dataframe\">\n",
       "  <thead>\n",
       "    <tr style=\"text-align: right;\">\n",
       "      <th></th>\n",
       "      <th>year</th>\n",
       "      <th>state</th>\n",
       "      <th>congressional_district</th>\n",
       "      <th>party</th>\n",
       "      <th>candidatevotes</th>\n",
       "      <th>totalvotes</th>\n",
       "      <th>candidateperc</th>\n",
       "    </tr>\n",
       "  </thead>\n",
       "  <tbody>\n",
       "    <tr>\n",
       "      <th>8896</th>\n",
       "      <td>2016</td>\n",
       "      <td>LOUISIANA</td>\n",
       "      <td>3</td>\n",
       "      <td>REPUBLICAN</td>\n",
       "      <td>77671</td>\n",
       "      <td>282443</td>\n",
       "      <td>27.499708</td>\n",
       "    </tr>\n",
       "  </tbody>\n",
       "</table>\n",
       "</div>"
      ],
      "text/plain": [
       "      year      state  congressional_district       party  candidatevotes  \\\n",
       "8896  2016  LOUISIANA                       3  REPUBLICAN           77671   \n",
       "\n",
       "      totalvotes  candidateperc  \n",
       "8896      282443      27.499708  "
      ]
     },
     "execution_count": 27,
     "metadata": {},
     "output_type": "execute_result"
    }
   ],
   "source": [
    "elections_df[(elections_df['candidateperc']<=30) & (elections_df['year']>2012)]"
   ]
  },
  {
   "cell_type": "markdown",
   "id": "9a498799",
   "metadata": {},
   "source": [
    "Searching in [Wikipedia](https://en.wikipedia.org/wiki/2016_United_States_House_of_Representatives_elections_in_Louisiana) we found that the number of candidatevotes refers to the votes obtained by the winner at the final runoff (in which less people went to vote) while the number of totalvotes refers to the voter at the runoff plus the votes for the other candidates at the primary election. We won't correct these errors but we will keep it in mind for later analysis.\n",
    "\n",
    "Now we compute, for each year and state, the party with the highest percentage of votes, so to have a better understanding of the political orientation of each state:"
   ]
  },
  {
   "cell_type": "code",
   "execution_count": 28,
   "id": "cdfb6f2f",
   "metadata": {},
   "outputs": [
    {
     "data": {
      "text/html": [
       "<div>\n",
       "<style scoped>\n",
       "    .dataframe tbody tr th:only-of-type {\n",
       "        vertical-align: middle;\n",
       "    }\n",
       "\n",
       "    .dataframe tbody tr th {\n",
       "        vertical-align: top;\n",
       "    }\n",
       "\n",
       "    .dataframe thead th {\n",
       "        text-align: right;\n",
       "    }\n",
       "</style>\n",
       "<table border=\"1\" class=\"dataframe\">\n",
       "  <thead>\n",
       "    <tr style=\"text-align: right;\">\n",
       "      <th></th>\n",
       "      <th>year</th>\n",
       "      <th>state</th>\n",
       "      <th>majority_state_party</th>\n",
       "      <th>px_code</th>\n",
       "    </tr>\n",
       "  </thead>\n",
       "  <tbody>\n",
       "    <tr>\n",
       "      <th>0</th>\n",
       "      <td>1976</td>\n",
       "      <td>ALABAMA</td>\n",
       "      <td>DEMOCRAT</td>\n",
       "      <td>AL</td>\n",
       "    </tr>\n",
       "    <tr>\n",
       "      <th>1</th>\n",
       "      <td>1976</td>\n",
       "      <td>ALASKA</td>\n",
       "      <td>REPUBLICAN</td>\n",
       "      <td>AK</td>\n",
       "    </tr>\n",
       "    <tr>\n",
       "      <th>2</th>\n",
       "      <td>1976</td>\n",
       "      <td>ARIZONA</td>\n",
       "      <td>REPUBLICAN</td>\n",
       "      <td>AZ</td>\n",
       "    </tr>\n",
       "    <tr>\n",
       "      <th>3</th>\n",
       "      <td>1976</td>\n",
       "      <td>ARKANSAS</td>\n",
       "      <td>REPUBLICAN</td>\n",
       "      <td>AR</td>\n",
       "    </tr>\n",
       "    <tr>\n",
       "      <th>4</th>\n",
       "      <td>1976</td>\n",
       "      <td>CALIFORNIA</td>\n",
       "      <td>DEMOCRAT</td>\n",
       "      <td>CA</td>\n",
       "    </tr>\n",
       "    <tr>\n",
       "      <th>...</th>\n",
       "      <td>...</td>\n",
       "      <td>...</td>\n",
       "      <td>...</td>\n",
       "      <td>...</td>\n",
       "    </tr>\n",
       "    <tr>\n",
       "      <th>1219</th>\n",
       "      <td>2022</td>\n",
       "      <td>VIRGINIA</td>\n",
       "      <td>DEMOCRAT</td>\n",
       "      <td>VA</td>\n",
       "    </tr>\n",
       "    <tr>\n",
       "      <th>1220</th>\n",
       "      <td>2022</td>\n",
       "      <td>WASHINGTON</td>\n",
       "      <td>REPUBLICAN</td>\n",
       "      <td>WA</td>\n",
       "    </tr>\n",
       "    <tr>\n",
       "      <th>1221</th>\n",
       "      <td>2022</td>\n",
       "      <td>WEST VIRGINIA</td>\n",
       "      <td>REPUBLICAN</td>\n",
       "      <td>WV</td>\n",
       "    </tr>\n",
       "    <tr>\n",
       "      <th>1222</th>\n",
       "      <td>2022</td>\n",
       "      <td>WISCONSIN</td>\n",
       "      <td>DEMOCRAT</td>\n",
       "      <td>WI</td>\n",
       "    </tr>\n",
       "    <tr>\n",
       "      <th>1223</th>\n",
       "      <td>2022</td>\n",
       "      <td>WYOMING</td>\n",
       "      <td>REPUBLICAN</td>\n",
       "      <td>WY</td>\n",
       "    </tr>\n",
       "  </tbody>\n",
       "</table>\n",
       "<p>1224 rows × 4 columns</p>\n",
       "</div>"
      ],
      "text/plain": [
       "      year          state majority_state_party px_code\n",
       "0     1976        ALABAMA             DEMOCRAT      AL\n",
       "1     1976         ALASKA           REPUBLICAN      AK\n",
       "2     1976        ARIZONA           REPUBLICAN      AZ\n",
       "3     1976       ARKANSAS           REPUBLICAN      AR\n",
       "4     1976     CALIFORNIA             DEMOCRAT      CA\n",
       "...    ...            ...                  ...     ...\n",
       "1219  2022       VIRGINIA             DEMOCRAT      VA\n",
       "1220  2022     WASHINGTON           REPUBLICAN      WA\n",
       "1221  2022  WEST VIRGINIA           REPUBLICAN      WV\n",
       "1222  2022      WISCONSIN             DEMOCRAT      WI\n",
       "1223  2022        WYOMING           REPUBLICAN      WY\n",
       "\n",
       "[1224 rows x 4 columns]"
      ]
     },
     "execution_count": 28,
     "metadata": {},
     "output_type": "execute_result"
    }
   ],
   "source": [
    "usa_states_df = pd.read_csv(\n",
    "    'https://www2.census.gov/geo/docs/reference/state.txt',\n",
    "    sep='|',\n",
    "    dtype={'STATE': str, 'STATE_NAME': str}\n",
    ")\n",
    "usa_name_alphcode = usa_states_df.set_index('STATE_NAME').to_dict()['STUSAB']\n",
    "winning_party_per_state = elections_df.groupby(['year', 'state', 'party'])['candidateperc'].mean()\n",
    "winning_party_per_state = winning_party_per_state.groupby(['year', 'state']).idxmax().apply(lambda x: x[2])\n",
    "winning_party_per_state = winning_party_per_state.to_frame()\n",
    "winning_party_per_state.reset_index(inplace=True)\n",
    "winning_party_per_state.rename(columns={'candidateperc': 'majority_state_party'}, inplace=True)\n",
    "winning_party_per_state['px_code'] = winning_party_per_state['state'].str.title().map(usa_name_alphcode)\n",
    "winning_party_per_state"
   ]
  },
  {
   "cell_type": "markdown",
   "id": "4079e221",
   "metadata": {},
   "source": [
    "We now plot on a map the winning party over the years:"
   ]
  },
  {
   "cell_type": "code",
   "execution_count": 29,
   "id": "fc2b2f71",
   "metadata": {},
   "outputs": [
    {
     "data": {
      "application/vnd.plotly.v1+json": {
       "config": {
        "plotlyServerURL": "https://plot.ly"
       },
       "data": [
        {
         "colorscale": [
          [
           0,
           "#636efa"
          ],
          [
           1,
           "#636efa"
          ]
         ],
         "customdata": [
          [
           "AL"
          ],
          [
           "AR"
          ],
          [
           "CA"
          ],
          [
           "CO"
          ],
          [
           "CT"
          ],
          [
           null
          ],
          [
           "FL"
          ],
          [
           "HI"
          ],
          [
           "IL"
          ],
          [
           "KY"
          ],
          [
           "ME"
          ],
          [
           "MD"
          ],
          [
           "MA"
          ],
          [
           "MI"
          ],
          [
           "MN"
          ],
          [
           "MS"
          ],
          [
           "MO"
          ],
          [
           "NV"
          ],
          [
           "NH"
          ],
          [
           "NJ"
          ],
          [
           "NM"
          ],
          [
           "NY"
          ],
          [
           "NC"
          ],
          [
           "ND"
          ],
          [
           "OH"
          ],
          [
           "OK"
          ],
          [
           "PA"
          ],
          [
           "RI"
          ],
          [
           "SD"
          ],
          [
           "TX"
          ],
          [
           "VT"
          ],
          [
           "VA"
          ],
          [
           "WA"
          ],
          [
           "WV"
          ]
         ],
         "geo": "geo",
         "hovertemplate": "<b>%{hovertext}</b><br><br>majority_state_party=DEMOCRAT<br>year=2006<extra></extra>",
         "hovertext": [
          "ALABAMA",
          "ARKANSAS",
          "CALIFORNIA",
          "COLORADO",
          "CONNECTICUT",
          "DISTRICT OF COLUMBIA",
          "FLORIDA",
          "HAWAII",
          "ILLINOIS",
          "KENTUCKY",
          "MAINE",
          "MARYLAND",
          "MASSACHUSETTS",
          "MICHIGAN",
          "MINNESOTA",
          "MISSISSIPPI",
          "MISSOURI",
          "NEVADA",
          "NEW HAMPSHIRE",
          "NEW JERSEY",
          "NEW MEXICO",
          "NEW YORK",
          "NORTH CAROLINA",
          "NORTH DAKOTA",
          "OHIO",
          "OKLAHOMA",
          "PENNSYLVANIA",
          "RHODE ISLAND",
          "SOUTH DAKOTA",
          "TEXAS",
          "VERMONT",
          "VIRGINIA",
          "WASHINGTON",
          "WEST VIRGINIA"
         ],
         "locationmode": "USA-states",
         "locations": [
          "AL",
          "AR",
          "CA",
          "CO",
          "CT",
          null,
          "FL",
          "HI",
          "IL",
          "KY",
          "ME",
          "MD",
          "MA",
          "MI",
          "MN",
          "MS",
          "MO",
          "NV",
          "NH",
          "NJ",
          "NM",
          "NY",
          "NC",
          "ND",
          "OH",
          "OK",
          "PA",
          "RI",
          "SD",
          "TX",
          "VT",
          "VA",
          "WA",
          "WV"
         ],
         "name": "DEMOCRAT",
         "showlegend": true,
         "showscale": false,
         "type": "choropleth",
         "z": [
          1,
          1,
          1,
          1,
          1,
          1,
          1,
          1,
          1,
          1,
          1,
          1,
          1,
          1,
          1,
          1,
          1,
          1,
          1,
          1,
          1,
          1,
          1,
          1,
          1,
          1,
          1,
          1,
          1,
          1,
          1,
          1,
          1,
          1
         ]
        },
        {
         "colorscale": [
          [
           0,
           "#EF553B"
          ],
          [
           1,
           "#EF553B"
          ]
         ],
         "customdata": [
          [
           "AK"
          ],
          [
           "AZ"
          ],
          [
           "DE"
          ],
          [
           "GA"
          ],
          [
           "ID"
          ],
          [
           "IN"
          ],
          [
           "IA"
          ],
          [
           "KS"
          ],
          [
           "LA"
          ],
          [
           "MT"
          ],
          [
           "NE"
          ],
          [
           "OR"
          ],
          [
           "SC"
          ],
          [
           "TN"
          ],
          [
           "UT"
          ],
          [
           "WI"
          ],
          [
           "WY"
          ]
         ],
         "geo": "geo",
         "hovertemplate": "<b>%{hovertext}</b><br><br>majority_state_party=REPUBLICAN<br>year=2006<extra></extra>",
         "hovertext": [
          "ALASKA",
          "ARIZONA",
          "DELAWARE",
          "GEORGIA",
          "IDAHO",
          "INDIANA",
          "IOWA",
          "KANSAS",
          "LOUISIANA",
          "MONTANA",
          "NEBRASKA",
          "OREGON",
          "SOUTH CAROLINA",
          "TENNESSEE",
          "UTAH",
          "WISCONSIN",
          "WYOMING"
         ],
         "locationmode": "USA-states",
         "locations": [
          "AK",
          "AZ",
          "DE",
          "GA",
          "ID",
          "IN",
          "IA",
          "KS",
          "LA",
          "MT",
          "NE",
          "OR",
          "SC",
          "TN",
          "UT",
          "WI",
          "WY"
         ],
         "name": "REPUBLICAN",
         "showlegend": true,
         "showscale": false,
         "type": "choropleth",
         "z": [
          1,
          1,
          1,
          1,
          1,
          1,
          1,
          1,
          1,
          1,
          1,
          1,
          1,
          1,
          1,
          1,
          1
         ]
        }
       ],
       "frames": [
        {
         "data": [
          {
           "colorscale": [
            [
             0,
             "#636efa"
            ],
            [
             1,
             "#636efa"
            ]
           ],
           "customdata": [
            [
             "AL"
            ],
            [
             "AR"
            ],
            [
             "CA"
            ],
            [
             "CO"
            ],
            [
             "CT"
            ],
            [
             null
            ],
            [
             "FL"
            ],
            [
             "HI"
            ],
            [
             "IL"
            ],
            [
             "KY"
            ],
            [
             "ME"
            ],
            [
             "MD"
            ],
            [
             "MA"
            ],
            [
             "MI"
            ],
            [
             "MN"
            ],
            [
             "MS"
            ],
            [
             "MO"
            ],
            [
             "NV"
            ],
            [
             "NH"
            ],
            [
             "NJ"
            ],
            [
             "NM"
            ],
            [
             "NY"
            ],
            [
             "NC"
            ],
            [
             "ND"
            ],
            [
             "OH"
            ],
            [
             "OK"
            ],
            [
             "PA"
            ],
            [
             "RI"
            ],
            [
             "SD"
            ],
            [
             "TX"
            ],
            [
             "VT"
            ],
            [
             "VA"
            ],
            [
             "WA"
            ],
            [
             "WV"
            ]
           ],
           "geo": "geo",
           "hovertemplate": "<b>%{hovertext}</b><br><br>majority_state_party=DEMOCRAT<br>year=2006<extra></extra>",
           "hovertext": [
            "ALABAMA",
            "ARKANSAS",
            "CALIFORNIA",
            "COLORADO",
            "CONNECTICUT",
            "DISTRICT OF COLUMBIA",
            "FLORIDA",
            "HAWAII",
            "ILLINOIS",
            "KENTUCKY",
            "MAINE",
            "MARYLAND",
            "MASSACHUSETTS",
            "MICHIGAN",
            "MINNESOTA",
            "MISSISSIPPI",
            "MISSOURI",
            "NEVADA",
            "NEW HAMPSHIRE",
            "NEW JERSEY",
            "NEW MEXICO",
            "NEW YORK",
            "NORTH CAROLINA",
            "NORTH DAKOTA",
            "OHIO",
            "OKLAHOMA",
            "PENNSYLVANIA",
            "RHODE ISLAND",
            "SOUTH DAKOTA",
            "TEXAS",
            "VERMONT",
            "VIRGINIA",
            "WASHINGTON",
            "WEST VIRGINIA"
           ],
           "locationmode": "USA-states",
           "locations": [
            "AL",
            "AR",
            "CA",
            "CO",
            "CT",
            null,
            "FL",
            "HI",
            "IL",
            "KY",
            "ME",
            "MD",
            "MA",
            "MI",
            "MN",
            "MS",
            "MO",
            "NV",
            "NH",
            "NJ",
            "NM",
            "NY",
            "NC",
            "ND",
            "OH",
            "OK",
            "PA",
            "RI",
            "SD",
            "TX",
            "VT",
            "VA",
            "WA",
            "WV"
           ],
           "name": "DEMOCRAT",
           "showlegend": true,
           "showscale": false,
           "type": "choropleth",
           "z": [
            1,
            1,
            1,
            1,
            1,
            1,
            1,
            1,
            1,
            1,
            1,
            1,
            1,
            1,
            1,
            1,
            1,
            1,
            1,
            1,
            1,
            1,
            1,
            1,
            1,
            1,
            1,
            1,
            1,
            1,
            1,
            1,
            1,
            1
           ]
          },
          {
           "colorscale": [
            [
             0,
             "#EF553B"
            ],
            [
             1,
             "#EF553B"
            ]
           ],
           "customdata": [
            [
             "AK"
            ],
            [
             "AZ"
            ],
            [
             "DE"
            ],
            [
             "GA"
            ],
            [
             "ID"
            ],
            [
             "IN"
            ],
            [
             "IA"
            ],
            [
             "KS"
            ],
            [
             "LA"
            ],
            [
             "MT"
            ],
            [
             "NE"
            ],
            [
             "OR"
            ],
            [
             "SC"
            ],
            [
             "TN"
            ],
            [
             "UT"
            ],
            [
             "WI"
            ],
            [
             "WY"
            ]
           ],
           "geo": "geo",
           "hovertemplate": "<b>%{hovertext}</b><br><br>majority_state_party=REPUBLICAN<br>year=2006<extra></extra>",
           "hovertext": [
            "ALASKA",
            "ARIZONA",
            "DELAWARE",
            "GEORGIA",
            "IDAHO",
            "INDIANA",
            "IOWA",
            "KANSAS",
            "LOUISIANA",
            "MONTANA",
            "NEBRASKA",
            "OREGON",
            "SOUTH CAROLINA",
            "TENNESSEE",
            "UTAH",
            "WISCONSIN",
            "WYOMING"
           ],
           "locationmode": "USA-states",
           "locations": [
            "AK",
            "AZ",
            "DE",
            "GA",
            "ID",
            "IN",
            "IA",
            "KS",
            "LA",
            "MT",
            "NE",
            "OR",
            "SC",
            "TN",
            "UT",
            "WI",
            "WY"
           ],
           "name": "REPUBLICAN",
           "showlegend": true,
           "showscale": false,
           "type": "choropleth",
           "z": [
            1,
            1,
            1,
            1,
            1,
            1,
            1,
            1,
            1,
            1,
            1,
            1,
            1,
            1,
            1,
            1,
            1
           ]
          }
         ],
         "name": "2006"
        },
        {
         "data": [
          {
           "colorscale": [
            [
             0,
             "#636efa"
            ],
            [
             1,
             "#636efa"
            ]
           ],
           "customdata": [
            [
             "AZ"
            ],
            [
             "CA"
            ],
            [
             "CO"
            ],
            [
             "CT"
            ],
            [
             null
            ],
            [
             "FL"
            ],
            [
             "GA"
            ],
            [
             "HI"
            ],
            [
             "IL"
            ],
            [
             "IN"
            ],
            [
             "ME"
            ],
            [
             "MD"
            ],
            [
             "MA"
            ],
            [
             "MI"
            ],
            [
             "MN"
            ],
            [
             "MS"
            ],
            [
             "MO"
            ],
            [
             "NV"
            ],
            [
             "NH"
            ],
            [
             "NJ"
            ],
            [
             "NM"
            ],
            [
             "NY"
            ],
            [
             "NC"
            ],
            [
             "ND"
            ],
            [
             "OH"
            ],
            [
             "OK"
            ],
            [
             "OR"
            ],
            [
             "PA"
            ],
            [
             "RI"
            ],
            [
             "SC"
            ],
            [
             "SD"
            ],
            [
             "TN"
            ],
            [
             "TX"
            ],
            [
             "VT"
            ],
            [
             "VA"
            ],
            [
             "WA"
            ],
            [
             "WV"
            ]
           ],
           "geo": "geo",
           "hovertemplate": "<b>%{hovertext}</b><br><br>majority_state_party=DEMOCRAT<br>year=2008<extra></extra>",
           "hovertext": [
            "ARIZONA",
            "CALIFORNIA",
            "COLORADO",
            "CONNECTICUT",
            "DISTRICT OF COLUMBIA",
            "FLORIDA",
            "GEORGIA",
            "HAWAII",
            "ILLINOIS",
            "INDIANA",
            "MAINE",
            "MARYLAND",
            "MASSACHUSETTS",
            "MICHIGAN",
            "MINNESOTA",
            "MISSISSIPPI",
            "MISSOURI",
            "NEVADA",
            "NEW HAMPSHIRE",
            "NEW JERSEY",
            "NEW MEXICO",
            "NEW YORK",
            "NORTH CAROLINA",
            "NORTH DAKOTA",
            "OHIO",
            "OKLAHOMA",
            "OREGON",
            "PENNSYLVANIA",
            "RHODE ISLAND",
            "SOUTH CAROLINA",
            "SOUTH DAKOTA",
            "TENNESSEE",
            "TEXAS",
            "VERMONT",
            "VIRGINIA",
            "WASHINGTON",
            "WEST VIRGINIA"
           ],
           "locationmode": "USA-states",
           "locations": [
            "AZ",
            "CA",
            "CO",
            "CT",
            null,
            "FL",
            "GA",
            "HI",
            "IL",
            "IN",
            "ME",
            "MD",
            "MA",
            "MI",
            "MN",
            "MS",
            "MO",
            "NV",
            "NH",
            "NJ",
            "NM",
            "NY",
            "NC",
            "ND",
            "OH",
            "OK",
            "OR",
            "PA",
            "RI",
            "SC",
            "SD",
            "TN",
            "TX",
            "VT",
            "VA",
            "WA",
            "WV"
           ],
           "name": "DEMOCRAT",
           "showlegend": true,
           "showscale": false,
           "type": "choropleth",
           "z": [
            1,
            1,
            1,
            1,
            1,
            1,
            1,
            1,
            1,
            1,
            1,
            1,
            1,
            1,
            1,
            1,
            1,
            1,
            1,
            1,
            1,
            1,
            1,
            1,
            1,
            1,
            1,
            1,
            1,
            1,
            1,
            1,
            1,
            1,
            1,
            1,
            1
           ]
          },
          {
           "colorscale": [
            [
             0,
             "#EF553B"
            ],
            [
             1,
             "#EF553B"
            ]
           ],
           "customdata": [
            [
             "AL"
            ],
            [
             "AK"
            ],
            [
             "AR"
            ],
            [
             "DE"
            ],
            [
             "ID"
            ],
            [
             "IA"
            ],
            [
             "KS"
            ],
            [
             "KY"
            ],
            [
             "LA"
            ],
            [
             "MT"
            ],
            [
             "NE"
            ],
            [
             "UT"
            ],
            [
             "WI"
            ],
            [
             "WY"
            ]
           ],
           "geo": "geo",
           "hovertemplate": "<b>%{hovertext}</b><br><br>majority_state_party=REPUBLICAN<br>year=2008<extra></extra>",
           "hovertext": [
            "ALABAMA",
            "ALASKA",
            "ARKANSAS",
            "DELAWARE",
            "IDAHO",
            "IOWA",
            "KANSAS",
            "KENTUCKY",
            "LOUISIANA",
            "MONTANA",
            "NEBRASKA",
            "UTAH",
            "WISCONSIN",
            "WYOMING"
           ],
           "locationmode": "USA-states",
           "locations": [
            "AL",
            "AK",
            "AR",
            "DE",
            "ID",
            "IA",
            "KS",
            "KY",
            "LA",
            "MT",
            "NE",
            "UT",
            "WI",
            "WY"
           ],
           "name": "REPUBLICAN",
           "showlegend": true,
           "showscale": false,
           "type": "choropleth",
           "z": [
            1,
            1,
            1,
            1,
            1,
            1,
            1,
            1,
            1,
            1,
            1,
            1,
            1,
            1
           ]
          }
         ],
         "name": "2008"
        },
        {
         "data": [
          {
           "colorscale": [
            [
             0,
             "#636efa"
            ],
            [
             1,
             "#636efa"
            ]
           ],
           "customdata": [
            [
             "CA"
            ],
            [
             "CO"
            ],
            [
             "CT"
            ],
            [
             "DE"
            ],
            [
             null
            ],
            [
             "FL"
            ],
            [
             "HI"
            ],
            [
             "IL"
            ],
            [
             "ME"
            ],
            [
             "MD"
            ],
            [
             "MA"
            ],
            [
             "MI"
            ],
            [
             "MN"
            ],
            [
             "MS"
            ],
            [
             "NV"
            ],
            [
             "NJ"
            ],
            [
             "NY"
            ],
            [
             "OH"
            ],
            [
             "PA"
            ],
            [
             "RI"
            ],
            [
             "SC"
            ],
            [
             "VT"
            ],
            [
             "VA"
            ],
            [
             "WA"
            ]
           ],
           "geo": "geo",
           "hovertemplate": "<b>%{hovertext}</b><br><br>majority_state_party=DEMOCRAT<br>year=2010<extra></extra>",
           "hovertext": [
            "CALIFORNIA",
            "COLORADO",
            "CONNECTICUT",
            "DELAWARE",
            "DISTRICT OF COLUMBIA",
            "FLORIDA",
            "HAWAII",
            "ILLINOIS",
            "MAINE",
            "MARYLAND",
            "MASSACHUSETTS",
            "MICHIGAN",
            "MINNESOTA",
            "MISSISSIPPI",
            "NEVADA",
            "NEW JERSEY",
            "NEW YORK",
            "OHIO",
            "PENNSYLVANIA",
            "RHODE ISLAND",
            "SOUTH CAROLINA",
            "VERMONT",
            "VIRGINIA",
            "WASHINGTON"
           ],
           "locationmode": "USA-states",
           "locations": [
            "CA",
            "CO",
            "CT",
            "DE",
            null,
            "FL",
            "HI",
            "IL",
            "ME",
            "MD",
            "MA",
            "MI",
            "MN",
            "MS",
            "NV",
            "NJ",
            "NY",
            "OH",
            "PA",
            "RI",
            "SC",
            "VT",
            "VA",
            "WA"
           ],
           "name": "DEMOCRAT",
           "showlegend": true,
           "showscale": false,
           "type": "choropleth",
           "z": [
            1,
            1,
            1,
            1,
            1,
            1,
            1,
            1,
            1,
            1,
            1,
            1,
            1,
            1,
            1,
            1,
            1,
            1,
            1,
            1,
            1,
            1,
            1,
            1
           ]
          },
          {
           "colorscale": [
            [
             0,
             "#EF553B"
            ],
            [
             1,
             "#EF553B"
            ]
           ],
           "customdata": [
            [
             "AL"
            ],
            [
             "AK"
            ],
            [
             "AZ"
            ],
            [
             "AR"
            ],
            [
             "GA"
            ],
            [
             "ID"
            ],
            [
             "IN"
            ],
            [
             "IA"
            ],
            [
             "KS"
            ],
            [
             "KY"
            ],
            [
             "LA"
            ],
            [
             "MO"
            ],
            [
             "MT"
            ],
            [
             "NE"
            ],
            [
             "NH"
            ],
            [
             "NM"
            ],
            [
             "NC"
            ],
            [
             "ND"
            ],
            [
             "OK"
            ],
            [
             "OR"
            ],
            [
             "SD"
            ],
            [
             "TN"
            ],
            [
             "TX"
            ],
            [
             "UT"
            ],
            [
             "WV"
            ],
            [
             "WI"
            ],
            [
             "WY"
            ]
           ],
           "geo": "geo",
           "hovertemplate": "<b>%{hovertext}</b><br><br>majority_state_party=REPUBLICAN<br>year=2010<extra></extra>",
           "hovertext": [
            "ALABAMA",
            "ALASKA",
            "ARIZONA",
            "ARKANSAS",
            "GEORGIA",
            "IDAHO",
            "INDIANA",
            "IOWA",
            "KANSAS",
            "KENTUCKY",
            "LOUISIANA",
            "MISSOURI",
            "MONTANA",
            "NEBRASKA",
            "NEW HAMPSHIRE",
            "NEW MEXICO",
            "NORTH CAROLINA",
            "NORTH DAKOTA",
            "OKLAHOMA",
            "OREGON",
            "SOUTH DAKOTA",
            "TENNESSEE",
            "TEXAS",
            "UTAH",
            "WEST VIRGINIA",
            "WISCONSIN",
            "WYOMING"
           ],
           "locationmode": "USA-states",
           "locations": [
            "AL",
            "AK",
            "AZ",
            "AR",
            "GA",
            "ID",
            "IN",
            "IA",
            "KS",
            "KY",
            "LA",
            "MO",
            "MT",
            "NE",
            "NH",
            "NM",
            "NC",
            "ND",
            "OK",
            "OR",
            "SD",
            "TN",
            "TX",
            "UT",
            "WV",
            "WI",
            "WY"
           ],
           "name": "REPUBLICAN",
           "showlegend": true,
           "showscale": false,
           "type": "choropleth",
           "z": [
            1,
            1,
            1,
            1,
            1,
            1,
            1,
            1,
            1,
            1,
            1,
            1,
            1,
            1,
            1,
            1,
            1,
            1,
            1,
            1,
            1,
            1,
            1,
            1,
            1,
            1,
            1
           ]
          }
         ],
         "name": "2010"
        },
        {
         "data": [
          {
           "colorscale": [
            [
             0,
             "#636efa"
            ],
            [
             1,
             "#636efa"
            ]
           ],
           "customdata": [
            [
             "AL"
            ],
            [
             "CA"
            ],
            [
             "CO"
            ],
            [
             "CT"
            ],
            [
             "DE"
            ],
            [
             null
            ],
            [
             "FL"
            ],
            [
             "HI"
            ],
            [
             "IL"
            ],
            [
             "IN"
            ],
            [
             "IA"
            ],
            [
             "ME"
            ],
            [
             "MD"
            ],
            [
             "MA"
            ],
            [
             "MI"
            ],
            [
             "MN"
            ],
            [
             "MO"
            ],
            [
             "NV"
            ],
            [
             "NH"
            ],
            [
             "NJ"
            ],
            [
             "NM"
            ],
            [
             "NY"
            ],
            [
             "NC"
            ],
            [
             "OH"
            ],
            [
             "PA"
            ],
            [
             "RI"
            ],
            [
             "SC"
            ],
            [
             "TN"
            ],
            [
             "TX"
            ],
            [
             "VT"
            ],
            [
             "VA"
            ],
            [
             "WA"
            ],
            [
             "WI"
            ]
           ],
           "geo": "geo",
           "hovertemplate": "<b>%{hovertext}</b><br><br>majority_state_party=DEMOCRAT<br>year=2012<extra></extra>",
           "hovertext": [
            "ALABAMA",
            "CALIFORNIA",
            "COLORADO",
            "CONNECTICUT",
            "DELAWARE",
            "DISTRICT OF COLUMBIA",
            "FLORIDA",
            "HAWAII",
            "ILLINOIS",
            "INDIANA",
            "IOWA",
            "MAINE",
            "MARYLAND",
            "MASSACHUSETTS",
            "MICHIGAN",
            "MINNESOTA",
            "MISSOURI",
            "NEVADA",
            "NEW HAMPSHIRE",
            "NEW JERSEY",
            "NEW MEXICO",
            "NEW YORK",
            "NORTH CAROLINA",
            "OHIO",
            "PENNSYLVANIA",
            "RHODE ISLAND",
            "SOUTH CAROLINA",
            "TENNESSEE",
            "TEXAS",
            "VERMONT",
            "VIRGINIA",
            "WASHINGTON",
            "WISCONSIN"
           ],
           "locationmode": "USA-states",
           "locations": [
            "AL",
            "CA",
            "CO",
            "CT",
            "DE",
            null,
            "FL",
            "HI",
            "IL",
            "IN",
            "IA",
            "ME",
            "MD",
            "MA",
            "MI",
            "MN",
            "MO",
            "NV",
            "NH",
            "NJ",
            "NM",
            "NY",
            "NC",
            "OH",
            "PA",
            "RI",
            "SC",
            "TN",
            "TX",
            "VT",
            "VA",
            "WA",
            "WI"
           ],
           "name": "DEMOCRAT",
           "showlegend": true,
           "showscale": false,
           "type": "choropleth",
           "z": [
            1,
            1,
            1,
            1,
            1,
            1,
            1,
            1,
            1,
            1,
            1,
            1,
            1,
            1,
            1,
            1,
            1,
            1,
            1,
            1,
            1,
            1,
            1,
            1,
            1,
            1,
            1,
            1,
            1,
            1,
            1,
            1,
            1
           ]
          },
          {
           "colorscale": [
            [
             0,
             "#EF553B"
            ],
            [
             1,
             "#EF553B"
            ]
           ],
           "customdata": [
            [
             "AK"
            ],
            [
             "AZ"
            ],
            [
             "AR"
            ],
            [
             "GA"
            ],
            [
             "ID"
            ],
            [
             "KS"
            ],
            [
             "KY"
            ],
            [
             "LA"
            ],
            [
             "MS"
            ],
            [
             "MT"
            ],
            [
             "NE"
            ],
            [
             "ND"
            ],
            [
             "OK"
            ],
            [
             "OR"
            ],
            [
             "SD"
            ],
            [
             "UT"
            ],
            [
             "WV"
            ],
            [
             "WY"
            ]
           ],
           "geo": "geo",
           "hovertemplate": "<b>%{hovertext}</b><br><br>majority_state_party=REPUBLICAN<br>year=2012<extra></extra>",
           "hovertext": [
            "ALASKA",
            "ARIZONA",
            "ARKANSAS",
            "GEORGIA",
            "IDAHO",
            "KANSAS",
            "KENTUCKY",
            "LOUISIANA",
            "MISSISSIPPI",
            "MONTANA",
            "NEBRASKA",
            "NORTH DAKOTA",
            "OKLAHOMA",
            "OREGON",
            "SOUTH DAKOTA",
            "UTAH",
            "WEST VIRGINIA",
            "WYOMING"
           ],
           "locationmode": "USA-states",
           "locations": [
            "AK",
            "AZ",
            "AR",
            "GA",
            "ID",
            "KS",
            "KY",
            "LA",
            "MS",
            "MT",
            "NE",
            "ND",
            "OK",
            "OR",
            "SD",
            "UT",
            "WV",
            "WY"
           ],
           "name": "REPUBLICAN",
           "showlegend": true,
           "showscale": false,
           "type": "choropleth",
           "z": [
            1,
            1,
            1,
            1,
            1,
            1,
            1,
            1,
            1,
            1,
            1,
            1,
            1,
            1,
            1,
            1,
            1,
            1
           ]
          }
         ],
         "name": "2012"
        },
        {
         "data": [
          {
           "colorscale": [
            [
             0,
             "#636efa"
            ],
            [
             1,
             "#636efa"
            ]
           ],
           "customdata": [
            [
             "AL"
            ],
            [
             "CA"
            ],
            [
             "CO"
            ],
            [
             "CT"
            ],
            [
             "DE"
            ],
            [
             null
            ],
            [
             "FL"
            ],
            [
             "GA"
            ],
            [
             "HI"
            ],
            [
             "IL"
            ],
            [
             "LA"
            ],
            [
             "ME"
            ],
            [
             "MA"
            ],
            [
             "MI"
            ],
            [
             "NH"
            ],
            [
             "NJ"
            ],
            [
             "NY"
            ],
            [
             "NC"
            ],
            [
             "OH"
            ],
            [
             "PA"
            ],
            [
             "RI"
            ],
            [
             "SC"
            ],
            [
             "TX"
            ],
            [
             "VT"
            ],
            [
             "VA"
            ],
            [
             "WA"
            ],
            [
             "WI"
            ]
           ],
           "geo": "geo",
           "hovertemplate": "<b>%{hovertext}</b><br><br>majority_state_party=DEMOCRAT<br>year=2014<extra></extra>",
           "hovertext": [
            "ALABAMA",
            "CALIFORNIA",
            "COLORADO",
            "CONNECTICUT",
            "DELAWARE",
            "DISTRICT OF COLUMBIA",
            "FLORIDA",
            "GEORGIA",
            "HAWAII",
            "ILLINOIS",
            "LOUISIANA",
            "MAINE",
            "MASSACHUSETTS",
            "MICHIGAN",
            "NEW HAMPSHIRE",
            "NEW JERSEY",
            "NEW YORK",
            "NORTH CAROLINA",
            "OHIO",
            "PENNSYLVANIA",
            "RHODE ISLAND",
            "SOUTH CAROLINA",
            "TEXAS",
            "VERMONT",
            "VIRGINIA",
            "WASHINGTON",
            "WISCONSIN"
           ],
           "locationmode": "USA-states",
           "locations": [
            "AL",
            "CA",
            "CO",
            "CT",
            "DE",
            null,
            "FL",
            "GA",
            "HI",
            "IL",
            "LA",
            "ME",
            "MA",
            "MI",
            "NH",
            "NJ",
            "NY",
            "NC",
            "OH",
            "PA",
            "RI",
            "SC",
            "TX",
            "VT",
            "VA",
            "WA",
            "WI"
           ],
           "name": "DEMOCRAT",
           "showlegend": true,
           "showscale": false,
           "type": "choropleth",
           "z": [
            1,
            1,
            1,
            1,
            1,
            1,
            1,
            1,
            1,
            1,
            1,
            1,
            1,
            1,
            1,
            1,
            1,
            1,
            1,
            1,
            1,
            1,
            1,
            1,
            1,
            1,
            1
           ]
          },
          {
           "colorscale": [
            [
             0,
             "#EF553B"
            ],
            [
             1,
             "#EF553B"
            ]
           ],
           "customdata": [
            [
             "AK"
            ],
            [
             "AZ"
            ],
            [
             "AR"
            ],
            [
             "ID"
            ],
            [
             "IN"
            ],
            [
             "IA"
            ],
            [
             "KS"
            ],
            [
             "KY"
            ],
            [
             "MD"
            ],
            [
             "MN"
            ],
            [
             "MS"
            ],
            [
             "MO"
            ],
            [
             "MT"
            ],
            [
             "NE"
            ],
            [
             "NV"
            ],
            [
             "NM"
            ],
            [
             "ND"
            ],
            [
             "OK"
            ],
            [
             "OR"
            ],
            [
             "SD"
            ],
            [
             "TN"
            ],
            [
             "UT"
            ],
            [
             "WV"
            ],
            [
             "WY"
            ]
           ],
           "geo": "geo",
           "hovertemplate": "<b>%{hovertext}</b><br><br>majority_state_party=REPUBLICAN<br>year=2014<extra></extra>",
           "hovertext": [
            "ALASKA",
            "ARIZONA",
            "ARKANSAS",
            "IDAHO",
            "INDIANA",
            "IOWA",
            "KANSAS",
            "KENTUCKY",
            "MARYLAND",
            "MINNESOTA",
            "MISSISSIPPI",
            "MISSOURI",
            "MONTANA",
            "NEBRASKA",
            "NEVADA",
            "NEW MEXICO",
            "NORTH DAKOTA",
            "OKLAHOMA",
            "OREGON",
            "SOUTH DAKOTA",
            "TENNESSEE",
            "UTAH",
            "WEST VIRGINIA",
            "WYOMING"
           ],
           "locationmode": "USA-states",
           "locations": [
            "AK",
            "AZ",
            "AR",
            "ID",
            "IN",
            "IA",
            "KS",
            "KY",
            "MD",
            "MN",
            "MS",
            "MO",
            "MT",
            "NE",
            "NV",
            "NM",
            "ND",
            "OK",
            "OR",
            "SD",
            "TN",
            "UT",
            "WV",
            "WY"
           ],
           "name": "REPUBLICAN",
           "showlegend": true,
           "showscale": false,
           "type": "choropleth",
           "z": [
            1,
            1,
            1,
            1,
            1,
            1,
            1,
            1,
            1,
            1,
            1,
            1,
            1,
            1,
            1,
            1,
            1,
            1,
            1,
            1,
            1,
            1,
            1,
            1
           ]
          }
         ],
         "name": "2014"
        },
        {
         "data": [
          {
           "colorscale": [
            [
             0,
             "#636efa"
            ],
            [
             1,
             "#636efa"
            ]
           ],
           "customdata": [
            [
             "AL"
            ],
            [
             "AZ"
            ],
            [
             "CA"
            ],
            [
             "CO"
            ],
            [
             "CT"
            ],
            [
             "DE"
            ],
            [
             null
            ],
            [
             "FL"
            ],
            [
             "GA"
            ],
            [
             "HI"
            ],
            [
             "IL"
            ],
            [
             "IN"
            ],
            [
             "LA"
            ],
            [
             "ME"
            ],
            [
             "MA"
            ],
            [
             "MI"
            ],
            [
             "MS"
            ],
            [
             "NH"
            ],
            [
             "NJ"
            ],
            [
             "NM"
            ],
            [
             "NY"
            ],
            [
             "NC"
            ],
            [
             "OH"
            ],
            [
             "PA"
            ],
            [
             "RI"
            ],
            [
             "SC"
            ],
            [
             "TX"
            ],
            [
             "VT"
            ],
            [
             "VA"
            ],
            [
             "WA"
            ],
            [
             "WI"
            ]
           ],
           "geo": "geo",
           "hovertemplate": "<b>%{hovertext}</b><br><br>majority_state_party=DEMOCRAT<br>year=2016<extra></extra>",
           "hovertext": [
            "ALABAMA",
            "ARIZONA",
            "CALIFORNIA",
            "COLORADO",
            "CONNECTICUT",
            "DELAWARE",
            "DISTRICT OF COLUMBIA",
            "FLORIDA",
            "GEORGIA",
            "HAWAII",
            "ILLINOIS",
            "INDIANA",
            "LOUISIANA",
            "MAINE",
            "MASSACHUSETTS",
            "MICHIGAN",
            "MISSISSIPPI",
            "NEW HAMPSHIRE",
            "NEW JERSEY",
            "NEW MEXICO",
            "NEW YORK",
            "NORTH CAROLINA",
            "OHIO",
            "PENNSYLVANIA",
            "RHODE ISLAND",
            "SOUTH CAROLINA",
            "TEXAS",
            "VERMONT",
            "VIRGINIA",
            "WASHINGTON",
            "WISCONSIN"
           ],
           "locationmode": "USA-states",
           "locations": [
            "AL",
            "AZ",
            "CA",
            "CO",
            "CT",
            "DE",
            null,
            "FL",
            "GA",
            "HI",
            "IL",
            "IN",
            "LA",
            "ME",
            "MA",
            "MI",
            "MS",
            "NH",
            "NJ",
            "NM",
            "NY",
            "NC",
            "OH",
            "PA",
            "RI",
            "SC",
            "TX",
            "VT",
            "VA",
            "WA",
            "WI"
           ],
           "name": "DEMOCRAT",
           "showlegend": true,
           "showscale": false,
           "type": "choropleth",
           "z": [
            1,
            1,
            1,
            1,
            1,
            1,
            1,
            1,
            1,
            1,
            1,
            1,
            1,
            1,
            1,
            1,
            1,
            1,
            1,
            1,
            1,
            1,
            1,
            1,
            1,
            1,
            1,
            1,
            1,
            1,
            1
           ]
          },
          {
           "colorscale": [
            [
             0,
             "#EF553B"
            ],
            [
             1,
             "#EF553B"
            ]
           ],
           "customdata": [
            [
             "AK"
            ],
            [
             "AR"
            ],
            [
             "ID"
            ],
            [
             "IA"
            ],
            [
             "KS"
            ],
            [
             "KY"
            ],
            [
             "MD"
            ],
            [
             "MN"
            ],
            [
             "MO"
            ],
            [
             "MT"
            ],
            [
             "NE"
            ],
            [
             "NV"
            ],
            [
             "ND"
            ],
            [
             "OK"
            ],
            [
             "OR"
            ],
            [
             "SD"
            ],
            [
             "TN"
            ],
            [
             "UT"
            ],
            [
             "WV"
            ],
            [
             "WY"
            ]
           ],
           "geo": "geo",
           "hovertemplate": "<b>%{hovertext}</b><br><br>majority_state_party=REPUBLICAN<br>year=2016<extra></extra>",
           "hovertext": [
            "ALASKA",
            "ARKANSAS",
            "IDAHO",
            "IOWA",
            "KANSAS",
            "KENTUCKY",
            "MARYLAND",
            "MINNESOTA",
            "MISSOURI",
            "MONTANA",
            "NEBRASKA",
            "NEVADA",
            "NORTH DAKOTA",
            "OKLAHOMA",
            "OREGON",
            "SOUTH DAKOTA",
            "TENNESSEE",
            "UTAH",
            "WEST VIRGINIA",
            "WYOMING"
           ],
           "locationmode": "USA-states",
           "locations": [
            "AK",
            "AR",
            "ID",
            "IA",
            "KS",
            "KY",
            "MD",
            "MN",
            "MO",
            "MT",
            "NE",
            "NV",
            "ND",
            "OK",
            "OR",
            "SD",
            "TN",
            "UT",
            "WV",
            "WY"
           ],
           "name": "REPUBLICAN",
           "showlegend": true,
           "showscale": false,
           "type": "choropleth",
           "z": [
            1,
            1,
            1,
            1,
            1,
            1,
            1,
            1,
            1,
            1,
            1,
            1,
            1,
            1,
            1,
            1,
            1,
            1,
            1,
            1
           ]
          }
         ],
         "name": "2016"
        },
        {
         "data": [
          {
           "colorscale": [
            [
             0,
             "#636efa"
            ],
            [
             1,
             "#636efa"
            ]
           ],
           "customdata": [
            [
             "AL"
            ],
            [
             "AZ"
            ],
            [
             "CA"
            ],
            [
             "CO"
            ],
            [
             "CT"
            ],
            [
             "DE"
            ],
            [
             null
            ],
            [
             "FL"
            ],
            [
             "GA"
            ],
            [
             "HI"
            ],
            [
             "IL"
            ],
            [
             "IN"
            ],
            [
             "IA"
            ],
            [
             "LA"
            ],
            [
             "ME"
            ],
            [
             "MD"
            ],
            [
             "MA"
            ],
            [
             "MI"
            ],
            [
             "MN"
            ],
            [
             "MS"
            ],
            [
             "MO"
            ],
            [
             "NH"
            ],
            [
             "NJ"
            ],
            [
             "NM"
            ],
            [
             "NY"
            ],
            [
             "NC"
            ],
            [
             "OH"
            ],
            [
             "OR"
            ],
            [
             "PA"
            ],
            [
             "RI"
            ],
            [
             "SC"
            ],
            [
             "TN"
            ],
            [
             "TX"
            ],
            [
             "VT"
            ],
            [
             "VA"
            ],
            [
             "WA"
            ],
            [
             "WI"
            ]
           ],
           "geo": "geo",
           "hovertemplate": "<b>%{hovertext}</b><br><br>majority_state_party=DEMOCRAT<br>year=2018<extra></extra>",
           "hovertext": [
            "ALABAMA",
            "ARIZONA",
            "CALIFORNIA",
            "COLORADO",
            "CONNECTICUT",
            "DELAWARE",
            "DISTRICT OF COLUMBIA",
            "FLORIDA",
            "GEORGIA",
            "HAWAII",
            "ILLINOIS",
            "INDIANA",
            "IOWA",
            "LOUISIANA",
            "MAINE",
            "MARYLAND",
            "MASSACHUSETTS",
            "MICHIGAN",
            "MINNESOTA",
            "MISSISSIPPI",
            "MISSOURI",
            "NEW HAMPSHIRE",
            "NEW JERSEY",
            "NEW MEXICO",
            "NEW YORK",
            "NORTH CAROLINA",
            "OHIO",
            "OREGON",
            "PENNSYLVANIA",
            "RHODE ISLAND",
            "SOUTH CAROLINA",
            "TENNESSEE",
            "TEXAS",
            "VERMONT",
            "VIRGINIA",
            "WASHINGTON",
            "WISCONSIN"
           ],
           "locationmode": "USA-states",
           "locations": [
            "AL",
            "AZ",
            "CA",
            "CO",
            "CT",
            "DE",
            null,
            "FL",
            "GA",
            "HI",
            "IL",
            "IN",
            "IA",
            "LA",
            "ME",
            "MD",
            "MA",
            "MI",
            "MN",
            "MS",
            "MO",
            "NH",
            "NJ",
            "NM",
            "NY",
            "NC",
            "OH",
            "OR",
            "PA",
            "RI",
            "SC",
            "TN",
            "TX",
            "VT",
            "VA",
            "WA",
            "WI"
           ],
           "name": "DEMOCRAT",
           "showlegend": true,
           "showscale": false,
           "type": "choropleth",
           "z": [
            1,
            1,
            1,
            1,
            1,
            1,
            1,
            1,
            1,
            1,
            1,
            1,
            1,
            1,
            1,
            1,
            1,
            1,
            1,
            1,
            1,
            1,
            1,
            1,
            1,
            1,
            1,
            1,
            1,
            1,
            1,
            1,
            1,
            1,
            1,
            1,
            1
           ]
          },
          {
           "colorscale": [
            [
             0,
             "#EF553B"
            ],
            [
             1,
             "#EF553B"
            ]
           ],
           "customdata": [
            [
             "AK"
            ],
            [
             "AR"
            ],
            [
             "ID"
            ],
            [
             "KS"
            ],
            [
             "KY"
            ],
            [
             "MT"
            ],
            [
             "NE"
            ],
            [
             "NV"
            ],
            [
             "ND"
            ],
            [
             "OK"
            ],
            [
             "SD"
            ],
            [
             "UT"
            ],
            [
             "WV"
            ],
            [
             "WY"
            ]
           ],
           "geo": "geo",
           "hovertemplate": "<b>%{hovertext}</b><br><br>majority_state_party=REPUBLICAN<br>year=2018<extra></extra>",
           "hovertext": [
            "ALASKA",
            "ARKANSAS",
            "IDAHO",
            "KANSAS",
            "KENTUCKY",
            "MONTANA",
            "NEBRASKA",
            "NEVADA",
            "NORTH DAKOTA",
            "OKLAHOMA",
            "SOUTH DAKOTA",
            "UTAH",
            "WEST VIRGINIA",
            "WYOMING"
           ],
           "locationmode": "USA-states",
           "locations": [
            "AK",
            "AR",
            "ID",
            "KS",
            "KY",
            "MT",
            "NE",
            "NV",
            "ND",
            "OK",
            "SD",
            "UT",
            "WV",
            "WY"
           ],
           "name": "REPUBLICAN",
           "showlegend": true,
           "showscale": false,
           "type": "choropleth",
           "z": [
            1,
            1,
            1,
            1,
            1,
            1,
            1,
            1,
            1,
            1,
            1,
            1,
            1,
            1
           ]
          }
         ],
         "name": "2018"
        },
        {
         "data": [
          {
           "colorscale": [
            [
             0,
             "#636efa"
            ],
            [
             1,
             "#636efa"
            ]
           ],
           "customdata": [
            [
             "AL"
            ],
            [
             "AZ"
            ],
            [
             "CA"
            ],
            [
             "CO"
            ],
            [
             "CT"
            ],
            [
             "DE"
            ],
            [
             null
            ],
            [
             "FL"
            ],
            [
             "GA"
            ],
            [
             "HI"
            ],
            [
             "IL"
            ],
            [
             "LA"
            ],
            [
             "ME"
            ],
            [
             "MD"
            ],
            [
             "MA"
            ],
            [
             "MI"
            ],
            [
             "MN"
            ],
            [
             "MO"
            ],
            [
             "NH"
            ],
            [
             "NJ"
            ],
            [
             "NM"
            ],
            [
             "NY"
            ],
            [
             "NC"
            ],
            [
             "OH"
            ],
            [
             "OR"
            ],
            [
             "RI"
            ],
            [
             "SC"
            ],
            [
             "TN"
            ],
            [
             "TX"
            ],
            [
             "VT"
            ],
            [
             "WA"
            ],
            [
             "WI"
            ]
           ],
           "geo": "geo",
           "hovertemplate": "<b>%{hovertext}</b><br><br>majority_state_party=DEMOCRAT<br>year=2020<extra></extra>",
           "hovertext": [
            "ALABAMA",
            "ARIZONA",
            "CALIFORNIA",
            "COLORADO",
            "CONNECTICUT",
            "DELAWARE",
            "DISTRICT OF COLUMBIA",
            "FLORIDA",
            "GEORGIA",
            "HAWAII",
            "ILLINOIS",
            "LOUISIANA",
            "MAINE",
            "MARYLAND",
            "MASSACHUSETTS",
            "MICHIGAN",
            "MINNESOTA",
            "MISSOURI",
            "NEW HAMPSHIRE",
            "NEW JERSEY",
            "NEW MEXICO",
            "NEW YORK",
            "NORTH CAROLINA",
            "OHIO",
            "OREGON",
            "RHODE ISLAND",
            "SOUTH CAROLINA",
            "TENNESSEE",
            "TEXAS",
            "VERMONT",
            "WASHINGTON",
            "WISCONSIN"
           ],
           "locationmode": "USA-states",
           "locations": [
            "AL",
            "AZ",
            "CA",
            "CO",
            "CT",
            "DE",
            null,
            "FL",
            "GA",
            "HI",
            "IL",
            "LA",
            "ME",
            "MD",
            "MA",
            "MI",
            "MN",
            "MO",
            "NH",
            "NJ",
            "NM",
            "NY",
            "NC",
            "OH",
            "OR",
            "RI",
            "SC",
            "TN",
            "TX",
            "VT",
            "WA",
            "WI"
           ],
           "name": "DEMOCRAT",
           "showlegend": true,
           "showscale": false,
           "type": "choropleth",
           "z": [
            1,
            1,
            1,
            1,
            1,
            1,
            1,
            1,
            1,
            1,
            1,
            1,
            1,
            1,
            1,
            1,
            1,
            1,
            1,
            1,
            1,
            1,
            1,
            1,
            1,
            1,
            1,
            1,
            1,
            1,
            1,
            1
           ]
          },
          {
           "colorscale": [
            [
             0,
             "#EF553B"
            ],
            [
             1,
             "#EF553B"
            ]
           ],
           "customdata": [
            [
             "AK"
            ],
            [
             "AR"
            ],
            [
             "ID"
            ],
            [
             "IN"
            ],
            [
             "IA"
            ],
            [
             "KS"
            ],
            [
             "KY"
            ],
            [
             "MS"
            ],
            [
             "MT"
            ],
            [
             "NE"
            ],
            [
             "NV"
            ],
            [
             "ND"
            ],
            [
             "OK"
            ],
            [
             "PA"
            ],
            [
             "SD"
            ],
            [
             "UT"
            ],
            [
             "VA"
            ],
            [
             "WV"
            ],
            [
             "WY"
            ]
           ],
           "geo": "geo",
           "hovertemplate": "<b>%{hovertext}</b><br><br>majority_state_party=REPUBLICAN<br>year=2020<extra></extra>",
           "hovertext": [
            "ALASKA",
            "ARKANSAS",
            "IDAHO",
            "INDIANA",
            "IOWA",
            "KANSAS",
            "KENTUCKY",
            "MISSISSIPPI",
            "MONTANA",
            "NEBRASKA",
            "NEVADA",
            "NORTH DAKOTA",
            "OKLAHOMA",
            "PENNSYLVANIA",
            "SOUTH DAKOTA",
            "UTAH",
            "VIRGINIA",
            "WEST VIRGINIA",
            "WYOMING"
           ],
           "locationmode": "USA-states",
           "locations": [
            "AK",
            "AR",
            "ID",
            "IN",
            "IA",
            "KS",
            "KY",
            "MS",
            "MT",
            "NE",
            "NV",
            "ND",
            "OK",
            "PA",
            "SD",
            "UT",
            "VA",
            "WV",
            "WY"
           ],
           "name": "REPUBLICAN",
           "showlegend": true,
           "showscale": false,
           "type": "choropleth",
           "z": [
            1,
            1,
            1,
            1,
            1,
            1,
            1,
            1,
            1,
            1,
            1,
            1,
            1,
            1,
            1,
            1,
            1,
            1,
            1
           ]
          }
         ],
         "name": "2020"
        },
        {
         "data": [
          {
           "colorscale": [
            [
             0,
             "#636efa"
            ],
            [
             1,
             "#636efa"
            ]
           ],
           "customdata": [
            [
             "AK"
            ],
            [
             "CA"
            ],
            [
             "CO"
            ],
            [
             "CT"
            ],
            [
             "DE"
            ],
            [
             null
            ],
            [
             "GA"
            ],
            [
             "HI"
            ],
            [
             "LA"
            ],
            [
             "ME"
            ],
            [
             "MD"
            ],
            [
             "MA"
            ],
            [
             "MI"
            ],
            [
             "MN"
            ],
            [
             "NH"
            ],
            [
             "NJ"
            ],
            [
             "NM"
            ],
            [
             "NY"
            ],
            [
             "OR"
            ],
            [
             "RI"
            ],
            [
             "TN"
            ],
            [
             "VT"
            ],
            [
             "VA"
            ],
            [
             "WI"
            ]
           ],
           "geo": "geo",
           "hovertemplate": "<b>%{hovertext}</b><br><br>majority_state_party=DEMOCRAT<br>year=2022<extra></extra>",
           "hovertext": [
            "ALASKA",
            "CALIFORNIA",
            "COLORADO",
            "CONNECTICUT",
            "DELAWARE",
            "DISTRICT OF COLUMBIA",
            "GEORGIA",
            "HAWAII",
            "LOUISIANA",
            "MAINE",
            "MARYLAND",
            "MASSACHUSETTS",
            "MICHIGAN",
            "MINNESOTA",
            "NEW HAMPSHIRE",
            "NEW JERSEY",
            "NEW MEXICO",
            "NEW YORK",
            "OREGON",
            "RHODE ISLAND",
            "TENNESSEE",
            "VERMONT",
            "VIRGINIA",
            "WISCONSIN"
           ],
           "locationmode": "USA-states",
           "locations": [
            "AK",
            "CA",
            "CO",
            "CT",
            "DE",
            null,
            "GA",
            "HI",
            "LA",
            "ME",
            "MD",
            "MA",
            "MI",
            "MN",
            "NH",
            "NJ",
            "NM",
            "NY",
            "OR",
            "RI",
            "TN",
            "VT",
            "VA",
            "WI"
           ],
           "name": "DEMOCRAT",
           "showlegend": true,
           "showscale": false,
           "type": "choropleth",
           "z": [
            1,
            1,
            1,
            1,
            1,
            1,
            1,
            1,
            1,
            1,
            1,
            1,
            1,
            1,
            1,
            1,
            1,
            1,
            1,
            1,
            1,
            1,
            1,
            1
           ]
          },
          {
           "colorscale": [
            [
             0,
             "#EF553B"
            ],
            [
             1,
             "#EF553B"
            ]
           ],
           "customdata": [
            [
             "AL"
            ],
            [
             "AZ"
            ],
            [
             "AR"
            ],
            [
             "FL"
            ],
            [
             "ID"
            ],
            [
             "IL"
            ],
            [
             "IN"
            ],
            [
             "IA"
            ],
            [
             "KS"
            ],
            [
             "KY"
            ],
            [
             "MS"
            ],
            [
             "MO"
            ],
            [
             "MT"
            ],
            [
             "NE"
            ],
            [
             "NV"
            ],
            [
             "NC"
            ],
            [
             "ND"
            ],
            [
             "OH"
            ],
            [
             "OK"
            ],
            [
             "PA"
            ],
            [
             "SC"
            ],
            [
             "SD"
            ],
            [
             "TX"
            ],
            [
             "UT"
            ],
            [
             "WA"
            ],
            [
             "WV"
            ],
            [
             "WY"
            ]
           ],
           "geo": "geo",
           "hovertemplate": "<b>%{hovertext}</b><br><br>majority_state_party=REPUBLICAN<br>year=2022<extra></extra>",
           "hovertext": [
            "ALABAMA",
            "ARIZONA",
            "ARKANSAS",
            "FLORIDA",
            "IDAHO",
            "ILLINOIS",
            "INDIANA",
            "IOWA",
            "KANSAS",
            "KENTUCKY",
            "MISSISSIPPI",
            "MISSOURI",
            "MONTANA",
            "NEBRASKA",
            "NEVADA",
            "NORTH CAROLINA",
            "NORTH DAKOTA",
            "OHIO",
            "OKLAHOMA",
            "PENNSYLVANIA",
            "SOUTH CAROLINA",
            "SOUTH DAKOTA",
            "TEXAS",
            "UTAH",
            "WASHINGTON",
            "WEST VIRGINIA",
            "WYOMING"
           ],
           "locationmode": "USA-states",
           "locations": [
            "AL",
            "AZ",
            "AR",
            "FL",
            "ID",
            "IL",
            "IN",
            "IA",
            "KS",
            "KY",
            "MS",
            "MO",
            "MT",
            "NE",
            "NV",
            "NC",
            "ND",
            "OH",
            "OK",
            "PA",
            "SC",
            "SD",
            "TX",
            "UT",
            "WA",
            "WV",
            "WY"
           ],
           "name": "REPUBLICAN",
           "showlegend": true,
           "showscale": false,
           "type": "choropleth",
           "z": [
            1,
            1,
            1,
            1,
            1,
            1,
            1,
            1,
            1,
            1,
            1,
            1,
            1,
            1,
            1,
            1,
            1,
            1,
            1,
            1,
            1,
            1,
            1,
            1,
            1,
            1,
            1
           ]
          }
         ],
         "name": "2022"
        }
       ],
       "layout": {
        "geo": {
         "center": {},
         "domain": {
          "x": [
           0,
           1
          ],
          "y": [
           0,
           1
          ]
         },
         "scope": "usa"
        },
        "legend": {
         "title": {
          "text": "Party"
         },
         "tracegroupgap": 0
        },
        "sliders": [
         {
          "active": 0,
          "currentvalue": {
           "prefix": "year="
          },
          "len": 0.9,
          "pad": {
           "b": 10,
           "t": 60
          },
          "steps": [
           {
            "args": [
             [
              "2006"
             ],
             {
              "frame": {
               "duration": 0,
               "redraw": true
              },
              "fromcurrent": true,
              "mode": "immediate",
              "transition": {
               "duration": 0,
               "easing": "linear"
              }
             }
            ],
            "label": "2006",
            "method": "animate"
           },
           {
            "args": [
             [
              "2008"
             ],
             {
              "frame": {
               "duration": 0,
               "redraw": true
              },
              "fromcurrent": true,
              "mode": "immediate",
              "transition": {
               "duration": 0,
               "easing": "linear"
              }
             }
            ],
            "label": "2008",
            "method": "animate"
           },
           {
            "args": [
             [
              "2010"
             ],
             {
              "frame": {
               "duration": 0,
               "redraw": true
              },
              "fromcurrent": true,
              "mode": "immediate",
              "transition": {
               "duration": 0,
               "easing": "linear"
              }
             }
            ],
            "label": "2010",
            "method": "animate"
           },
           {
            "args": [
             [
              "2012"
             ],
             {
              "frame": {
               "duration": 0,
               "redraw": true
              },
              "fromcurrent": true,
              "mode": "immediate",
              "transition": {
               "duration": 0,
               "easing": "linear"
              }
             }
            ],
            "label": "2012",
            "method": "animate"
           },
           {
            "args": [
             [
              "2014"
             ],
             {
              "frame": {
               "duration": 0,
               "redraw": true
              },
              "fromcurrent": true,
              "mode": "immediate",
              "transition": {
               "duration": 0,
               "easing": "linear"
              }
             }
            ],
            "label": "2014",
            "method": "animate"
           },
           {
            "args": [
             [
              "2016"
             ],
             {
              "frame": {
               "duration": 0,
               "redraw": true
              },
              "fromcurrent": true,
              "mode": "immediate",
              "transition": {
               "duration": 0,
               "easing": "linear"
              }
             }
            ],
            "label": "2016",
            "method": "animate"
           },
           {
            "args": [
             [
              "2018"
             ],
             {
              "frame": {
               "duration": 0,
               "redraw": true
              },
              "fromcurrent": true,
              "mode": "immediate",
              "transition": {
               "duration": 0,
               "easing": "linear"
              }
             }
            ],
            "label": "2018",
            "method": "animate"
           },
           {
            "args": [
             [
              "2020"
             ],
             {
              "frame": {
               "duration": 0,
               "redraw": true
              },
              "fromcurrent": true,
              "mode": "immediate",
              "transition": {
               "duration": 0,
               "easing": "linear"
              }
             }
            ],
            "label": "2020",
            "method": "animate"
           },
           {
            "args": [
             [
              "2022"
             ],
             {
              "frame": {
               "duration": 0,
               "redraw": true
              },
              "fromcurrent": true,
              "mode": "immediate",
              "transition": {
               "duration": 0,
               "easing": "linear"
              }
             }
            ],
            "label": "2022",
            "method": "animate"
           }
          ],
          "x": 0.1,
          "xanchor": "left",
          "y": 0,
          "yanchor": "top"
         }
        ],
        "template": {
         "data": {
          "bar": [
           {
            "error_x": {
             "color": "#2a3f5f"
            },
            "error_y": {
             "color": "#2a3f5f"
            },
            "marker": {
             "line": {
              "color": "#E5ECF6",
              "width": 0.5
             },
             "pattern": {
              "fillmode": "overlay",
              "size": 10,
              "solidity": 0.2
             }
            },
            "type": "bar"
           }
          ],
          "barpolar": [
           {
            "marker": {
             "line": {
              "color": "#E5ECF6",
              "width": 0.5
             },
             "pattern": {
              "fillmode": "overlay",
              "size": 10,
              "solidity": 0.2
             }
            },
            "type": "barpolar"
           }
          ],
          "carpet": [
           {
            "aaxis": {
             "endlinecolor": "#2a3f5f",
             "gridcolor": "white",
             "linecolor": "white",
             "minorgridcolor": "white",
             "startlinecolor": "#2a3f5f"
            },
            "baxis": {
             "endlinecolor": "#2a3f5f",
             "gridcolor": "white",
             "linecolor": "white",
             "minorgridcolor": "white",
             "startlinecolor": "#2a3f5f"
            },
            "type": "carpet"
           }
          ],
          "choropleth": [
           {
            "colorbar": {
             "outlinewidth": 0,
             "ticks": ""
            },
            "type": "choropleth"
           }
          ],
          "contour": [
           {
            "colorbar": {
             "outlinewidth": 0,
             "ticks": ""
            },
            "colorscale": [
             [
              0,
              "#0d0887"
             ],
             [
              0.1111111111111111,
              "#46039f"
             ],
             [
              0.2222222222222222,
              "#7201a8"
             ],
             [
              0.3333333333333333,
              "#9c179e"
             ],
             [
              0.4444444444444444,
              "#bd3786"
             ],
             [
              0.5555555555555556,
              "#d8576b"
             ],
             [
              0.6666666666666666,
              "#ed7953"
             ],
             [
              0.7777777777777778,
              "#fb9f3a"
             ],
             [
              0.8888888888888888,
              "#fdca26"
             ],
             [
              1,
              "#f0f921"
             ]
            ],
            "type": "contour"
           }
          ],
          "contourcarpet": [
           {
            "colorbar": {
             "outlinewidth": 0,
             "ticks": ""
            },
            "type": "contourcarpet"
           }
          ],
          "heatmap": [
           {
            "colorbar": {
             "outlinewidth": 0,
             "ticks": ""
            },
            "colorscale": [
             [
              0,
              "#0d0887"
             ],
             [
              0.1111111111111111,
              "#46039f"
             ],
             [
              0.2222222222222222,
              "#7201a8"
             ],
             [
              0.3333333333333333,
              "#9c179e"
             ],
             [
              0.4444444444444444,
              "#bd3786"
             ],
             [
              0.5555555555555556,
              "#d8576b"
             ],
             [
              0.6666666666666666,
              "#ed7953"
             ],
             [
              0.7777777777777778,
              "#fb9f3a"
             ],
             [
              0.8888888888888888,
              "#fdca26"
             ],
             [
              1,
              "#f0f921"
             ]
            ],
            "type": "heatmap"
           }
          ],
          "heatmapgl": [
           {
            "colorbar": {
             "outlinewidth": 0,
             "ticks": ""
            },
            "colorscale": [
             [
              0,
              "#0d0887"
             ],
             [
              0.1111111111111111,
              "#46039f"
             ],
             [
              0.2222222222222222,
              "#7201a8"
             ],
             [
              0.3333333333333333,
              "#9c179e"
             ],
             [
              0.4444444444444444,
              "#bd3786"
             ],
             [
              0.5555555555555556,
              "#d8576b"
             ],
             [
              0.6666666666666666,
              "#ed7953"
             ],
             [
              0.7777777777777778,
              "#fb9f3a"
             ],
             [
              0.8888888888888888,
              "#fdca26"
             ],
             [
              1,
              "#f0f921"
             ]
            ],
            "type": "heatmapgl"
           }
          ],
          "histogram": [
           {
            "marker": {
             "pattern": {
              "fillmode": "overlay",
              "size": 10,
              "solidity": 0.2
             }
            },
            "type": "histogram"
           }
          ],
          "histogram2d": [
           {
            "colorbar": {
             "outlinewidth": 0,
             "ticks": ""
            },
            "colorscale": [
             [
              0,
              "#0d0887"
             ],
             [
              0.1111111111111111,
              "#46039f"
             ],
             [
              0.2222222222222222,
              "#7201a8"
             ],
             [
              0.3333333333333333,
              "#9c179e"
             ],
             [
              0.4444444444444444,
              "#bd3786"
             ],
             [
              0.5555555555555556,
              "#d8576b"
             ],
             [
              0.6666666666666666,
              "#ed7953"
             ],
             [
              0.7777777777777778,
              "#fb9f3a"
             ],
             [
              0.8888888888888888,
              "#fdca26"
             ],
             [
              1,
              "#f0f921"
             ]
            ],
            "type": "histogram2d"
           }
          ],
          "histogram2dcontour": [
           {
            "colorbar": {
             "outlinewidth": 0,
             "ticks": ""
            },
            "colorscale": [
             [
              0,
              "#0d0887"
             ],
             [
              0.1111111111111111,
              "#46039f"
             ],
             [
              0.2222222222222222,
              "#7201a8"
             ],
             [
              0.3333333333333333,
              "#9c179e"
             ],
             [
              0.4444444444444444,
              "#bd3786"
             ],
             [
              0.5555555555555556,
              "#d8576b"
             ],
             [
              0.6666666666666666,
              "#ed7953"
             ],
             [
              0.7777777777777778,
              "#fb9f3a"
             ],
             [
              0.8888888888888888,
              "#fdca26"
             ],
             [
              1,
              "#f0f921"
             ]
            ],
            "type": "histogram2dcontour"
           }
          ],
          "mesh3d": [
           {
            "colorbar": {
             "outlinewidth": 0,
             "ticks": ""
            },
            "type": "mesh3d"
           }
          ],
          "parcoords": [
           {
            "line": {
             "colorbar": {
              "outlinewidth": 0,
              "ticks": ""
             }
            },
            "type": "parcoords"
           }
          ],
          "pie": [
           {
            "automargin": true,
            "type": "pie"
           }
          ],
          "scatter": [
           {
            "fillpattern": {
             "fillmode": "overlay",
             "size": 10,
             "solidity": 0.2
            },
            "type": "scatter"
           }
          ],
          "scatter3d": [
           {
            "line": {
             "colorbar": {
              "outlinewidth": 0,
              "ticks": ""
             }
            },
            "marker": {
             "colorbar": {
              "outlinewidth": 0,
              "ticks": ""
             }
            },
            "type": "scatter3d"
           }
          ],
          "scattercarpet": [
           {
            "marker": {
             "colorbar": {
              "outlinewidth": 0,
              "ticks": ""
             }
            },
            "type": "scattercarpet"
           }
          ],
          "scattergeo": [
           {
            "marker": {
             "colorbar": {
              "outlinewidth": 0,
              "ticks": ""
             }
            },
            "type": "scattergeo"
           }
          ],
          "scattergl": [
           {
            "marker": {
             "colorbar": {
              "outlinewidth": 0,
              "ticks": ""
             }
            },
            "type": "scattergl"
           }
          ],
          "scattermapbox": [
           {
            "marker": {
             "colorbar": {
              "outlinewidth": 0,
              "ticks": ""
             }
            },
            "type": "scattermapbox"
           }
          ],
          "scatterpolar": [
           {
            "marker": {
             "colorbar": {
              "outlinewidth": 0,
              "ticks": ""
             }
            },
            "type": "scatterpolar"
           }
          ],
          "scatterpolargl": [
           {
            "marker": {
             "colorbar": {
              "outlinewidth": 0,
              "ticks": ""
             }
            },
            "type": "scatterpolargl"
           }
          ],
          "scatterternary": [
           {
            "marker": {
             "colorbar": {
              "outlinewidth": 0,
              "ticks": ""
             }
            },
            "type": "scatterternary"
           }
          ],
          "surface": [
           {
            "colorbar": {
             "outlinewidth": 0,
             "ticks": ""
            },
            "colorscale": [
             [
              0,
              "#0d0887"
             ],
             [
              0.1111111111111111,
              "#46039f"
             ],
             [
              0.2222222222222222,
              "#7201a8"
             ],
             [
              0.3333333333333333,
              "#9c179e"
             ],
             [
              0.4444444444444444,
              "#bd3786"
             ],
             [
              0.5555555555555556,
              "#d8576b"
             ],
             [
              0.6666666666666666,
              "#ed7953"
             ],
             [
              0.7777777777777778,
              "#fb9f3a"
             ],
             [
              0.8888888888888888,
              "#fdca26"
             ],
             [
              1,
              "#f0f921"
             ]
            ],
            "type": "surface"
           }
          ],
          "table": [
           {
            "cells": {
             "fill": {
              "color": "#EBF0F8"
             },
             "line": {
              "color": "white"
             }
            },
            "header": {
             "fill": {
              "color": "#C8D4E3"
             },
             "line": {
              "color": "white"
             }
            },
            "type": "table"
           }
          ]
         },
         "layout": {
          "annotationdefaults": {
           "arrowcolor": "#2a3f5f",
           "arrowhead": 0,
           "arrowwidth": 1
          },
          "autotypenumbers": "strict",
          "coloraxis": {
           "colorbar": {
            "outlinewidth": 0,
            "ticks": ""
           }
          },
          "colorscale": {
           "diverging": [
            [
             0,
             "#8e0152"
            ],
            [
             0.1,
             "#c51b7d"
            ],
            [
             0.2,
             "#de77ae"
            ],
            [
             0.3,
             "#f1b6da"
            ],
            [
             0.4,
             "#fde0ef"
            ],
            [
             0.5,
             "#f7f7f7"
            ],
            [
             0.6,
             "#e6f5d0"
            ],
            [
             0.7,
             "#b8e186"
            ],
            [
             0.8,
             "#7fbc41"
            ],
            [
             0.9,
             "#4d9221"
            ],
            [
             1,
             "#276419"
            ]
           ],
           "sequential": [
            [
             0,
             "#0d0887"
            ],
            [
             0.1111111111111111,
             "#46039f"
            ],
            [
             0.2222222222222222,
             "#7201a8"
            ],
            [
             0.3333333333333333,
             "#9c179e"
            ],
            [
             0.4444444444444444,
             "#bd3786"
            ],
            [
             0.5555555555555556,
             "#d8576b"
            ],
            [
             0.6666666666666666,
             "#ed7953"
            ],
            [
             0.7777777777777778,
             "#fb9f3a"
            ],
            [
             0.8888888888888888,
             "#fdca26"
            ],
            [
             1,
             "#f0f921"
            ]
           ],
           "sequentialminus": [
            [
             0,
             "#0d0887"
            ],
            [
             0.1111111111111111,
             "#46039f"
            ],
            [
             0.2222222222222222,
             "#7201a8"
            ],
            [
             0.3333333333333333,
             "#9c179e"
            ],
            [
             0.4444444444444444,
             "#bd3786"
            ],
            [
             0.5555555555555556,
             "#d8576b"
            ],
            [
             0.6666666666666666,
             "#ed7953"
            ],
            [
             0.7777777777777778,
             "#fb9f3a"
            ],
            [
             0.8888888888888888,
             "#fdca26"
            ],
            [
             1,
             "#f0f921"
            ]
           ]
          },
          "colorway": [
           "#636efa",
           "#EF553B",
           "#00cc96",
           "#ab63fa",
           "#FFA15A",
           "#19d3f3",
           "#FF6692",
           "#B6E880",
           "#FF97FF",
           "#FECB52"
          ],
          "font": {
           "color": "#2a3f5f"
          },
          "geo": {
           "bgcolor": "white",
           "lakecolor": "white",
           "landcolor": "#E5ECF6",
           "showlakes": true,
           "showland": true,
           "subunitcolor": "white"
          },
          "hoverlabel": {
           "align": "left"
          },
          "hovermode": "closest",
          "mapbox": {
           "style": "light"
          },
          "paper_bgcolor": "white",
          "plot_bgcolor": "#E5ECF6",
          "polar": {
           "angularaxis": {
            "gridcolor": "white",
            "linecolor": "white",
            "ticks": ""
           },
           "bgcolor": "#E5ECF6",
           "radialaxis": {
            "gridcolor": "white",
            "linecolor": "white",
            "ticks": ""
           }
          },
          "scene": {
           "xaxis": {
            "backgroundcolor": "#E5ECF6",
            "gridcolor": "white",
            "gridwidth": 2,
            "linecolor": "white",
            "showbackground": true,
            "ticks": "",
            "zerolinecolor": "white"
           },
           "yaxis": {
            "backgroundcolor": "#E5ECF6",
            "gridcolor": "white",
            "gridwidth": 2,
            "linecolor": "white",
            "showbackground": true,
            "ticks": "",
            "zerolinecolor": "white"
           },
           "zaxis": {
            "backgroundcolor": "#E5ECF6",
            "gridcolor": "white",
            "gridwidth": 2,
            "linecolor": "white",
            "showbackground": true,
            "ticks": "",
            "zerolinecolor": "white"
           }
          },
          "shapedefaults": {
           "line": {
            "color": "#2a3f5f"
           }
          },
          "ternary": {
           "aaxis": {
            "gridcolor": "white",
            "linecolor": "white",
            "ticks": ""
           },
           "baxis": {
            "gridcolor": "white",
            "linecolor": "white",
            "ticks": ""
           },
           "bgcolor": "#E5ECF6",
           "caxis": {
            "gridcolor": "white",
            "linecolor": "white",
            "ticks": ""
           }
          },
          "title": {
           "x": 0.05
          },
          "xaxis": {
           "automargin": true,
           "gridcolor": "white",
           "linecolor": "white",
           "ticks": "",
           "title": {
            "standoff": 15
           },
           "zerolinecolor": "white",
           "zerolinewidth": 2
          },
          "yaxis": {
           "automargin": true,
           "gridcolor": "white",
           "linecolor": "white",
           "ticks": "",
           "title": {
            "standoff": 15
           },
           "zerolinecolor": "white",
           "zerolinewidth": 2
          }
         }
        },
        "title": {
         "text": "Results of the elections over the years"
        },
        "updatemenus": [
         {
          "buttons": [
           {
            "args": [
             null,
             {
              "frame": {
               "duration": 500,
               "redraw": true
              },
              "fromcurrent": true,
              "mode": "immediate",
              "transition": {
               "duration": 500,
               "easing": "linear"
              }
             }
            ],
            "label": "&#9654;",
            "method": "animate"
           },
           {
            "args": [
             [
              null
             ],
             {
              "frame": {
               "duration": 0,
               "redraw": true
              },
              "fromcurrent": true,
              "mode": "immediate",
              "transition": {
               "duration": 0,
               "easing": "linear"
              }
             }
            ],
            "label": "&#9724;",
            "method": "animate"
           }
          ],
          "direction": "left",
          "pad": {
           "r": 10,
           "t": 70
          },
          "showactive": false,
          "type": "buttons",
          "x": 0.1,
          "xanchor": "right",
          "y": 0,
          "yanchor": "top"
         }
        ]
       }
      }
     },
     "metadata": {},
     "output_type": "display_data"
    }
   ],
   "source": [
    "fig = px.choropleth(\n",
    "    winning_party_per_state[winning_party_per_state['year']>2004],\n",
    "    locations='px_code',\n",
    "    locationmode=\"USA-states\",\n",
    "    color='majority_state_party',\n",
    "    scope=\"usa\",\n",
    "    animation_frame='year',\n",
    "    title=\"Results of the elections over the years\", \n",
    "    hover_name='state',\n",
    "    hover_data={'px_code': False}\n",
    ")\n",
    "fig.update_layout(\n",
    "    legend_title_text='Party'\n",
    ")\n",
    "pyo.plot(fig, filename='../html/animation_elections.html', auto_open=False)\n",
    "fig.show()"
   ]
  },
  {
   "cell_type": "markdown",
   "id": "65f21c41",
   "metadata": {},
   "source": [
    "We write the cleaned dataset to a csv file:"
   ]
  },
  {
   "cell_type": "code",
   "execution_count": 30,
   "id": "b7cf83ad",
   "metadata": {
    "lines_to_next_cell": 3
   },
   "outputs": [],
   "source": [
    "elections_df.to_csv('../data/year_state_district_house_cleaned.csv', index=False)"
   ]
  }
 ],
 "metadata": {
  "jupytext": {
   "cell_metadata_filter": "-all",
   "main_language": "python",
   "notebook_metadata_filter": "-all"
  },
  "kernelspec": {
   "display_name": "base",
   "language": "python",
   "name": "python3"
  },
  "language_info": {
   "codemirror_mode": {
    "name": "ipython",
    "version": 3
   },
   "file_extension": ".py",
   "mimetype": "text/x-python",
   "name": "python",
   "nbconvert_exporter": "python",
   "pygments_lexer": "ipython3",
   "version": "3.10.9"
  }
 },
 "nbformat": 4,
 "nbformat_minor": 5
}
